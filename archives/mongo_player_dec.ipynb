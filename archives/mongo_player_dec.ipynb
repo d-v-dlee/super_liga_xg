{
 "cells": [
  {
   "cell_type": "code",
   "execution_count": 1,
   "metadata": {},
   "outputs": [],
   "source": [
    "import pprint\n",
    "import json\n",
    "import pandas as pd\n",
    "import numpy as np\n",
    "import matplotlib.pyplot as plt\n",
    "# from json_shot_scraper import flatten_shot, flatten_goal, flatten_complete_pass, flatten_incomplete_pass, flatten_corner\n",
    "# from  player_scraper import flatten_player, flatten_sub\n",
    "# from dataframe_cleaner import (pass_to_shot, corner_to_shot, transpose_coordinates, coord_to_yards, \n",
    "#                                shot_distance_angle, dummy_columns, drop_own_goals, goal_dummy, turn_into_dollar_value)\n",
    "from model_prep import create_hypothetical_df\n",
    "from transfer_market_scraper import flatten_player_info"
   ]
  },
  {
   "cell_type": "code",
   "execution_count": 2,
   "metadata": {},
   "outputs": [],
   "source": [
    "pd.set_option('display.max_columns', 50)"
   ]
  },
  {
   "cell_type": "code",
   "execution_count": 3,
   "metadata": {},
   "outputs": [],
   "source": [
    "from html_scraper import db\n",
    "from mongo_to_db import game_to_cleaned_df, create_frame, create_master_df, create_master_player_min_df\n",
    "import string"
   ]
  },
  {
   "cell_type": "markdown",
   "metadata": {},
   "source": [
    "# all together"
   ]
  },
  {
   "cell_type": "code",
   "execution_count": 4,
   "metadata": {},
   "outputs": [],
   "source": [
    "from combined_player import player_minutes_value"
   ]
  },
  {
   "cell_type": "code",
   "execution_count": 5,
   "metadata": {},
   "outputs": [],
   "source": [
    "games = db.games.find()\n",
    "players = db.players.find()"
   ]
  },
  {
   "cell_type": "code",
   "execution_count": 6,
   "metadata": {},
   "outputs": [],
   "source": [
    "final_df = player_minutes_value(games, players)"
   ]
  },
  {
   "cell_type": "code",
   "execution_count": 8,
   "metadata": {},
   "outputs": [
    {
     "data": {
      "text/html": [
       "<div>\n",
       "<style scoped>\n",
       "    .dataframe tbody tr th:only-of-type {\n",
       "        vertical-align: middle;\n",
       "    }\n",
       "\n",
       "    .dataframe tbody tr th {\n",
       "        vertical-align: top;\n",
       "    }\n",
       "\n",
       "    .dataframe thead th {\n",
       "        text-align: right;\n",
       "    }\n",
       "</style>\n",
       "<table border=\"1\" class=\"dataframe\">\n",
       "  <thead>\n",
       "    <tr style=\"text-align: right;\">\n",
       "      <th></th>\n",
       "      <th>player_id</th>\n",
       "      <th>player_name</th>\n",
       "      <th>club</th>\n",
       "      <th>birthday</th>\n",
       "      <th>age</th>\n",
       "      <th>foot</th>\n",
       "      <th>position_id</th>\n",
       "      <th>squad_num</th>\n",
       "      <th>height</th>\n",
       "      <th>total_minutes_played</th>\n",
       "      <th>transfer_value(sterlings)</th>\n",
       "      <th>transfer_value(USD)</th>\n",
       "    </tr>\n",
       "  </thead>\n",
       "  <tbody>\n",
       "    <tr>\n",
       "      <th>0</th>\n",
       "      <td>19132.0</td>\n",
       "      <td>Alexander Domínguez</td>\n",
       "      <td>Squad Club Atlético Vélez Sarsfield</td>\n",
       "      <td>Jun 5, 1987 (31)</td>\n",
       "      <td>31</td>\n",
       "      <td>right</td>\n",
       "      <td>1</td>\n",
       "      <td>22.0</td>\n",
       "      <td>1,95 m</td>\n",
       "      <td>1080.000000</td>\n",
       "      <td>£1.58m</td>\n",
       "      <td>2.01</td>\n",
       "    </tr>\n",
       "    <tr>\n",
       "      <th>1</th>\n",
       "      <td>27987.0</td>\n",
       "      <td>Lucas Hoyos</td>\n",
       "      <td>Squad Club Atlético Vélez Sarsfield</td>\n",
       "      <td>Apr 29, 1989 (29)</td>\n",
       "      <td>29</td>\n",
       "      <td>right</td>\n",
       "      <td>1</td>\n",
       "      <td>12.0</td>\n",
       "      <td>1,83 m</td>\n",
       "      <td>90.000000</td>\n",
       "      <td>£135k</td>\n",
       "      <td>0.17</td>\n",
       "    </tr>\n",
       "    <tr>\n",
       "      <th>2</th>\n",
       "      <td>30896.0</td>\n",
       "      <td>Gastón Díaz</td>\n",
       "      <td>Squad Club Atlético Vélez Sarsfield</td>\n",
       "      <td>Mar 13, 1988 (30)</td>\n",
       "      <td>30</td>\n",
       "      <td>right</td>\n",
       "      <td>2</td>\n",
       "      <td>24.0</td>\n",
       "      <td>1,75 m</td>\n",
       "      <td>896.483333</td>\n",
       "      <td>£450k</td>\n",
       "      <td>0.57</td>\n",
       "    </tr>\n",
       "    <tr>\n",
       "      <th>3</th>\n",
       "      <td>94225.0</td>\n",
       "      <td>Joaquín Laso</td>\n",
       "      <td>Squad Club Atlético Vélez Sarsfield</td>\n",
       "      <td>Jul 4, 1990 (28)</td>\n",
       "      <td>28</td>\n",
       "      <td>right</td>\n",
       "      <td>2</td>\n",
       "      <td>6.0</td>\n",
       "      <td>1,85 m</td>\n",
       "      <td>990.000000</td>\n",
       "      <td>£270k</td>\n",
       "      <td>0.34</td>\n",
       "    </tr>\n",
       "    <tr>\n",
       "      <th>4</th>\n",
       "      <td>99779.0</td>\n",
       "      <td>Luis Abram</td>\n",
       "      <td>Squad Club Atlético Vélez Sarsfield</td>\n",
       "      <td>Feb 27, 1996 (22)</td>\n",
       "      <td>22</td>\n",
       "      <td>left</td>\n",
       "      <td>2</td>\n",
       "      <td>29.0</td>\n",
       "      <td>1,80 m</td>\n",
       "      <td>1080.000000</td>\n",
       "      <td>£405k</td>\n",
       "      <td>0.51</td>\n",
       "    </tr>\n",
       "  </tbody>\n",
       "</table>\n",
       "</div>"
      ],
      "text/plain": [
       "   player_id          player_name                                 club  \\\n",
       "0    19132.0  Alexander Domínguez  Squad Club Atlético Vélez Sarsfield   \n",
       "1    27987.0          Lucas Hoyos  Squad Club Atlético Vélez Sarsfield   \n",
       "2    30896.0          Gastón Díaz  Squad Club Atlético Vélez Sarsfield   \n",
       "3    94225.0         Joaquín Laso  Squad Club Atlético Vélez Sarsfield   \n",
       "4    99779.0           Luis Abram  Squad Club Atlético Vélez Sarsfield   \n",
       "\n",
       "            birthday  age   foot  position_id  squad_num  height  \\\n",
       "0   Jun 5, 1987 (31)   31  right            1       22.0  1,95 m   \n",
       "1  Apr 29, 1989 (29)   29  right            1       12.0  1,83 m   \n",
       "2  Mar 13, 1988 (30)   30  right            2       24.0  1,75 m   \n",
       "3   Jul 4, 1990 (28)   28  right            2        6.0  1,85 m   \n",
       "4  Feb 27, 1996 (22)   22   left            2       29.0  1,80 m   \n",
       "\n",
       "   total_minutes_played transfer_value(sterlings)  transfer_value(USD)  \n",
       "0           1080.000000                    £1.58m                 2.01  \n",
       "1             90.000000                     £135k                 0.17  \n",
       "2            896.483333                     £450k                 0.57  \n",
       "3            990.000000                     £270k                 0.34  \n",
       "4           1080.000000                     £405k                 0.51  "
      ]
     },
     "execution_count": 8,
     "metadata": {},
     "output_type": "execute_result"
    }
   ],
   "source": [
    "final_df.head()"
   ]
  },
  {
   "cell_type": "code",
   "execution_count": null,
   "metadata": {},
   "outputs": [],
   "source": []
  }
 ],
 "metadata": {
  "kernelspec": {
   "display_name": "Python 3",
   "language": "python",
   "name": "python3"
  },
  "language_info": {
   "codemirror_mode": {
    "name": "ipython",
    "version": 3
   },
   "file_extension": ".py",
   "mimetype": "text/x-python",
   "name": "python",
   "nbconvert_exporter": "python",
   "pygments_lexer": "ipython3",
   "version": "3.6.6"
  }
 },
 "nbformat": 4,
 "nbformat_minor": 2
}
