{
 "cells": [
  {
   "cell_type": "code",
   "execution_count": 10,
   "metadata": {},
   "outputs": [],
   "source": [
    "from combined_player import player_minutes_value\n",
    "from html_scraper import db\n",
    "from mongo_to_db import create_master_df, create_master_player_min_df"
   ]
  },
  {
   "cell_type": "code",
   "execution_count": 2,
   "metadata": {},
   "outputs": [],
   "source": [
    "import pprint\n",
    "import json\n",
    "import pandas as pd\n",
    "import numpy as np\n",
    "import matplotlib.pyplot as plt"
   ]
  },
  {
   "cell_type": "code",
   "execution_count": 3,
   "metadata": {},
   "outputs": [],
   "source": [
    "pd.set_option('display.max_columns', 50)\n"
   ]
  },
  {
   "cell_type": "code",
   "execution_count": 4,
   "metadata": {},
   "outputs": [],
   "source": [
    "xg_df = pd.read_csv('xgboost_table.csv')"
   ]
  },
  {
   "cell_type": "code",
   "execution_count": 21,
   "metadata": {},
   "outputs": [
    {
     "data": {
      "text/plain": [
       "470"
      ]
     },
     "execution_count": 21,
     "metadata": {},
     "output_type": "execute_result"
    }
   ],
   "source": [
    "len(xg_df)"
   ]
  },
  {
   "cell_type": "code",
   "execution_count": 42,
   "metadata": {},
   "outputs": [
    {
     "data": {
      "text/html": [
       "<div>\n",
       "<style scoped>\n",
       "    .dataframe tbody tr th:only-of-type {\n",
       "        vertical-align: middle;\n",
       "    }\n",
       "\n",
       "    .dataframe tbody tr th {\n",
       "        vertical-align: top;\n",
       "    }\n",
       "\n",
       "    .dataframe thead th {\n",
       "        text-align: right;\n",
       "    }\n",
       "</style>\n",
       "<table border=\"1\" class=\"dataframe\">\n",
       "  <thead>\n",
       "    <tr style=\"text-align: right;\">\n",
       "      <th></th>\n",
       "      <th>Unnamed: 0</th>\n",
       "      <th>player_id</th>\n",
       "      <th>player_name</th>\n",
       "      <th>club</th>\n",
       "      <th>birthday</th>\n",
       "      <th>age</th>\n",
       "      <th>foot</th>\n",
       "      <th>squad_num</th>\n",
       "      <th>total_xG</th>\n",
       "      <th>total_xA</th>\n",
       "      <th>total_xG+xA</th>\n",
       "      <th>goals</th>\n",
       "      <th>xG+xA/90</th>\n",
       "      <th>transfer_value(USD)</th>\n",
       "      <th>total_minutes_played</th>\n",
       "    </tr>\n",
       "  </thead>\n",
       "  <tbody>\n",
       "    <tr>\n",
       "      <th>0</th>\n",
       "      <td>0</td>\n",
       "      <td>24256.0</td>\n",
       "      <td>Emmanuel Gigliotti</td>\n",
       "      <td>Squad Club Atlético Independiente</td>\n",
       "      <td>May 20, 1987 (31)</td>\n",
       "      <td>31</td>\n",
       "      <td>right</td>\n",
       "      <td>9.0</td>\n",
       "      <td>6.24</td>\n",
       "      <td>2.84</td>\n",
       "      <td>9.08</td>\n",
       "      <td>12.0</td>\n",
       "      <td>0.84</td>\n",
       "      <td>3.43</td>\n",
       "      <td>977.97</td>\n",
       "    </tr>\n",
       "    <tr>\n",
       "      <th>1</th>\n",
       "      <td>1</td>\n",
       "      <td>488.0</td>\n",
       "      <td>Lisandro López</td>\n",
       "      <td>Squad Racing Club</td>\n",
       "      <td>Mar 2, 1983 (35)</td>\n",
       "      <td>35</td>\n",
       "      <td>right</td>\n",
       "      <td>15.0</td>\n",
       "      <td>5.26</td>\n",
       "      <td>1.27</td>\n",
       "      <td>6.53</td>\n",
       "      <td>9.0</td>\n",
       "      <td>0.63</td>\n",
       "      <td>2.01</td>\n",
       "      <td>937.47</td>\n",
       "    </tr>\n",
       "    <tr>\n",
       "      <th>2</th>\n",
       "      <td>2</td>\n",
       "      <td>16081.0</td>\n",
       "      <td>Luis Rodríguez</td>\n",
       "      <td>Squad Club Atlético Tucumán</td>\n",
       "      <td>Jan 1, 1985 (33)</td>\n",
       "      <td>33</td>\n",
       "      <td>right</td>\n",
       "      <td>7.0</td>\n",
       "      <td>5.01</td>\n",
       "      <td>1.55</td>\n",
       "      <td>6.56</td>\n",
       "      <td>7.0</td>\n",
       "      <td>0.71</td>\n",
       "      <td>1.71</td>\n",
       "      <td>827.90</td>\n",
       "    </tr>\n",
       "    <tr>\n",
       "      <th>3</th>\n",
       "      <td>3</td>\n",
       "      <td>101.0</td>\n",
       "      <td>Darío Cvitanich</td>\n",
       "      <td>Squad Club Atlético Banfield</td>\n",
       "      <td>May 16, 1984 (34)</td>\n",
       "      <td>34</td>\n",
       "      <td>right</td>\n",
       "      <td>20.0</td>\n",
       "      <td>4.73</td>\n",
       "      <td>1.17</td>\n",
       "      <td>5.90</td>\n",
       "      <td>5.0</td>\n",
       "      <td>0.55</td>\n",
       "      <td>1.71</td>\n",
       "      <td>969.08</td>\n",
       "    </tr>\n",
       "    <tr>\n",
       "      <th>4</th>\n",
       "      <td>4</td>\n",
       "      <td>93853.0</td>\n",
       "      <td>Franco Soldano</td>\n",
       "      <td>Squad Club Atlético Unión (Santa Fe)</td>\n",
       "      <td>Sep 14, 1994 (24)</td>\n",
       "      <td>24</td>\n",
       "      <td>right</td>\n",
       "      <td>27.0</td>\n",
       "      <td>4.25</td>\n",
       "      <td>2.27</td>\n",
       "      <td>6.52</td>\n",
       "      <td>2.0</td>\n",
       "      <td>0.55</td>\n",
       "      <td>5.71</td>\n",
       "      <td>1060.35</td>\n",
       "    </tr>\n",
       "  </tbody>\n",
       "</table>\n",
       "</div>"
      ],
      "text/plain": [
       "   Unnamed: 0  player_id         player_name  \\\n",
       "0           0    24256.0  Emmanuel Gigliotti   \n",
       "1           1      488.0      Lisandro López   \n",
       "2           2    16081.0      Luis Rodríguez   \n",
       "3           3      101.0     Darío Cvitanich   \n",
       "4           4    93853.0      Franco Soldano   \n",
       "\n",
       "                                   club           birthday  age   foot  \\\n",
       "0     Squad Club Atlético Independiente  May 20, 1987 (31)   31  right   \n",
       "1                     Squad Racing Club   Mar 2, 1983 (35)   35  right   \n",
       "2           Squad Club Atlético Tucumán   Jan 1, 1985 (33)   33  right   \n",
       "3          Squad Club Atlético Banfield  May 16, 1984 (34)   34  right   \n",
       "4  Squad Club Atlético Unión (Santa Fe)  Sep 14, 1994 (24)   24  right   \n",
       "\n",
       "   squad_num  total_xG  total_xA  total_xG+xA  goals  xG+xA/90  \\\n",
       "0        9.0      6.24      2.84         9.08   12.0      0.84   \n",
       "1       15.0      5.26      1.27         6.53    9.0      0.63   \n",
       "2        7.0      5.01      1.55         6.56    7.0      0.71   \n",
       "3       20.0      4.73      1.17         5.90    5.0      0.55   \n",
       "4       27.0      4.25      2.27         6.52    2.0      0.55   \n",
       "\n",
       "   transfer_value(USD)  total_minutes_played  \n",
       "0                 3.43                977.97  \n",
       "1                 2.01                937.47  \n",
       "2                 1.71                827.90  \n",
       "3                 1.71                969.08  \n",
       "4                 5.71               1060.35  "
      ]
     },
     "execution_count": 42,
     "metadata": {},
     "output_type": "execute_result"
    }
   ],
   "source": [
    "xg_df.head()"
   ]
  },
  {
   "cell_type": "code",
   "execution_count": 23,
   "metadata": {},
   "outputs": [],
   "source": [
    "xg_players = xg_df['player_id'].unique()"
   ]
  },
  {
   "cell_type": "markdown",
   "metadata": {},
   "source": [
    "# Get positions from player data"
   ]
  },
  {
   "cell_type": "code",
   "execution_count": 39,
   "metadata": {},
   "outputs": [],
   "source": [
    "games = db.games.find()\n",
    "players = db.players.find()"
   ]
  },
  {
   "cell_type": "code",
   "execution_count": 40,
   "metadata": {},
   "outputs": [],
   "source": [
    "final_df = player_minutes_value(games, players)"
   ]
  },
  {
   "cell_type": "code",
   "execution_count": 54,
   "metadata": {},
   "outputs": [
    {
     "data": {
      "text/html": [
       "<div>\n",
       "<style scoped>\n",
       "    .dataframe tbody tr th:only-of-type {\n",
       "        vertical-align: middle;\n",
       "    }\n",
       "\n",
       "    .dataframe tbody tr th {\n",
       "        vertical-align: top;\n",
       "    }\n",
       "\n",
       "    .dataframe thead th {\n",
       "        text-align: right;\n",
       "    }\n",
       "</style>\n",
       "<table border=\"1\" class=\"dataframe\">\n",
       "  <thead>\n",
       "    <tr style=\"text-align: right;\">\n",
       "      <th></th>\n",
       "      <th>player_id</th>\n",
       "      <th>player_name</th>\n",
       "      <th>club</th>\n",
       "      <th>birthday</th>\n",
       "      <th>age</th>\n",
       "      <th>foot</th>\n",
       "      <th>position_id</th>\n",
       "      <th>squad_num</th>\n",
       "      <th>height</th>\n",
       "      <th>total_minutes_played</th>\n",
       "      <th>transfer_value(sterlings)</th>\n",
       "      <th>transfer_value(USD)</th>\n",
       "    </tr>\n",
       "  </thead>\n",
       "  <tbody>\n",
       "    <tr>\n",
       "      <th>35</th>\n",
       "      <td>41500.0</td>\n",
       "      <td>Omar De Felippe</td>\n",
       "      <td>Squad Club Atlético Newell's Old Boys</td>\n",
       "      <td>Feb 17, 1998 (20)</td>\n",
       "      <td>20</td>\n",
       "      <td>left</td>\n",
       "      <td>5</td>\n",
       "      <td>NaN</td>\n",
       "      <td>1,65 m</td>\n",
       "      <td>1170.0</td>\n",
       "      <td>£270k</td>\n",
       "      <td>0.34</td>\n",
       "    </tr>\n",
       "    <tr>\n",
       "      <th>36</th>\n",
       "      <td>41500.0</td>\n",
       "      <td>Omar De Felippe</td>\n",
       "      <td>Squad Club Atlético Newell's Old Boys</td>\n",
       "      <td>Mar 19, 1998 (20)</td>\n",
       "      <td>20</td>\n",
       "      <td>-</td>\n",
       "      <td>5</td>\n",
       "      <td>NaN</td>\n",
       "      <td>m</td>\n",
       "      <td>1170.0</td>\n",
       "      <td>-</td>\n",
       "      <td>NaN</td>\n",
       "    </tr>\n",
       "    <tr>\n",
       "      <th>158</th>\n",
       "      <td>190907.0</td>\n",
       "      <td>Juan Pablo Pumpido</td>\n",
       "      <td>Squad Club Atlético Patronato de la Juventud C...</td>\n",
       "      <td>Oct 4, 1998 (20)</td>\n",
       "      <td>20</td>\n",
       "      <td>-</td>\n",
       "      <td>5</td>\n",
       "      <td>NaN</td>\n",
       "      <td>m</td>\n",
       "      <td>450.0</td>\n",
       "      <td>-</td>\n",
       "      <td>NaN</td>\n",
       "    </tr>\n",
       "    <tr>\n",
       "      <th>159</th>\n",
       "      <td>101207.0</td>\n",
       "      <td>None</td>\n",
       "      <td>Squad Club Atlético Patronato de la Juventud C...</td>\n",
       "      <td>Oct 4, 1998 (20)</td>\n",
       "      <td>20</td>\n",
       "      <td>-</td>\n",
       "      <td>5</td>\n",
       "      <td>NaN</td>\n",
       "      <td>m</td>\n",
       "      <td>90.0</td>\n",
       "      <td>-</td>\n",
       "      <td>NaN</td>\n",
       "    </tr>\n",
       "    <tr>\n",
       "      <th>160</th>\n",
       "      <td>1950.0</td>\n",
       "      <td>Mario Sciacqua</td>\n",
       "      <td>Squad Club Atlético Patronato de la Juventud C...</td>\n",
       "      <td>Oct 4, 1998 (20)</td>\n",
       "      <td>20</td>\n",
       "      <td>-</td>\n",
       "      <td>5</td>\n",
       "      <td>NaN</td>\n",
       "      <td>m</td>\n",
       "      <td>630.0</td>\n",
       "      <td>-</td>\n",
       "      <td>NaN</td>\n",
       "    </tr>\n",
       "    <tr>\n",
       "      <th>248</th>\n",
       "      <td>47815.0</td>\n",
       "      <td>Juan Pablo Vojvoda</td>\n",
       "      <td>Squad Club Atlético Talleres</td>\n",
       "      <td>Feb 8, 1998 (20)</td>\n",
       "      <td>20</td>\n",
       "      <td>-</td>\n",
       "      <td>5</td>\n",
       "      <td>NaN</td>\n",
       "      <td>m</td>\n",
       "      <td>1170.0</td>\n",
       "      <td>-</td>\n",
       "      <td>NaN</td>\n",
       "    </tr>\n",
       "    <tr>\n",
       "      <th>442</th>\n",
       "      <td>162734.0</td>\n",
       "      <td>Ariel Holan</td>\n",
       "      <td>Squad Club Atlético Independiente</td>\n",
       "      <td>Apr 11, 1993 (25)</td>\n",
       "      <td>25</td>\n",
       "      <td>right</td>\n",
       "      <td>5</td>\n",
       "      <td>NaN</td>\n",
       "      <td>1,86 m</td>\n",
       "      <td>1080.0</td>\n",
       "      <td>£180k</td>\n",
       "      <td>0.23</td>\n",
       "    </tr>\n",
       "  </tbody>\n",
       "</table>\n",
       "</div>"
      ],
      "text/plain": [
       "     player_id         player_name  \\\n",
       "35     41500.0     Omar De Felippe   \n",
       "36     41500.0     Omar De Felippe   \n",
       "158   190907.0  Juan Pablo Pumpido   \n",
       "159   101207.0                None   \n",
       "160     1950.0      Mario Sciacqua   \n",
       "248    47815.0  Juan Pablo Vojvoda   \n",
       "442   162734.0         Ariel Holan   \n",
       "\n",
       "                                                  club           birthday  \\\n",
       "35               Squad Club Atlético Newell's Old Boys  Feb 17, 1998 (20)   \n",
       "36               Squad Club Atlético Newell's Old Boys  Mar 19, 1998 (20)   \n",
       "158  Squad Club Atlético Patronato de la Juventud C...   Oct 4, 1998 (20)   \n",
       "159  Squad Club Atlético Patronato de la Juventud C...   Oct 4, 1998 (20)   \n",
       "160  Squad Club Atlético Patronato de la Juventud C...   Oct 4, 1998 (20)   \n",
       "248                       Squad Club Atlético Talleres   Feb 8, 1998 (20)   \n",
       "442                  Squad Club Atlético Independiente  Apr 11, 1993 (25)   \n",
       "\n",
       "     age   foot position_id  squad_num  height  total_minutes_played  \\\n",
       "35    20   left           5        NaN  1,65 m                1170.0   \n",
       "36    20      -           5        NaN       m                1170.0   \n",
       "158   20      -           5        NaN       m                 450.0   \n",
       "159   20      -           5        NaN       m                  90.0   \n",
       "160   20      -           5        NaN       m                 630.0   \n",
       "248   20      -           5        NaN       m                1170.0   \n",
       "442   25  right           5        NaN  1,86 m                1080.0   \n",
       "\n",
       "    transfer_value(sterlings)  transfer_value(USD)  \n",
       "35                      £270k                 0.34  \n",
       "36                          -                  NaN  \n",
       "158                         -                  NaN  \n",
       "159                         -                  NaN  \n",
       "160                         -                  NaN  \n",
       "248                         -                  NaN  \n",
       "442                     £180k                 0.23  "
      ]
     },
     "execution_count": 54,
     "metadata": {},
     "output_type": "execute_result"
    }
   ],
   "source": [
    "final_df[final_df['position_id'] == 5]"
   ]
  },
  {
   "cell_type": "code",
   "execution_count": 71,
   "metadata": {},
   "outputs": [],
   "source": [
    "final_df['position_id'] = final_df['position_id'].replace('goalie', 'Goalie')\n",
    "final_df['position_id'] = final_df['position_id'].replace(2, 'Defender')\n",
    "final_df['position_id'] = final_df['position_id'].replace(3, 'Midfielder')\n",
    "final_df['position_id'] = final_df['position_id'].replace(4, 'Forward')\n",
    "final_df['position_id'] = final_df['position_id'].replace(5, 'Defender')"
   ]
  },
  {
   "cell_type": "code",
   "execution_count": 72,
   "metadata": {},
   "outputs": [
    {
     "data": {
      "text/html": [
       "<div>\n",
       "<style scoped>\n",
       "    .dataframe tbody tr th:only-of-type {\n",
       "        vertical-align: middle;\n",
       "    }\n",
       "\n",
       "    .dataframe tbody tr th {\n",
       "        vertical-align: top;\n",
       "    }\n",
       "\n",
       "    .dataframe thead th {\n",
       "        text-align: right;\n",
       "    }\n",
       "</style>\n",
       "<table border=\"1\" class=\"dataframe\">\n",
       "  <thead>\n",
       "    <tr style=\"text-align: right;\">\n",
       "      <th></th>\n",
       "      <th>player_id</th>\n",
       "      <th>player_name</th>\n",
       "      <th>club</th>\n",
       "      <th>birthday</th>\n",
       "      <th>age</th>\n",
       "      <th>foot</th>\n",
       "      <th>position_id</th>\n",
       "      <th>squad_num</th>\n",
       "      <th>height</th>\n",
       "      <th>total_minutes_played</th>\n",
       "      <th>transfer_value(sterlings)</th>\n",
       "      <th>transfer_value(USD)</th>\n",
       "    </tr>\n",
       "  </thead>\n",
       "  <tbody>\n",
       "    <tr>\n",
       "      <th>0</th>\n",
       "      <td>19132.0</td>\n",
       "      <td>Alexander Domínguez</td>\n",
       "      <td>Squad Club Atlético Vélez Sarsfield</td>\n",
       "      <td>Jun 5, 1987 (31)</td>\n",
       "      <td>31</td>\n",
       "      <td>right</td>\n",
       "      <td>Goalie</td>\n",
       "      <td>22.0</td>\n",
       "      <td>1,95 m</td>\n",
       "      <td>1080.000000</td>\n",
       "      <td>£1.58m</td>\n",
       "      <td>2.01</td>\n",
       "    </tr>\n",
       "    <tr>\n",
       "      <th>1</th>\n",
       "      <td>27987.0</td>\n",
       "      <td>Lucas Hoyos</td>\n",
       "      <td>Squad Club Atlético Vélez Sarsfield</td>\n",
       "      <td>Apr 29, 1989 (29)</td>\n",
       "      <td>29</td>\n",
       "      <td>right</td>\n",
       "      <td>Goalie</td>\n",
       "      <td>12.0</td>\n",
       "      <td>1,83 m</td>\n",
       "      <td>90.000000</td>\n",
       "      <td>£135k</td>\n",
       "      <td>0.17</td>\n",
       "    </tr>\n",
       "    <tr>\n",
       "      <th>2</th>\n",
       "      <td>30896.0</td>\n",
       "      <td>Gastón Díaz</td>\n",
       "      <td>Squad Club Atlético Vélez Sarsfield</td>\n",
       "      <td>Mar 13, 1988 (30)</td>\n",
       "      <td>30</td>\n",
       "      <td>right</td>\n",
       "      <td>Defender</td>\n",
       "      <td>24.0</td>\n",
       "      <td>1,75 m</td>\n",
       "      <td>896.483333</td>\n",
       "      <td>£450k</td>\n",
       "      <td>0.57</td>\n",
       "    </tr>\n",
       "    <tr>\n",
       "      <th>3</th>\n",
       "      <td>94225.0</td>\n",
       "      <td>Joaquín Laso</td>\n",
       "      <td>Squad Club Atlético Vélez Sarsfield</td>\n",
       "      <td>Jul 4, 1990 (28)</td>\n",
       "      <td>28</td>\n",
       "      <td>right</td>\n",
       "      <td>Defender</td>\n",
       "      <td>6.0</td>\n",
       "      <td>1,85 m</td>\n",
       "      <td>990.000000</td>\n",
       "      <td>£270k</td>\n",
       "      <td>0.34</td>\n",
       "    </tr>\n",
       "    <tr>\n",
       "      <th>4</th>\n",
       "      <td>99779.0</td>\n",
       "      <td>Luis Abram</td>\n",
       "      <td>Squad Club Atlético Vélez Sarsfield</td>\n",
       "      <td>Feb 27, 1996 (22)</td>\n",
       "      <td>22</td>\n",
       "      <td>left</td>\n",
       "      <td>Defender</td>\n",
       "      <td>29.0</td>\n",
       "      <td>1,80 m</td>\n",
       "      <td>1080.000000</td>\n",
       "      <td>£405k</td>\n",
       "      <td>0.51</td>\n",
       "    </tr>\n",
       "  </tbody>\n",
       "</table>\n",
       "</div>"
      ],
      "text/plain": [
       "   player_id          player_name                                 club  \\\n",
       "0    19132.0  Alexander Domínguez  Squad Club Atlético Vélez Sarsfield   \n",
       "1    27987.0          Lucas Hoyos  Squad Club Atlético Vélez Sarsfield   \n",
       "2    30896.0          Gastón Díaz  Squad Club Atlético Vélez Sarsfield   \n",
       "3    94225.0         Joaquín Laso  Squad Club Atlético Vélez Sarsfield   \n",
       "4    99779.0           Luis Abram  Squad Club Atlético Vélez Sarsfield   \n",
       "\n",
       "            birthday  age   foot position_id  squad_num  height  \\\n",
       "0   Jun 5, 1987 (31)   31  right      Goalie       22.0  1,95 m   \n",
       "1  Apr 29, 1989 (29)   29  right      Goalie       12.0  1,83 m   \n",
       "2  Mar 13, 1988 (30)   30  right    Defender       24.0  1,75 m   \n",
       "3   Jul 4, 1990 (28)   28  right    Defender        6.0  1,85 m   \n",
       "4  Feb 27, 1996 (22)   22   left    Defender       29.0  1,80 m   \n",
       "\n",
       "   total_minutes_played transfer_value(sterlings)  transfer_value(USD)  \n",
       "0           1080.000000                    £1.58m                 2.01  \n",
       "1             90.000000                     £135k                 0.17  \n",
       "2            896.483333                     £450k                 0.57  \n",
       "3            990.000000                     £270k                 0.34  \n",
       "4           1080.000000                     £405k                 0.51  "
      ]
     },
     "execution_count": 72,
     "metadata": {},
     "output_type": "execute_result"
    }
   ],
   "source": [
    "final_df.head()"
   ]
  },
  {
   "cell_type": "code",
   "execution_count": 73,
   "metadata": {},
   "outputs": [],
   "source": [
    "players_position = final_df.loc[:, ['player_name', 'position_id']].copy()"
   ]
  },
  {
   "cell_type": "code",
   "execution_count": 74,
   "metadata": {},
   "outputs": [],
   "source": [
    "df_1 = pd.merge(xg_df, players_position, on=['player_name'])"
   ]
  },
  {
   "cell_type": "code",
   "execution_count": 75,
   "metadata": {},
   "outputs": [
    {
     "data": {
      "text/plain": [
       "Index(['Unnamed: 0', 'player_id', 'player_name', 'club', 'birthday', 'age',\n",
       "       'foot', 'squad_num', 'total_xG', 'total_xA', 'total_xG+xA', 'goals',\n",
       "       'xG+xA/90', 'transfer_value(USD)', 'total_minutes_played',\n",
       "       'position_id'],\n",
       "      dtype='object')"
      ]
     },
     "execution_count": 75,
     "metadata": {},
     "output_type": "execute_result"
    }
   ],
   "source": [
    "df_1.columns"
   ]
  },
  {
   "cell_type": "code",
   "execution_count": 76,
   "metadata": {},
   "outputs": [],
   "source": [
    "columns = ['Unnamed: 0', 'player_id', 'player_name', 'club', 'birthday', 'age',\n",
    "       'foot', 'position_id', 'squad_num', 'total_xG', 'total_xA', 'total_xG+xA', 'goals',\n",
    "       'xG+xA/90', 'transfer_value(USD)', 'total_minutes_played']"
   ]
  },
  {
   "cell_type": "code",
   "execution_count": 77,
   "metadata": {},
   "outputs": [],
   "source": [
    "df_2 = df_1[columns]"
   ]
  },
  {
   "cell_type": "code",
   "execution_count": 78,
   "metadata": {},
   "outputs": [],
   "source": [
    "df_2.to_csv('xgboost_table1.csv')"
   ]
  },
  {
   "cell_type": "code",
   "execution_count": 79,
   "metadata": {},
   "outputs": [],
   "source": [
    "test_df = pd.read_csv('xgboost_table1.csv')"
   ]
  },
  {
   "cell_type": "code",
   "execution_count": 80,
   "metadata": {},
   "outputs": [
    {
     "data": {
      "text/plain": [
       "array(['Forward', 'Midfielder', 'Defender', 'Goalie'], dtype=object)"
      ]
     },
     "execution_count": 80,
     "metadata": {},
     "output_type": "execute_result"
    }
   ],
   "source": [
    "test_df['position_id'].unique()"
   ]
  },
  {
   "cell_type": "code",
   "execution_count": null,
   "metadata": {},
   "outputs": [],
   "source": []
  }
 ],
 "metadata": {
  "kernelspec": {
   "display_name": "Python 3",
   "language": "python",
   "name": "python3"
  },
  "language_info": {
   "codemirror_mode": {
    "name": "ipython",
    "version": 3
   },
   "file_extension": ".py",
   "mimetype": "text/x-python",
   "name": "python",
   "nbconvert_exporter": "python",
   "pygments_lexer": "ipython3",
   "version": "3.6.6"
  }
 },
 "nbformat": 4,
 "nbformat_minor": 2
}
