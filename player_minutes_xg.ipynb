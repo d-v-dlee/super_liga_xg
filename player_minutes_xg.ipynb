{
 "cells": [
  {
   "cell_type": "code",
   "execution_count": 1,
   "metadata": {},
   "outputs": [],
   "source": [
    "import pprint\n",
    "import json\n",
    "import pandas as pd\n",
    "import numpy as np\n",
    "import matplotlib.pyplot as plt\n",
    "from json_shot_scraper import flatten_shot, flatten_goal, flatten_complete_pass, flatten_incomplete_pass, flatten_corner\n",
    "from  player_scraper import flatten_player, flatten_sub\n",
    "from dataframe_cleaner import (pass_to_shot, corner_to_shot, transpose_coordinates, coord_to_yards, \n",
    "                               shot_distance_angle, dummy_columns, drop_own_goals, goal_dummy)"
   ]
  },
  {
   "cell_type": "code",
   "execution_count": 2,
   "metadata": {},
   "outputs": [],
   "source": [
    "from html_scraper import db\n",
    "from mongo_to_db import game_to_cleaned_df, create_frame, create_master_df, create_master_player_min_df"
   ]
  },
  {
   "cell_type": "code",
   "execution_count": 3,
   "metadata": {},
   "outputs": [],
   "source": [
    "pd.set_option('display.max_columns', 50)"
   ]
  },
  {
   "cell_type": "code",
   "execution_count": 4,
   "metadata": {},
   "outputs": [],
   "source": [
    "games = db.games.find()"
   ]
  },
  {
   "cell_type": "markdown",
   "metadata": {},
   "source": [
    "# Players DF"
   ]
  },
  {
   "cell_type": "code",
   "execution_count": 5,
   "metadata": {},
   "outputs": [],
   "source": [
    "players_minutes_df = create_master_player_min_df(games)"
   ]
  },
  {
   "cell_type": "code",
   "execution_count": 6,
   "metadata": {},
   "outputs": [
    {
     "data": {
      "text/html": [
       "<div>\n",
       "<style scoped>\n",
       "    .dataframe tbody tr th:only-of-type {\n",
       "        vertical-align: middle;\n",
       "    }\n",
       "\n",
       "    .dataframe tbody tr th {\n",
       "        vertical-align: top;\n",
       "    }\n",
       "\n",
       "    .dataframe thead th {\n",
       "        text-align: right;\n",
       "    }\n",
       "</style>\n",
       "<table border=\"1\" class=\"dataframe\">\n",
       "  <thead>\n",
       "    <tr style=\"text-align: right;\">\n",
       "      <th></th>\n",
       "      <th>game_id</th>\n",
       "      <th>name</th>\n",
       "      <th>player_id</th>\n",
       "      <th>position_id</th>\n",
       "      <th>squad_number</th>\n",
       "      <th>substitute</th>\n",
       "      <th>team_id</th>\n",
       "      <th>minutes_played</th>\n",
       "    </tr>\n",
       "  </thead>\n",
       "  <tbody>\n",
       "    <tr>\n",
       "      <th>0</th>\n",
       "      <td>448702</td>\n",
       "      <td>Jorge Carranza</td>\n",
       "      <td>36751.0</td>\n",
       "      <td>1</td>\n",
       "      <td>18.0</td>\n",
       "      <td>False</td>\n",
       "      <td>490</td>\n",
       "      <td>0.00</td>\n",
       "    </tr>\n",
       "    <tr>\n",
       "      <th>1</th>\n",
       "      <td>448702</td>\n",
       "      <td>Juan Jaime</td>\n",
       "      <td>186421.0</td>\n",
       "      <td>1</td>\n",
       "      <td>1.0</td>\n",
       "      <td>True</td>\n",
       "      <td>490</td>\n",
       "      <td>90.00</td>\n",
       "    </tr>\n",
       "    <tr>\n",
       "      <th>2</th>\n",
       "      <td>448702</td>\n",
       "      <td>Hernán Petryk</td>\n",
       "      <td>94965.0</td>\n",
       "      <td>2</td>\n",
       "      <td>32.0</td>\n",
       "      <td>False</td>\n",
       "      <td>490</td>\n",
       "      <td>63.85</td>\n",
       "    </tr>\n",
       "    <tr>\n",
       "      <th>3</th>\n",
       "      <td>448702</td>\n",
       "      <td>Rodrigo Moreira</td>\n",
       "      <td>100778.0</td>\n",
       "      <td>2</td>\n",
       "      <td>4.0</td>\n",
       "      <td>False</td>\n",
       "      <td>490</td>\n",
       "      <td>0.00</td>\n",
       "    </tr>\n",
       "    <tr>\n",
       "      <th>4</th>\n",
       "      <td>448702</td>\n",
       "      <td>Lucas Acevedo</td>\n",
       "      <td>99085.0</td>\n",
       "      <td>2</td>\n",
       "      <td>2.0</td>\n",
       "      <td>False</td>\n",
       "      <td>490</td>\n",
       "      <td>0.00</td>\n",
       "    </tr>\n",
       "  </tbody>\n",
       "</table>\n",
       "</div>"
      ],
      "text/plain": [
       "  game_id             name  player_id position_id  squad_number substitute  \\\n",
       "0  448702   Jorge Carranza    36751.0           1          18.0      False   \n",
       "1  448702       Juan Jaime   186421.0           1           1.0       True   \n",
       "2  448702    Hernán Petryk    94965.0           2          32.0      False   \n",
       "3  448702  Rodrigo Moreira   100778.0           2           4.0      False   \n",
       "4  448702    Lucas Acevedo    99085.0           2           2.0      False   \n",
       "\n",
       "  team_id  minutes_played  \n",
       "0     490            0.00  \n",
       "1     490           90.00  \n",
       "2     490           63.85  \n",
       "3     490            0.00  \n",
       "4     490            0.00  "
      ]
     },
     "execution_count": 6,
     "metadata": {},
     "output_type": "execute_result"
    }
   ],
   "source": [
    "players_minutes_df.head()"
   ]
  },
  {
   "cell_type": "markdown",
   "metadata": {},
   "source": [
    "# Game Events DF"
   ]
  },
  {
   "cell_type": "code",
   "execution_count": 7,
   "metadata": {},
   "outputs": [],
   "source": [
    "games = db.games.find()"
   ]
  },
  {
   "cell_type": "code",
   "execution_count": 8,
   "metadata": {},
   "outputs": [
    {
     "name": "stderr",
     "output_type": "stream",
     "text": [
      "/Users/david/galvanize/super_liga_xg/mongo_to_db.py:69: FutureWarning: Sorting because non-concatenation axis is not aligned. A future version\n",
      "of pandas will change to not sort by default.\n",
      "\n",
      "To accept the future behavior, pass 'sort=False'.\n",
      "\n",
      "To retain the current behavior and silence the warning, pass 'sort=True'.\n",
      "\n",
      "  final_df = pd.concat([attach_to_df, df], axis=0, ignore_index=True)\n",
      "/Users/david/galvanize/super_liga_xg/dataframe_cleaner.py:133: SettingWithCopyWarning: \n",
      "A value is trying to be set on a copy of a slice from a DataFrame.\n",
      "Try using .loc[row_indexer,col_indexer] = value instead\n",
      "\n",
      "See the caveats in the documentation: http://pandas.pydata.org/pandas-docs/stable/indexing.html#indexing-view-versus-copy\n",
      "  input_df['is_goal'] = input_df.loc[:, 'shot_type'].isin([9, 11, 12, 13]).astype(int)\n"
     ]
    }
   ],
   "source": [
    "shots_df = create_master_df(games)"
   ]
  },
  {
   "cell_type": "code",
   "execution_count": 9,
   "metadata": {},
   "outputs": [
    {
     "data": {
      "text/html": [
       "<div>\n",
       "<style scoped>\n",
       "    .dataframe tbody tr th:only-of-type {\n",
       "        vertical-align: middle;\n",
       "    }\n",
       "\n",
       "    .dataframe tbody tr th {\n",
       "        vertical-align: top;\n",
       "    }\n",
       "\n",
       "    .dataframe thead th {\n",
       "        text-align: right;\n",
       "    }\n",
       "</style>\n",
       "<table border=\"1\" class=\"dataframe\">\n",
       "  <thead>\n",
       "    <tr style=\"text-align: right;\">\n",
       "      <th></th>\n",
       "      <th>game_id</th>\n",
       "      <th>player_id</th>\n",
       "      <th>shot_coord_x1</th>\n",
       "      <th>shot_coord_x2</th>\n",
       "      <th>shot_coord_y1</th>\n",
       "      <th>shot_coord_y2</th>\n",
       "      <th>shot_coord_z1</th>\n",
       "      <th>shot_coord_z2</th>\n",
       "      <th>shot_id</th>\n",
       "      <th>shot_type</th>\n",
       "      <th>team_id</th>\n",
       "      <th>time_of_event(min)</th>\n",
       "      <th>passed_from_id</th>\n",
       "      <th>pass_coord_x1</th>\n",
       "      <th>pass_coord_x2</th>\n",
       "      <th>pass_coord_y1</th>\n",
       "      <th>pass_coord_y2</th>\n",
       "      <th>pass_coord_z1</th>\n",
       "      <th>pass_coord_z2</th>\n",
       "      <th>corner_kick</th>\n",
       "      <th>shot_distance</th>\n",
       "      <th>shot_angle</th>\n",
       "      <th>assisted_shot</th>\n",
       "      <th>is_penalty_attempt</th>\n",
       "      <th>is_goal</th>\n",
       "    </tr>\n",
       "  </thead>\n",
       "  <tbody>\n",
       "    <tr>\n",
       "      <th>0</th>\n",
       "      <td>448548</td>\n",
       "      <td>99779.0</td>\n",
       "      <td>6.67</td>\n",
       "      <td>0.00</td>\n",
       "      <td>1.51</td>\n",
       "      <td>-1.21</td>\n",
       "      <td>-1</td>\n",
       "      <td>0.83</td>\n",
       "      <td>22336297</td>\n",
       "      <td>11</td>\n",
       "      <td>20</td>\n",
       "      <td>1.033333</td>\n",
       "      <td>177285.0</td>\n",
       "      <td>0.89</td>\n",
       "      <td>12.44</td>\n",
       "      <td>29.36</td>\n",
       "      <td>-4.84</td>\n",
       "      <td>-1.0</td>\n",
       "      <td>-1.0</td>\n",
       "      <td>1.0</td>\n",
       "      <td>6.838786</td>\n",
       "      <td>12.755990</td>\n",
       "      <td>1</td>\n",
       "      <td>0</td>\n",
       "      <td>1.0</td>\n",
       "    </tr>\n",
       "    <tr>\n",
       "      <th>1</th>\n",
       "      <td>448548</td>\n",
       "      <td>60730.0</td>\n",
       "      <td>21.33</td>\n",
       "      <td>12.00</td>\n",
       "      <td>4.24</td>\n",
       "      <td>-0.91</td>\n",
       "      <td>-1</td>\n",
       "      <td>0.73</td>\n",
       "      <td>22336386</td>\n",
       "      <td>35</td>\n",
       "      <td>20</td>\n",
       "      <td>9.683333</td>\n",
       "      <td>NaN</td>\n",
       "      <td>NaN</td>\n",
       "      <td>NaN</td>\n",
       "      <td>NaN</td>\n",
       "      <td>NaN</td>\n",
       "      <td>NaN</td>\n",
       "      <td>NaN</td>\n",
       "      <td>0.0</td>\n",
       "      <td>21.747333</td>\n",
       "      <td>11.242763</td>\n",
       "      <td>0</td>\n",
       "      <td>0</td>\n",
       "      <td>0.0</td>\n",
       "    </tr>\n",
       "    <tr>\n",
       "      <th>2</th>\n",
       "      <td>448548</td>\n",
       "      <td>177285.0</td>\n",
       "      <td>12.00</td>\n",
       "      <td>1.78</td>\n",
       "      <td>0.00</td>\n",
       "      <td>-3.03</td>\n",
       "      <td>-1</td>\n",
       "      <td>0.21</td>\n",
       "      <td>22336583</td>\n",
       "      <td>13</td>\n",
       "      <td>20</td>\n",
       "      <td>26.833333</td>\n",
       "      <td>NaN</td>\n",
       "      <td>NaN</td>\n",
       "      <td>NaN</td>\n",
       "      <td>NaN</td>\n",
       "      <td>NaN</td>\n",
       "      <td>NaN</td>\n",
       "      <td>NaN</td>\n",
       "      <td>0.0</td>\n",
       "      <td>12.000000</td>\n",
       "      <td>0.000000</td>\n",
       "      <td>0</td>\n",
       "      <td>1</td>\n",
       "      <td>1.0</td>\n",
       "    </tr>\n",
       "    <tr>\n",
       "      <th>3</th>\n",
       "      <td>448548</td>\n",
       "      <td>185745.0</td>\n",
       "      <td>8.44</td>\n",
       "      <td>0.89</td>\n",
       "      <td>14.53</td>\n",
       "      <td>-6.66</td>\n",
       "      <td>-1</td>\n",
       "      <td>-1.00</td>\n",
       "      <td>22336723</td>\n",
       "      <td>33</td>\n",
       "      <td>20</td>\n",
       "      <td>38.883333</td>\n",
       "      <td>177285.0</td>\n",
       "      <td>22.67</td>\n",
       "      <td>6.22</td>\n",
       "      <td>3.93</td>\n",
       "      <td>19.67</td>\n",
       "      <td>-1.0</td>\n",
       "      <td>-1.0</td>\n",
       "      <td>0.0</td>\n",
       "      <td>16.803407</td>\n",
       "      <td>59.849102</td>\n",
       "      <td>1</td>\n",
       "      <td>0</td>\n",
       "      <td>0.0</td>\n",
       "    </tr>\n",
       "    <tr>\n",
       "      <th>4</th>\n",
       "      <td>448548</td>\n",
       "      <td>77892.0</td>\n",
       "      <td>22.22</td>\n",
       "      <td>0.44</td>\n",
       "      <td>13.92</td>\n",
       "      <td>-8.48</td>\n",
       "      <td>-1</td>\n",
       "      <td>-1.00</td>\n",
       "      <td>22336739</td>\n",
       "      <td>33</td>\n",
       "      <td>13</td>\n",
       "      <td>40.083333</td>\n",
       "      <td>NaN</td>\n",
       "      <td>NaN</td>\n",
       "      <td>NaN</td>\n",
       "      <td>NaN</td>\n",
       "      <td>NaN</td>\n",
       "      <td>NaN</td>\n",
       "      <td>NaN</td>\n",
       "      <td>0.0</td>\n",
       "      <td>26.220122</td>\n",
       "      <td>32.065607</td>\n",
       "      <td>0</td>\n",
       "      <td>0</td>\n",
       "      <td>0.0</td>\n",
       "    </tr>\n",
       "  </tbody>\n",
       "</table>\n",
       "</div>"
      ],
      "text/plain": [
       "  game_id  player_id  shot_coord_x1  shot_coord_x2  shot_coord_y1  \\\n",
       "0  448548    99779.0           6.67           0.00           1.51   \n",
       "1  448548    60730.0          21.33          12.00           4.24   \n",
       "2  448548   177285.0          12.00           1.78           0.00   \n",
       "3  448548   185745.0           8.44           0.89          14.53   \n",
       "4  448548    77892.0          22.22           0.44          13.92   \n",
       "\n",
       "   shot_coord_y2 shot_coord_z1  shot_coord_z2   shot_id shot_type team_id  \\\n",
       "0          -1.21            -1           0.83  22336297        11      20   \n",
       "1          -0.91            -1           0.73  22336386        35      20   \n",
       "2          -3.03            -1           0.21  22336583        13      20   \n",
       "3          -6.66            -1          -1.00  22336723        33      20   \n",
       "4          -8.48            -1          -1.00  22336739        33      13   \n",
       "\n",
       "   time_of_event(min)  passed_from_id  pass_coord_x1  pass_coord_x2  \\\n",
       "0            1.033333        177285.0           0.89          12.44   \n",
       "1            9.683333             NaN            NaN            NaN   \n",
       "2           26.833333             NaN            NaN            NaN   \n",
       "3           38.883333        177285.0          22.67           6.22   \n",
       "4           40.083333             NaN            NaN            NaN   \n",
       "\n",
       "   pass_coord_y1  pass_coord_y2  pass_coord_z1  pass_coord_z2  corner_kick  \\\n",
       "0          29.36          -4.84           -1.0           -1.0          1.0   \n",
       "1            NaN            NaN            NaN            NaN          0.0   \n",
       "2            NaN            NaN            NaN            NaN          0.0   \n",
       "3           3.93          19.67           -1.0           -1.0          0.0   \n",
       "4            NaN            NaN            NaN            NaN          0.0   \n",
       "\n",
       "   shot_distance  shot_angle assisted_shot is_penalty_attempt  is_goal  \n",
       "0       6.838786   12.755990             1                  0      1.0  \n",
       "1      21.747333   11.242763             0                  0      0.0  \n",
       "2      12.000000    0.000000             0                  1      1.0  \n",
       "3      16.803407   59.849102             1                  0      0.0  \n",
       "4      26.220122   32.065607             0                  0      0.0  "
      ]
     },
     "execution_count": 9,
     "metadata": {},
     "output_type": "execute_result"
    }
   ],
   "source": [
    "shots_df.head()"
   ]
  },
  {
   "cell_type": "code",
   "execution_count": 10,
   "metadata": {},
   "outputs": [],
   "source": [
    "from sklearn.metrics import log_loss\n",
    "from sklearn.model_selection import train_test_split\n",
    "from sklearn.ensemble import  RandomForestClassifier"
   ]
  },
  {
   "cell_type": "code",
   "execution_count": 40,
   "metadata": {},
   "outputs": [
    {
     "data": {
      "text/plain": [
       "159"
      ]
     },
     "execution_count": 40,
     "metadata": {},
     "output_type": "execute_result"
    }
   ],
   "source": [
    "possible_games = list(shots_df['game_id'].unique())\n",
    "len(possible_games)"
   ]
  },
  {
   "cell_type": "markdown",
   "metadata": {},
   "source": [
    "## manually creating train_test_splt by game_id\n",
    "\n",
    "start: 159 games --> removed 64 (64/80 were unique) games to train (train model)\n",
    "\n",
    "test_set = 95 games left --> random sample (40 games) --> predict \n"
   ]
  },
  {
   "cell_type": "code",
   "execution_count": 41,
   "metadata": {},
   "outputs": [],
   "source": [
    "# the indices 80 games to train random forest on\n",
    "games_to_train_on = np.random.choice(159, 80)"
   ]
  },
  {
   "cell_type": "code",
   "execution_count": 42,
   "metadata": {},
   "outputs": [],
   "source": [
    "games_to_sample = []\n",
    "for i in games_to_train_on:\n",
    "    games_to_sample.append(possible_games[i])"
   ]
  },
  {
   "cell_type": "code",
   "execution_count": 43,
   "metadata": {},
   "outputs": [
    {
     "data": {
      "text/plain": [
       "80"
      ]
     },
     "execution_count": 43,
     "metadata": {},
     "output_type": "execute_result"
    }
   ],
   "source": [
    "len(games_to_sample)"
   ]
  },
  {
   "cell_type": "code",
   "execution_count": 44,
   "metadata": {},
   "outputs": [],
   "source": [
    "for game in games_to_sample:\n",
    "    if game in possible_games:\n",
    "        possible_games.remove(game)"
   ]
  },
  {
   "cell_type": "markdown",
   "metadata": {},
   "source": [
    "### remove 60 games from possible games"
   ]
  },
  {
   "cell_type": "code",
   "execution_count": 45,
   "metadata": {},
   "outputs": [
    {
     "data": {
      "text/plain": [
       "95"
      ]
     },
     "execution_count": 45,
     "metadata": {},
     "output_type": "execute_result"
    }
   ],
   "source": [
    "len(possible_games)"
   ]
  },
  {
   "cell_type": "code",
   "execution_count": 48,
   "metadata": {},
   "outputs": [
    {
     "data": {
      "text/plain": [
       "80"
      ]
     },
     "execution_count": 48,
     "metadata": {},
     "output_type": "execute_result"
    }
   ],
   "source": [
    "#games to train rf on\n",
    "len(games_to_sample)"
   ]
  },
  {
   "cell_type": "code",
   "execution_count": 49,
   "metadata": {},
   "outputs": [],
   "source": [
    "rf_columns = ['player_id', 'shot_distance', 'shot_angle', 'assisted_shot', 'is_penalty_attempt']"
   ]
  },
  {
   "cell_type": "code",
   "execution_count": 50,
   "metadata": {},
   "outputs": [],
   "source": [
    "shots_to_train_on = shots_df[shots_df['game_id'].isin(np.array(games_to_sample))].copy()"
   ]
  },
  {
   "cell_type": "code",
   "execution_count": 51,
   "metadata": {},
   "outputs": [
    {
     "data": {
      "text/plain": [
       "64"
      ]
     },
     "execution_count": 51,
     "metadata": {},
     "output_type": "execute_result"
    }
   ],
   "source": [
    "len(shots_to_train_on['game_id'].unique())"
   ]
  },
  {
   "cell_type": "code",
   "execution_count": 52,
   "metadata": {},
   "outputs": [
    {
     "data": {
      "text/html": [
       "<div>\n",
       "<style scoped>\n",
       "    .dataframe tbody tr th:only-of-type {\n",
       "        vertical-align: middle;\n",
       "    }\n",
       "\n",
       "    .dataframe tbody tr th {\n",
       "        vertical-align: top;\n",
       "    }\n",
       "\n",
       "    .dataframe thead th {\n",
       "        text-align: right;\n",
       "    }\n",
       "</style>\n",
       "<table border=\"1\" class=\"dataframe\">\n",
       "  <thead>\n",
       "    <tr style=\"text-align: right;\">\n",
       "      <th></th>\n",
       "      <th>game_id</th>\n",
       "      <th>player_id</th>\n",
       "      <th>shot_coord_x1</th>\n",
       "      <th>shot_coord_x2</th>\n",
       "      <th>shot_coord_y1</th>\n",
       "      <th>shot_coord_y2</th>\n",
       "      <th>shot_coord_z1</th>\n",
       "      <th>shot_coord_z2</th>\n",
       "      <th>shot_id</th>\n",
       "      <th>shot_type</th>\n",
       "      <th>team_id</th>\n",
       "      <th>time_of_event(min)</th>\n",
       "      <th>passed_from_id</th>\n",
       "      <th>pass_coord_x1</th>\n",
       "      <th>pass_coord_x2</th>\n",
       "      <th>pass_coord_y1</th>\n",
       "      <th>pass_coord_y2</th>\n",
       "      <th>pass_coord_z1</th>\n",
       "      <th>pass_coord_z2</th>\n",
       "      <th>corner_kick</th>\n",
       "      <th>shot_distance</th>\n",
       "      <th>shot_angle</th>\n",
       "      <th>assisted_shot</th>\n",
       "      <th>is_penalty_attempt</th>\n",
       "      <th>is_goal</th>\n",
       "    </tr>\n",
       "  </thead>\n",
       "  <tbody>\n",
       "    <tr>\n",
       "      <th>0</th>\n",
       "      <td>448548</td>\n",
       "      <td>99779.0</td>\n",
       "      <td>6.67</td>\n",
       "      <td>0.00</td>\n",
       "      <td>1.51</td>\n",
       "      <td>-1.21</td>\n",
       "      <td>-1</td>\n",
       "      <td>0.83</td>\n",
       "      <td>22336297</td>\n",
       "      <td>11</td>\n",
       "      <td>20</td>\n",
       "      <td>1.033333</td>\n",
       "      <td>177285.0</td>\n",
       "      <td>0.89</td>\n",
       "      <td>12.44</td>\n",
       "      <td>29.36</td>\n",
       "      <td>-4.84</td>\n",
       "      <td>-1.0</td>\n",
       "      <td>-1.0</td>\n",
       "      <td>1.0</td>\n",
       "      <td>6.838786</td>\n",
       "      <td>12.755990</td>\n",
       "      <td>1</td>\n",
       "      <td>0</td>\n",
       "      <td>1.0</td>\n",
       "    </tr>\n",
       "    <tr>\n",
       "      <th>1</th>\n",
       "      <td>448548</td>\n",
       "      <td>60730.0</td>\n",
       "      <td>21.33</td>\n",
       "      <td>12.00</td>\n",
       "      <td>4.24</td>\n",
       "      <td>-0.91</td>\n",
       "      <td>-1</td>\n",
       "      <td>0.73</td>\n",
       "      <td>22336386</td>\n",
       "      <td>35</td>\n",
       "      <td>20</td>\n",
       "      <td>9.683333</td>\n",
       "      <td>NaN</td>\n",
       "      <td>NaN</td>\n",
       "      <td>NaN</td>\n",
       "      <td>NaN</td>\n",
       "      <td>NaN</td>\n",
       "      <td>NaN</td>\n",
       "      <td>NaN</td>\n",
       "      <td>0.0</td>\n",
       "      <td>21.747333</td>\n",
       "      <td>11.242763</td>\n",
       "      <td>0</td>\n",
       "      <td>0</td>\n",
       "      <td>0.0</td>\n",
       "    </tr>\n",
       "    <tr>\n",
       "      <th>2</th>\n",
       "      <td>448548</td>\n",
       "      <td>177285.0</td>\n",
       "      <td>12.00</td>\n",
       "      <td>1.78</td>\n",
       "      <td>0.00</td>\n",
       "      <td>-3.03</td>\n",
       "      <td>-1</td>\n",
       "      <td>0.21</td>\n",
       "      <td>22336583</td>\n",
       "      <td>13</td>\n",
       "      <td>20</td>\n",
       "      <td>26.833333</td>\n",
       "      <td>NaN</td>\n",
       "      <td>NaN</td>\n",
       "      <td>NaN</td>\n",
       "      <td>NaN</td>\n",
       "      <td>NaN</td>\n",
       "      <td>NaN</td>\n",
       "      <td>NaN</td>\n",
       "      <td>0.0</td>\n",
       "      <td>12.000000</td>\n",
       "      <td>0.000000</td>\n",
       "      <td>0</td>\n",
       "      <td>1</td>\n",
       "      <td>1.0</td>\n",
       "    </tr>\n",
       "    <tr>\n",
       "      <th>3</th>\n",
       "      <td>448548</td>\n",
       "      <td>185745.0</td>\n",
       "      <td>8.44</td>\n",
       "      <td>0.89</td>\n",
       "      <td>14.53</td>\n",
       "      <td>-6.66</td>\n",
       "      <td>-1</td>\n",
       "      <td>-1.00</td>\n",
       "      <td>22336723</td>\n",
       "      <td>33</td>\n",
       "      <td>20</td>\n",
       "      <td>38.883333</td>\n",
       "      <td>177285.0</td>\n",
       "      <td>22.67</td>\n",
       "      <td>6.22</td>\n",
       "      <td>3.93</td>\n",
       "      <td>19.67</td>\n",
       "      <td>-1.0</td>\n",
       "      <td>-1.0</td>\n",
       "      <td>0.0</td>\n",
       "      <td>16.803407</td>\n",
       "      <td>59.849102</td>\n",
       "      <td>1</td>\n",
       "      <td>0</td>\n",
       "      <td>0.0</td>\n",
       "    </tr>\n",
       "    <tr>\n",
       "      <th>4</th>\n",
       "      <td>448548</td>\n",
       "      <td>77892.0</td>\n",
       "      <td>22.22</td>\n",
       "      <td>0.44</td>\n",
       "      <td>13.92</td>\n",
       "      <td>-8.48</td>\n",
       "      <td>-1</td>\n",
       "      <td>-1.00</td>\n",
       "      <td>22336739</td>\n",
       "      <td>33</td>\n",
       "      <td>13</td>\n",
       "      <td>40.083333</td>\n",
       "      <td>NaN</td>\n",
       "      <td>NaN</td>\n",
       "      <td>NaN</td>\n",
       "      <td>NaN</td>\n",
       "      <td>NaN</td>\n",
       "      <td>NaN</td>\n",
       "      <td>NaN</td>\n",
       "      <td>0.0</td>\n",
       "      <td>26.220122</td>\n",
       "      <td>32.065607</td>\n",
       "      <td>0</td>\n",
       "      <td>0</td>\n",
       "      <td>0.0</td>\n",
       "    </tr>\n",
       "  </tbody>\n",
       "</table>\n",
       "</div>"
      ],
      "text/plain": [
       "  game_id  player_id  shot_coord_x1  shot_coord_x2  shot_coord_y1  \\\n",
       "0  448548    99779.0           6.67           0.00           1.51   \n",
       "1  448548    60730.0          21.33          12.00           4.24   \n",
       "2  448548   177285.0          12.00           1.78           0.00   \n",
       "3  448548   185745.0           8.44           0.89          14.53   \n",
       "4  448548    77892.0          22.22           0.44          13.92   \n",
       "\n",
       "   shot_coord_y2 shot_coord_z1  shot_coord_z2   shot_id shot_type team_id  \\\n",
       "0          -1.21            -1           0.83  22336297        11      20   \n",
       "1          -0.91            -1           0.73  22336386        35      20   \n",
       "2          -3.03            -1           0.21  22336583        13      20   \n",
       "3          -6.66            -1          -1.00  22336723        33      20   \n",
       "4          -8.48            -1          -1.00  22336739        33      13   \n",
       "\n",
       "   time_of_event(min)  passed_from_id  pass_coord_x1  pass_coord_x2  \\\n",
       "0            1.033333        177285.0           0.89          12.44   \n",
       "1            9.683333             NaN            NaN            NaN   \n",
       "2           26.833333             NaN            NaN            NaN   \n",
       "3           38.883333        177285.0          22.67           6.22   \n",
       "4           40.083333             NaN            NaN            NaN   \n",
       "\n",
       "   pass_coord_y1  pass_coord_y2  pass_coord_z1  pass_coord_z2  corner_kick  \\\n",
       "0          29.36          -4.84           -1.0           -1.0          1.0   \n",
       "1            NaN            NaN            NaN            NaN          0.0   \n",
       "2            NaN            NaN            NaN            NaN          0.0   \n",
       "3           3.93          19.67           -1.0           -1.0          0.0   \n",
       "4            NaN            NaN            NaN            NaN          0.0   \n",
       "\n",
       "   shot_distance  shot_angle assisted_shot is_penalty_attempt  is_goal  \n",
       "0       6.838786   12.755990             1                  0      1.0  \n",
       "1      21.747333   11.242763             0                  0      0.0  \n",
       "2      12.000000    0.000000             0                  1      1.0  \n",
       "3      16.803407   59.849102             1                  0      0.0  \n",
       "4      26.220122   32.065607             0                  0      0.0  "
      ]
     },
     "execution_count": 52,
     "metadata": {},
     "output_type": "execute_result"
    }
   ],
   "source": [
    "shots_to_train_on.head()"
   ]
  },
  {
   "cell_type": "code",
   "execution_count": 53,
   "metadata": {},
   "outputs": [],
   "source": [
    "train_data = shots_to_train_on[rf_columns]\n",
    "train_y = shots_to_train_on['is_goal']\n",
    "indices = shots_to_train_on.index.values"
   ]
  },
  {
   "cell_type": "code",
   "execution_count": 54,
   "metadata": {},
   "outputs": [
    {
     "name": "stderr",
     "output_type": "stream",
     "text": [
      "[Parallel(n_jobs=1)]: Using backend SequentialBackend with 1 concurrent workers.\n",
      "[Parallel(n_jobs=1)]: Done 300 out of 300 | elapsed:    0.3s finished\n"
     ]
    },
    {
     "data": {
      "text/plain": [
       "RandomForestClassifier(bootstrap=True, class_weight=None, criterion='gini',\n",
       "            max_depth=3, max_features='auto', max_leaf_nodes=None,\n",
       "            min_impurity_decrease=0.0, min_impurity_split=None,\n",
       "            min_samples_leaf=1, min_samples_split=2,\n",
       "            min_weight_fraction_leaf=0.0, n_estimators=300, n_jobs=None,\n",
       "            oob_score=False, random_state=None, verbose=1,\n",
       "            warm_start=False)"
      ]
     },
     "execution_count": 54,
     "metadata": {},
     "output_type": "execute_result"
    }
   ],
   "source": [
    "random_forest_model = RandomForestClassifier(n_estimators=300, max_depth=3, verbose=1)\n",
    "random_forest_model.fit(train_data, train_y)"
   ]
  },
  {
   "cell_type": "markdown",
   "metadata": {},
   "source": [
    "### sample test set by game_id"
   ]
  },
  {
   "cell_type": "code",
   "execution_count": 55,
   "metadata": {},
   "outputs": [
    {
     "data": {
      "text/plain": [
       "95"
      ]
     },
     "execution_count": 55,
     "metadata": {},
     "output_type": "execute_result"
    }
   ],
   "source": [
    "len(possible_games)"
   ]
  },
  {
   "cell_type": "code",
   "execution_count": 56,
   "metadata": {},
   "outputs": [],
   "source": [
    "games_to_test_on = np.random.choice(95, 50)"
   ]
  },
  {
   "cell_type": "code",
   "execution_count": 57,
   "metadata": {},
   "outputs": [],
   "source": [
    "games_to_predict = []\n",
    "for i in games_to_test_on:\n",
    "    games_to_predict.append(possible_games[i])"
   ]
  },
  {
   "cell_type": "code",
   "execution_count": 58,
   "metadata": {},
   "outputs": [
    {
     "name": "stdout",
     "output_type": "stream",
     "text": [
      "95\n"
     ]
    },
    {
     "data": {
      "text/plain": [
       "50"
      ]
     },
     "execution_count": 58,
     "metadata": {},
     "output_type": "execute_result"
    }
   ],
   "source": [
    "print(len(possible_games))\n",
    "len(games_to_predict)"
   ]
  },
  {
   "cell_type": "markdown",
   "metadata": {},
   "source": [
    "remove from that sample"
   ]
  },
  {
   "cell_type": "code",
   "execution_count": 61,
   "metadata": {},
   "outputs": [],
   "source": [
    "for game in games_to_predict:\n",
    "    if game in possible_games:\n",
    "        possible_games.remove(game)"
   ]
  },
  {
   "cell_type": "code",
   "execution_count": 62,
   "metadata": {},
   "outputs": [
    {
     "name": "stdout",
     "output_type": "stream",
     "text": [
      "61\n"
     ]
    },
    {
     "data": {
      "text/plain": [
       "50"
      ]
     },
     "execution_count": 62,
     "metadata": {},
     "output_type": "execute_result"
    }
   ],
   "source": [
    "print(len(possible_games))\n",
    "len(games_to_predict)"
   ]
  },
  {
   "cell_type": "code",
   "execution_count": 63,
   "metadata": {},
   "outputs": [
    {
     "data": {
      "text/plain": [
       "34"
      ]
     },
     "execution_count": 63,
     "metadata": {},
     "output_type": "execute_result"
    }
   ],
   "source": [
    "95 - 61"
   ]
  },
  {
   "cell_type": "markdown",
   "metadata": {},
   "source": [
    "### 34 unique games removed from the possible_games"
   ]
  },
  {
   "cell_type": "code",
   "execution_count": 64,
   "metadata": {},
   "outputs": [],
   "source": [
    "shots_to_predict = shots_df[shots_df['game_id'].isin(np.array(games_to_predict))].copy()"
   ]
  },
  {
   "cell_type": "code",
   "execution_count": 65,
   "metadata": {},
   "outputs": [
    {
     "data": {
      "text/html": [
       "<div>\n",
       "<style scoped>\n",
       "    .dataframe tbody tr th:only-of-type {\n",
       "        vertical-align: middle;\n",
       "    }\n",
       "\n",
       "    .dataframe tbody tr th {\n",
       "        vertical-align: top;\n",
       "    }\n",
       "\n",
       "    .dataframe thead th {\n",
       "        text-align: right;\n",
       "    }\n",
       "</style>\n",
       "<table border=\"1\" class=\"dataframe\">\n",
       "  <thead>\n",
       "    <tr style=\"text-align: right;\">\n",
       "      <th></th>\n",
       "      <th>game_id</th>\n",
       "      <th>player_id</th>\n",
       "      <th>shot_coord_x1</th>\n",
       "      <th>shot_coord_x2</th>\n",
       "      <th>shot_coord_y1</th>\n",
       "      <th>shot_coord_y2</th>\n",
       "      <th>shot_coord_z1</th>\n",
       "      <th>shot_coord_z2</th>\n",
       "      <th>shot_id</th>\n",
       "      <th>shot_type</th>\n",
       "      <th>team_id</th>\n",
       "      <th>time_of_event(min)</th>\n",
       "      <th>passed_from_id</th>\n",
       "      <th>pass_coord_x1</th>\n",
       "      <th>pass_coord_x2</th>\n",
       "      <th>pass_coord_y1</th>\n",
       "      <th>pass_coord_y2</th>\n",
       "      <th>pass_coord_z1</th>\n",
       "      <th>pass_coord_z2</th>\n",
       "      <th>corner_kick</th>\n",
       "      <th>shot_distance</th>\n",
       "      <th>shot_angle</th>\n",
       "      <th>assisted_shot</th>\n",
       "      <th>is_penalty_attempt</th>\n",
       "      <th>is_goal</th>\n",
       "    </tr>\n",
       "  </thead>\n",
       "  <tbody>\n",
       "    <tr>\n",
       "      <th>56</th>\n",
       "      <td>448539</td>\n",
       "      <td>17266.0</td>\n",
       "      <td>22.22</td>\n",
       "      <td>0.44</td>\n",
       "      <td>3.93</td>\n",
       "      <td>11.20</td>\n",
       "      <td>-1</td>\n",
       "      <td>-1.00</td>\n",
       "      <td>22355164</td>\n",
       "      <td>33</td>\n",
       "      <td>869</td>\n",
       "      <td>7.650000</td>\n",
       "      <td>NaN</td>\n",
       "      <td>NaN</td>\n",
       "      <td>NaN</td>\n",
       "      <td>NaN</td>\n",
       "      <td>NaN</td>\n",
       "      <td>NaN</td>\n",
       "      <td>NaN</td>\n",
       "      <td>0.0</td>\n",
       "      <td>22.564869</td>\n",
       "      <td>10.030043</td>\n",
       "      <td>0</td>\n",
       "      <td>0</td>\n",
       "      <td>0.0</td>\n",
       "    </tr>\n",
       "    <tr>\n",
       "      <th>57</th>\n",
       "      <td>448539</td>\n",
       "      <td>47913.0</td>\n",
       "      <td>9.78</td>\n",
       "      <td>6.67</td>\n",
       "      <td>10.90</td>\n",
       "      <td>5.45</td>\n",
       "      <td>-1</td>\n",
       "      <td>0.46</td>\n",
       "      <td>22355363</td>\n",
       "      <td>35</td>\n",
       "      <td>6</td>\n",
       "      <td>14.900000</td>\n",
       "      <td>57586.0</td>\n",
       "      <td>41.78</td>\n",
       "      <td>11.11</td>\n",
       "      <td>17.25</td>\n",
       "      <td>11.20</td>\n",
       "      <td>-1.0</td>\n",
       "      <td>-1.0</td>\n",
       "      <td>0.0</td>\n",
       "      <td>14.644398</td>\n",
       "      <td>48.100031</td>\n",
       "      <td>1</td>\n",
       "      <td>0</td>\n",
       "      <td>0.0</td>\n",
       "    </tr>\n",
       "    <tr>\n",
       "      <th>58</th>\n",
       "      <td>448539</td>\n",
       "      <td>1692.0</td>\n",
       "      <td>19.56</td>\n",
       "      <td>0.44</td>\n",
       "      <td>11.80</td>\n",
       "      <td>-0.61</td>\n",
       "      <td>-1</td>\n",
       "      <td>-1.00</td>\n",
       "      <td>22355398</td>\n",
       "      <td>33</td>\n",
       "      <td>6</td>\n",
       "      <td>16.216667</td>\n",
       "      <td>57586.0</td>\n",
       "      <td>44.89</td>\n",
       "      <td>25.78</td>\n",
       "      <td>23.61</td>\n",
       "      <td>23.61</td>\n",
       "      <td>-1.0</td>\n",
       "      <td>-1.0</td>\n",
       "      <td>0.0</td>\n",
       "      <td>22.843677</td>\n",
       "      <td>31.101404</td>\n",
       "      <td>1</td>\n",
       "      <td>0</td>\n",
       "      <td>0.0</td>\n",
       "    </tr>\n",
       "    <tr>\n",
       "      <th>59</th>\n",
       "      <td>448539</td>\n",
       "      <td>44918.0</td>\n",
       "      <td>19.11</td>\n",
       "      <td>0.00</td>\n",
       "      <td>-11.50</td>\n",
       "      <td>-12.71</td>\n",
       "      <td>-1</td>\n",
       "      <td>-1.00</td>\n",
       "      <td>22355730</td>\n",
       "      <td>33</td>\n",
       "      <td>869</td>\n",
       "      <td>24.816667</td>\n",
       "      <td>NaN</td>\n",
       "      <td>NaN</td>\n",
       "      <td>NaN</td>\n",
       "      <td>NaN</td>\n",
       "      <td>NaN</td>\n",
       "      <td>NaN</td>\n",
       "      <td>NaN</td>\n",
       "      <td>0.0</td>\n",
       "      <td>22.303410</td>\n",
       "      <td>-31.038653</td>\n",
       "      <td>0</td>\n",
       "      <td>0</td>\n",
       "      <td>0.0</td>\n",
       "    </tr>\n",
       "    <tr>\n",
       "      <th>60</th>\n",
       "      <td>448539</td>\n",
       "      <td>98292.0</td>\n",
       "      <td>12.44</td>\n",
       "      <td>9.78</td>\n",
       "      <td>2.72</td>\n",
       "      <td>2.42</td>\n",
       "      <td>-1</td>\n",
       "      <td>0.14</td>\n",
       "      <td>22355759</td>\n",
       "      <td>35</td>\n",
       "      <td>869</td>\n",
       "      <td>25.600000</td>\n",
       "      <td>44918.0</td>\n",
       "      <td>25.78</td>\n",
       "      <td>10.67</td>\n",
       "      <td>-10.59</td>\n",
       "      <td>-10.29</td>\n",
       "      <td>-1.0</td>\n",
       "      <td>-1.0</td>\n",
       "      <td>0.0</td>\n",
       "      <td>12.733892</td>\n",
       "      <td>12.333593</td>\n",
       "      <td>1</td>\n",
       "      <td>0</td>\n",
       "      <td>0.0</td>\n",
       "    </tr>\n",
       "  </tbody>\n",
       "</table>\n",
       "</div>"
      ],
      "text/plain": [
       "   game_id  player_id  shot_coord_x1  shot_coord_x2  shot_coord_y1  \\\n",
       "56  448539    17266.0          22.22           0.44           3.93   \n",
       "57  448539    47913.0           9.78           6.67          10.90   \n",
       "58  448539     1692.0          19.56           0.44          11.80   \n",
       "59  448539    44918.0          19.11           0.00         -11.50   \n",
       "60  448539    98292.0          12.44           9.78           2.72   \n",
       "\n",
       "    shot_coord_y2 shot_coord_z1  shot_coord_z2   shot_id shot_type team_id  \\\n",
       "56          11.20            -1          -1.00  22355164        33     869   \n",
       "57           5.45            -1           0.46  22355363        35       6   \n",
       "58          -0.61            -1          -1.00  22355398        33       6   \n",
       "59         -12.71            -1          -1.00  22355730        33     869   \n",
       "60           2.42            -1           0.14  22355759        35     869   \n",
       "\n",
       "    time_of_event(min)  passed_from_id  pass_coord_x1  pass_coord_x2  \\\n",
       "56            7.650000             NaN            NaN            NaN   \n",
       "57           14.900000         57586.0          41.78          11.11   \n",
       "58           16.216667         57586.0          44.89          25.78   \n",
       "59           24.816667             NaN            NaN            NaN   \n",
       "60           25.600000         44918.0          25.78          10.67   \n",
       "\n",
       "    pass_coord_y1  pass_coord_y2  pass_coord_z1  pass_coord_z2  corner_kick  \\\n",
       "56            NaN            NaN            NaN            NaN          0.0   \n",
       "57          17.25          11.20           -1.0           -1.0          0.0   \n",
       "58          23.61          23.61           -1.0           -1.0          0.0   \n",
       "59            NaN            NaN            NaN            NaN          0.0   \n",
       "60         -10.59         -10.29           -1.0           -1.0          0.0   \n",
       "\n",
       "    shot_distance  shot_angle assisted_shot is_penalty_attempt  is_goal  \n",
       "56      22.564869   10.030043             0                  0      0.0  \n",
       "57      14.644398   48.100031             1                  0      0.0  \n",
       "58      22.843677   31.101404             1                  0      0.0  \n",
       "59      22.303410  -31.038653             0                  0      0.0  \n",
       "60      12.733892   12.333593             1                  0      0.0  "
      ]
     },
     "execution_count": 65,
     "metadata": {},
     "output_type": "execute_result"
    }
   ],
   "source": [
    "shots_to_predict.head()"
   ]
  },
  {
   "cell_type": "code",
   "execution_count": 66,
   "metadata": {},
   "outputs": [
    {
     "data": {
      "text/plain": [
       "34"
      ]
     },
     "execution_count": 66,
     "metadata": {},
     "output_type": "execute_result"
    }
   ],
   "source": [
    "len(shots_to_predict['game_id'].unique())"
   ]
  },
  {
   "cell_type": "markdown",
   "metadata": {},
   "source": [
    "# Predicting the xG xA of 34 games"
   ]
  },
  {
   "cell_type": "code",
   "execution_count": 67,
   "metadata": {},
   "outputs": [],
   "source": [
    "test_data = shots_to_predict[rf_columns]\n",
    "test_y = shots_to_predict['is_goal']\n",
    "indices1 = shots_to_predict.index.values"
   ]
  },
  {
   "cell_type": "code",
   "execution_count": 68,
   "metadata": {},
   "outputs": [
    {
     "name": "stderr",
     "output_type": "stream",
     "text": [
      "[Parallel(n_jobs=1)]: Using backend SequentialBackend with 1 concurrent workers.\n",
      "[Parallel(n_jobs=1)]: Done 300 out of 300 | elapsed:    0.1s finished\n"
     ]
    }
   ],
   "source": [
    "p_random_forest = random_forest_model.predict_proba(test_data)"
   ]
  },
  {
   "cell_type": "code",
   "execution_count": 73,
   "metadata": {},
   "outputs": [],
   "source": [
    "df_xG = pd.DataFrame(test_data)\n",
    "df_xG['is_goal'] = test_y\n",
    "df_xG['xG'] = p_random_forest[:,1]"
   ]
  },
  {
   "cell_type": "code",
   "execution_count": 74,
   "metadata": {},
   "outputs": [
    {
     "data": {
      "text/html": [
       "<div>\n",
       "<style scoped>\n",
       "    .dataframe tbody tr th:only-of-type {\n",
       "        vertical-align: middle;\n",
       "    }\n",
       "\n",
       "    .dataframe tbody tr th {\n",
       "        vertical-align: top;\n",
       "    }\n",
       "\n",
       "    .dataframe thead th {\n",
       "        text-align: right;\n",
       "    }\n",
       "</style>\n",
       "<table border=\"1\" class=\"dataframe\">\n",
       "  <thead>\n",
       "    <tr style=\"text-align: right;\">\n",
       "      <th></th>\n",
       "      <th>player_id</th>\n",
       "      <th>shot_distance</th>\n",
       "      <th>shot_angle</th>\n",
       "      <th>assisted_shot</th>\n",
       "      <th>is_penalty_attempt</th>\n",
       "      <th>is_goal</th>\n",
       "      <th>prob_0</th>\n",
       "      <th>prob_1</th>\n",
       "      <th>xG</th>\n",
       "    </tr>\n",
       "  </thead>\n",
       "  <tbody>\n",
       "    <tr>\n",
       "      <th>56</th>\n",
       "      <td>17266.0</td>\n",
       "      <td>22.564869</td>\n",
       "      <td>10.030043</td>\n",
       "      <td>0</td>\n",
       "      <td>0</td>\n",
       "      <td>0.0</td>\n",
       "      <td>0.925429</td>\n",
       "      <td>0.074571</td>\n",
       "      <td>0.074571</td>\n",
       "    </tr>\n",
       "    <tr>\n",
       "      <th>57</th>\n",
       "      <td>47913.0</td>\n",
       "      <td>14.644398</td>\n",
       "      <td>48.100031</td>\n",
       "      <td>1</td>\n",
       "      <td>0</td>\n",
       "      <td>0.0</td>\n",
       "      <td>0.937550</td>\n",
       "      <td>0.062450</td>\n",
       "      <td>0.062450</td>\n",
       "    </tr>\n",
       "    <tr>\n",
       "      <th>58</th>\n",
       "      <td>1692.0</td>\n",
       "      <td>22.843677</td>\n",
       "      <td>31.101404</td>\n",
       "      <td>1</td>\n",
       "      <td>0</td>\n",
       "      <td>0.0</td>\n",
       "      <td>0.921333</td>\n",
       "      <td>0.078667</td>\n",
       "      <td>0.078667</td>\n",
       "    </tr>\n",
       "    <tr>\n",
       "      <th>59</th>\n",
       "      <td>44918.0</td>\n",
       "      <td>22.303410</td>\n",
       "      <td>-31.038653</td>\n",
       "      <td>0</td>\n",
       "      <td>0</td>\n",
       "      <td>0.0</td>\n",
       "      <td>0.955819</td>\n",
       "      <td>0.044181</td>\n",
       "      <td>0.044181</td>\n",
       "    </tr>\n",
       "    <tr>\n",
       "      <th>60</th>\n",
       "      <td>98292.0</td>\n",
       "      <td>12.733892</td>\n",
       "      <td>12.333593</td>\n",
       "      <td>1</td>\n",
       "      <td>0</td>\n",
       "      <td>0.0</td>\n",
       "      <td>0.927847</td>\n",
       "      <td>0.072153</td>\n",
       "      <td>0.072153</td>\n",
       "    </tr>\n",
       "  </tbody>\n",
       "</table>\n",
       "</div>"
      ],
      "text/plain": [
       "    player_id  shot_distance  shot_angle assisted_shot is_penalty_attempt  \\\n",
       "56    17266.0      22.564869   10.030043             0                  0   \n",
       "57    47913.0      14.644398   48.100031             1                  0   \n",
       "58     1692.0      22.843677   31.101404             1                  0   \n",
       "59    44918.0      22.303410  -31.038653             0                  0   \n",
       "60    98292.0      12.733892   12.333593             1                  0   \n",
       "\n",
       "    is_goal    prob_0    prob_1        xG  \n",
       "56      0.0  0.925429  0.074571  0.074571  \n",
       "57      0.0  0.937550  0.062450  0.062450  \n",
       "58      0.0  0.921333  0.078667  0.078667  \n",
       "59      0.0  0.955819  0.044181  0.044181  \n",
       "60      0.0  0.927847  0.072153  0.072153  "
      ]
     },
     "execution_count": 74,
     "metadata": {},
     "output_type": "execute_result"
    }
   ],
   "source": [
    "df_xG.head()"
   ]
  },
  {
   "cell_type": "code",
   "execution_count": 75,
   "metadata": {},
   "outputs": [],
   "source": [
    "df_xG['xA'] = df_xG['assisted_shot'] * df_xG['xG']"
   ]
  },
  {
   "cell_type": "code",
   "execution_count": 77,
   "metadata": {},
   "outputs": [
    {
     "data": {
      "text/html": [
       "<div>\n",
       "<style scoped>\n",
       "    .dataframe tbody tr th:only-of-type {\n",
       "        vertical-align: middle;\n",
       "    }\n",
       "\n",
       "    .dataframe tbody tr th {\n",
       "        vertical-align: top;\n",
       "    }\n",
       "\n",
       "    .dataframe thead th {\n",
       "        text-align: right;\n",
       "    }\n",
       "</style>\n",
       "<table border=\"1\" class=\"dataframe\">\n",
       "  <thead>\n",
       "    <tr style=\"text-align: right;\">\n",
       "      <th></th>\n",
       "      <th>player_id</th>\n",
       "      <th>shot_distance</th>\n",
       "      <th>shot_angle</th>\n",
       "      <th>assisted_shot</th>\n",
       "      <th>is_penalty_attempt</th>\n",
       "      <th>is_goal</th>\n",
       "      <th>prob_0</th>\n",
       "      <th>prob_1</th>\n",
       "      <th>xG</th>\n",
       "      <th>xA</th>\n",
       "    </tr>\n",
       "  </thead>\n",
       "  <tbody>\n",
       "    <tr>\n",
       "      <th>56</th>\n",
       "      <td>17266.0</td>\n",
       "      <td>22.564869</td>\n",
       "      <td>10.030043</td>\n",
       "      <td>0</td>\n",
       "      <td>0</td>\n",
       "      <td>0.0</td>\n",
       "      <td>0.925429</td>\n",
       "      <td>0.074571</td>\n",
       "      <td>0.074571</td>\n",
       "      <td>0</td>\n",
       "    </tr>\n",
       "    <tr>\n",
       "      <th>57</th>\n",
       "      <td>47913.0</td>\n",
       "      <td>14.644398</td>\n",
       "      <td>48.100031</td>\n",
       "      <td>1</td>\n",
       "      <td>0</td>\n",
       "      <td>0.0</td>\n",
       "      <td>0.937550</td>\n",
       "      <td>0.062450</td>\n",
       "      <td>0.062450</td>\n",
       "      <td>0.0624496</td>\n",
       "    </tr>\n",
       "    <tr>\n",
       "      <th>58</th>\n",
       "      <td>1692.0</td>\n",
       "      <td>22.843677</td>\n",
       "      <td>31.101404</td>\n",
       "      <td>1</td>\n",
       "      <td>0</td>\n",
       "      <td>0.0</td>\n",
       "      <td>0.921333</td>\n",
       "      <td>0.078667</td>\n",
       "      <td>0.078667</td>\n",
       "      <td>0.0786667</td>\n",
       "    </tr>\n",
       "    <tr>\n",
       "      <th>59</th>\n",
       "      <td>44918.0</td>\n",
       "      <td>22.303410</td>\n",
       "      <td>-31.038653</td>\n",
       "      <td>0</td>\n",
       "      <td>0</td>\n",
       "      <td>0.0</td>\n",
       "      <td>0.955819</td>\n",
       "      <td>0.044181</td>\n",
       "      <td>0.044181</td>\n",
       "      <td>0</td>\n",
       "    </tr>\n",
       "    <tr>\n",
       "      <th>60</th>\n",
       "      <td>98292.0</td>\n",
       "      <td>12.733892</td>\n",
       "      <td>12.333593</td>\n",
       "      <td>1</td>\n",
       "      <td>0</td>\n",
       "      <td>0.0</td>\n",
       "      <td>0.927847</td>\n",
       "      <td>0.072153</td>\n",
       "      <td>0.072153</td>\n",
       "      <td>0.0721525</td>\n",
       "    </tr>\n",
       "  </tbody>\n",
       "</table>\n",
       "</div>"
      ],
      "text/plain": [
       "    player_id  shot_distance  shot_angle assisted_shot is_penalty_attempt  \\\n",
       "56    17266.0      22.564869   10.030043             0                  0   \n",
       "57    47913.0      14.644398   48.100031             1                  0   \n",
       "58     1692.0      22.843677   31.101404             1                  0   \n",
       "59    44918.0      22.303410  -31.038653             0                  0   \n",
       "60    98292.0      12.733892   12.333593             1                  0   \n",
       "\n",
       "    is_goal    prob_0    prob_1        xG         xA  \n",
       "56      0.0  0.925429  0.074571  0.074571          0  \n",
       "57      0.0  0.937550  0.062450  0.062450  0.0624496  \n",
       "58      0.0  0.921333  0.078667  0.078667  0.0786667  \n",
       "59      0.0  0.955819  0.044181  0.044181          0  \n",
       "60      0.0  0.927847  0.072153  0.072153  0.0721525  "
      ]
     },
     "execution_count": 77,
     "metadata": {},
     "output_type": "execute_result"
    }
   ],
   "source": [
    "df_xG.head()"
   ]
  },
  {
   "cell_type": "code",
   "execution_count": 78,
   "metadata": {},
   "outputs": [],
   "source": [
    "unique_players = df_xG['player_id'].unique()"
   ]
  },
  {
   "cell_type": "code",
   "execution_count": 79,
   "metadata": {},
   "outputs": [],
   "source": [
    "contributions = []\n",
    "for player in unique_players:\n",
    "    xgsum = df_xG[df_xG['player_id'] == player]['xG'].sum()\n",
    "    xasum = df_xG[df_xG['player_id'] == player]['xA'].sum()\n",
    "    contributions.append([player, xgsum, xasum])"
   ]
  },
  {
   "cell_type": "code",
   "execution_count": 80,
   "metadata": {},
   "outputs": [],
   "source": [
    "by_xG = sorted(contributions, key=lambda x: x[1], reverse=True)"
   ]
  },
  {
   "cell_type": "code",
   "execution_count": 81,
   "metadata": {},
   "outputs": [],
   "source": [
    "contribution_df = pd.DataFrame(by_xG, columns=['player_id', 'total_xG', 'total_xA'])"
   ]
  },
  {
   "cell_type": "code",
   "execution_count": 82,
   "metadata": {},
   "outputs": [],
   "source": [
    "contribution_df['combined xG + xA'] = (contribution_df['total_xG'] + contribution_df['total_xA']).round(2)"
   ]
  },
  {
   "cell_type": "code",
   "execution_count": 83,
   "metadata": {},
   "outputs": [
    {
     "data": {
      "text/html": [
       "<div>\n",
       "<style scoped>\n",
       "    .dataframe tbody tr th:only-of-type {\n",
       "        vertical-align: middle;\n",
       "    }\n",
       "\n",
       "    .dataframe tbody tr th {\n",
       "        vertical-align: top;\n",
       "    }\n",
       "\n",
       "    .dataframe thead th {\n",
       "        text-align: right;\n",
       "    }\n",
       "</style>\n",
       "<table border=\"1\" class=\"dataframe\">\n",
       "  <thead>\n",
       "    <tr style=\"text-align: right;\">\n",
       "      <th></th>\n",
       "      <th>player_id</th>\n",
       "      <th>total_xG</th>\n",
       "      <th>total_xA</th>\n",
       "      <th>combined xG + xA</th>\n",
       "    </tr>\n",
       "  </thead>\n",
       "  <tbody>\n",
       "    <tr>\n",
       "      <th>0</th>\n",
       "      <td>488.0</td>\n",
       "      <td>1.507333</td>\n",
       "      <td>0.699513</td>\n",
       "      <td>2.21</td>\n",
       "    </tr>\n",
       "    <tr>\n",
       "      <th>1</th>\n",
       "      <td>618.0</td>\n",
       "      <td>1.398849</td>\n",
       "      <td>0.255770</td>\n",
       "      <td>1.65</td>\n",
       "    </tr>\n",
       "    <tr>\n",
       "      <th>2</th>\n",
       "      <td>16081.0</td>\n",
       "      <td>1.372461</td>\n",
       "      <td>0.080025</td>\n",
       "      <td>1.45</td>\n",
       "    </tr>\n",
       "    <tr>\n",
       "      <th>3</th>\n",
       "      <td>39578.0</td>\n",
       "      <td>1.312285</td>\n",
       "      <td>0.983070</td>\n",
       "      <td>2.30</td>\n",
       "    </tr>\n",
       "    <tr>\n",
       "      <th>4</th>\n",
       "      <td>81291.0</td>\n",
       "      <td>1.012700</td>\n",
       "      <td>0.000000</td>\n",
       "      <td>1.01</td>\n",
       "    </tr>\n",
       "  </tbody>\n",
       "</table>\n",
       "</div>"
      ],
      "text/plain": [
       "   player_id  total_xG  total_xA  combined xG + xA\n",
       "0      488.0  1.507333  0.699513              2.21\n",
       "1      618.0  1.398849  0.255770              1.65\n",
       "2    16081.0  1.372461  0.080025              1.45\n",
       "3    39578.0  1.312285  0.983070              2.30\n",
       "4    81291.0  1.012700  0.000000              1.01"
      ]
     },
     "execution_count": 83,
     "metadata": {},
     "output_type": "execute_result"
    }
   ],
   "source": [
    "contribution_df.head()"
   ]
  },
  {
   "cell_type": "markdown",
   "metadata": {},
   "source": [
    "### now want to find the total minutes from the games in 'games_to_predict' and find the xG in that many minutes"
   ]
  },
  {
   "cell_type": "code",
   "execution_count": null,
   "metadata": {},
   "outputs": [],
   "source": []
  }
 ],
 "metadata": {
  "kernelspec": {
   "display_name": "Python 3",
   "language": "python",
   "name": "python3"
  },
  "language_info": {
   "codemirror_mode": {
    "name": "ipython",
    "version": 3
   },
   "file_extension": ".py",
   "mimetype": "text/x-python",
   "name": "python",
   "nbconvert_exporter": "python",
   "pygments_lexer": "ipython3",
   "version": "3.6.6"
  }
 },
 "nbformat": 4,
 "nbformat_minor": 2
}
