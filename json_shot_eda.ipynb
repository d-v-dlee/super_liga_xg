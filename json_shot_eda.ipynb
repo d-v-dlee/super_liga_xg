{
 "cells": [
  {
   "cell_type": "code",
   "execution_count": 43,
   "metadata": {},
   "outputs": [],
   "source": [
    "import pprint\n",
    "import json\n",
    "import pandas as pd\n",
    "import matplotlib.pyplot as plt\n",
    "from json_shot_scraper import flatten_shot\n",
    "from player_scraper import flatten_player\n",
    "\n",
    "%matplotlib inline"
   ]
  },
  {
   "cell_type": "code",
   "execution_count": 3,
   "metadata": {},
   "outputs": [],
   "source": [
    "with open ('data/test.json') as f:\n",
    "    data = json.load(f)\n",
    "    game_id = 448628"
   ]
  },
  {
   "cell_type": "code",
   "execution_count": 4,
   "metadata": {},
   "outputs": [
    {
     "data": {
      "text/plain": [
       "dict_keys(['goals', 'substitutions', 'clearances', 'cornerKicks', 'correctPasses', 'fouls', 'incorrectPasses', 'offsides', 'redCards', 'shots', 'status', 'stealings', 'yellowCards', 'throwIn', 'goalkick', 'nutmegs', 'sombreros', 'penaltyShootout'])"
      ]
     },
     "execution_count": 4,
     "metadata": {},
     "output_type": "execute_result"
    }
   ],
   "source": [
    "data['incidences'].keys()"
   ]
  },
  {
   "cell_type": "markdown",
   "metadata": {},
   "source": [
    "## Shot data Coordinates"
   ]
  },
  {
   "cell_type": "code",
   "execution_count": 5,
   "metadata": {},
   "outputs": [],
   "source": [
    "shots = list(data['incidences']['shots'].items())"
   ]
  },
  {
   "cell_type": "code",
   "execution_count": 6,
   "metadata": {},
   "outputs": [],
   "source": [
    "shot_list_dicts = [flatten_shot(shot, game_id) for shot in shots]"
   ]
  },
  {
   "cell_type": "code",
   "execution_count": 7,
   "metadata": {},
   "outputs": [],
   "source": [
    "shot_df = pd.DataFrame(shot_list_dicts)"
   ]
  },
  {
   "cell_type": "code",
   "execution_count": 20,
   "metadata": {},
   "outputs": [
    {
     "data": {
      "text/html": [
       "<div>\n",
       "<style scoped>\n",
       "    .dataframe tbody tr th:only-of-type {\n",
       "        vertical-align: middle;\n",
       "    }\n",
       "\n",
       "    .dataframe tbody tr th {\n",
       "        vertical-align: top;\n",
       "    }\n",
       "\n",
       "    .dataframe thead th {\n",
       "        text-align: right;\n",
       "    }\n",
       "</style>\n",
       "<table border=\"1\" class=\"dataframe\">\n",
       "  <thead>\n",
       "    <tr style=\"text-align: right;\">\n",
       "      <th></th>\n",
       "      <th>caught_by</th>\n",
       "      <th>coord_x1</th>\n",
       "      <th>coord_x2</th>\n",
       "      <th>coord_y1</th>\n",
       "      <th>coord_y2</th>\n",
       "      <th>coord_z1</th>\n",
       "      <th>coord_z2</th>\n",
       "      <th>game_id</th>\n",
       "      <th>player_id</th>\n",
       "      <th>shot_id</th>\n",
       "      <th>shot_type</th>\n",
       "      <th>t_half</th>\n",
       "      <th>t_min</th>\n",
       "      <th>t_sec</th>\n",
       "      <th>team_id</th>\n",
       "    </tr>\n",
       "  </thead>\n",
       "  <tbody>\n",
       "    <tr>\n",
       "      <th>0</th>\n",
       "      <td>382.0</td>\n",
       "      <td>-0.68</td>\n",
       "      <td>-0.94</td>\n",
       "      <td>-0.31</td>\n",
       "      <td>-0.18</td>\n",
       "      <td>-1</td>\n",
       "      <td>0.86</td>\n",
       "      <td>448628</td>\n",
       "      <td>145031</td>\n",
       "      <td>23169781</td>\n",
       "      <td>35</td>\n",
       "      <td>1</td>\n",
       "      <td>5</td>\n",
       "      <td>9</td>\n",
       "      <td>490</td>\n",
       "    </tr>\n",
       "    <tr>\n",
       "      <th>1</th>\n",
       "      <td>36751.0</td>\n",
       "      <td>0.76</td>\n",
       "      <td>0.95</td>\n",
       "      <td>0.40</td>\n",
       "      <td>-0.08</td>\n",
       "      <td>-1</td>\n",
       "      <td>0.83</td>\n",
       "      <td>448628</td>\n",
       "      <td>47808</td>\n",
       "      <td>23169915</td>\n",
       "      <td>35</td>\n",
       "      <td>1</td>\n",
       "      <td>11</td>\n",
       "      <td>39</td>\n",
       "      <td>122</td>\n",
       "    </tr>\n",
       "    <tr>\n",
       "      <th>2</th>\n",
       "      <td>NaN</td>\n",
       "      <td>0.87</td>\n",
       "      <td>0.99</td>\n",
       "      <td>0.37</td>\n",
       "      <td>0.14</td>\n",
       "      <td>-1</td>\n",
       "      <td>-1.00</td>\n",
       "      <td>448628</td>\n",
       "      <td>30266</td>\n",
       "      <td>23169922</td>\n",
       "      <td>33</td>\n",
       "      <td>1</td>\n",
       "      <td>12</td>\n",
       "      <td>18</td>\n",
       "      <td>122</td>\n",
       "    </tr>\n",
       "    <tr>\n",
       "      <th>3</th>\n",
       "      <td>NaN</td>\n",
       "      <td>0.77</td>\n",
       "      <td>0.96</td>\n",
       "      <td>0.01</td>\n",
       "      <td>-0.02</td>\n",
       "      <td>-1</td>\n",
       "      <td>0.98</td>\n",
       "      <td>448628</td>\n",
       "      <td>29345</td>\n",
       "      <td>23170432</td>\n",
       "      <td>34</td>\n",
       "      <td>1</td>\n",
       "      <td>25</td>\n",
       "      <td>53</td>\n",
       "      <td>122</td>\n",
       "    </tr>\n",
       "    <tr>\n",
       "      <th>4</th>\n",
       "      <td>NaN</td>\n",
       "      <td>0.72</td>\n",
       "      <td>1.00</td>\n",
       "      <td>0.10</td>\n",
       "      <td>-0.11</td>\n",
       "      <td>-1</td>\n",
       "      <td>-1.00</td>\n",
       "      <td>448628</td>\n",
       "      <td>29345</td>\n",
       "      <td>23170506</td>\n",
       "      <td>33</td>\n",
       "      <td>1</td>\n",
       "      <td>27</td>\n",
       "      <td>58</td>\n",
       "      <td>122</td>\n",
       "    </tr>\n",
       "  </tbody>\n",
       "</table>\n",
       "</div>"
      ],
      "text/plain": [
       "   caught_by  coord_x1  coord_x2  coord_y1  coord_y2  coord_z1  coord_z2  \\\n",
       "0      382.0     -0.68     -0.94     -0.31     -0.18        -1      0.86   \n",
       "1    36751.0      0.76      0.95      0.40     -0.08        -1      0.83   \n",
       "2        NaN      0.87      0.99      0.37      0.14        -1     -1.00   \n",
       "3        NaN      0.77      0.96      0.01     -0.02        -1      0.98   \n",
       "4        NaN      0.72      1.00      0.10     -0.11        -1     -1.00   \n",
       "\n",
       "   game_id  player_id   shot_id  shot_type  t_half  t_min  t_sec  team_id  \n",
       "0   448628     145031  23169781         35       1      5      9      490  \n",
       "1   448628      47808  23169915         35       1     11     39      122  \n",
       "2   448628      30266  23169922         33       1     12     18      122  \n",
       "3   448628      29345  23170432         34       1     25     53      122  \n",
       "4   448628      29345  23170506         33       1     27     58      122  "
      ]
     },
     "execution_count": 20,
     "metadata": {},
     "output_type": "execute_result"
    }
   ],
   "source": [
    "shot_df.head()"
   ]
  },
  {
   "cell_type": "code",
   "execution_count": 55,
   "metadata": {},
   "outputs": [
    {
     "data": {
      "text/plain": [
       "count    24.000000\n",
       "mean     31.541667\n",
       "std       6.990547\n",
       "min       9.000000\n",
       "25%      33.000000\n",
       "50%      33.000000\n",
       "75%      34.000000\n",
       "max      35.000000\n",
       "Name: shot_type, dtype: float64"
      ]
     },
     "execution_count": 55,
     "metadata": {},
     "output_type": "execute_result"
    }
   ],
   "source": [
    "shot_df['shot_type'].describe()"
   ]
  },
  {
   "cell_type": "markdown",
   "metadata": {},
   "source": [
    "position of shooter"
   ]
  },
  {
   "cell_type": "code",
   "execution_count": 10,
   "metadata": {},
   "outputs": [
    {
     "data": {
      "image/png": "[encoded data removed]",
      "text/plain": [
       "<Figure size 432x288 with 1 Axes>"
      ]
     },
     "metadata": {},
     "output_type": "display_data"
    }
   ],
   "source": [
    "fig, ax = plt.subplots()\n",
    "ax.scatter(shot_df['coord_x1'], shot_df['coord_y1'])\n",
    "ax.set_facecolor('xkcd:lightgreen')\n"
   ]
  },
  {
   "cell_type": "markdown",
   "metadata": {},
   "source": [
    "final position of shot"
   ]
  },
  {
   "cell_type": "code",
   "execution_count": 11,
   "metadata": {},
   "outputs": [
    {
     "data": {
      "image/png": "[encoded data removed]",
      "text/plain": [
       "<Figure size 432x288 with 1 Axes>"
      ]
     },
     "metadata": {},
     "output_type": "display_data"
    }
   ],
   "source": [
    "fig, ax = plt.subplots()\n",
    "ax.scatter(shot_df['coord_x2'], shot_df['coord_y2'])\n",
    "ax.set_facecolor('xkcd:lightgreen')"
   ]
  },
  {
   "cell_type": "markdown",
   "metadata": {},
   "source": [
    "## Shot Data - looking to match shot_id with shot result"
   ]
  },
  {
   "cell_type": "code",
   "execution_count": 12,
   "metadata": {},
   "outputs": [
    {
     "data": {
      "text/plain": [
       "dict_keys(['assists', 'substitutions', 'clearances', 'cornerKicks', 'fouls', 'foulsReceived', 'goals', 'goalByHead', 'penaltyGoal', 'goalByFreeKick', 'ownGoal', 'correctPasses', 'incorrectPasses', 'allPasses', 'playersPasses', 'offsides', 'redCards', 'redByDoubleYellowCard', 'shots', 'shotsOnTarget', 'shotsOnWoodwork', 'shotsOffTarget', 'freeKicks', 'saves', 'stealings', 'yellowCards', 'ballPossesion'])"
      ]
     },
     "execution_count": 12,
     "metadata": {},
     "output_type": "execute_result"
    }
   ],
   "source": [
    "data['summary'].keys()"
   ]
  },
  {
   "cell_type": "code",
   "execution_count": 23,
   "metadata": {},
   "outputs": [
    {
     "data": {
      "text/plain": [
       "[('homeQty', 2), ('awayQty', 0), ('perPlayerQty', {'30266': 1, '163289': 1})]"
      ]
     },
     "execution_count": 23,
     "metadata": {},
     "output_type": "execute_result"
    }
   ],
   "source": [
    "list(data['summary']['goals'].items())"
   ]
  },
  {
   "cell_type": "code",
   "execution_count": 53,
   "metadata": {},
   "outputs": [
    {
     "data": {
      "text/plain": [
       "[('homeQty', 12),\n",
       " ('awayQty', 12),\n",
       " ('perPlayerQty',\n",
       "  {'47808': 2,\n",
       "   '55627': 1,\n",
       "   '63356': 1,\n",
       "   '29345': 2,\n",
       "   '30266': 4,\n",
       "   '163289': 2,\n",
       "   '99085': 2,\n",
       "   '70512': 1,\n",
       "   '186030': 3,\n",
       "   '145031': 1,\n",
       "   '15113': 3,\n",
       "   '52418': 2})]"
      ]
     },
     "execution_count": 53,
     "metadata": {},
     "output_type": "execute_result"
    }
   ],
   "source": [
    "list(data['summary']['shots'].items())"
   ]
  },
  {
   "cell_type": "code",
   "execution_count": 54,
   "metadata": {},
   "outputs": [
    {
     "data": {
      "text/plain": [
       "[('homeQty', 1),\n",
       " ('awayQty', 4),\n",
       " ('perPlayerQty',\n",
       "  {'47808': 1, '99085': 1, '70512': 1, '145031': 1, '52418': 1})]"
      ]
     },
     "execution_count": 54,
     "metadata": {},
     "output_type": "execute_result"
    }
   ],
   "source": [
    "list(data['summary']['shotsOnTarget'].items())"
   ]
  },
  {
   "cell_type": "markdown",
   "metadata": {},
   "source": [
    "## Players"
   ]
  },
  {
   "cell_type": "code",
   "execution_count": 24,
   "metadata": {},
   "outputs": [
    {
     "data": {
      "text/plain": [
       "dict_keys(['382', '8724', '205120', '137579', '47808', '89096', '37856', '10752', '55627', '45616', '114498', '63356', '96979', '20478', '29345', '30266', '62815', '163289', '179612', '36751', '45387', '94965', '99085', '100778', '70512', '2970', '186030', '145031', '98359', '126700', '15393', '19308', '56334', '15113', '52418', '94781', '57154', '3596'])"
      ]
     },
     "execution_count": 24,
     "metadata": {},
     "output_type": "execute_result"
    }
   ],
   "source": [
    "data['players'].keys()"
   ]
  },
  {
   "cell_type": "code",
   "execution_count": 27,
   "metadata": {},
   "outputs": [
    {
     "data": {
      "text/plain": [
       "[('first', 'Luciano'),\n",
       " ('middle', None),\n",
       " ('last', 'Pocrnjic'),\n",
       " ('nick', None),\n",
       " ('shortName', 'Luciano Pocrnjic')]"
      ]
     },
     "execution_count": 27,
     "metadata": {},
     "output_type": "execute_result"
    }
   ],
   "source": [
    "list(data['players']['382']['name'].items())"
   ]
  },
  {
   "cell_type": "code",
   "execution_count": 29,
   "metadata": {},
   "outputs": [
    {
     "data": {
      "text/plain": [
       "[('teamId', 122),\n",
       " ('squadNo', 1),\n",
       " ('posnId', 1),\n",
       " ('substitute', False),\n",
       " ('order', 1),\n",
       " ('playMaker', False),\n",
       " ('captain', True),\n",
       " ('name',\n",
       "  {'first': 'Luciano',\n",
       "   'middle': None,\n",
       "   'last': 'Pocrnjic',\n",
       "   'nick': None,\n",
       "   'shortName': 'Luciano Pocrnjic'}),\n",
       " ('gender', 'm'),\n",
       " ('rating', '6.9')]"
      ]
     },
     "execution_count": 29,
     "metadata": {},
     "output_type": "execute_result"
    }
   ],
   "source": [
    "list(data['players']['382'].items())"
   ]
  },
  {
   "cell_type": "code",
   "execution_count": 40,
   "metadata": {},
   "outputs": [],
   "source": [
    "players = list(data['players'].items())"
   ]
  },
  {
   "cell_type": "code",
   "execution_count": 42,
   "metadata": {},
   "outputs": [
    {
     "data": {
      "text/plain": [
       "('382',\n",
       " {'teamId': 122,\n",
       "  'squadNo': 1,\n",
       "  'posnId': 1,\n",
       "  'substitute': False,\n",
       "  'order': 1,\n",
       "  'playMaker': False,\n",
       "  'captain': True,\n",
       "  'name': {'first': 'Luciano',\n",
       "   'middle': None,\n",
       "   'last': 'Pocrnjic',\n",
       "   'nick': None,\n",
       "   'shortName': 'Luciano Pocrnjic'},\n",
       "  'gender': 'm',\n",
       "  'rating': '6.9'})"
      ]
     },
     "execution_count": 42,
     "metadata": {},
     "output_type": "execute_result"
    }
   ],
   "source": [
    "players[0]"
   ]
  },
  {
   "cell_type": "code",
   "execution_count": 49,
   "metadata": {},
   "outputs": [],
   "source": [
    "player_list_dicts = [flatten_player(player) for player in players]"
   ]
  },
  {
   "cell_type": "code",
   "execution_count": 50,
   "metadata": {},
   "outputs": [],
   "source": [
    "player_df = pd.DataFrame(player_list_dicts)"
   ]
  },
  {
   "cell_type": "code",
   "execution_count": 51,
   "metadata": {},
   "outputs": [
    {
     "data": {
      "text/html": [
       "<div>\n",
       "<style scoped>\n",
       "    .dataframe tbody tr th:only-of-type {\n",
       "        vertical-align: middle;\n",
       "    }\n",
       "\n",
       "    .dataframe tbody tr th {\n",
       "        vertical-align: top;\n",
       "    }\n",
       "\n",
       "    .dataframe thead th {\n",
       "        text-align: right;\n",
       "    }\n",
       "</style>\n",
       "<table border=\"1\" class=\"dataframe\">\n",
       "  <thead>\n",
       "    <tr style=\"text-align: right;\">\n",
       "      <th></th>\n",
       "      <th>name</th>\n",
       "      <th>player_id</th>\n",
       "      <th>position_id</th>\n",
       "      <th>squad_number</th>\n",
       "      <th>team_id</th>\n",
       "    </tr>\n",
       "  </thead>\n",
       "  <tbody>\n",
       "    <tr>\n",
       "      <th>0</th>\n",
       "      <td>Luciano Pocrnjic</td>\n",
       "      <td>382</td>\n",
       "      <td>1</td>\n",
       "      <td>1.0</td>\n",
       "      <td>122</td>\n",
       "    </tr>\n",
       "    <tr>\n",
       "      <th>1</th>\n",
       "      <td>Fabián Assmann</td>\n",
       "      <td>8724</td>\n",
       "      <td>1</td>\n",
       "      <td>35.0</td>\n",
       "      <td>122</td>\n",
       "    </tr>\n",
       "    <tr>\n",
       "      <th>2</th>\n",
       "      <td>Emanuel Iñíguez</td>\n",
       "      <td>205120</td>\n",
       "      <td>2</td>\n",
       "      <td>21.0</td>\n",
       "      <td>122</td>\n",
       "    </tr>\n",
       "    <tr>\n",
       "      <th>3</th>\n",
       "      <td>Emiliano Amor</td>\n",
       "      <td>137579</td>\n",
       "      <td>2</td>\n",
       "      <td>32.0</td>\n",
       "      <td>122</td>\n",
       "    </tr>\n",
       "    <tr>\n",
       "      <th>4</th>\n",
       "      <td>Leonel Galeano</td>\n",
       "      <td>47808</td>\n",
       "      <td>2</td>\n",
       "      <td>6.0</td>\n",
       "      <td>122</td>\n",
       "    </tr>\n",
       "    <tr>\n",
       "      <th>5</th>\n",
       "      <td>Lucas Villalba</td>\n",
       "      <td>89096</td>\n",
       "      <td>2</td>\n",
       "      <td>23.0</td>\n",
       "      <td>122</td>\n",
       "    </tr>\n",
       "    <tr>\n",
       "      <th>6</th>\n",
       "      <td>Ismael Quilez</td>\n",
       "      <td>37856</td>\n",
       "      <td>2</td>\n",
       "      <td>4.0</td>\n",
       "      <td>122</td>\n",
       "    </tr>\n",
       "    <tr>\n",
       "      <th>7</th>\n",
       "      <td>Leonardo Sánchez</td>\n",
       "      <td>10752</td>\n",
       "      <td>2</td>\n",
       "      <td>16.0</td>\n",
       "      <td>122</td>\n",
       "    </tr>\n",
       "    <tr>\n",
       "      <th>8</th>\n",
       "      <td>Nahuel Yeri</td>\n",
       "      <td>55627</td>\n",
       "      <td>3</td>\n",
       "      <td>25.0</td>\n",
       "      <td>122</td>\n",
       "    </tr>\n",
       "    <tr>\n",
       "      <th>9</th>\n",
       "      <td>Fernando Godoy</td>\n",
       "      <td>45616</td>\n",
       "      <td>3</td>\n",
       "      <td>15.0</td>\n",
       "      <td>122</td>\n",
       "    </tr>\n",
       "    <tr>\n",
       "      <th>10</th>\n",
       "      <td>Iván Colman</td>\n",
       "      <td>114498</td>\n",
       "      <td>3</td>\n",
       "      <td>28.0</td>\n",
       "      <td>122</td>\n",
       "    </tr>\n",
       "    <tr>\n",
       "      <th>11</th>\n",
       "      <td>Juan Galeano</td>\n",
       "      <td>63356</td>\n",
       "      <td>3</td>\n",
       "      <td>8.0</td>\n",
       "      <td>122</td>\n",
       "    </tr>\n",
       "    <tr>\n",
       "      <th>12</th>\n",
       "      <td>Federico Gino</td>\n",
       "      <td>96979</td>\n",
       "      <td>3</td>\n",
       "      <td>29.0</td>\n",
       "      <td>122</td>\n",
       "    </tr>\n",
       "    <tr>\n",
       "      <th>13</th>\n",
       "      <td>Facundo Castillón</td>\n",
       "      <td>20478</td>\n",
       "      <td>4</td>\n",
       "      <td>19.0</td>\n",
       "      <td>122</td>\n",
       "    </tr>\n",
       "    <tr>\n",
       "      <th>14</th>\n",
       "      <td>Fernando Telechea</td>\n",
       "      <td>29345</td>\n",
       "      <td>4</td>\n",
       "      <td>9.0</td>\n",
       "      <td>122</td>\n",
       "    </tr>\n",
       "    <tr>\n",
       "      <th>15</th>\n",
       "      <td>Cristian Chávez</td>\n",
       "      <td>30266</td>\n",
       "      <td>4</td>\n",
       "      <td>11.0</td>\n",
       "      <td>122</td>\n",
       "    </tr>\n",
       "    <tr>\n",
       "      <th>16</th>\n",
       "      <td>Antonio Medina</td>\n",
       "      <td>62815</td>\n",
       "      <td>4</td>\n",
       "      <td>7.0</td>\n",
       "      <td>122</td>\n",
       "    </tr>\n",
       "    <tr>\n",
       "      <th>17</th>\n",
       "      <td>Emiliano Ozuna</td>\n",
       "      <td>163289</td>\n",
       "      <td>4</td>\n",
       "      <td>36.0</td>\n",
       "      <td>122</td>\n",
       "    </tr>\n",
       "    <tr>\n",
       "      <th>18</th>\n",
       "      <td>Gustavo Álvarez</td>\n",
       "      <td>179612</td>\n",
       "      <td>5</td>\n",
       "      <td>NaN</td>\n",
       "      <td>122</td>\n",
       "    </tr>\n",
       "    <tr>\n",
       "      <th>19</th>\n",
       "      <td>Jorge Carranza</td>\n",
       "      <td>36751</td>\n",
       "      <td>1</td>\n",
       "      <td>18.0</td>\n",
       "      <td>490</td>\n",
       "    </tr>\n",
       "    <tr>\n",
       "      <th>20</th>\n",
       "      <td>Ignacio Arce</td>\n",
       "      <td>45387</td>\n",
       "      <td>1</td>\n",
       "      <td>22.0</td>\n",
       "      <td>490</td>\n",
       "    </tr>\n",
       "    <tr>\n",
       "      <th>21</th>\n",
       "      <td>Hernán Petryk</td>\n",
       "      <td>94965</td>\n",
       "      <td>2</td>\n",
       "      <td>32.0</td>\n",
       "      <td>490</td>\n",
       "    </tr>\n",
       "    <tr>\n",
       "      <th>22</th>\n",
       "      <td>Lucas Acevedo</td>\n",
       "      <td>99085</td>\n",
       "      <td>2</td>\n",
       "      <td>2.0</td>\n",
       "      <td>490</td>\n",
       "    </tr>\n",
       "    <tr>\n",
       "      <th>23</th>\n",
       "      <td>Rodrigo Moreira</td>\n",
       "      <td>100778</td>\n",
       "      <td>2</td>\n",
       "      <td>4.0</td>\n",
       "      <td>490</td>\n",
       "    </tr>\n",
       "    <tr>\n",
       "      <th>24</th>\n",
       "      <td>Matías García</td>\n",
       "      <td>70512</td>\n",
       "      <td>2</td>\n",
       "      <td>10.0</td>\n",
       "      <td>490</td>\n",
       "    </tr>\n",
       "    <tr>\n",
       "      <th>25</th>\n",
       "      <td>Matías Cahais</td>\n",
       "      <td>2970</td>\n",
       "      <td>2</td>\n",
       "      <td>6.0</td>\n",
       "      <td>490</td>\n",
       "    </tr>\n",
       "    <tr>\n",
       "      <th>26</th>\n",
       "      <td>Emiliano Purita</td>\n",
       "      <td>186030</td>\n",
       "      <td>2</td>\n",
       "      <td>30.0</td>\n",
       "      <td>490</td>\n",
       "    </tr>\n",
       "    <tr>\n",
       "      <th>27</th>\n",
       "      <td>Julián Vitale</td>\n",
       "      <td>145031</td>\n",
       "      <td>3</td>\n",
       "      <td>15.0</td>\n",
       "      <td>490</td>\n",
       "    </tr>\n",
       "    <tr>\n",
       "      <th>28</th>\n",
       "      <td>Adrián Arregui</td>\n",
       "      <td>98359</td>\n",
       "      <td>3</td>\n",
       "      <td>13.0</td>\n",
       "      <td>490</td>\n",
       "    </tr>\n",
       "    <tr>\n",
       "      <th>29</th>\n",
       "      <td>Nicolás Giménez</td>\n",
       "      <td>126700</td>\n",
       "      <td>3</td>\n",
       "      <td>31.0</td>\n",
       "      <td>490</td>\n",
       "    </tr>\n",
       "    <tr>\n",
       "      <th>30</th>\n",
       "      <td>Fernando Cordero</td>\n",
       "      <td>15393</td>\n",
       "      <td>3</td>\n",
       "      <td>16.0</td>\n",
       "      <td>490</td>\n",
       "    </tr>\n",
       "    <tr>\n",
       "      <th>31</th>\n",
       "      <td>Álvaro Fernández</td>\n",
       "      <td>19308</td>\n",
       "      <td>3</td>\n",
       "      <td>23.0</td>\n",
       "      <td>490</td>\n",
       "    </tr>\n",
       "    <tr>\n",
       "      <th>32</th>\n",
       "      <td>Fabián Espíndola</td>\n",
       "      <td>56334</td>\n",
       "      <td>4</td>\n",
       "      <td>14.0</td>\n",
       "      <td>490</td>\n",
       "    </tr>\n",
       "    <tr>\n",
       "      <th>33</th>\n",
       "      <td>Claudio Bieler</td>\n",
       "      <td>15113</td>\n",
       "      <td>4</td>\n",
       "      <td>9.0</td>\n",
       "      <td>490</td>\n",
       "    </tr>\n",
       "    <tr>\n",
       "      <th>34</th>\n",
       "      <td>Gonzalo Rodríguez</td>\n",
       "      <td>52418</td>\n",
       "      <td>4</td>\n",
       "      <td>7.0</td>\n",
       "      <td>490</td>\n",
       "    </tr>\n",
       "    <tr>\n",
       "      <th>35</th>\n",
       "      <td>Franco Costa</td>\n",
       "      <td>94781</td>\n",
       "      <td>4</td>\n",
       "      <td>11.0</td>\n",
       "      <td>490</td>\n",
       "    </tr>\n",
       "    <tr>\n",
       "      <th>36</th>\n",
       "      <td>Marcos Figueroa</td>\n",
       "      <td>57154</td>\n",
       "      <td>4</td>\n",
       "      <td>19.0</td>\n",
       "      <td>490</td>\n",
       "    </tr>\n",
       "    <tr>\n",
       "      <th>37</th>\n",
       "      <td>Walter Coyette</td>\n",
       "      <td>3596</td>\n",
       "      <td>5</td>\n",
       "      <td>NaN</td>\n",
       "      <td>490</td>\n",
       "    </tr>\n",
       "  </tbody>\n",
       "</table>\n",
       "</div>"
      ],
      "text/plain": [
       "                 name player_id  position_id  squad_number  team_id\n",
       "0    Luciano Pocrnjic       382            1           1.0      122\n",
       "1      Fabián Assmann      8724            1          35.0      122\n",
       "2     Emanuel Iñíguez    205120            2          21.0      122\n",
       "3       Emiliano Amor    137579            2          32.0      122\n",
       "4      Leonel Galeano     47808            2           6.0      122\n",
       "5      Lucas Villalba     89096            2          23.0      122\n",
       "6       Ismael Quilez     37856            2           4.0      122\n",
       "7    Leonardo Sánchez     10752            2          16.0      122\n",
       "8         Nahuel Yeri     55627            3          25.0      122\n",
       "9      Fernando Godoy     45616            3          15.0      122\n",
       "10        Iván Colman    114498            3          28.0      122\n",
       "11       Juan Galeano     63356            3           8.0      122\n",
       "12      Federico Gino     96979            3          29.0      122\n",
       "13  Facundo Castillón     20478            4          19.0      122\n",
       "14  Fernando Telechea     29345            4           9.0      122\n",
       "15    Cristian Chávez     30266            4          11.0      122\n",
       "16     Antonio Medina     62815            4           7.0      122\n",
       "17     Emiliano Ozuna    163289            4          36.0      122\n",
       "18    Gustavo Álvarez    179612            5           NaN      122\n",
       "19     Jorge Carranza     36751            1          18.0      490\n",
       "20       Ignacio Arce     45387            1          22.0      490\n",
       "21      Hernán Petryk     94965            2          32.0      490\n",
       "22      Lucas Acevedo     99085            2           2.0      490\n",
       "23    Rodrigo Moreira    100778            2           4.0      490\n",
       "24      Matías García     70512            2          10.0      490\n",
       "25      Matías Cahais      2970            2           6.0      490\n",
       "26    Emiliano Purita    186030            2          30.0      490\n",
       "27      Julián Vitale    145031            3          15.0      490\n",
       "28     Adrián Arregui     98359            3          13.0      490\n",
       "29    Nicolás Giménez    126700            3          31.0      490\n",
       "30   Fernando Cordero     15393            3          16.0      490\n",
       "31   Álvaro Fernández     19308            3          23.0      490\n",
       "32   Fabián Espíndola     56334            4          14.0      490\n",
       "33     Claudio Bieler     15113            4           9.0      490\n",
       "34  Gonzalo Rodríguez     52418            4           7.0      490\n",
       "35       Franco Costa     94781            4          11.0      490\n",
       "36    Marcos Figueroa     57154            4          19.0      490\n",
       "37     Walter Coyette      3596            5           NaN      490"
      ]
     },
     "execution_count": 51,
     "metadata": {},
     "output_type": "execute_result"
    }
   ],
   "source": [
    "player_df"
   ]
  },
  {
   "cell_type": "code",
   "execution_count": null,
   "metadata": {},
   "outputs": [],
   "source": []
  }
 ],
 "metadata": {
  "kernelspec": {
   "display_name": "Python 3",
   "language": "python",
   "name": "python3"
  },
  "language_info": {
   "codemirror_mode": {
    "name": "ipython",
    "version": 3
   },
   "file_extension": ".py",
   "mimetype": "text/x-python",
   "name": "python",
   "nbconvert_exporter": "python",
   "pygments_lexer": "ipython3",
   "version": "3.6.6"
  }
 },
 "nbformat": 4,
 "nbformat_minor": 2
}
