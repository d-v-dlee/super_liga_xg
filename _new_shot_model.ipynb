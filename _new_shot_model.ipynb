{
 "cells": [
  {
   "cell_type": "markdown",
   "metadata": {},
   "source": [
    "# New models and dataframe - now updated until week 15"
   ]
  },
  {
   "cell_type": "code",
   "execution_count": 2,
   "metadata": {},
   "outputs": [],
   "source": [
    "from combined_player import player_minutes_value\n",
    "from html_scraper import db\n",
    "from mongo_to_db import create_master_df"
   ]
  },
  {
   "cell_type": "code",
   "execution_count": 3,
   "metadata": {},
   "outputs": [],
   "source": [
    "import pprint\n",
    "import json\n",
    "import pandas as pd\n",
    "import numpy as np\n",
    "import matplotlib.pyplot as plt"
   ]
  },
  {
   "cell_type": "code",
   "execution_count": 4,
   "metadata": {},
   "outputs": [],
   "source": [
    "pd.set_option('display.max_columns', 50)"
   ]
  },
  {
   "cell_type": "markdown",
   "metadata": {},
   "source": [
    "# Player Dataframe"
   ]
  },
  {
   "cell_type": "code",
   "execution_count": 14,
   "metadata": {},
   "outputs": [],
   "source": [
    "games = db['games_update'].find()\n",
    "players = db.players.find()"
   ]
  },
  {
   "cell_type": "code",
   "execution_count": 15,
   "metadata": {},
   "outputs": [],
   "source": [
    "final_df = player_minutes_value(games, players)"
   ]
  },
  {
   "cell_type": "code",
   "execution_count": 18,
   "metadata": {},
   "outputs": [
    {
     "data": {
      "text/html": [
       "<div>\n",
       "<style scoped>\n",
       "    .dataframe tbody tr th:only-of-type {\n",
       "        vertical-align: middle;\n",
       "    }\n",
       "\n",
       "    .dataframe tbody tr th {\n",
       "        vertical-align: top;\n",
       "    }\n",
       "\n",
       "    .dataframe thead th {\n",
       "        text-align: right;\n",
       "    }\n",
       "</style>\n",
       "<table border=\"1\" class=\"dataframe\">\n",
       "  <thead>\n",
       "    <tr style=\"text-align: right;\">\n",
       "      <th></th>\n",
       "      <th>player_id</th>\n",
       "      <th>player_name</th>\n",
       "      <th>club</th>\n",
       "      <th>birthday</th>\n",
       "      <th>age</th>\n",
       "      <th>foot</th>\n",
       "      <th>position_id</th>\n",
       "      <th>squad_num</th>\n",
       "      <th>height</th>\n",
       "      <th>total_minutes_played</th>\n",
       "      <th>transfer_value(sterlings)</th>\n",
       "      <th>transfer_value(USD)</th>\n",
       "    </tr>\n",
       "  </thead>\n",
       "  <tbody>\n",
       "    <tr>\n",
       "      <th>0</th>\n",
       "      <td>19132.0</td>\n",
       "      <td>Alexander Domínguez</td>\n",
       "      <td>Squad Club Atlético Vélez Sarsfield</td>\n",
       "      <td>Jun 5, 1987 (31)</td>\n",
       "      <td>31</td>\n",
       "      <td>right</td>\n",
       "      <td>1</td>\n",
       "      <td>22.0</td>\n",
       "      <td>1,95 m</td>\n",
       "      <td>1080.000000</td>\n",
       "      <td>£1.58m</td>\n",
       "      <td>2.01</td>\n",
       "    </tr>\n",
       "    <tr>\n",
       "      <th>1</th>\n",
       "      <td>27987.0</td>\n",
       "      <td>Lucas Hoyos</td>\n",
       "      <td>Squad Club Atlético Vélez Sarsfield</td>\n",
       "      <td>Apr 29, 1989 (29)</td>\n",
       "      <td>29</td>\n",
       "      <td>right</td>\n",
       "      <td>1</td>\n",
       "      <td>12.0</td>\n",
       "      <td>1,83 m</td>\n",
       "      <td>180.000000</td>\n",
       "      <td>£135k</td>\n",
       "      <td>0.17</td>\n",
       "    </tr>\n",
       "    <tr>\n",
       "      <th>2</th>\n",
       "      <td>30896.0</td>\n",
       "      <td>Gastón Díaz</td>\n",
       "      <td>Squad Club Atlético Vélez Sarsfield</td>\n",
       "      <td>Mar 13, 1988 (30)</td>\n",
       "      <td>30</td>\n",
       "      <td>right</td>\n",
       "      <td>2</td>\n",
       "      <td>24.0</td>\n",
       "      <td>1,75 m</td>\n",
       "      <td>986.483333</td>\n",
       "      <td>£450k</td>\n",
       "      <td>0.57</td>\n",
       "    </tr>\n",
       "    <tr>\n",
       "      <th>3</th>\n",
       "      <td>94225.0</td>\n",
       "      <td>Joaquín Laso</td>\n",
       "      <td>Squad Club Atlético Vélez Sarsfield</td>\n",
       "      <td>Jul 4, 1990 (28)</td>\n",
       "      <td>28</td>\n",
       "      <td>right</td>\n",
       "      <td>2</td>\n",
       "      <td>6.0</td>\n",
       "      <td>1,85 m</td>\n",
       "      <td>1080.000000</td>\n",
       "      <td>£270k</td>\n",
       "      <td>0.34</td>\n",
       "    </tr>\n",
       "    <tr>\n",
       "      <th>4</th>\n",
       "      <td>99779.0</td>\n",
       "      <td>Luis Abram</td>\n",
       "      <td>Squad Club Atlético Vélez Sarsfield</td>\n",
       "      <td>Feb 27, 1996 (22)</td>\n",
       "      <td>22</td>\n",
       "      <td>left</td>\n",
       "      <td>2</td>\n",
       "      <td>29.0</td>\n",
       "      <td>1,80 m</td>\n",
       "      <td>1170.000000</td>\n",
       "      <td>£405k</td>\n",
       "      <td>0.51</td>\n",
       "    </tr>\n",
       "  </tbody>\n",
       "</table>\n",
       "</div>"
      ],
      "text/plain": [
       "   player_id          player_name                                 club  \\\n",
       "0    19132.0  Alexander Domínguez  Squad Club Atlético Vélez Sarsfield   \n",
       "1    27987.0          Lucas Hoyos  Squad Club Atlético Vélez Sarsfield   \n",
       "2    30896.0          Gastón Díaz  Squad Club Atlético Vélez Sarsfield   \n",
       "3    94225.0         Joaquín Laso  Squad Club Atlético Vélez Sarsfield   \n",
       "4    99779.0           Luis Abram  Squad Club Atlético Vélez Sarsfield   \n",
       "\n",
       "            birthday  age   foot  position_id  squad_num  height  \\\n",
       "0   Jun 5, 1987 (31)   31  right            1       22.0  1,95 m   \n",
       "1  Apr 29, 1989 (29)   29  right            1       12.0  1,83 m   \n",
       "2  Mar 13, 1988 (30)   30  right            2       24.0  1,75 m   \n",
       "3   Jul 4, 1990 (28)   28  right            2        6.0  1,85 m   \n",
       "4  Feb 27, 1996 (22)   22   left            2       29.0  1,80 m   \n",
       "\n",
       "   total_minutes_played transfer_value(sterlings)  transfer_value(USD)  \n",
       "0           1080.000000                    £1.58m                 2.01  \n",
       "1            180.000000                     £135k                 0.17  \n",
       "2            986.483333                     £450k                 0.57  \n",
       "3           1080.000000                     £270k                 0.34  \n",
       "4           1170.000000                     £405k                 0.51  "
      ]
     },
     "execution_count": 18,
     "metadata": {},
     "output_type": "execute_result"
    }
   ],
   "source": [
    "final_df.head()"
   ]
  },
  {
   "cell_type": "code",
   "execution_count": 21,
   "metadata": {},
   "outputs": [],
   "source": [
    "final_df['position_id'] = final_df['position_id'].replace(1, 'Goalie')\n",
    "final_df['position_id'] = final_df['position_id'].replace(2, 'Defender')\n",
    "final_df['position_id'] = final_df['position_id'].replace(3, 'Midfielder')\n",
    "final_df['position_id'] = final_df['position_id'].replace(4, 'Forward')\n",
    "final_df['position_id'] = final_df['position_id'].replace(5, 'Defender')"
   ]
  },
  {
   "cell_type": "code",
   "execution_count": 22,
   "metadata": {},
   "outputs": [
    {
     "data": {
      "text/html": [
       "<div>\n",
       "<style scoped>\n",
       "    .dataframe tbody tr th:only-of-type {\n",
       "        vertical-align: middle;\n",
       "    }\n",
       "\n",
       "    .dataframe tbody tr th {\n",
       "        vertical-align: top;\n",
       "    }\n",
       "\n",
       "    .dataframe thead th {\n",
       "        text-align: right;\n",
       "    }\n",
       "</style>\n",
       "<table border=\"1\" class=\"dataframe\">\n",
       "  <thead>\n",
       "    <tr style=\"text-align: right;\">\n",
       "      <th></th>\n",
       "      <th>player_id</th>\n",
       "      <th>player_name</th>\n",
       "      <th>club</th>\n",
       "      <th>birthday</th>\n",
       "      <th>age</th>\n",
       "      <th>foot</th>\n",
       "      <th>position_id</th>\n",
       "      <th>squad_num</th>\n",
       "      <th>height</th>\n",
       "      <th>total_minutes_played</th>\n",
       "      <th>transfer_value(sterlings)</th>\n",
       "      <th>transfer_value(USD)</th>\n",
       "    </tr>\n",
       "  </thead>\n",
       "  <tbody>\n",
       "    <tr>\n",
       "      <th>0</th>\n",
       "      <td>19132.0</td>\n",
       "      <td>Alexander Domínguez</td>\n",
       "      <td>Squad Club Atlético Vélez Sarsfield</td>\n",
       "      <td>Jun 5, 1987 (31)</td>\n",
       "      <td>31</td>\n",
       "      <td>right</td>\n",
       "      <td>Goalie</td>\n",
       "      <td>22.0</td>\n",
       "      <td>1,95 m</td>\n",
       "      <td>1080.000000</td>\n",
       "      <td>£1.58m</td>\n",
       "      <td>2.01</td>\n",
       "    </tr>\n",
       "    <tr>\n",
       "      <th>1</th>\n",
       "      <td>27987.0</td>\n",
       "      <td>Lucas Hoyos</td>\n",
       "      <td>Squad Club Atlético Vélez Sarsfield</td>\n",
       "      <td>Apr 29, 1989 (29)</td>\n",
       "      <td>29</td>\n",
       "      <td>right</td>\n",
       "      <td>Goalie</td>\n",
       "      <td>12.0</td>\n",
       "      <td>1,83 m</td>\n",
       "      <td>180.000000</td>\n",
       "      <td>£135k</td>\n",
       "      <td>0.17</td>\n",
       "    </tr>\n",
       "    <tr>\n",
       "      <th>2</th>\n",
       "      <td>30896.0</td>\n",
       "      <td>Gastón Díaz</td>\n",
       "      <td>Squad Club Atlético Vélez Sarsfield</td>\n",
       "      <td>Mar 13, 1988 (30)</td>\n",
       "      <td>30</td>\n",
       "      <td>right</td>\n",
       "      <td>Defender</td>\n",
       "      <td>24.0</td>\n",
       "      <td>1,75 m</td>\n",
       "      <td>986.483333</td>\n",
       "      <td>£450k</td>\n",
       "      <td>0.57</td>\n",
       "    </tr>\n",
       "    <tr>\n",
       "      <th>3</th>\n",
       "      <td>94225.0</td>\n",
       "      <td>Joaquín Laso</td>\n",
       "      <td>Squad Club Atlético Vélez Sarsfield</td>\n",
       "      <td>Jul 4, 1990 (28)</td>\n",
       "      <td>28</td>\n",
       "      <td>right</td>\n",
       "      <td>Defender</td>\n",
       "      <td>6.0</td>\n",
       "      <td>1,85 m</td>\n",
       "      <td>1080.000000</td>\n",
       "      <td>£270k</td>\n",
       "      <td>0.34</td>\n",
       "    </tr>\n",
       "    <tr>\n",
       "      <th>4</th>\n",
       "      <td>99779.0</td>\n",
       "      <td>Luis Abram</td>\n",
       "      <td>Squad Club Atlético Vélez Sarsfield</td>\n",
       "      <td>Feb 27, 1996 (22)</td>\n",
       "      <td>22</td>\n",
       "      <td>left</td>\n",
       "      <td>Defender</td>\n",
       "      <td>29.0</td>\n",
       "      <td>1,80 m</td>\n",
       "      <td>1170.000000</td>\n",
       "      <td>£405k</td>\n",
       "      <td>0.51</td>\n",
       "    </tr>\n",
       "  </tbody>\n",
       "</table>\n",
       "</div>"
      ],
      "text/plain": [
       "   player_id          player_name                                 club  \\\n",
       "0    19132.0  Alexander Domínguez  Squad Club Atlético Vélez Sarsfield   \n",
       "1    27987.0          Lucas Hoyos  Squad Club Atlético Vélez Sarsfield   \n",
       "2    30896.0          Gastón Díaz  Squad Club Atlético Vélez Sarsfield   \n",
       "3    94225.0         Joaquín Laso  Squad Club Atlético Vélez Sarsfield   \n",
       "4    99779.0           Luis Abram  Squad Club Atlético Vélez Sarsfield   \n",
       "\n",
       "            birthday  age   foot position_id  squad_num  height  \\\n",
       "0   Jun 5, 1987 (31)   31  right      Goalie       22.0  1,95 m   \n",
       "1  Apr 29, 1989 (29)   29  right      Goalie       12.0  1,83 m   \n",
       "2  Mar 13, 1988 (30)   30  right    Defender       24.0  1,75 m   \n",
       "3   Jul 4, 1990 (28)   28  right    Defender        6.0  1,85 m   \n",
       "4  Feb 27, 1996 (22)   22   left    Defender       29.0  1,80 m   \n",
       "\n",
       "   total_minutes_played transfer_value(sterlings)  transfer_value(USD)  \n",
       "0           1080.000000                    £1.58m                 2.01  \n",
       "1            180.000000                     £135k                 0.17  \n",
       "2            986.483333                     £450k                 0.57  \n",
       "3           1080.000000                     £270k                 0.34  \n",
       "4           1170.000000                     £405k                 0.51  "
      ]
     },
     "execution_count": 22,
     "metadata": {},
     "output_type": "execute_result"
    }
   ],
   "source": [
    "#minutes have been updated\n",
    "final_df.head()"
   ]
  },
  {
   "cell_type": "markdown",
   "metadata": {},
   "source": [
    "# Shots Dataframe"
   ]
  },
  {
   "cell_type": "code",
   "execution_count": 46,
   "metadata": {},
   "outputs": [
    {
     "name": "stderr",
     "output_type": "stream",
     "text": [
      "/Users/david/galvanize/super_liga_xg/mongo_to_db.py:69: FutureWarning: Sorting because non-concatenation axis is not aligned. A future version\n",
      "of pandas will change to not sort by default.\n",
      "\n",
      "To accept the future behavior, pass 'sort=False'.\n",
      "\n",
      "To retain the current behavior and silence the warning, pass 'sort=True'.\n",
      "\n",
      "  final_df = pd.concat([attach_to_df, df], axis=0, ignore_index=True)\n",
      "/Users/david/galvanize/super_liga_xg/dataframe_cleaner.py:133: SettingWithCopyWarning: \n",
      "A value is trying to be set on a copy of a slice from a DataFrame.\n",
      "Try using .loc[row_indexer,col_indexer] = value instead\n",
      "\n",
      "See the caveats in the documentation: http://pandas.pydata.org/pandas-docs/stable/indexing.html#indexing-view-versus-copy\n",
      "  input_df['is_goal'] = input_df.loc[:, 'shot_type'].isin([9, 11, 12, 13]).astype(int)\n"
     ]
    }
   ],
   "source": [
    "games = db['games_update'].find()\n",
    "shots_df = create_master_df(games)"
   ]
  },
  {
   "cell_type": "code",
   "execution_count": 47,
   "metadata": {},
   "outputs": [
    {
     "data": {
      "text/html": [
       "<div>\n",
       "<style scoped>\n",
       "    .dataframe tbody tr th:only-of-type {\n",
       "        vertical-align: middle;\n",
       "    }\n",
       "\n",
       "    .dataframe tbody tr th {\n",
       "        vertical-align: top;\n",
       "    }\n",
       "\n",
       "    .dataframe thead th {\n",
       "        text-align: right;\n",
       "    }\n",
       "</style>\n",
       "<table border=\"1\" class=\"dataframe\">\n",
       "  <thead>\n",
       "    <tr style=\"text-align: right;\">\n",
       "      <th></th>\n",
       "      <th>game_id</th>\n",
       "      <th>player_id</th>\n",
       "      <th>shot_coord_x1</th>\n",
       "      <th>shot_coord_x2</th>\n",
       "      <th>shot_coord_y1</th>\n",
       "      <th>shot_coord_y2</th>\n",
       "      <th>shot_coord_z1</th>\n",
       "      <th>shot_coord_z2</th>\n",
       "      <th>shot_id</th>\n",
       "      <th>shot_type</th>\n",
       "      <th>team_id</th>\n",
       "      <th>time_of_event(min)</th>\n",
       "      <th>passed_from_id</th>\n",
       "      <th>pass_coord_x1</th>\n",
       "      <th>pass_coord_x2</th>\n",
       "      <th>pass_coord_y1</th>\n",
       "      <th>pass_coord_y2</th>\n",
       "      <th>pass_coord_z1</th>\n",
       "      <th>pass_coord_z2</th>\n",
       "      <th>corner_kick</th>\n",
       "      <th>shot_distance</th>\n",
       "      <th>shot_angle</th>\n",
       "      <th>assisted_shot</th>\n",
       "      <th>is_penalty_attempt</th>\n",
       "      <th>is_goal</th>\n",
       "    </tr>\n",
       "  </thead>\n",
       "  <tbody>\n",
       "    <tr>\n",
       "      <th>0</th>\n",
       "      <td>448548</td>\n",
       "      <td>99779.0</td>\n",
       "      <td>6.67</td>\n",
       "      <td>0.00</td>\n",
       "      <td>1.51</td>\n",
       "      <td>-1.21</td>\n",
       "      <td>-1</td>\n",
       "      <td>0.83</td>\n",
       "      <td>22336297</td>\n",
       "      <td>11</td>\n",
       "      <td>20</td>\n",
       "      <td>1.033333</td>\n",
       "      <td>177285.0</td>\n",
       "      <td>0.89</td>\n",
       "      <td>12.44</td>\n",
       "      <td>29.36</td>\n",
       "      <td>-4.84</td>\n",
       "      <td>-1.0</td>\n",
       "      <td>-1.0</td>\n",
       "      <td>1.0</td>\n",
       "      <td>6.838786</td>\n",
       "      <td>12.755990</td>\n",
       "      <td>1.0</td>\n",
       "      <td>0.0</td>\n",
       "      <td>1.0</td>\n",
       "    </tr>\n",
       "    <tr>\n",
       "      <th>1</th>\n",
       "      <td>448548</td>\n",
       "      <td>60730.0</td>\n",
       "      <td>21.33</td>\n",
       "      <td>12.00</td>\n",
       "      <td>4.24</td>\n",
       "      <td>-0.91</td>\n",
       "      <td>-1</td>\n",
       "      <td>0.73</td>\n",
       "      <td>22336386</td>\n",
       "      <td>35</td>\n",
       "      <td>20</td>\n",
       "      <td>9.683333</td>\n",
       "      <td>NaN</td>\n",
       "      <td>NaN</td>\n",
       "      <td>NaN</td>\n",
       "      <td>NaN</td>\n",
       "      <td>NaN</td>\n",
       "      <td>NaN</td>\n",
       "      <td>NaN</td>\n",
       "      <td>0.0</td>\n",
       "      <td>21.747333</td>\n",
       "      <td>11.242763</td>\n",
       "      <td>0.0</td>\n",
       "      <td>0.0</td>\n",
       "      <td>0.0</td>\n",
       "    </tr>\n",
       "    <tr>\n",
       "      <th>2</th>\n",
       "      <td>448548</td>\n",
       "      <td>177285.0</td>\n",
       "      <td>12.00</td>\n",
       "      <td>1.78</td>\n",
       "      <td>0.00</td>\n",
       "      <td>-3.03</td>\n",
       "      <td>-1</td>\n",
       "      <td>0.21</td>\n",
       "      <td>22336583</td>\n",
       "      <td>13</td>\n",
       "      <td>20</td>\n",
       "      <td>26.833333</td>\n",
       "      <td>NaN</td>\n",
       "      <td>NaN</td>\n",
       "      <td>NaN</td>\n",
       "      <td>NaN</td>\n",
       "      <td>NaN</td>\n",
       "      <td>NaN</td>\n",
       "      <td>NaN</td>\n",
       "      <td>0.0</td>\n",
       "      <td>12.000000</td>\n",
       "      <td>0.000000</td>\n",
       "      <td>0.0</td>\n",
       "      <td>1.0</td>\n",
       "      <td>1.0</td>\n",
       "    </tr>\n",
       "    <tr>\n",
       "      <th>3</th>\n",
       "      <td>448548</td>\n",
       "      <td>185745.0</td>\n",
       "      <td>8.44</td>\n",
       "      <td>0.89</td>\n",
       "      <td>14.53</td>\n",
       "      <td>-6.66</td>\n",
       "      <td>-1</td>\n",
       "      <td>-1.00</td>\n",
       "      <td>22336723</td>\n",
       "      <td>33</td>\n",
       "      <td>20</td>\n",
       "      <td>38.883333</td>\n",
       "      <td>177285.0</td>\n",
       "      <td>22.67</td>\n",
       "      <td>6.22</td>\n",
       "      <td>3.93</td>\n",
       "      <td>19.67</td>\n",
       "      <td>-1.0</td>\n",
       "      <td>-1.0</td>\n",
       "      <td>0.0</td>\n",
       "      <td>16.803407</td>\n",
       "      <td>59.849102</td>\n",
       "      <td>1.0</td>\n",
       "      <td>0.0</td>\n",
       "      <td>0.0</td>\n",
       "    </tr>\n",
       "    <tr>\n",
       "      <th>4</th>\n",
       "      <td>448548</td>\n",
       "      <td>77892.0</td>\n",
       "      <td>22.22</td>\n",
       "      <td>0.44</td>\n",
       "      <td>13.92</td>\n",
       "      <td>-8.48</td>\n",
       "      <td>-1</td>\n",
       "      <td>-1.00</td>\n",
       "      <td>22336739</td>\n",
       "      <td>33</td>\n",
       "      <td>13</td>\n",
       "      <td>40.083333</td>\n",
       "      <td>NaN</td>\n",
       "      <td>NaN</td>\n",
       "      <td>NaN</td>\n",
       "      <td>NaN</td>\n",
       "      <td>NaN</td>\n",
       "      <td>NaN</td>\n",
       "      <td>NaN</td>\n",
       "      <td>0.0</td>\n",
       "      <td>26.220122</td>\n",
       "      <td>32.065607</td>\n",
       "      <td>0.0</td>\n",
       "      <td>0.0</td>\n",
       "      <td>0.0</td>\n",
       "    </tr>\n",
       "  </tbody>\n",
       "</table>\n",
       "</div>"
      ],
      "text/plain": [
       "  game_id  player_id  shot_coord_x1  shot_coord_x2  shot_coord_y1  \\\n",
       "0  448548    99779.0           6.67           0.00           1.51   \n",
       "1  448548    60730.0          21.33          12.00           4.24   \n",
       "2  448548   177285.0          12.00           1.78           0.00   \n",
       "3  448548   185745.0           8.44           0.89          14.53   \n",
       "4  448548    77892.0          22.22           0.44          13.92   \n",
       "\n",
       "   shot_coord_y2 shot_coord_z1  shot_coord_z2   shot_id shot_type team_id  \\\n",
       "0          -1.21            -1           0.83  22336297        11      20   \n",
       "1          -0.91            -1           0.73  22336386        35      20   \n",
       "2          -3.03            -1           0.21  22336583        13      20   \n",
       "3          -6.66            -1          -1.00  22336723        33      20   \n",
       "4          -8.48            -1          -1.00  22336739        33      13   \n",
       "\n",
       "   time_of_event(min)  passed_from_id  pass_coord_x1  pass_coord_x2  \\\n",
       "0            1.033333        177285.0           0.89          12.44   \n",
       "1            9.683333             NaN            NaN            NaN   \n",
       "2           26.833333             NaN            NaN            NaN   \n",
       "3           38.883333        177285.0          22.67           6.22   \n",
       "4           40.083333             NaN            NaN            NaN   \n",
       "\n",
       "   pass_coord_y1  pass_coord_y2  pass_coord_z1  pass_coord_z2  corner_kick  \\\n",
       "0          29.36          -4.84           -1.0           -1.0          1.0   \n",
       "1            NaN            NaN            NaN            NaN          0.0   \n",
       "2            NaN            NaN            NaN            NaN          0.0   \n",
       "3           3.93          19.67           -1.0           -1.0          0.0   \n",
       "4            NaN            NaN            NaN            NaN          0.0   \n",
       "\n",
       "   shot_distance  shot_angle  assisted_shot  is_penalty_attempt  is_goal  \n",
       "0       6.838786   12.755990            1.0                 0.0      1.0  \n",
       "1      21.747333   11.242763            0.0                 0.0      0.0  \n",
       "2      12.000000    0.000000            0.0                 1.0      1.0  \n",
       "3      16.803407   59.849102            1.0                 0.0      0.0  \n",
       "4      26.220122   32.065607            0.0                 0.0      0.0  "
      ]
     },
     "execution_count": 47,
     "metadata": {},
     "output_type": "execute_result"
    }
   ],
   "source": [
    "#2955 shots to 3437 shots \n",
    "shots_df.head()"
   ]
  },
  {
   "cell_type": "markdown",
   "metadata": {},
   "source": [
    "# Testing Models"
   ]
  },
  {
   "cell_type": "code",
   "execution_count": 29,
   "metadata": {},
   "outputs": [],
   "source": [
    "from sklearn.metrics import log_loss\n",
    "from sklearn.model_selection import train_test_split\n",
    "from sklearn.ensemble import  RandomForestClassifier, GradientBoostingClassifier\n",
    "from xgboost import XGBClassifier"
   ]
  },
  {
   "cell_type": "code",
   "execution_count": 30,
   "metadata": {},
   "outputs": [],
   "source": [
    "from model_prep import create_rf_prep"
   ]
  },
  {
   "cell_type": "code",
   "execution_count": 48,
   "metadata": {},
   "outputs": [],
   "source": [
    "#use later when retesting on whole dataset\n",
    "model_ready = create_rf_prep(shots_df)"
   ]
  },
  {
   "cell_type": "code",
   "execution_count": 49,
   "metadata": {},
   "outputs": [],
   "source": [
    "# model_ready.head()"
   ]
  },
  {
   "cell_type": "code",
   "execution_count": 50,
   "metadata": {},
   "outputs": [
    {
     "data": {
      "text/html": [
       "<div>\n",
       "<style scoped>\n",
       "    .dataframe tbody tr th:only-of-type {\n",
       "        vertical-align: middle;\n",
       "    }\n",
       "\n",
       "    .dataframe tbody tr th {\n",
       "        vertical-align: top;\n",
       "    }\n",
       "\n",
       "    .dataframe thead th {\n",
       "        text-align: right;\n",
       "    }\n",
       "</style>\n",
       "<table border=\"1\" class=\"dataframe\">\n",
       "  <thead>\n",
       "    <tr style=\"text-align: right;\">\n",
       "      <th></th>\n",
       "      <th>game_id</th>\n",
       "      <th>player_id</th>\n",
       "      <th>shot_coord_x1</th>\n",
       "      <th>shot_coord_x2</th>\n",
       "      <th>shot_coord_y1</th>\n",
       "      <th>shot_coord_y2</th>\n",
       "      <th>shot_coord_z1</th>\n",
       "      <th>shot_coord_z2</th>\n",
       "      <th>shot_id</th>\n",
       "      <th>shot_type</th>\n",
       "      <th>team_id</th>\n",
       "      <th>time_of_event(min)</th>\n",
       "      <th>passed_from_id</th>\n",
       "      <th>pass_coord_x1</th>\n",
       "      <th>pass_coord_x2</th>\n",
       "      <th>pass_coord_y1</th>\n",
       "      <th>pass_coord_y2</th>\n",
       "      <th>pass_coord_z1</th>\n",
       "      <th>pass_coord_z2</th>\n",
       "      <th>corner_kick</th>\n",
       "      <th>shot_distance</th>\n",
       "      <th>shot_angle</th>\n",
       "      <th>assisted_shot</th>\n",
       "      <th>is_penalty_attempt</th>\n",
       "      <th>is_goal</th>\n",
       "    </tr>\n",
       "  </thead>\n",
       "  <tbody>\n",
       "    <tr>\n",
       "      <th>0</th>\n",
       "      <td>448548</td>\n",
       "      <td>99779.0</td>\n",
       "      <td>6.67</td>\n",
       "      <td>0.00</td>\n",
       "      <td>1.51</td>\n",
       "      <td>-1.21</td>\n",
       "      <td>-1</td>\n",
       "      <td>0.83</td>\n",
       "      <td>22336297</td>\n",
       "      <td>11</td>\n",
       "      <td>20</td>\n",
       "      <td>1.033333</td>\n",
       "      <td>177285.0</td>\n",
       "      <td>0.89</td>\n",
       "      <td>12.44</td>\n",
       "      <td>29.36</td>\n",
       "      <td>-4.84</td>\n",
       "      <td>-1.0</td>\n",
       "      <td>-1.0</td>\n",
       "      <td>1.0</td>\n",
       "      <td>6.838786</td>\n",
       "      <td>12.755990</td>\n",
       "      <td>1.0</td>\n",
       "      <td>0.0</td>\n",
       "      <td>1.0</td>\n",
       "    </tr>\n",
       "    <tr>\n",
       "      <th>1</th>\n",
       "      <td>448548</td>\n",
       "      <td>60730.0</td>\n",
       "      <td>21.33</td>\n",
       "      <td>12.00</td>\n",
       "      <td>4.24</td>\n",
       "      <td>-0.91</td>\n",
       "      <td>-1</td>\n",
       "      <td>0.73</td>\n",
       "      <td>22336386</td>\n",
       "      <td>35</td>\n",
       "      <td>20</td>\n",
       "      <td>9.683333</td>\n",
       "      <td>NaN</td>\n",
       "      <td>NaN</td>\n",
       "      <td>NaN</td>\n",
       "      <td>NaN</td>\n",
       "      <td>NaN</td>\n",
       "      <td>NaN</td>\n",
       "      <td>NaN</td>\n",
       "      <td>0.0</td>\n",
       "      <td>21.747333</td>\n",
       "      <td>11.242763</td>\n",
       "      <td>0.0</td>\n",
       "      <td>0.0</td>\n",
       "      <td>0.0</td>\n",
       "    </tr>\n",
       "    <tr>\n",
       "      <th>2</th>\n",
       "      <td>448548</td>\n",
       "      <td>177285.0</td>\n",
       "      <td>12.00</td>\n",
       "      <td>1.78</td>\n",
       "      <td>0.00</td>\n",
       "      <td>-3.03</td>\n",
       "      <td>-1</td>\n",
       "      <td>0.21</td>\n",
       "      <td>22336583</td>\n",
       "      <td>13</td>\n",
       "      <td>20</td>\n",
       "      <td>26.833333</td>\n",
       "      <td>NaN</td>\n",
       "      <td>NaN</td>\n",
       "      <td>NaN</td>\n",
       "      <td>NaN</td>\n",
       "      <td>NaN</td>\n",
       "      <td>NaN</td>\n",
       "      <td>NaN</td>\n",
       "      <td>0.0</td>\n",
       "      <td>12.000000</td>\n",
       "      <td>0.000000</td>\n",
       "      <td>0.0</td>\n",
       "      <td>1.0</td>\n",
       "      <td>1.0</td>\n",
       "    </tr>\n",
       "    <tr>\n",
       "      <th>3</th>\n",
       "      <td>448548</td>\n",
       "      <td>185745.0</td>\n",
       "      <td>8.44</td>\n",
       "      <td>0.89</td>\n",
       "      <td>14.53</td>\n",
       "      <td>-6.66</td>\n",
       "      <td>-1</td>\n",
       "      <td>-1.00</td>\n",
       "      <td>22336723</td>\n",
       "      <td>33</td>\n",
       "      <td>20</td>\n",
       "      <td>38.883333</td>\n",
       "      <td>177285.0</td>\n",
       "      <td>22.67</td>\n",
       "      <td>6.22</td>\n",
       "      <td>3.93</td>\n",
       "      <td>19.67</td>\n",
       "      <td>-1.0</td>\n",
       "      <td>-1.0</td>\n",
       "      <td>0.0</td>\n",
       "      <td>16.803407</td>\n",
       "      <td>59.849102</td>\n",
       "      <td>1.0</td>\n",
       "      <td>0.0</td>\n",
       "      <td>0.0</td>\n",
       "    </tr>\n",
       "    <tr>\n",
       "      <th>4</th>\n",
       "      <td>448548</td>\n",
       "      <td>77892.0</td>\n",
       "      <td>22.22</td>\n",
       "      <td>0.44</td>\n",
       "      <td>13.92</td>\n",
       "      <td>-8.48</td>\n",
       "      <td>-1</td>\n",
       "      <td>-1.00</td>\n",
       "      <td>22336739</td>\n",
       "      <td>33</td>\n",
       "      <td>13</td>\n",
       "      <td>40.083333</td>\n",
       "      <td>NaN</td>\n",
       "      <td>NaN</td>\n",
       "      <td>NaN</td>\n",
       "      <td>NaN</td>\n",
       "      <td>NaN</td>\n",
       "      <td>NaN</td>\n",
       "      <td>NaN</td>\n",
       "      <td>0.0</td>\n",
       "      <td>26.220122</td>\n",
       "      <td>32.065607</td>\n",
       "      <td>0.0</td>\n",
       "      <td>0.0</td>\n",
       "      <td>0.0</td>\n",
       "    </tr>\n",
       "  </tbody>\n",
       "</table>\n",
       "</div>"
      ],
      "text/plain": [
       "  game_id  player_id  shot_coord_x1  shot_coord_x2  shot_coord_y1  \\\n",
       "0  448548    99779.0           6.67           0.00           1.51   \n",
       "1  448548    60730.0          21.33          12.00           4.24   \n",
       "2  448548   177285.0          12.00           1.78           0.00   \n",
       "3  448548   185745.0           8.44           0.89          14.53   \n",
       "4  448548    77892.0          22.22           0.44          13.92   \n",
       "\n",
       "   shot_coord_y2 shot_coord_z1  shot_coord_z2   shot_id shot_type team_id  \\\n",
       "0          -1.21            -1           0.83  22336297        11      20   \n",
       "1          -0.91            -1           0.73  22336386        35      20   \n",
       "2          -3.03            -1           0.21  22336583        13      20   \n",
       "3          -6.66            -1          -1.00  22336723        33      20   \n",
       "4          -8.48            -1          -1.00  22336739        33      13   \n",
       "\n",
       "   time_of_event(min)  passed_from_id  pass_coord_x1  pass_coord_x2  \\\n",
       "0            1.033333        177285.0           0.89          12.44   \n",
       "1            9.683333             NaN            NaN            NaN   \n",
       "2           26.833333             NaN            NaN            NaN   \n",
       "3           38.883333        177285.0          22.67           6.22   \n",
       "4           40.083333             NaN            NaN            NaN   \n",
       "\n",
       "   pass_coord_y1  pass_coord_y2  pass_coord_z1  pass_coord_z2  corner_kick  \\\n",
       "0          29.36          -4.84           -1.0           -1.0          1.0   \n",
       "1            NaN            NaN            NaN            NaN          0.0   \n",
       "2            NaN            NaN            NaN            NaN          0.0   \n",
       "3           3.93          19.67           -1.0           -1.0          0.0   \n",
       "4            NaN            NaN            NaN            NaN          0.0   \n",
       "\n",
       "   shot_distance  shot_angle  assisted_shot  is_penalty_attempt  is_goal  \n",
       "0       6.838786   12.755990            1.0                 0.0      1.0  \n",
       "1      21.747333   11.242763            0.0                 0.0      0.0  \n",
       "2      12.000000    0.000000            0.0                 1.0      1.0  \n",
       "3      16.803407   59.849102            1.0                 0.0      0.0  \n",
       "4      26.220122   32.065607            0.0                 0.0      0.0  "
      ]
     },
     "execution_count": 50,
     "metadata": {},
     "output_type": "execute_result"
    }
   ],
   "source": [
    "shots_df.head()"
   ]
  },
  {
   "cell_type": "code",
   "execution_count": 51,
   "metadata": {},
   "outputs": [],
   "source": [
    "#holding 20% of data for last test\n",
    "columns = ['player_id', 'shot_distance', 'shot_angle', 'assisted_shot', 'is_penalty_attempt']\n",
    "holdout = shots_df.sample(frac=.2, random_state=8)\n",
    "holdout_x = holdout[columns]\n",
    "holdout_y = holdout['is_goal']"
   ]
  },
  {
   "cell_type": "code",
   "execution_count": 52,
   "metadata": {},
   "outputs": [],
   "source": [
    "train = shots_df.drop(holdout.index).copy()\n",
    "data = train[columns]\n",
    "y = train['is_goal']\n",
    "indices = train.index.values "
   ]
  },
  {
   "cell_type": "code",
   "execution_count": 53,
   "metadata": {},
   "outputs": [],
   "source": [
    "X_train, X_test,indices_train,indices_test = train_test_split(data,indices, test_size=0.33, random_state=8)\n",
    "\n",
    "y_train, y_test = y[indices_train],  y[indices_test]"
   ]
  },
  {
   "cell_type": "code",
   "execution_count": 56,
   "metadata": {},
   "outputs": [
    {
     "data": {
      "text/html": [
       "<div>\n",
       "<style scoped>\n",
       "    .dataframe tbody tr th:only-of-type {\n",
       "        vertical-align: middle;\n",
       "    }\n",
       "\n",
       "    .dataframe tbody tr th {\n",
       "        vertical-align: top;\n",
       "    }\n",
       "\n",
       "    .dataframe thead th {\n",
       "        text-align: right;\n",
       "    }\n",
       "</style>\n",
       "<table border=\"1\" class=\"dataframe\">\n",
       "  <thead>\n",
       "    <tr style=\"text-align: right;\">\n",
       "      <th></th>\n",
       "      <th>player_id</th>\n",
       "      <th>shot_distance</th>\n",
       "      <th>shot_angle</th>\n",
       "      <th>assisted_shot</th>\n",
       "      <th>is_penalty_attempt</th>\n",
       "    </tr>\n",
       "  </thead>\n",
       "  <tbody>\n",
       "    <tr>\n",
       "      <th>2144</th>\n",
       "      <td>166900.0</td>\n",
       "      <td>12.419549</td>\n",
       "      <td>21.441602</td>\n",
       "      <td>0.0</td>\n",
       "      <td>0.0</td>\n",
       "    </tr>\n",
       "    <tr>\n",
       "      <th>2657</th>\n",
       "      <td>87323.0</td>\n",
       "      <td>17.180736</td>\n",
       "      <td>47.712851</td>\n",
       "      <td>0.0</td>\n",
       "      <td>0.0</td>\n",
       "    </tr>\n",
       "    <tr>\n",
       "      <th>1000</th>\n",
       "      <td>51413.0</td>\n",
       "      <td>5.733315</td>\n",
       "      <td>-71.912677</td>\n",
       "      <td>0.0</td>\n",
       "      <td>0.0</td>\n",
       "    </tr>\n",
       "    <tr>\n",
       "      <th>1880</th>\n",
       "      <td>57586.0</td>\n",
       "      <td>17.940864</td>\n",
       "      <td>19.707530</td>\n",
       "      <td>0.0</td>\n",
       "      <td>0.0</td>\n",
       "    </tr>\n",
       "    <tr>\n",
       "      <th>795</th>\n",
       "      <td>117606.0</td>\n",
       "      <td>13.343950</td>\n",
       "      <td>-2.620109</td>\n",
       "      <td>0.0</td>\n",
       "      <td>0.0</td>\n",
       "    </tr>\n",
       "  </tbody>\n",
       "</table>\n",
       "</div>"
      ],
      "text/plain": [
       "      player_id  shot_distance  shot_angle  assisted_shot  is_penalty_attempt\n",
       "2144   166900.0      12.419549   21.441602            0.0                 0.0\n",
       "2657    87323.0      17.180736   47.712851            0.0                 0.0\n",
       "1000    51413.0       5.733315  -71.912677            0.0                 0.0\n",
       "1880    57586.0      17.940864   19.707530            0.0                 0.0\n",
       "795    117606.0      13.343950   -2.620109            0.0                 0.0"
      ]
     },
     "execution_count": 56,
     "metadata": {},
     "output_type": "execute_result"
    }
   ],
   "source": [
    "X_train.head()"
   ]
  },
  {
   "cell_type": "code",
   "execution_count": 60,
   "metadata": {},
   "outputs": [
    {
     "name": "stderr",
     "output_type": "stream",
     "text": [
      "[Parallel(n_jobs=1)]: Using backend SequentialBackend with 1 concurrent workers.\n"
     ]
    },
    {
     "name": "stdout",
     "output_type": "stream",
     "text": [
      "Ensemble Log Loss 0.28882624539156104\n",
      "Gradient Boost Log Loss 0.29152874708401066\n",
      "Random Forest Log Loss 0.287874556403954\n",
      "XGBoost Log Loss 0.2925729067782802\n"
     ]
    },
    {
     "name": "stderr",
     "output_type": "stream",
     "text": [
      "[Parallel(n_jobs=1)]: Done 300 out of 300 | elapsed:    0.3s finished\n",
      "[Parallel(n_jobs=1)]: Using backend SequentialBackend with 1 concurrent workers.\n",
      "[Parallel(n_jobs=1)]: Done 300 out of 300 | elapsed:    0.0s finished\n"
     ]
    }
   ],
   "source": [
    "xgboost_model = XGBClassifier(learning_rate = 0.01, max_depth = 3, n_estimators = 300, random_state=8)\n",
    "gradient_boost_model = GradientBoostingClassifier(learning_rate=0.01, max_depth=4, max_features='log2', min_samples_leaf=4, n_estimators=280, subsample=0.25, random_state=8)\n",
    "random_forest_model = RandomForestClassifier(n_estimators=300, max_depth=3, verbose=1, random_state=8)\n",
    "\n",
    "xgboost_model.fit(X_train, y_train)\n",
    "gradient_boost_model.fit(X_train, y_train)\n",
    "random_forest_model.fit(X_train, y_train)\n",
    "\n",
    "p_random_forest = random_forest_model.predict_proba(X_test)\n",
    "p_gradient_boost =  gradient_boost_model.predict_proba(X_test)\n",
    "p_xgboost = xgboost_model.predict_proba(X_test)\n",
    "\n",
    "#need to concat these two arrays somehow...\n",
    "ensemble_p_0 = (p_random_forest[:,0] + p_gradient_boost[:,0] + p_xgboost[:,0])/3\n",
    "ensemble_p_1 = (p_random_forest[:,1] + p_gradient_boost[:,1] + p_xgboost[:,1])/3\n",
    "# ensemble_p = np.concatenate(ensemble_p_0, ensemble_p_1, axis=0)\n",
    "\n",
    "random_forest_ll = log_loss(y_test, p_random_forest)\n",
    "gradient_boost_ll = log_loss(y_test, p_gradient_boost)\n",
    "xgboost_ll = log_loss(y_test, p_xgboost)\n",
    "ensemble_ll = log_loss(y_test, ensemble_p_1)\n",
    "                                     \n",
    "\n",
    "print(\"Ensemble Log Loss \" + str(ensemble_ll))\n",
    "print(\"Gradient Boost Log Loss \" + str(gradient_boost_ll))\n",
    "print(\"Random Forest Log Loss \" + str(random_forest_ll))\n",
    "print(\"XGBoost Log Loss \" + str(xgboost_ll))"
   ]
  },
  {
   "cell_type": "markdown",
   "metadata": {},
   "source": [
    "# Tuning Gradient Boost and xG Boost"
   ]
  },
  {
   "cell_type": "code",
   "execution_count": 61,
   "metadata": {},
   "outputs": [],
   "source": [
    "from model_prep import stage_score_plot"
   ]
  },
  {
   "cell_type": "code",
   "execution_count": 64,
   "metadata": {},
   "outputs": [],
   "source": [
    "X_train, X_test,indices_train,indices_test = train_test_split(data,indices, test_size=0.33, random_state=8)\n",
    "\n",
    "y_train, y_test = y[indices_train],  y[indices_test]"
   ]
  },
  {
   "cell_type": "code",
   "execution_count": 65,
   "metadata": {},
   "outputs": [
    {
     "name": "stdout",
     "output_type": "stream",
     "text": [
      "GB depth 1 log loss 0.28950655950569515\n",
      "GB depth 2 log loss 0.28730059307451217\n",
      "GB depth 3 log loss 0.2890129682917843\n",
      "GB depth 4 log loss 0.29262957116075183\n",
      "GB depth 5 log loss 0.29343246178918314\n",
      "GB depth 6 log loss 0.2958582057337783\n"
     ]
    }
   ],
   "source": [
    "gbm1 = GradientBoostingClassifier(learning_rate=0.01, max_depth=1, max_features='log2', min_samples_leaf=4, n_estimators=300, subsample=0.25, random_state=8)\n",
    "gbm2 = GradientBoostingClassifier(learning_rate=0.01, max_depth=2, max_features='log2', min_samples_leaf=4, n_estimators=300, subsample=0.25, random_state=8)\n",
    "gbm3 = GradientBoostingClassifier(learning_rate=0.01, max_depth=3, max_features='log2', min_samples_leaf=4, n_estimators=300, subsample=0.25, random_state=8)\n",
    "gbm4 = GradientBoostingClassifier(learning_rate=0.01, max_depth=4, max_features='log2', min_samples_leaf=4, n_estimators=300, subsample=0.25, random_state=8)\n",
    "gbm5 = GradientBoostingClassifier(learning_rate=0.01, max_depth=5, max_features='log2', min_samples_leaf=4, n_estimators=300, subsample=0.25, random_state=8)\n",
    "gbm6 = GradientBoostingClassifier(learning_rate=0.01, max_depth=6, max_features='log2', min_samples_leaf=4, n_estimators=300, subsample=0.25, random_state=8)\n",
    "\n",
    "gbm1.fit(X_train, y_train)\n",
    "gbm2.fit(X_train, y_train)\n",
    "gbm3.fit(X_train, y_train)\n",
    "gbm4.fit(X_train, y_train)\n",
    "gbm5.fit(X_train, y_train)\n",
    "gbm6.fit(X_train, y_train)\n",
    "\n",
    "pgb1 =  gbm1.predict_proba(X_test)\n",
    "pgb2 =  gbm2.predict_proba(X_test)\n",
    "pgb3 =  gbm3.predict_proba(X_test)\n",
    "pgb4 =  gbm4.predict_proba(X_test)\n",
    "pgb5 =  gbm5.predict_proba(X_test)\n",
    "pgb6 =  gbm6.predict_proba(X_test)\n",
    "\n",
    "\n",
    "gb1_ll = log_loss(y_test, pgb1)\n",
    "gb2_ll = log_loss(y_test, pgb2)\n",
    "gb3_ll = log_loss(y_test, pgb3)\n",
    "gb4_ll = log_loss(y_test, pgb4)\n",
    "gb5_ll = log_loss(y_test, pgb5)\n",
    "gb6_ll = log_loss(y_test, pgb6)\n",
    "\n",
    "print(\"GB depth 1 log loss \" + str(gb1_ll))\n",
    "print(\"GB depth 2 log loss \" + str(gb2_ll))\n",
    "print(\"GB depth 3 log loss \" + str(gb3_ll))\n",
    "print(\"GB depth 4 log loss \" + str(gb4_ll))\n",
    "print(\"GB depth 5 log loss \" + str(gb5_ll))\n",
    "print(\"GB depth 6 log loss \" + str(gb6_ll))"
   ]
  },
  {
   "cell_type": "markdown",
   "metadata": {},
   "source": [
    "### Tuning:\n",
    "\n",
    "Best depth: 2, Trees: 260"
   ]
  },
  {
   "cell_type": "code",
   "execution_count": 66,
   "metadata": {},
   "outputs": [
    {
     "name": "stdout",
     "output_type": "stream",
     "text": [
      "lowest test error(log loss): 0.28950655950569515\n",
      "num_trees at lowest test error: 299\n"
     ]
    },
    {
     "data": {
      "image/png": "[encoded data removed]",
      "text/plain": [
       "<Figure size 864x576 with 1 Axes>"
      ]
     },
     "metadata": {},
     "output_type": "display_data"
    }
   ],
   "source": [
    "stage_score_plot(gbm1, X_train, y_train, X_test, y_test)"
   ]
  },
  {
   "cell_type": "code",
   "execution_count": 67,
   "metadata": {},
   "outputs": [
    {
     "name": "stdout",
     "output_type": "stream",
     "text": [
      "lowest test error(log loss): 0.28712080482990404\n",
      "num_trees at lowest test error: 261\n"
     ]
    },
    {
     "data": {
      "image/png": "[encoded data removed]",
      "text/plain": [
       "<Figure size 864x576 with 1 Axes>"
      ]
     },
     "metadata": {},
     "output_type": "display_data"
    }
   ],
   "source": [
    "stage_score_plot(gbm2, X_train, y_train, X_test, y_test)"
   ]
  },
  {
   "cell_type": "code",
   "execution_count": 68,
   "metadata": {},
   "outputs": [
    {
     "name": "stdout",
     "output_type": "stream",
     "text": [
      "lowest test error(log loss): 0.28838334332749765\n",
      "num_trees at lowest test error: 218\n"
     ]
    },
    {
     "data": {
      "image/png": "[encoded data removed]",
      "text/plain": [
       "<Figure size 864x576 with 1 Axes>"
      ]
     },
     "metadata": {},
     "output_type": "display_data"
    }
   ],
   "source": [
    "stage_score_plot(gbm3, X_train, y_train, X_test, y_test)"
   ]
  },
  {
   "cell_type": "code",
   "execution_count": 69,
   "metadata": {},
   "outputs": [
    {
     "name": "stdout",
     "output_type": "stream",
     "text": [
      "lowest test error(log loss): 0.29009802823347297\n",
      "num_trees at lowest test error: 207\n"
     ]
    },
    {
     "data": {
      "image/png": "[encoded data removed]",
      "text/plain": [
       "<Figure size 864x576 with 1 Axes>"
      ]
     },
     "metadata": {},
     "output_type": "display_data"
    }
   ],
   "source": [
    "stage_score_plot(gbm4, X_train, y_train, X_test, y_test)"
   ]
  },
  {
   "cell_type": "markdown",
   "metadata": {},
   "source": [
    "### XGBoost Tuning"
   ]
  },
  {
   "cell_type": "code",
   "execution_count": 76,
   "metadata": {},
   "outputs": [],
   "source": [
    "from sklearn.model_selection import GridSearchCV"
   ]
  },
  {
   "cell_type": "code",
   "execution_count": 77,
   "metadata": {},
   "outputs": [],
   "source": [
    "X_train, X_test,indices_train,indices_test = train_test_split(data,indices, test_size=0.33, random_state=8)\n",
    "\n",
    "y_train, y_test = y[indices_train],  y[indices_test]"
   ]
  },
  {
   "cell_type": "code",
   "execution_count": 78,
   "metadata": {},
   "outputs": [
    {
     "name": "stdout",
     "output_type": "stream",
     "text": [
      "XGB n_estimators: 200 log loss 0.30542209458082\n",
      "XGB n_estimators: 300 log loss 0.2925729067782802\n",
      "XGB n_estimators: 400 log loss 0.29011109472962204\n",
      "XGB n_estimators: 500 log loss 0.29037029805310105\n",
      "XGB n_estimators: 600 log loss 0.29166967738501826\n"
     ]
    }
   ],
   "source": [
    "xgb1 = XGBClassifier(learning_rate=0.01, n_estimators=200, random_state=8)\n",
    "xgb2 = XGBClassifier(learning_rate=0.01, n_estimators=300, random_state=8)\n",
    "xgb3 = XGBClassifier(learning_rate=0.01, n_estimators=400, random_state=8)\n",
    "xgb4 = XGBClassifier(learning_rate=0.01, n_estimators=500, random_state=8)\n",
    "xgb5 = XGBClassifier(learning_rate=0.01, n_estimators=600, random_state=8)\n",
    "\n",
    "xgb1.fit(X_train, y_train)\n",
    "xgb2.fit(X_train, y_train)\n",
    "xgb3.fit(X_train, y_train)\n",
    "xgb4.fit(X_train, y_train)\n",
    "xgb5.fit(X_train, y_train)\n",
    "\n",
    "\n",
    "xgb_p1 =  xgb1.predict_proba(X_test)\n",
    "xgb_p2 =  xgb2.predict_proba(X_test)\n",
    "xgb_p3 =  xgb3.predict_proba(X_test)\n",
    "xgb_p4 =  xgb4.predict_proba(X_test)\n",
    "xgb_p5 =  xgb5.predict_proba(X_test)\n",
    "\n",
    "\n",
    "\n",
    "xgb1_ll = log_loss(y_test, xgb_p1)\n",
    "xgb2_ll = log_loss(y_test, xgb_p2)\n",
    "xgb3_ll = log_loss(y_test, xgb_p3)\n",
    "xgb4_ll = log_loss(y_test, xgb_p4)\n",
    "xgb5_ll = log_loss(y_test, xgb_p5)\n",
    "\n",
    "\n",
    "print(\"XGB n_estimators: 200 log loss \" + str(xgb1_ll))\n",
    "print(\"XGB n_estimators: 300 log loss \" + str(xgb2_ll))\n",
    "print(\"XGB n_estimators: 400 log loss \" + str(xgb3_ll))\n",
    "print(\"XGB n_estimators: 500 log loss \" + str(xgb4_ll))\n",
    "print(\"XGB n_estimators: 600 log loss \" + str(xgb5_ll))"
   ]
  },
  {
   "cell_type": "markdown",
   "metadata": {},
   "source": [
    "Best n_estimators of XGB: 400"
   ]
  },
  {
   "cell_type": "markdown",
   "metadata": {},
   "source": [
    "# Re-run and test on holdout set with tuned parameters"
   ]
  },
  {
   "cell_type": "code",
   "execution_count": 86,
   "metadata": {},
   "outputs": [],
   "source": [
    "#holding 20% of data for last test\n",
    "columns = ['player_id', 'shot_distance', 'shot_angle', 'assisted_shot', 'is_penalty_attempt']\n",
    "holdout = shots_df.sample(frac=.2, random_state=8)\n",
    "holdout_x = holdout[columns]\n",
    "holdout_y = holdout['is_goal']\n",
    "indices_holdout = holdout.index.values\n",
    "\n",
    "train = shots_df.drop(holdout.index).copy()\n",
    "data = train[columns]\n",
    "y = train['is_goal']\n",
    "indices = train.index.values "
   ]
  },
  {
   "cell_type": "code",
   "execution_count": 87,
   "metadata": {},
   "outputs": [],
   "source": [
    "X_train, X_test,indices_train,indices_test = train_test_split(data,indices, test_size=0.33, random_state=8)\n",
    "\n",
    "y_train, y_test = y[indices_train],  y[indices_test]"
   ]
  },
  {
   "cell_type": "code",
   "execution_count": 88,
   "metadata": {},
   "outputs": [
    {
     "name": "stderr",
     "output_type": "stream",
     "text": [
      "[Parallel(n_jobs=1)]: Using backend SequentialBackend with 1 concurrent workers.\n"
     ]
    },
    {
     "name": "stdout",
     "output_type": "stream",
     "text": [
      "Ensemble Log Loss 0.287954165246984\n",
      "Gradient Boost Log Loss 0.2912567846494751\n",
      "Random Forest Log Loss 0.287874556403954\n",
      "XGBoost Log Loss 0.29011109472962204\n"
     ]
    },
    {
     "name": "stderr",
     "output_type": "stream",
     "text": [
      "[Parallel(n_jobs=1)]: Done 300 out of 300 | elapsed:    0.4s finished\n",
      "[Parallel(n_jobs=1)]: Using backend SequentialBackend with 1 concurrent workers.\n",
      "[Parallel(n_jobs=1)]: Done 300 out of 300 | elapsed:    0.0s finished\n"
     ]
    }
   ],
   "source": [
    "xgboost_model = XGBClassifier(learning_rate = 0.01, max_depth = 3, n_estimators = 400, random_state=8)\n",
    "gradient_boost_model = GradientBoostingClassifier(learning_rate=0.01, max_depth=4, max_features='log2', min_samples_leaf=4, n_estimators=260, subsample=0.25, random_state=8)\n",
    "random_forest_model = RandomForestClassifier(n_estimators=300, max_depth=3, verbose=1, random_state=8)\n",
    "\n",
    "xgboost_model.fit(X_train, y_train)\n",
    "gradient_boost_model.fit(X_train, y_train)\n",
    "random_forest_model.fit(X_train, y_train)\n",
    "\n",
    "p_random_forest = random_forest_model.predict_proba(X_test)\n",
    "p_gradient_boost =  gradient_boost_model.predict_proba(X_test)\n",
    "p_xgboost = xgboost_model.predict_proba(X_test)\n",
    "\n",
    "#need to concat these two arrays somehow...\n",
    "ensemble_p_0 = (p_random_forest[:,0] + p_gradient_boost[:,0] + p_xgboost[:,0])/3\n",
    "ensemble_p_1 = (p_random_forest[:,1] + p_gradient_boost[:,1] + p_xgboost[:,1])/3\n",
    "# ensemble_p = np.concatenate(ensemble_p_0, ensemble_p_1, axis=0)\n",
    "\n",
    "random_forest_ll = log_loss(y_test, p_random_forest)\n",
    "gradient_boost_ll = log_loss(y_test, p_gradient_boost)\n",
    "xgboost_ll = log_loss(y_test, p_xgboost)\n",
    "ensemble_ll = log_loss(y_test, ensemble_p_1)\n",
    "                                     \n",
    "\n",
    "print(\"Ensemble Log Loss \" + str(ensemble_ll))\n",
    "print(\"Gradient Boost Log Loss \" + str(gradient_boost_ll))\n",
    "print(\"Random Forest Log Loss \" + str(random_forest_ll))\n",
    "print(\"XGBoost Log Loss \" + str(xgboost_ll))"
   ]
  },
  {
   "cell_type": "markdown",
   "metadata": {},
   "source": [
    "### Testing on Holdout Set"
   ]
  },
  {
   "cell_type": "code",
   "execution_count": 89,
   "metadata": {},
   "outputs": [
    {
     "name": "stdout",
     "output_type": "stream",
     "text": [
      "Ensemble Log Loss 0.31997520435077936\n",
      "Gradient Boost Log Loss 0.32214266328226376\n",
      "Random Forest Log Loss 0.32191015085452257\n",
      "XGBoost Log Loss 0.3214137939982973\n"
     ]
    },
    {
     "name": "stderr",
     "output_type": "stream",
     "text": [
      "[Parallel(n_jobs=1)]: Using backend SequentialBackend with 1 concurrent workers.\n",
      "[Parallel(n_jobs=1)]: Done 300 out of 300 | elapsed:    0.0s finished\n"
     ]
    }
   ],
   "source": [
    "p_random_forest = random_forest_model.predict_proba(holdout_x)\n",
    "p_gradient_boost =  gradient_boost_model.predict_proba(holdout_x)\n",
    "p_xgboost = xgboost_model.predict_proba(holdout_x)\n",
    "\n",
    "#need to concat these two arrays somehow...\n",
    "ensemble_p_0 = (p_random_forest[:,0] + p_gradient_boost[:,0] + p_xgboost[:,0])/3\n",
    "ensemble_p_1 = (p_random_forest[:,1] + p_gradient_boost[:,1] + p_xgboost[:,1])/3\n",
    "# ensemble_p = np.concatenate(ensemble_p_0, ensemble_p_1, axis=0)\n",
    "\n",
    "random_forest_ll = log_loss(holdout_y, p_random_forest)\n",
    "gradient_boost_ll = log_loss(holdout_y, p_gradient_boost)\n",
    "xgboost_ll = log_loss(holdout_y, p_xgboost)\n",
    "ensemble_ll = log_loss(holdout_y, ensemble_p_1)\n",
    "                                     \n",
    "\n",
    "print(\"Ensemble Log Loss \" + str(ensemble_ll))\n",
    "print(\"Gradient Boost Log Loss \" + str(gradient_boost_ll))\n",
    "print(\"Random Forest Log Loss \" + str(random_forest_ll))\n",
    "print(\"XGBoost Log Loss \" + str(xgboost_ll))"
   ]
  },
  {
   "cell_type": "code",
   "execution_count": null,
   "metadata": {},
   "outputs": [],
   "source": []
  }
 ],
 "metadata": {
  "kernelspec": {
   "display_name": "Python 3",
   "language": "python",
   "name": "python3"
  },
  "language_info": {
   "codemirror_mode": {
    "name": "ipython",
    "version": 3
   },
   "file_extension": ".py",
   "mimetype": "text/x-python",
   "name": "python",
   "nbconvert_exporter": "python",
   "pygments_lexer": "ipython3",
   "version": "3.6.6"
  }
 },
 "nbformat": 4,
 "nbformat_minor": 2
}
