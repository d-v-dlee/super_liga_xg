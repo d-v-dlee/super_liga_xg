{
 "cells": [
  {
   "cell_type": "code",
   "execution_count": 1,
   "metadata": {},
   "outputs": [],
   "source": [
    "import pprint\n",
    "import json\n",
    "import pandas as pd\n",
    "import numpy as np\n",
    "import matplotlib.pyplot as plt\n",
    "from json_shot_scraper import flatten_shot, flatten_goal, flatten_complete_pass, flatten_incomplete_pass, flatten_corner\n",
    "from  player_scraper import flatten_player, flatten_sub\n",
    "from dataframe_cleaner import (pass_to_shot, corner_to_shot, transpose_coordinates, coord_to_yards, \n",
    "                               shot_distance_angle, dummy_columns, drop_own_goals, goal_dummy)\n",
    "from model_prep import create_hypothetical_df"
   ]
  },
  {
   "cell_type": "code",
   "execution_count": 2,
   "metadata": {},
   "outputs": [],
   "source": [
    "pd.set_option('display.max_columns', 50)"
   ]
  },
  {
   "cell_type": "code",
   "execution_count": 3,
   "metadata": {},
   "outputs": [],
   "source": [
    "from html_scraper import db\n",
    "from mongo_to_db import game_to_cleaned_df, create_frame, create_master_df, create_master_player_min_df\n",
    "import string"
   ]
  },
  {
   "cell_type": "code",
   "execution_count": 4,
   "metadata": {},
   "outputs": [],
   "source": [
    "games = db.games.find()"
   ]
  },
  {
   "cell_type": "code",
   "execution_count": 5,
   "metadata": {},
   "outputs": [],
   "source": [
    "test_game = games[0]"
   ]
  },
  {
   "cell_type": "code",
   "execution_count": 7,
   "metadata": {},
   "outputs": [
    {
     "data": {
      "text/plain": [
       "dict_keys(['_id', 'Revision', 'lastChangedDate', 'lastChangeBy', 'match', 'status', 'venueInformation', 'broadcast', 'scoreStatus', 'players', 'teams', 'officials', 'incidences', 'deletedIncidences', 'summary', 'commentary'])"
      ]
     },
     "execution_count": 7,
     "metadata": {},
     "output_type": "execute_result"
    }
   ],
   "source": [
    "test_game.keys()"
   ]
  },
  {
   "cell_type": "code",
   "execution_count": 9,
   "metadata": {},
   "outputs": [
    {
     "data": {
      "text/plain": [
       "dict_keys(['20', '13'])"
      ]
     },
     "execution_count": 9,
     "metadata": {},
     "output_type": "execute_result"
    }
   ],
   "source": [
    "test_game['teams'].keys()"
   ]
  },
  {
   "cell_type": "code",
   "execution_count": 10,
   "metadata": {},
   "outputs": [
    {
     "data": {
      "text/plain": [
       "{'name': 'Vélez',\n",
       " 'shortName': 'Vélez',\n",
       " 'initials': 'VEL',\n",
       " 'country': 'Argentina',\n",
       " 'countryId': 1,\n",
       " 'teamType': 'club',\n",
       " 'colors': {'color': '#ffffff',\n",
       "  'base_color': '#ffffff',\n",
       "  'text': '#004f87',\n",
       "  'path1': 'vshapeL',\n",
       "  'path1_color': '#004f87',\n",
       "  'path2': 'vshapeR',\n",
       "  'path2_color': '#004f87',\n",
       "  'shirt': 1},\n",
       " 'social': {'página web': {'user': 'http://www.velezsarsfield.com.ar'},\n",
       "  'instagram': {'user': 'velez'},\n",
       "  'facebook': {'user': 'velezsarsfield'},\n",
       "  'twitter': {'user': 'Velez'}}}"
      ]
     },
     "execution_count": 10,
     "metadata": {},
     "output_type": "execute_result"
    }
   ],
   "source": [
    "test_game['teams']['20']"
   ]
  },
  {
   "cell_type": "code",
   "execution_count": 11,
   "metadata": {},
   "outputs": [],
   "source": [
    "teams = list(test_game['teams'].items())"
   ]
  },
  {
   "cell_type": "code",
   "execution_count": 12,
   "metadata": {},
   "outputs": [
    {
     "data": {
      "text/plain": [
       "[('20',\n",
       "  {'name': 'Vélez',\n",
       "   'shortName': 'Vélez',\n",
       "   'initials': 'VEL',\n",
       "   'country': 'Argentina',\n",
       "   'countryId': 1,\n",
       "   'teamType': 'club',\n",
       "   'colors': {'color': '#ffffff',\n",
       "    'base_color': '#ffffff',\n",
       "    'text': '#004f87',\n",
       "    'path1': 'vshapeL',\n",
       "    'path1_color': '#004f87',\n",
       "    'path2': 'vshapeR',\n",
       "    'path2_color': '#004f87',\n",
       "    'shirt': 1},\n",
       "   'social': {'página web': {'user': 'http://www.velezsarsfield.com.ar'},\n",
       "    'instagram': {'user': 'velez'},\n",
       "    'facebook': {'user': 'velezsarsfield'},\n",
       "    'twitter': {'user': 'Velez'}}}),\n",
       " ('13',\n",
       "  {'name': 'Newell`s',\n",
       "   'shortName': 'Newell`s',\n",
       "   'initials': 'NOB',\n",
       "   'country': 'Argentina',\n",
       "   'countryId': 1,\n",
       "   'teamType': 'club',\n",
       "   'colors': {'color': '#000000',\n",
       "    'base_color': '#000000',\n",
       "    'text': '#ffffff',\n",
       "    'path1': 'half',\n",
       "    'path1_color': '#ff0000',\n",
       "    'path2': '',\n",
       "    'path2_color': '',\n",
       "    'shirt': 1},\n",
       "   'social': {'página web': {'user': 'http://www.newellsoldboys.com.ar/'},\n",
       "    'instagram': {'user': 'canoboficial'},\n",
       "    'facebook': {'user': 'canoboficial'},\n",
       "    'twitter': {'user': 'CANOBoficial'}}})]"
      ]
     },
     "execution_count": 12,
     "metadata": {},
     "output_type": "execute_result"
    }
   ],
   "source": [
    "teams"
   ]
  },
  {
   "cell_type": "code",
   "execution_count": 28,
   "metadata": {},
   "outputs": [],
   "source": [
    "from json_shot_scraper import flatten_team, team_dicts"
   ]
  },
  {
   "cell_type": "code",
   "execution_count": 17,
   "metadata": {},
   "outputs": [],
   "source": [
    "team_dicts = [flatten_team(team) for team in teams]"
   ]
  },
  {
   "cell_type": "code",
   "execution_count": 18,
   "metadata": {},
   "outputs": [
    {
     "data": {
      "text/plain": [
       "[{'team_id': '20', 'team_intitials': 'VEL', 'short_name': 'Vélez'},\n",
       " {'team_id': '13', 'team_intitials': 'NOB', 'short_name': 'Newell`s'}]"
      ]
     },
     "execution_count": 18,
     "metadata": {},
     "output_type": "execute_result"
    }
   ],
   "source": [
    "team_dicts"
   ]
  },
  {
   "cell_type": "code",
   "execution_count": 29,
   "metadata": {},
   "outputs": [],
   "source": [
    "games = db.games.find()"
   ]
  },
  {
   "cell_type": "code",
   "execution_count": 21,
   "metadata": {},
   "outputs": [],
   "source": [
    "team_dicts = []\n",
    "for game in games:\n",
    "    teams = list(game['teams'].items())\n",
    "    game_team = [flatten_team(team) for team in teams]\n",
    "    for team in game_team:\n",
    "        if team not in team_dicts:\n",
    "            team_dicts.append(team)"
   ]
  },
  {
   "cell_type": "code",
   "execution_count": 24,
   "metadata": {},
   "outputs": [
    {
     "data": {
      "text/plain": [
       "[{'team_id': '20', 'team_intitials': 'VEL', 'short_name': 'Vélez'},\n",
       " {'team_id': '13', 'team_intitials': 'NOB', 'short_name': 'Newell`s'},\n",
       " {'team_id': '136', 'team_intitials': 'TIG', 'short_name': 'Tigre'},\n",
       " {'team_id': '19', 'team_intitials': 'SLO', 'short_name': 'San Lorenzo'},\n",
       " {'team_id': '8', 'team_intitials': 'GIM', 'short_name': 'Gimnasia'},\n",
       " {'team_id': '2', 'team_intitials': 'ARG', 'short_name': 'Argentinos'},\n",
       " {'team_id': '137', 'team_intitials': 'UNI', 'short_name': 'Unión'},\n",
       " {'team_id': '122', 'team_intitials': 'ALD', 'short_name': 'Aldosivi'},\n",
       " {'team_id': '869', 'team_intitials': 'PA', 'short_name': 'Patronato'},\n",
       " {'team_id': '6', 'team_intitials': 'COL', 'short_name': 'Colón'},\n",
       " {'team_id': '124', 'team_intitials': 'BEL', 'short_name': 'Belgrano'},\n",
       " {'team_id': '134', 'team_intitials': 'SMS', 'short_name': 'S. Martín SJ'},\n",
       " {'team_id': '5', 'team_intitials': 'BOC', 'short_name': 'Boca'},\n",
       " {'team_id': '135', 'team_intitials': 'TAL', 'short_name': 'Talleres'},\n",
       " {'team_id': '132', 'team_intitials': 'GOD', 'short_name': 'Godoy Cruz'},\n",
       " {'team_id': '7', 'team_intitials': 'EST', 'short_name': 'Estudiantes'},\n",
       " {'team_id': '12', 'team_intitials': 'LAN', 'short_name': 'Lanús'},\n",
       " {'team_id': '129', 'team_intitials': 'DEF', 'short_name': 'Defensa'},\n",
       " {'team_id': '18', 'team_intitials': 'ROS', 'short_name': 'R. Central'},\n",
       " {'team_id': '4', 'team_intitials': 'BAN', 'short_name': 'Banfield'},\n",
       " {'team_id': '100', 'team_intitials': 'HUR', 'short_name': 'Huracán'},\n",
       " {'team_id': '17', 'team_intitials': 'RIV', 'short_name': 'River'},\n",
       " {'team_id': '815', 'team_intitials': 'ATT', 'short_name': 'Atl. Tucumán'},\n",
       " {'team_id': '16', 'team_intitials': 'RAC', 'short_name': 'Racing'},\n",
       " {'team_id': '10', 'team_intitials': 'IND', 'short_name': 'Independiente'},\n",
       " {'team_id': '490', 'team_intitials': 'SMT', 'short_name': 'S. Martín T'}]"
      ]
     },
     "execution_count": 24,
     "metadata": {},
     "output_type": "execute_result"
    }
   ],
   "source": [
    "team_dicts"
   ]
  },
  {
   "cell_type": "code",
   "execution_count": 31,
   "metadata": {},
   "outputs": [],
   "source": [
    "team_dicts = team_dicts(games)"
   ]
  },
  {
   "cell_type": "code",
   "execution_count": 32,
   "metadata": {},
   "outputs": [
    {
     "data": {
      "text/plain": [
       "[{'team_id': '20', 'team_intitials': 'VEL', 'short_name': 'Vélez'},\n",
       " {'team_id': '13', 'team_intitials': 'NOB', 'short_name': 'Newell`s'},\n",
       " {'team_id': '136', 'team_intitials': 'TIG', 'short_name': 'Tigre'},\n",
       " {'team_id': '19', 'team_intitials': 'SLO', 'short_name': 'San Lorenzo'},\n",
       " {'team_id': '8', 'team_intitials': 'GIM', 'short_name': 'Gimnasia'},\n",
       " {'team_id': '2', 'team_intitials': 'ARG', 'short_name': 'Argentinos'},\n",
       " {'team_id': '137', 'team_intitials': 'UNI', 'short_name': 'Unión'},\n",
       " {'team_id': '122', 'team_intitials': 'ALD', 'short_name': 'Aldosivi'},\n",
       " {'team_id': '869', 'team_intitials': 'PA', 'short_name': 'Patronato'},\n",
       " {'team_id': '6', 'team_intitials': 'COL', 'short_name': 'Colón'},\n",
       " {'team_id': '124', 'team_intitials': 'BEL', 'short_name': 'Belgrano'},\n",
       " {'team_id': '134', 'team_intitials': 'SMS', 'short_name': 'S. Martín SJ'},\n",
       " {'team_id': '5', 'team_intitials': 'BOC', 'short_name': 'Boca'},\n",
       " {'team_id': '135', 'team_intitials': 'TAL', 'short_name': 'Talleres'},\n",
       " {'team_id': '132', 'team_intitials': 'GOD', 'short_name': 'Godoy Cruz'},\n",
       " {'team_id': '7', 'team_intitials': 'EST', 'short_name': 'Estudiantes'},\n",
       " {'team_id': '12', 'team_intitials': 'LAN', 'short_name': 'Lanús'},\n",
       " {'team_id': '129', 'team_intitials': 'DEF', 'short_name': 'Defensa'},\n",
       " {'team_id': '18', 'team_intitials': 'ROS', 'short_name': 'R. Central'},\n",
       " {'team_id': '4', 'team_intitials': 'BAN', 'short_name': 'Banfield'},\n",
       " {'team_id': '100', 'team_intitials': 'HUR', 'short_name': 'Huracán'},\n",
       " {'team_id': '17', 'team_intitials': 'RIV', 'short_name': 'River'},\n",
       " {'team_id': '815', 'team_intitials': 'ATT', 'short_name': 'Atl. Tucumán'},\n",
       " {'team_id': '16', 'team_intitials': 'RAC', 'short_name': 'Racing'},\n",
       " {'team_id': '10', 'team_intitials': 'IND', 'short_name': 'Independiente'},\n",
       " {'team_id': '490', 'team_intitials': 'SMT', 'short_name': 'S. Martín T'}]"
      ]
     },
     "execution_count": 32,
     "metadata": {},
     "output_type": "execute_result"
    }
   ],
   "source": [
    "team_dicts"
   ]
  },
  {
   "cell_type": "code",
   "execution_count": null,
   "metadata": {},
   "outputs": [],
   "source": []
  }
 ],
 "metadata": {
  "kernelspec": {
   "display_name": "Python 3",
   "language": "python",
   "name": "python3"
  },
  "language_info": {
   "codemirror_mode": {
    "name": "ipython",
    "version": 3
   },
   "file_extension": ".py",
   "mimetype": "text/x-python",
   "name": "python",
   "nbconvert_exporter": "python",
   "pygments_lexer": "ipython3",
   "version": "3.6.6"
  }
 },
 "nbformat": 4,
 "nbformat_minor": 2
}
