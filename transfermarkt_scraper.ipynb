{
 "cells": [
  {
   "cell_type": "code",
   "execution_count": 1,
   "metadata": {},
   "outputs": [],
   "source": [
    "from selenium.webdriver import (Chrome, Firefox)\n",
    "import time\n",
    "\n",
    "import requests\n",
    "from bs4 import BeautifulSoup"
   ]
  },
  {
   "cell_type": "code",
   "execution_count": 3,
   "metadata": {},
   "outputs": [],
   "source": [
    "from html_scraper import db"
   ]
  },
  {
   "cell_type": "code",
   "execution_count": 4,
   "metadata": {},
   "outputs": [],
   "source": [
    "players = db['players']"
   ]
  },
  {
   "cell_type": "code",
   "execution_count": 8,
   "metadata": {},
   "outputs": [],
   "source": [
    "player_urls = db['player_urls']"
   ]
  },
  {
   "cell_type": "code",
   "execution_count": 2,
   "metadata": {},
   "outputs": [],
   "source": [
    "browser = Firefox()"
   ]
  },
  {
   "cell_type": "code",
   "execution_count": 5,
   "metadata": {},
   "outputs": [],
   "source": [
    "url = 'https://www.transfermarkt.co.uk/primera-division/startseite/wettbewerb/AR1N'"
   ]
  },
  {
   "cell_type": "code",
   "execution_count": 6,
   "metadata": {},
   "outputs": [],
   "source": [
    "browser.get(url)"
   ]
  },
  {
   "cell_type": "code",
   "execution_count": 9,
   "metadata": {},
   "outputs": [],
   "source": [
    "elems = browser.find_elements_by_class_name(\"vereinprofil_tooltip\")\n",
    "url_links = []\n",
    "for link in elems:\n",
    "    url = link.get_attribute('href')\n",
    "    if url not in url_links and 'startseite' in url:\n",
    "        url_links.append(url)"
   ]
  },
  {
   "cell_type": "code",
   "execution_count": 11,
   "metadata": {},
   "outputs": [
    {
     "data": {
      "text/plain": [
       "26"
      ]
     },
     "execution_count": 11,
     "metadata": {},
     "output_type": "execute_result"
    }
   ],
   "source": [
    "len(url_links)"
   ]
  },
  {
   "cell_type": "code",
   "execution_count": 16,
   "metadata": {},
   "outputs": [],
   "source": [
    "club1 = url_links[0]"
   ]
  },
  {
   "cell_type": "code",
   "execution_count": 17,
   "metadata": {},
   "outputs": [],
   "source": [
    "browser.get(club1)"
   ]
  },
  {
   "cell_type": "markdown",
   "metadata": {},
   "source": [
    "### Go from club_url to detailed page club_url"
   ]
  },
  {
   "cell_type": "code",
   "execution_count": 21,
   "metadata": {},
   "outputs": [],
   "source": [
    "detailed_url = []\n",
    "for url in url_links:\n",
    "    change_url = url.replace('startseite', 'kader')\n",
    "    url_final = change_url + '/plus/1'\n",
    "    detailed_url.append(url_final)"
   ]
  },
  {
   "cell_type": "code",
   "execution_count": 121,
   "metadata": {},
   "outputs": [
    {
     "data": {
      "text/plain": [
       "['https://www.transfermarkt.co.uk/club-atletico-boca-juniors/kader/verein/189/saison_id/2018/plus/1',\n",
       " 'https://www.transfermarkt.co.uk/ca-independiente-de-avellaneda/kader/verein/1234/saison_id/2018/plus/1',\n",
       " 'https://www.transfermarkt.co.uk/club-atletico-river-plate/kader/verein/209/saison_id/2018/plus/1',\n",
       " 'https://www.transfermarkt.co.uk/racing-club-de-avellaneda/kader/verein/1444/saison_id/2018/plus/1',\n",
       " 'https://www.transfermarkt.co.uk/club-atletico-san-lorenzo-de-almagro/kader/verein/1775/saison_id/2018/plus/1',\n",
       " 'https://www.transfermarkt.co.uk/club-atletico-lanus/kader/verein/333/saison_id/2018/plus/1',\n",
       " 'https://www.transfermarkt.co.uk/club-atletico-velez-sarsfield/kader/verein/1029/saison_id/2018/plus/1',\n",
       " 'https://www.transfermarkt.co.uk/club-deportivo-godoy-cruz/kader/verein/12574/saison_id/2018/plus/1',\n",
       " 'https://www.transfermarkt.co.uk/club-atletico-colon-santa-fe-/kader/verein/1070/saison_id/2018/plus/1',\n",
       " 'https://www.transfermarkt.co.uk/defensa-y-justicia/kader/verein/2402/saison_id/2018/plus/1',\n",
       " 'https://www.transfermarkt.co.uk/club-atletico-rosario-central/kader/verein/1418/saison_id/2018/plus/1',\n",
       " 'https://www.transfermarkt.co.uk/talleres-de-cordoba-ca/kader/verein/3938/saison_id/2018/plus/1',\n",
       " 'https://www.transfermarkt.co.uk/ca-union-santa-fe/kader/verein/7097/saison_id/2018/plus/1',\n",
       " 'https://www.transfermarkt.co.uk/estudiantes-de-la-plata/kader/verein/288/saison_id/2018/plus/1',\n",
       " 'https://www.transfermarkt.co.uk/club-atletico-huracan/kader/verein/2063/saison_id/2018/plus/1',\n",
       " 'https://www.transfermarkt.co.uk/argentinos-juniors/kader/verein/1030/saison_id/2018/plus/1',\n",
       " 'https://www.transfermarkt.co.uk/club-atletico-banfield/kader/verein/830/saison_id/2018/plus/1',\n",
       " 'https://www.transfermarkt.co.uk/belgrano-de-cordoba/kader/verein/2417/saison_id/2018/plus/1',\n",
       " 'https://www.transfermarkt.co.uk/club-atletico-tigre/kader/verein/11831/saison_id/2018/plus/1',\n",
       " 'https://www.transfermarkt.co.uk/club-atletico-newells-old-boys/kader/verein/1286/saison_id/2018/plus/1',\n",
       " 'https://www.transfermarkt.co.uk/club-atletico-tucuman/kader/verein/14554/saison_id/2018/plus/1',\n",
       " 'https://www.transfermarkt.co.uk/club-de-gimnasia-y-esgrima-la-plata/kader/verein/1106/saison_id/2018/plus/1',\n",
       " 'https://www.transfermarkt.co.uk/club-atletico-aldosivi-mdp-/kader/verein/12301/saison_id/2018/plus/1',\n",
       " 'https://www.transfermarkt.co.uk/club-atletico-san-martin-sj-/kader/verein/10511/saison_id/2018/plus/1',\n",
       " 'https://www.transfermarkt.co.uk/club-atletico-san-martin-tucuman-/kader/verein/12709/saison_id/2018/plus/1',\n",
       " 'https://www.transfermarkt.co.uk/club-atletico-patronato/kader/verein/19806/saison_id/2018/plus/1']"
      ]
     },
     "execution_count": 121,
     "metadata": {},
     "output_type": "execute_result"
    }
   ],
   "source": [
    "detailed_url"
   ]
  },
  {
   "cell_type": "markdown",
   "metadata": {},
   "source": [
    "### for each detailed_url, input player dictionaries into mongo_db"
   ]
  },
  {
   "cell_type": "code",
   "execution_count": 122,
   "metadata": {},
   "outputs": [],
   "source": [
    "from html_scraper import scrape_player_info"
   ]
  },
  {
   "cell_type": "code",
   "execution_count": 128,
   "metadata": {},
   "outputs": [],
   "source": [
    "scrape_player_info(detailed_url, delay=15)"
   ]
  },
  {
   "cell_type": "code",
   "execution_count": 129,
   "metadata": {},
   "outputs": [
    {
     "data": {
      "text/plain": [
       "Database(MongoClient(host=['localhost:27017'], document_class=dict, tz_aware=False, connect=True), 'gameinfo_db')"
      ]
     },
     "execution_count": 129,
     "metadata": {},
     "output_type": "execute_result"
    }
   ],
   "source": [
    "db"
   ]
  },
  {
   "cell_type": "code",
   "execution_count": null,
   "metadata": {},
   "outputs": [],
   "source": [
    "db"
   ]
  },
  {
   "cell_type": "code",
   "execution_count": null,
   "metadata": {},
   "outputs": [],
   "source": []
  },
  {
   "cell_type": "code",
   "execution_count": null,
   "metadata": {},
   "outputs": [],
   "source": []
  },
  {
   "cell_type": "code",
   "execution_count": null,
   "metadata": {},
   "outputs": [],
   "source": []
  },
  {
   "cell_type": "code",
   "execution_count": null,
   "metadata": {},
   "outputs": [],
   "source": []
  },
  {
   "cell_type": "code",
   "execution_count": null,
   "metadata": {},
   "outputs": [],
   "source": []
  },
  {
   "cell_type": "code",
   "execution_count": 23,
   "metadata": {},
   "outputs": [],
   "source": [
    "club1 = detailed_url[0]\n",
    "browser.get(club1)"
   ]
  },
  {
   "cell_type": "code",
   "execution_count": 33,
   "metadata": {},
   "outputs": [],
   "source": [
    "sel = 'td.hauptlink a'\n",
    "link_elements = browser.find_elements_by_css_selector(sel)"
   ]
  },
  {
   "cell_type": "code",
   "execution_count": 37,
   "metadata": {},
   "outputs": [
    {
     "name": "stdout",
     "output_type": "stream",
     "text": [
      "Esteban Andrada\n"
     ]
    }
   ],
   "source": [
    "print(link_elements[0].text)"
   ]
  },
  {
   "cell_type": "code",
   "execution_count": null,
   "metadata": {},
   "outputs": [],
   "source": []
  },
  {
   "cell_type": "code",
   "execution_count": 38,
   "metadata": {},
   "outputs": [],
   "source": [
    "sel = 'td.zentriert'\n",
    "link_elements = browser.find_elements_by_css_selector(sel)"
   ]
  },
  {
   "cell_type": "code",
   "execution_count": 43,
   "metadata": {},
   "outputs": [
    {
     "name": "stdout",
     "output_type": "stream",
     "text": [
      "31\n"
     ]
    }
   ],
   "source": [
    "print(link_elements[0].text)"
   ]
  },
  {
   "cell_type": "code",
   "execution_count": 32,
   "metadata": {},
   "outputs": [
    {
     "name": "stdout",
     "output_type": "stream",
     "text": [
      "31\n",
      "Jan 26, 1991 (27)\n",
      "\n",
      "1,94 m\n",
      "right\n",
      "Aug 6, 2018\n",
      "\n",
      "30.06.2022\n",
      "1\n",
      "Aug 21, 1995 (23)\n",
      "\n",
      "1,93 m\n",
      "right\n",
      "Feb 1, 2017\n",
      "\n",
      "30.06.2021\n",
      "28\n",
      "Mar 17, 1987 (31)\n",
      "\n",
      "1,92 m\n",
      "right\n",
      "Oct 6, 2018\n",
      "\n",
      "31.12.2018\n",
      "25\n",
      "Mar 5, 1997 (21)\n",
      "\n",
      "1,87 m\n",
      "right\n",
      "-\n",
      "\n",
      "30.06.2019\n",
      "6\n",
      "Sep 27, 1993 (25)\n",
      "\n",
      "1,85 m\n",
      "right\n",
      "Jul 25, 2012\n",
      "\n",
      "30.06.2021\n",
      "24\n",
      "Nov 3, 1988 (30)\n",
      "\n",
      "1,86 m\n",
      "right\n",
      "Jul 5, 2018\n",
      "\n",
      "30.06.2021\n",
      "2\n",
      "May 12, 1985 (33)\n",
      "\n",
      "1,84 m\n",
      "right\n",
      "Jul 1, 2017\n",
      "\n",
      "30.06.2020\n",
      "26\n",
      "Jan 26, 1999 (19)\n",
      "\n",
      "1,87 m\n",
      "right\n",
      "Jul 1, 2018\n",
      "\n",
      "30.06.2021\n",
      "18\n",
      "Feb 22, 1991 (27)\n",
      "\n",
      "1,73 m\n",
      "left\n",
      "Jan 22, 2016\n",
      "\n",
      "30.06.2019\n",
      "3\n",
      "Jan 15, 1989 (29)\n",
      "\n",
      "1,80 m\n",
      "left\n",
      "Jan 4, 2018\n",
      "\n",
      "30.06.2021\n",
      "20\n",
      "Jul 21, 1994 (24)\n",
      "\n",
      "1,76 m\n",
      "left\n",
      "Jul 30, 2018\n",
      "\n",
      "30.06.2019\n",
      "14\n",
      "Jun 9, 1992 (26)\n",
      "\n",
      "1,76 m\n",
      "right\n",
      "Jan 22, 2015\n",
      "\n",
      "31.12.2018\n",
      "29\n",
      "May 20, 1991 (27)\n",
      "\n",
      "1,85 m\n",
      "right\n",
      "Jan 1, 2016\n",
      "\n",
      "30.06.2020\n",
      "4\n",
      "Aug 18, 1988 (30)\n",
      "\n",
      "1,70 m\n",
      "right\n",
      "Jan 1, 2018\n",
      "\n",
      "30.06.2021\n",
      "16\n",
      "Oct 16, 1993 (25)\n",
      "\n",
      "1,79 m\n",
      "right\n",
      "Aug 25, 2016\n",
      "\n",
      "30.06.2021\n",
      "40\n",
      "Jan 13, 1998 (20)\n",
      "\n",
      "1,86 m\n",
      "right\n",
      "-\n",
      "\n",
      "-\n",
      "15\n",
      "Dec 28, 1995 (22)\n",
      "\n",
      "1,72 m\n",
      "right\n",
      "Aug 23, 2017\n",
      "\n",
      "30.06.2020\n",
      "5\n",
      "Apr 10, 1986 (32)\n",
      "\n",
      "1,77 m\n",
      "right\n",
      "Jul 24, 2013\n",
      "\n",
      "30.06.2020\n",
      "8\n",
      "Aug 10, 1985 (33)\n",
      "\n",
      "1,75 m\n",
      "right\n",
      "Sep 1, 2015\n",
      "\n",
      "30.06.2020\n",
      "39\n",
      "Feb 11, 2000 (18)\n",
      "\n",
      "1,82 m\n",
      "right\n",
      "Jul 1, 2018\n",
      "\n",
      "-\n",
      "30\n",
      "Nov 16, 1995 (23)\n",
      "\n",
      "1,76 m\n",
      "left\n",
      "Jan 26, 2018\n",
      "\n",
      "31.12.2021\n",
      "10\n",
      "Dec 8, 1992 (25)\n",
      "\n",
      "1,85 m\n",
      "right\n",
      "Jul 17, 2017\n",
      "\n",
      "31.12.2018\n",
      "7\n",
      "Jan 21, 1996 (22)\n",
      "\n",
      "1,74 m\n",
      "right\n",
      "Jul 9, 2014\n",
      "\n",
      "30.06.2022\n",
      "11\n",
      "Apr 3, 1995 (23)\n",
      "\n",
      "1,73 m\n",
      "right\n",
      "Jul 18, 2017\n",
      "\n",
      "31.12.2018\n",
      "22\n",
      "May 19, 1996 (22)\n",
      "\n",
      "1,79 m\n",
      "right\n",
      "Jul 1, 2018\n",
      "\n",
      "30.06.2023\n",
      "32\n",
      "Feb 5, 1984 (34)\n",
      "\n",
      "1,71 m\n",
      "right\n",
      "Jan 6, 2018\n",
      "\n",
      "31.12.2019\n",
      "19\n",
      "Mar 18, 1987 (31)\n",
      "\n",
      "1,75 m\n",
      "right\n",
      "Jul 6, 2018\n",
      "\n",
      "30.06.2021\n",
      "9\n",
      "May 17, 1990 (28)\n",
      "\n",
      "1,77 m\n",
      "right\n",
      "Jul 1, 2016\n",
      "\n",
      "30.06.2021\n",
      "17\n",
      "Oct 14, 1989 (29)\n",
      "\n",
      "1,77 m\n",
      "right\n",
      "Aug 7, 2017\n",
      "\n",
      "30.06.2020\n"
     ]
    }
   ],
   "source": [
    "for link in link_elements:\n",
    "    print(link.text)"
   ]
  },
  {
   "cell_type": "code",
   "execution_count": 48,
   "metadata": {},
   "outputs": [],
   "source": [
    "sel = 'td.rechts.hauptlink'\n",
    "link_elements = browser.find_elements_by_css_selector(sel)"
   ]
  },
  {
   "cell_type": "code",
   "execution_count": 120,
   "metadata": {},
   "outputs": [
    {
     "data": {
      "text/plain": [
       "'4.05m'"
      ]
     },
     "execution_count": 120,
     "metadata": {},
     "output_type": "execute_result"
    }
   ],
   "source": [
    "test = '£4.05m  '\n",
    "chars = ['0', '1', '2', '3', '4', '5', '6', '7', '8', '9', 'k', 'm', '.']\n",
    "''.join(char for char in test if char in chars)"
   ]
  },
  {
   "cell_type": "code",
   "execution_count": 83,
   "metadata": {},
   "outputs": [],
   "source": [
    "player_dict_odd = {}\n",
    "for row in browser.find_elements_by_css_selector(\"tr.odd\"):\n",
    "    player = row.find_element_by_css_selector('td.hauptlink a').text\n",
    "    squad_num = row.find_elements_by_css_selector('td.zentriert')[0].text\n",
    "    birthday = row.find_elements_by_css_selector('td.zentriert')[1].text\n",
    "    transfer_value = row.find_element_by_css_selector('td.rechts.hauptlink').text\n",
    "    player_dict_odd[player] = {'squad_num': squad_num, 'birthday': birthday, 'transfer_value': transfer_value}"
   ]
  },
  {
   "cell_type": "code",
   "execution_count": 84,
   "metadata": {},
   "outputs": [
    {
     "data": {
      "text/plain": [
       "{'Esteban Andrada': {'squad_num': '31',\n",
       "  'birthday': 'Jan 26, 1991 (27)',\n",
       "  'transfer_value': '£4.50m  '},\n",
       " 'Carlos Lampe': {'squad_num': '28',\n",
       "  'birthday': 'Mar 17, 1987 (31)',\n",
       "  'transfer_value': '£495k  '},\n",
       " 'Lisandro Magallán': {'squad_num': '6',\n",
       "  'birthday': 'Sep 27, 1993 (25)',\n",
       "  'transfer_value': '£4.05m  '},\n",
       " 'Paolo Goltz': {'squad_num': '2',\n",
       "  'birthday': 'May 12, 1985 (33)',\n",
       "  'transfer_value': '£1.62m  '},\n",
       " 'Frank Fabra': {'squad_num': '18',\n",
       "  'birthday': 'Feb 22, 1991 (27)',\n",
       "  'transfer_value': '£5.40m  '},\n",
       " 'Lucas Olaza': {'squad_num': '20',\n",
       "  'birthday': 'Jul 21, 1994 (24)',\n",
       "  'transfer_value': '£2.25m  '},\n",
       " 'Leonardo Jara': {'squad_num': '29',\n",
       "  'birthday': 'May 20, 1991 (27)',\n",
       "  'transfer_value': '£3.15m  '},\n",
       " 'Wilmar Barrios': {'squad_num': '16',\n",
       "  'birthday': 'Oct 16, 1993 (25)',\n",
       "  'transfer_value': '£9.00m  '},\n",
       " 'Nahitan Nández': {'squad_num': '15',\n",
       "  'birthday': 'Dec 28, 1995 (22)',\n",
       "  'transfer_value': '£8.55m  '},\n",
       " 'Pablo Pérez': {'squad_num': '8',\n",
       "  'birthday': 'Aug 10, 1985 (33)',\n",
       "  'transfer_value': '£1.80m  '},\n",
       " 'Emanuel Reynoso': {'squad_num': '30',\n",
       "  'birthday': 'Nov 16, 1995 (23)',\n",
       "  'transfer_value': '£5.40m  '},\n",
       " 'Cristian Pavón': {'squad_num': '7',\n",
       "  'birthday': 'Jan 21, 1996 (22)',\n",
       "  'transfer_value': '£18.00m  '},\n",
       " 'Sebastián Villa': {'squad_num': '22',\n",
       "  'birthday': 'May 19, 1996 (22)',\n",
       "  'transfer_value': '£720k  '},\n",
       " 'Mauro Zárate': {'squad_num': '19',\n",
       "  'birthday': 'Mar 18, 1987 (31)',\n",
       "  'transfer_value': '£1.80m  '},\n",
       " 'Ramón Ábila': {'squad_num': '17',\n",
       "  'birthday': 'Oct 14, 1989 (29)',\n",
       "  'transfer_value': '£5.40m  '}}"
      ]
     },
     "execution_count": 84,
     "metadata": {},
     "output_type": "execute_result"
    }
   ],
   "source": [
    "player_dict_odd"
   ]
  },
  {
   "cell_type": "code",
   "execution_count": 94,
   "metadata": {},
   "outputs": [],
   "source": [
    "player_dict_even = {}\n",
    "for row in browser.find_elements_by_css_selector(\"tr.even\"):\n",
    "    player = row.find_element_by_css_selector('td.hauptlink a').text\n",
    "    squad_num = row.find_elements_by_css_selector('td.zentriert')[0].text\n",
    "    birthday = row.find_elements_by_css_selector('td.zentriert')[1].text\n",
    "#     nationality = row.find_element_by_css_selector('td.zentriert.img')\n",
    "    transfer_value = row.find_element_by_css_selector('td.rechts.hauptlink').text\n",
    "    player_dict_even[player] = {'squad_num': squad_num, 'birthday': birthday, 'transfer_value': transfer_value}"
   ]
  },
  {
   "cell_type": "code",
   "execution_count": 95,
   "metadata": {},
   "outputs": [
    {
     "data": {
      "text/plain": [
       "{'Agustín Rossi': {'squad_num': '1',\n",
       "  'birthday': 'Aug 21, 1995 (23)',\n",
       "  'transfer_value': '£2.25m  '},\n",
       " 'Javier Bustillos': {'squad_num': '25',\n",
       "  'birthday': 'Mar 5, 1997 (21)',\n",
       "  'transfer_value': '£45k  '},\n",
       " 'Carlos Izquierdoz': {'squad_num': '24',\n",
       "  'birthday': 'Nov 3, 1988 (30)',\n",
       "  'transfer_value': '£2.70m  '},\n",
       " 'Leonardo Balerdi': {'squad_num': '26',\n",
       "  'birthday': 'Jan 26, 1999 (19)',\n",
       "  'transfer_value': '- '},\n",
       " 'Emmanuel Más': {'squad_num': '3',\n",
       "  'birthday': 'Jan 15, 1989 (29)',\n",
       "  'transfer_value': '£2.25m  '},\n",
       " 'Gino Peruzzi': {'squad_num': '14',\n",
       "  'birthday': 'Jun 9, 1992 (26)',\n",
       "  'transfer_value': '£3.15m  '},\n",
       " 'Julio Buffarini': {'squad_num': '4',\n",
       "  'birthday': 'Aug 18, 1988 (30)',\n",
       "  'transfer_value': '£1.80m  '},\n",
       " 'Julián Chicco': {'squad_num': '40',\n",
       "  'birthday': 'Jan 13, 1998 (20)',\n",
       "  'transfer_value': '£540k  '},\n",
       " 'Fernando Gago': {'squad_num': '5',\n",
       "  'birthday': 'Apr 10, 1986 (32)',\n",
       "  'transfer_value': '£1.80m  '},\n",
       " 'Agustín Almendra': {'squad_num': '39',\n",
       "  'birthday': 'Feb 11, 2000 (18)',\n",
       "  'transfer_value': '£450k  '},\n",
       " 'Edwin Cardona': {'squad_num': '10',\n",
       "  'birthday': 'Dec 8, 1992 (25)',\n",
       "  'transfer_value': '£4.95m  '},\n",
       " 'Cristian Espinoza': {'squad_num': '11',\n",
       "  'birthday': 'Apr 3, 1995 (23)',\n",
       "  'transfer_value': '£1.35m  '},\n",
       " 'Carlos Tévez': {'squad_num': '32',\n",
       "  'birthday': 'Feb 5, 1984 (34)',\n",
       "  'transfer_value': '£2.25m  '},\n",
       " 'Darío Benedetto': {'squad_num': '9',\n",
       "  'birthday': 'May 17, 1990 (28)',\n",
       "  'transfer_value': '£9.00m  '}}"
      ]
     },
     "execution_count": 95,
     "metadata": {},
     "output_type": "execute_result"
    }
   ],
   "source": [
    "player_dict_even"
   ]
  },
  {
   "cell_type": "code",
   "execution_count": 100,
   "metadata": {},
   "outputs": [],
   "source": [
    "player_dict = {**player_dict_even, **player_dict_odd}"
   ]
  },
  {
   "cell_type": "code",
   "execution_count": 102,
   "metadata": {},
   "outputs": [
    {
     "data": {
      "text/plain": [
       "29"
      ]
     },
     "execution_count": 102,
     "metadata": {},
     "output_type": "execute_result"
    }
   ],
   "source": [
    "len(player_dict)"
   ]
  },
  {
   "cell_type": "code",
   "execution_count": 108,
   "metadata": {},
   "outputs": [],
   "source": [
    "test = db['test']"
   ]
  },
  {
   "cell_type": "code",
   "execution_count": 109,
   "metadata": {},
   "outputs": [
    {
     "data": {
      "text/plain": [
       "<pymongo.results.InsertOneResult at 0x11ba6aac8>"
      ]
     },
     "execution_count": 109,
     "metadata": {},
     "output_type": "execute_result"
    }
   ],
   "source": [
    "test.insert_one(player_dict)"
   ]
  },
  {
   "cell_type": "code",
   "execution_count": 110,
   "metadata": {},
   "outputs": [
    {
     "data": {
      "text/plain": [
       "{'_id': ObjectId('5c043f6d3d54c00a1992754f'),\n",
       " 'Agustín Rossi': {'squad_num': '1',\n",
       "  'birthday': 'Aug 21, 1995 (23)',\n",
       "  'transfer_value': '£2.25m  '},\n",
       " 'Javier Bustillos': {'squad_num': '25',\n",
       "  'birthday': 'Mar 5, 1997 (21)',\n",
       "  'transfer_value': '£45k  '},\n",
       " 'Carlos Izquierdoz': {'squad_num': '24',\n",
       "  'birthday': 'Nov 3, 1988 (30)',\n",
       "  'transfer_value': '£2.70m  '},\n",
       " 'Leonardo Balerdi': {'squad_num': '26',\n",
       "  'birthday': 'Jan 26, 1999 (19)',\n",
       "  'transfer_value': '- '},\n",
       " 'Emmanuel Más': {'squad_num': '3',\n",
       "  'birthday': 'Jan 15, 1989 (29)',\n",
       "  'transfer_value': '£2.25m  '},\n",
       " 'Gino Peruzzi': {'squad_num': '14',\n",
       "  'birthday': 'Jun 9, 1992 (26)',\n",
       "  'transfer_value': '£3.15m  '},\n",
       " 'Julio Buffarini': {'squad_num': '4',\n",
       "  'birthday': 'Aug 18, 1988 (30)',\n",
       "  'transfer_value': '£1.80m  '},\n",
       " 'Julián Chicco': {'squad_num': '40',\n",
       "  'birthday': 'Jan 13, 1998 (20)',\n",
       "  'transfer_value': '£540k  '},\n",
       " 'Fernando Gago': {'squad_num': '5',\n",
       "  'birthday': 'Apr 10, 1986 (32)',\n",
       "  'transfer_value': '£1.80m  '},\n",
       " 'Agustín Almendra': {'squad_num': '39',\n",
       "  'birthday': 'Feb 11, 2000 (18)',\n",
       "  'transfer_value': '£450k  '},\n",
       " 'Edwin Cardona': {'squad_num': '10',\n",
       "  'birthday': 'Dec 8, 1992 (25)',\n",
       "  'transfer_value': '£4.95m  '},\n",
       " 'Cristian Espinoza': {'squad_num': '11',\n",
       "  'birthday': 'Apr 3, 1995 (23)',\n",
       "  'transfer_value': '£1.35m  '},\n",
       " 'Carlos Tévez': {'squad_num': '32',\n",
       "  'birthday': 'Feb 5, 1984 (34)',\n",
       "  'transfer_value': '£2.25m  '},\n",
       " 'Darío Benedetto': {'squad_num': '9',\n",
       "  'birthday': 'May 17, 1990 (28)',\n",
       "  'transfer_value': '£9.00m  '},\n",
       " 'Esteban Andrada': {'squad_num': '31',\n",
       "  'birthday': 'Jan 26, 1991 (27)',\n",
       "  'transfer_value': '£4.50m  '},\n",
       " 'Carlos Lampe': {'squad_num': '28',\n",
       "  'birthday': 'Mar 17, 1987 (31)',\n",
       "  'transfer_value': '£495k  '},\n",
       " 'Lisandro Magallán': {'squad_num': '6',\n",
       "  'birthday': 'Sep 27, 1993 (25)',\n",
       "  'transfer_value': '£4.05m  '},\n",
       " 'Paolo Goltz': {'squad_num': '2',\n",
       "  'birthday': 'May 12, 1985 (33)',\n",
       "  'transfer_value': '£1.62m  '},\n",
       " 'Frank Fabra': {'squad_num': '18',\n",
       "  'birthday': 'Feb 22, 1991 (27)',\n",
       "  'transfer_value': '£5.40m  '},\n",
       " 'Lucas Olaza': {'squad_num': '20',\n",
       "  'birthday': 'Jul 21, 1994 (24)',\n",
       "  'transfer_value': '£2.25m  '},\n",
       " 'Leonardo Jara': {'squad_num': '29',\n",
       "  'birthday': 'May 20, 1991 (27)',\n",
       "  'transfer_value': '£3.15m  '},\n",
       " 'Wilmar Barrios': {'squad_num': '16',\n",
       "  'birthday': 'Oct 16, 1993 (25)',\n",
       "  'transfer_value': '£9.00m  '},\n",
       " 'Nahitan Nández': {'squad_num': '15',\n",
       "  'birthday': 'Dec 28, 1995 (22)',\n",
       "  'transfer_value': '£8.55m  '},\n",
       " 'Pablo Pérez': {'squad_num': '8',\n",
       "  'birthday': 'Aug 10, 1985 (33)',\n",
       "  'transfer_value': '£1.80m  '},\n",
       " 'Emanuel Reynoso': {'squad_num': '30',\n",
       "  'birthday': 'Nov 16, 1995 (23)',\n",
       "  'transfer_value': '£5.40m  '},\n",
       " 'Cristian Pavón': {'squad_num': '7',\n",
       "  'birthday': 'Jan 21, 1996 (22)',\n",
       "  'transfer_value': '£18.00m  '},\n",
       " 'Sebastián Villa': {'squad_num': '22',\n",
       "  'birthday': 'May 19, 1996 (22)',\n",
       "  'transfer_value': '£720k  '},\n",
       " 'Mauro Zárate': {'squad_num': '19',\n",
       "  'birthday': 'Mar 18, 1987 (31)',\n",
       "  'transfer_value': '£1.80m  '},\n",
       " 'Ramón Ábila': {'squad_num': '17',\n",
       "  'birthday': 'Oct 14, 1989 (29)',\n",
       "  'transfer_value': '£5.40m  '}}"
      ]
     },
     "execution_count": 110,
     "metadata": {},
     "output_type": "execute_result"
    }
   ],
   "source": [
    "db.test.find_one()"
   ]
  },
  {
   "cell_type": "code",
   "execution_count": null,
   "metadata": {},
   "outputs": [],
   "source": []
  }
 ],
 "metadata": {
  "kernelspec": {
   "display_name": "Python 3",
   "language": "python",
   "name": "python3"
  },
  "language_info": {
   "codemirror_mode": {
    "name": "ipython",
    "version": 3
   },
   "file_extension": ".py",
   "mimetype": "text/x-python",
   "name": "python",
   "nbconvert_exporter": "python",
   "pygments_lexer": "ipython3",
   "version": "3.6.6"
  }
 },
 "nbformat": 4,
 "nbformat_minor": 2
}
