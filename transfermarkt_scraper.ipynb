{
 "cells": [
  {
   "cell_type": "code",
   "execution_count": 1,
   "metadata": {},
   "outputs": [],
   "source": [
    "from selenium.webdriver import (Chrome, Firefox)\n",
    "import time\n",
    "\n",
    "import requests\n",
    "from bs4 import BeautifulSoup"
   ]
  },
  {
   "cell_type": "code",
   "execution_count": 3,
   "metadata": {},
   "outputs": [],
   "source": [
    "from html_scraper import db"
   ]
  },
  {
   "cell_type": "code",
   "execution_count": 4,
   "metadata": {},
   "outputs": [],
   "source": [
    "players = db['players']"
   ]
  },
  {
   "cell_type": "code",
   "execution_count": 8,
   "metadata": {},
   "outputs": [],
   "source": [
    "player_urls = db['player_urls']"
   ]
  },
  {
   "cell_type": "code",
   "execution_count": 2,
   "metadata": {},
   "outputs": [],
   "source": [
    "browser = Firefox()"
   ]
  },
  {
   "cell_type": "code",
   "execution_count": 5,
   "metadata": {},
   "outputs": [],
   "source": [
    "url = 'https://www.transfermarkt.co.uk/primera-division/startseite/wettbewerb/AR1N'"
   ]
  },
  {
   "cell_type": "code",
   "execution_count": 6,
   "metadata": {},
   "outputs": [],
   "source": [
    "browser.get(url)"
   ]
  },
  {
   "cell_type": "code",
   "execution_count": 9,
   "metadata": {},
   "outputs": [],
   "source": [
    "elems = browser.find_elements_by_class_name(\"vereinprofil_tooltip\")\n",
    "url_links = []\n",
    "for link in elems:\n",
    "    url = link.get_attribute('href')\n",
    "    if url not in url_links and 'startseite' in url:\n",
    "        url_links.append(url)"
   ]
  },
  {
   "cell_type": "code",
   "execution_count": 11,
   "metadata": {},
   "outputs": [
    {
     "data": {
      "text/plain": [
       "26"
      ]
     },
     "execution_count": 11,
     "metadata": {},
     "output_type": "execute_result"
    }
   ],
   "source": [
    "len(url_links)"
   ]
  },
  {
   "cell_type": "code",
   "execution_count": 16,
   "metadata": {},
   "outputs": [],
   "source": [
    "club1 = url_links[0]"
   ]
  },
  {
   "cell_type": "code",
   "execution_count": 17,
   "metadata": {},
   "outputs": [],
   "source": [
    "browser.get(club1)"
   ]
  },
  {
   "cell_type": "markdown",
   "metadata": {},
   "source": [
    "### Go from club_url to detailed page club_url"
   ]
  },
  {
   "cell_type": "code",
   "execution_count": 21,
   "metadata": {},
   "outputs": [],
   "source": [
    "detailed_url = []\n",
    "for url in url_links:\n",
    "    change_url = url.replace('startseite', 'kader')\n",
    "    url_final = change_url + '/plus/1'\n",
    "    detailed_url.append(url_final)"
   ]
  },
  {
   "cell_type": "code",
   "execution_count": 121,
   "metadata": {},
   "outputs": [
    {
     "data": {
      "text/plain": [
       "['https://www.transfermarkt.co.uk/club-atletico-boca-juniors/kader/verein/189/saison_id/2018/plus/1',\n",
       " 'https://www.transfermarkt.co.uk/ca-independiente-de-avellaneda/kader/verein/1234/saison_id/2018/plus/1',\n",
       " 'https://www.transfermarkt.co.uk/club-atletico-river-plate/kader/verein/209/saison_id/2018/plus/1',\n",
       " 'https://www.transfermarkt.co.uk/racing-club-de-avellaneda/kader/verein/1444/saison_id/2018/plus/1',\n",
       " 'https://www.transfermarkt.co.uk/club-atletico-san-lorenzo-de-almagro/kader/verein/1775/saison_id/2018/plus/1',\n",
       " 'https://www.transfermarkt.co.uk/club-atletico-lanus/kader/verein/333/saison_id/2018/plus/1',\n",
       " 'https://www.transfermarkt.co.uk/club-atletico-velez-sarsfield/kader/verein/1029/saison_id/2018/plus/1',\n",
       " 'https://www.transfermarkt.co.uk/club-deportivo-godoy-cruz/kader/verein/12574/saison_id/2018/plus/1',\n",
       " 'https://www.transfermarkt.co.uk/club-atletico-colon-santa-fe-/kader/verein/1070/saison_id/2018/plus/1',\n",
       " 'https://www.transfermarkt.co.uk/defensa-y-justicia/kader/verein/2402/saison_id/2018/plus/1',\n",
       " 'https://www.transfermarkt.co.uk/club-atletico-rosario-central/kader/verein/1418/saison_id/2018/plus/1',\n",
       " 'https://www.transfermarkt.co.uk/talleres-de-cordoba-ca/kader/verein/3938/saison_id/2018/plus/1',\n",
       " 'https://www.transfermarkt.co.uk/ca-union-santa-fe/kader/verein/7097/saison_id/2018/plus/1',\n",
       " 'https://www.transfermarkt.co.uk/estudiantes-de-la-plata/kader/verein/288/saison_id/2018/plus/1',\n",
       " 'https://www.transfermarkt.co.uk/club-atletico-huracan/kader/verein/2063/saison_id/2018/plus/1',\n",
       " 'https://www.transfermarkt.co.uk/argentinos-juniors/kader/verein/1030/saison_id/2018/plus/1',\n",
       " 'https://www.transfermarkt.co.uk/club-atletico-banfield/kader/verein/830/saison_id/2018/plus/1',\n",
       " 'https://www.transfermarkt.co.uk/belgrano-de-cordoba/kader/verein/2417/saison_id/2018/plus/1',\n",
       " 'https://www.transfermarkt.co.uk/club-atletico-tigre/kader/verein/11831/saison_id/2018/plus/1',\n",
       " 'https://www.transfermarkt.co.uk/club-atletico-newells-old-boys/kader/verein/1286/saison_id/2018/plus/1',\n",
       " 'https://www.transfermarkt.co.uk/club-atletico-tucuman/kader/verein/14554/saison_id/2018/plus/1',\n",
       " 'https://www.transfermarkt.co.uk/club-de-gimnasia-y-esgrima-la-plata/kader/verein/1106/saison_id/2018/plus/1',\n",
       " 'https://www.transfermarkt.co.uk/club-atletico-aldosivi-mdp-/kader/verein/12301/saison_id/2018/plus/1',\n",
       " 'https://www.transfermarkt.co.uk/club-atletico-san-martin-sj-/kader/verein/10511/saison_id/2018/plus/1',\n",
       " 'https://www.transfermarkt.co.uk/club-atletico-san-martin-tucuman-/kader/verein/12709/saison_id/2018/plus/1',\n",
       " 'https://www.transfermarkt.co.uk/club-atletico-patronato/kader/verein/19806/saison_id/2018/plus/1']"
      ]
     },
     "execution_count": 121,
     "metadata": {},
     "output_type": "execute_result"
    }
   ],
   "source": [
    "detailed_url"
   ]
  },
  {
   "cell_type": "markdown",
   "metadata": {},
   "source": [
    "### for each detailed_url, input player dictionaries into mongo_db"
   ]
  },
  {
   "cell_type": "code",
   "execution_count": 122,
   "metadata": {},
   "outputs": [],
   "source": [
    "from html_scraper import scrape_player_info"
   ]
  },
  {
   "cell_type": "code",
   "execution_count": 128,
   "metadata": {},
   "outputs": [],
   "source": [
    "scrape_player_info(detailed_url, delay=15)"
   ]
  },
  {
   "cell_type": "code",
   "execution_count": 129,
   "metadata": {},
   "outputs": [
    {
     "data": {
      "text/plain": [
       "Database(MongoClient(host=['localhost:27017'], document_class=dict, tz_aware=False, connect=True), 'gameinfo_db')"
      ]
     },
     "execution_count": 129,
     "metadata": {},
     "output_type": "execute_result"
    }
   ],
   "source": [
    "db"
   ]
  },
  {
   "cell_type": "code",
   "execution_count": 23,
   "metadata": {},
   "outputs": [],
   "source": [
    "club1 = detailed_url[0]\n",
    "browser.get(club1)"
   ]
  },
  {
   "cell_type": "code",
   "execution_count": 33,
   "metadata": {},
   "outputs": [],
   "source": [
    "sel = 'td.hauptlink a'\n",
    "link_elements = browser.find_elements_by_css_selector(sel)"
   ]
  },
  {
   "cell_type": "code",
   "execution_count": 37,
   "metadata": {},
   "outputs": [
    {
     "name": "stdout",
     "output_type": "stream",
     "text": [
      "Esteban Andrada\n"
     ]
    }
   ],
   "source": [
    "print(link_elements[0].text)"
   ]
  },
  {
   "cell_type": "code",
   "execution_count": null,
   "metadata": {},
   "outputs": [],
   "source": []
  },
  {
   "cell_type": "code",
   "execution_count": 38,
   "metadata": {},
   "outputs": [],
   "source": [
    "sel = 'td.zentriert'\n",
    "link_elements = browser.find_elements_by_css_selector(sel)"
   ]
  },
  {
   "cell_type": "code",
   "execution_count": 43,
   "metadata": {},
   "outputs": [
    {
     "name": "stdout",
     "output_type": "stream",
     "text": [
      "31\n"
     ]
    }
   ],
   "source": [
    "print(link_elements[0].text)"
   ]
  },
  {
   "cell_type": "code",
   "execution_count": 32,
   "metadata": {},
   "outputs": [
    {
     "name": "stdout",
     "output_type": "stream",
     "text": [
      "31\n",
      "Jan 26, 1991 (27)\n",
      "\n",
      "1,94 m\n",
      "right\n",
      "Aug 6, 2018\n",
      "\n",
      "30.06.2022\n",
      "1\n",
      "Aug 21, 1995 (23)\n",
      "\n",
      "1,93 m\n",
      "right\n",
      "Feb 1, 2017\n",
      "\n",
      "30.06.2021\n",
      "28\n",
      "Mar 17, 1987 (31)\n",
      "\n",
      "1,92 m\n",
      "right\n",
      "Oct 6, 2018\n",
      "\n",
      "31.12.2018\n",
      "25\n",
      "Mar 5, 1997 (21)\n",
      "\n",
      "1,87 m\n",
      "right\n",
      "-\n",
      "\n",
      "30.06.2019\n",
      "6\n",
      "Sep 27, 1993 (25)\n",
      "\n",
      "1,85 m\n",
      "right\n",
      "Jul 25, 2012\n",
      "\n",
      "30.06.2021\n",
      "24\n",
      "Nov 3, 1988 (30)\n",
      "\n",
      "1,86 m\n",
      "right\n",
      "Jul 5, 2018\n",
      "\n",
      "30.06.2021\n",
      "2\n",
      "May 12, 1985 (33)\n",
      "\n",
      "1,84 m\n",
      "right\n",
      "Jul 1, 2017\n",
      "\n",
      "30.06.2020\n",
      "26\n",
      "Jan 26, 1999 (19)\n",
      "\n",
      "1,87 m\n",
      "right\n",
      "Jul 1, 2018\n",
      "\n",
      "30.06.2021\n",
      "18\n",
      "Feb 22, 1991 (27)\n",
      "\n",
      "1,73 m\n",
      "left\n",
      "Jan 22, 2016\n",
      "\n",
      "30.06.2019\n",
      "3\n",
      "Jan 15, 1989 (29)\n",
      "\n",
      "1,80 m\n",
      "left\n",
      "Jan 4, 2018\n",
      "\n",
      "30.06.2021\n",
      "20\n",
      "Jul 21, 1994 (24)\n",
      "\n",
      "1,76 m\n",
      "left\n",
      "Jul 30, 2018\n",
      "\n",
      "30.06.2019\n",
      "14\n",
      "Jun 9, 1992 (26)\n",
      "\n",
      "1,76 m\n",
      "right\n",
      "Jan 22, 2015\n",
      "\n",
      "31.12.2018\n",
      "29\n",
      "May 20, 1991 (27)\n",
      "\n",
      "1,85 m\n",
      "right\n",
      "Jan 1, 2016\n",
      "\n",
      "30.06.2020\n",
      "4\n",
      "Aug 18, 1988 (30)\n",
      "\n",
      "1,70 m\n",
      "right\n",
      "Jan 1, 2018\n",
      "\n",
      "30.06.2021\n",
      "16\n",
      "Oct 16, 1993 (25)\n",
      "\n",
      "1,79 m\n",
      "right\n",
      "Aug 25, 2016\n",
      "\n",
      "30.06.2021\n",
      "40\n",
      "Jan 13, 1998 (20)\n",
      "\n",
      "1,86 m\n",
      "right\n",
      "-\n",
      "\n",
      "-\n",
      "15\n",
      "Dec 28, 1995 (22)\n",
      "\n",
      "1,72 m\n",
      "right\n",
      "Aug 23, 2017\n",
      "\n",
      "30.06.2020\n",
      "5\n",
      "Apr 10, 1986 (32)\n",
      "\n",
      "1,77 m\n",
      "right\n",
      "Jul 24, 2013\n",
      "\n",
      "30.06.2020\n",
      "8\n",
      "Aug 10, 1985 (33)\n",
      "\n",
      "1,75 m\n",
      "right\n",
      "Sep 1, 2015\n",
      "\n",
      "30.06.2020\n",
      "39\n",
      "Feb 11, 2000 (18)\n",
      "\n",
      "1,82 m\n",
      "right\n",
      "Jul 1, 2018\n",
      "\n",
      "-\n",
      "30\n",
      "Nov 16, 1995 (23)\n",
      "\n",
      "1,76 m\n",
      "left\n",
      "Jan 26, 2018\n",
      "\n",
      "31.12.2021\n",
      "10\n",
      "Dec 8, 1992 (25)\n",
      "\n",
      "1,85 m\n",
      "right\n",
      "Jul 17, 2017\n",
      "\n",
      "31.12.2018\n",
      "7\n",
      "Jan 21, 1996 (22)\n",
      "\n",
      "1,74 m\n",
      "right\n",
      "Jul 9, 2014\n",
      "\n",
      "30.06.2022\n",
      "11\n",
      "Apr 3, 1995 (23)\n",
      "\n",
      "1,73 m\n",
      "right\n",
      "Jul 18, 2017\n",
      "\n",
      "31.12.2018\n",
      "22\n",
      "May 19, 1996 (22)\n",
      "\n",
      "1,79 m\n",
      "right\n",
      "Jul 1, 2018\n",
      "\n",
      "30.06.2023\n",
      "32\n",
      "Feb 5, 1984 (34)\n",
      "\n",
      "1,71 m\n",
      "right\n",
      "Jan 6, 2018\n",
      "\n",
      "31.12.2019\n",
      "19\n",
      "Mar 18, 1987 (31)\n",
      "\n",
      "1,75 m\n",
      "right\n",
      "Jul 6, 2018\n",
      "\n",
      "30.06.2021\n",
      "9\n",
      "May 17, 1990 (28)\n",
      "\n",
      "1,77 m\n",
      "right\n",
      "Jul 1, 2016\n",
      "\n",
      "30.06.2021\n",
      "17\n",
      "Oct 14, 1989 (29)\n",
      "\n",
      "1,77 m\n",
      "right\n",
      "Aug 7, 2017\n",
      "\n",
      "30.06.2020\n"
     ]
    }
   ],
   "source": [
    "for link in link_elements:\n",
    "    print(link.text)"
   ]
  },
  {
   "cell_type": "code",
   "execution_count": 48,
   "metadata": {},
   "outputs": [],
   "source": [
    "sel = 'td.rechts.hauptlink'\n",
    "link_elements = browser.find_elements_by_css_selector(sel)"
   ]
  },
  {
   "cell_type": "code",
   "execution_count": 120,
   "metadata": {},
   "outputs": [
    {
     "data": {
      "text/plain": [
       "'4.05m'"
      ]
     },
     "execution_count": 120,
     "metadata": {},
     "output_type": "execute_result"
    }
   ],
   "source": [
    "test = '£4.05m  '\n",
    "chars = ['0', '1', '2', '3', '4', '5', '6', '7', '8', '9', 'k', 'm', '.']\n",
    "''.join(char for char in test if char in chars)"
   ]
  },
  {
   "cell_type": "code",
   "execution_count": 83,
   "metadata": {},
   "outputs": [],
   "source": [
    "player_dict_odd = {}\n",
    "for row in browser.find_elements_by_css_selector(\"tr.odd\"):\n",
    "    player = row.find_element_by_css_selector('td.hauptlink a').text\n",
    "    squad_num = row.find_elements_by_css_selector('td.zentriert')[0].text\n",
    "    birthday = row.find_elements_by_css_selector('td.zentriert')[1].text\n",
    "    transfer_value = row.find_element_by_css_selector('td.rechts.hauptlink').text\n",
    "    player_dict_odd[player] = {'squad_num': squad_num, 'birthday': birthday, 'transfer_value': transfer_value}"
   ]
  },
  {
   "cell_type": "code",
   "execution_count": 84,
   "metadata": {},
   "outputs": [
    {
     "data": {
      "text/plain": [
       "{'Esteban Andrada': {'squad_num': '31',\n",
       "  'birthday': 'Jan 26, 1991 (27)',\n",
       "  'transfer_value': '£4.50m  '},\n",
       " 'Carlos Lampe': {'squad_num': '28',\n",
       "  'birthday': 'Mar 17, 1987 (31)',\n",
       "  'transfer_value': '£495k  '},\n",
       " 'Lisandro Magallán': {'squad_num': '6',\n",
       "  'birthday': 'Sep 27, 1993 (25)',\n",
       "  'transfer_value': '£4.05m  '},\n",
       " 'Paolo Goltz': {'squad_num': '2',\n",
       "  'birthday': 'May 12, 1985 (33)',\n",
       "  'transfer_value': '£1.62m  '},\n",
       " 'Frank Fabra': {'squad_num': '18',\n",
       "  'birthday': 'Feb 22, 1991 (27)',\n",
       "  'transfer_value': '£5.40m  '},\n",
       " 'Lucas Olaza': {'squad_num': '20',\n",
       "  'birthday': 'Jul 21, 1994 (24)',\n",
       "  'transfer_value': '£2.25m  '},\n",
       " 'Leonardo Jara': {'squad_num': '29',\n",
       "  'birthday': 'May 20, 1991 (27)',\n",
       "  'transfer_value': '£3.15m  '},\n",
       " 'Wilmar Barrios': {'squad_num': '16',\n",
       "  'birthday': 'Oct 16, 1993 (25)',\n",
       "  'transfer_value': '£9.00m  '},\n",
       " 'Nahitan Nández': {'squad_num': '15',\n",
       "  'birthday': 'Dec 28, 1995 (22)',\n",
       "  'transfer_value': '£8.55m  '},\n",
       " 'Pablo Pérez': {'squad_num': '8',\n",
       "  'birthday': 'Aug 10, 1985 (33)',\n",
       "  'transfer_value': '£1.80m  '},\n",
       " 'Emanuel Reynoso': {'squad_num': '30',\n",
       "  'birthday': 'Nov 16, 1995 (23)',\n",
       "  'transfer_value': '£5.40m  '},\n",
       " 'Cristian Pavón': {'squad_num': '7',\n",
       "  'birthday': 'Jan 21, 1996 (22)',\n",
       "  'transfer_value': '£18.00m  '},\n",
       " 'Sebastián Villa': {'squad_num': '22',\n",
       "  'birthday': 'May 19, 1996 (22)',\n",
       "  'transfer_value': '£720k  '},\n",
       " 'Mauro Zárate': {'squad_num': '19',\n",
       "  'birthday': 'Mar 18, 1987 (31)',\n",
       "  'transfer_value': '£1.80m  '},\n",
       " 'Ramón Ábila': {'squad_num': '17',\n",
       "  'birthday': 'Oct 14, 1989 (29)',\n",
       "  'transfer_value': '£5.40m  '}}"
      ]
     },
     "execution_count": 84,
     "metadata": {},
     "output_type": "execute_result"
    }
   ],
   "source": [
    "player_dict_odd"
   ]
  },
  {
   "cell_type": "code",
   "execution_count": 94,
   "metadata": {},
   "outputs": [],
   "source": [
    "# player_dict_even = {}\n",
    "# for row in browser.find_elements_by_css_selector(\"tr.even\"):\n",
    "#     player = row.find_element_by_css_selector('td.hauptlink a').text\n",
    "#     squad_num = row.find_elements_by_css_selector('td.zentriert')[0].text\n",
    "#     birthday = row.find_elements_by_css_selector('td.zentriert')[1].text\n",
    "# #     nationality = row.find_element_by_css_selector('td.zentriert.img')\n",
    "#     transfer_value = row.find_element_by_css_selector('td.rechts.hauptlink').text\n",
    "#     player_dict_even[player] = {'squad_num': squad_num, 'birthday': birthday, 'transfer_value': transfer_value}"
   ]
  },
  {
   "cell_type": "code",
   "execution_count": 95,
   "metadata": {},
   "outputs": [
    {
     "data": {
      "text/plain": [
       "{'Agustín Rossi': {'squad_num': '1',\n",
       "  'birthday': 'Aug 21, 1995 (23)',\n",
       "  'transfer_value': '£2.25m  '},\n",
       " 'Javier Bustillos': {'squad_num': '25',\n",
       "  'birthday': 'Mar 5, 1997 (21)',\n",
       "  'transfer_value': '£45k  '},\n",
       " 'Carlos Izquierdoz': {'squad_num': '24',\n",
       "  'birthday': 'Nov 3, 1988 (30)',\n",
       "  'transfer_value': '£2.70m  '},\n",
       " 'Leonardo Balerdi': {'squad_num': '26',\n",
       "  'birthday': 'Jan 26, 1999 (19)',\n",
       "  'transfer_value': '- '},\n",
       " 'Emmanuel Más': {'squad_num': '3',\n",
       "  'birthday': 'Jan 15, 1989 (29)',\n",
       "  'transfer_value': '£2.25m  '},\n",
       " 'Gino Peruzzi': {'squad_num': '14',\n",
       "  'birthday': 'Jun 9, 1992 (26)',\n",
       "  'transfer_value': '£3.15m  '},\n",
       " 'Julio Buffarini': {'squad_num': '4',\n",
       "  'birthday': 'Aug 18, 1988 (30)',\n",
       "  'transfer_value': '£1.80m  '},\n",
       " 'Julián Chicco': {'squad_num': '40',\n",
       "  'birthday': 'Jan 13, 1998 (20)',\n",
       "  'transfer_value': '£540k  '},\n",
       " 'Fernando Gago': {'squad_num': '5',\n",
       "  'birthday': 'Apr 10, 1986 (32)',\n",
       "  'transfer_value': '£1.80m  '},\n",
       " 'Agustín Almendra': {'squad_num': '39',\n",
       "  'birthday': 'Feb 11, 2000 (18)',\n",
       "  'transfer_value': '£450k  '},\n",
       " 'Edwin Cardona': {'squad_num': '10',\n",
       "  'birthday': 'Dec 8, 1992 (25)',\n",
       "  'transfer_value': '£4.95m  '},\n",
       " 'Cristian Espinoza': {'squad_num': '11',\n",
       "  'birthday': 'Apr 3, 1995 (23)',\n",
       "  'transfer_value': '£1.35m  '},\n",
       " 'Carlos Tévez': {'squad_num': '32',\n",
       "  'birthday': 'Feb 5, 1984 (34)',\n",
       "  'transfer_value': '£2.25m  '},\n",
       " 'Darío Benedetto': {'squad_num': '9',\n",
       "  'birthday': 'May 17, 1990 (28)',\n",
       "  'transfer_value': '£9.00m  '}}"
      ]
     },
     "execution_count": 95,
     "metadata": {},
     "output_type": "execute_result"
    }
   ],
   "source": [
    "# player_dict_even"
   ]
  },
  {
   "cell_type": "code",
   "execution_count": 100,
   "metadata": {},
   "outputs": [],
   "source": [
    "player_dict = {**player_dict_even, **player_dict_odd}"
   ]
  },
  {
   "cell_type": "code",
   "execution_count": 102,
   "metadata": {},
   "outputs": [
    {
     "data": {
      "text/plain": [
       "29"
      ]
     },
     "execution_count": 102,
     "metadata": {},
     "output_type": "execute_result"
    }
   ],
   "source": [
    "len(player_dict)"
   ]
  },
  {
   "cell_type": "code",
   "execution_count": 108,
   "metadata": {},
   "outputs": [],
   "source": [
    "# test = db['test']"
   ]
  },
  {
   "cell_type": "code",
   "execution_count": 109,
   "metadata": {},
   "outputs": [
    {
     "data": {
      "text/plain": [
       "<pymongo.results.InsertOneResult at 0x11ba6aac8>"
      ]
     },
     "execution_count": 109,
     "metadata": {},
     "output_type": "execute_result"
    }
   ],
   "source": [
    "# test.insert_one(player_dict)"
   ]
  },
  {
   "cell_type": "code",
   "execution_count": null,
   "metadata": {},
   "outputs": [],
   "source": []
  },
  {
   "cell_type": "markdown",
   "metadata": {},
   "source": [
    "# Using Miles Suggestions"
   ]
  },
  {
   "cell_type": "code",
   "execution_count": 131,
   "metadata": {},
   "outputs": [],
   "source": [
    "db_urls = detailed_url.copy()"
   ]
  },
  {
   "cell_type": "code",
   "execution_count": 132,
   "metadata": {},
   "outputs": [
    {
     "data": {
      "text/plain": [
       "['https://www.transfermarkt.co.uk/club-atletico-boca-juniors/kader/verein/189/saison_id/2018/plus/1',\n",
       " 'https://www.transfermarkt.co.uk/ca-independiente-de-avellaneda/kader/verein/1234/saison_id/2018/plus/1',\n",
       " 'https://www.transfermarkt.co.uk/club-atletico-river-plate/kader/verein/209/saison_id/2018/plus/1',\n",
       " 'https://www.transfermarkt.co.uk/racing-club-de-avellaneda/kader/verein/1444/saison_id/2018/plus/1',\n",
       " 'https://www.transfermarkt.co.uk/club-atletico-san-lorenzo-de-almagro/kader/verein/1775/saison_id/2018/plus/1',\n",
       " 'https://www.transfermarkt.co.uk/club-atletico-lanus/kader/verein/333/saison_id/2018/plus/1',\n",
       " 'https://www.transfermarkt.co.uk/club-atletico-velez-sarsfield/kader/verein/1029/saison_id/2018/plus/1',\n",
       " 'https://www.transfermarkt.co.uk/club-deportivo-godoy-cruz/kader/verein/12574/saison_id/2018/plus/1',\n",
       " 'https://www.transfermarkt.co.uk/club-atletico-colon-santa-fe-/kader/verein/1070/saison_id/2018/plus/1',\n",
       " 'https://www.transfermarkt.co.uk/defensa-y-justicia/kader/verein/2402/saison_id/2018/plus/1',\n",
       " 'https://www.transfermarkt.co.uk/club-atletico-rosario-central/kader/verein/1418/saison_id/2018/plus/1',\n",
       " 'https://www.transfermarkt.co.uk/talleres-de-cordoba-ca/kader/verein/3938/saison_id/2018/plus/1',\n",
       " 'https://www.transfermarkt.co.uk/ca-union-santa-fe/kader/verein/7097/saison_id/2018/plus/1',\n",
       " 'https://www.transfermarkt.co.uk/estudiantes-de-la-plata/kader/verein/288/saison_id/2018/plus/1',\n",
       " 'https://www.transfermarkt.co.uk/club-atletico-huracan/kader/verein/2063/saison_id/2018/plus/1',\n",
       " 'https://www.transfermarkt.co.uk/argentinos-juniors/kader/verein/1030/saison_id/2018/plus/1',\n",
       " 'https://www.transfermarkt.co.uk/club-atletico-banfield/kader/verein/830/saison_id/2018/plus/1',\n",
       " 'https://www.transfermarkt.co.uk/belgrano-de-cordoba/kader/verein/2417/saison_id/2018/plus/1',\n",
       " 'https://www.transfermarkt.co.uk/club-atletico-tigre/kader/verein/11831/saison_id/2018/plus/1',\n",
       " 'https://www.transfermarkt.co.uk/club-atletico-newells-old-boys/kader/verein/1286/saison_id/2018/plus/1',\n",
       " 'https://www.transfermarkt.co.uk/club-atletico-tucuman/kader/verein/14554/saison_id/2018/plus/1',\n",
       " 'https://www.transfermarkt.co.uk/club-de-gimnasia-y-esgrima-la-plata/kader/verein/1106/saison_id/2018/plus/1',\n",
       " 'https://www.transfermarkt.co.uk/club-atletico-aldosivi-mdp-/kader/verein/12301/saison_id/2018/plus/1',\n",
       " 'https://www.transfermarkt.co.uk/club-atletico-san-martin-sj-/kader/verein/10511/saison_id/2018/plus/1',\n",
       " 'https://www.transfermarkt.co.uk/club-atletico-san-martin-tucuman-/kader/verein/12709/saison_id/2018/plus/1',\n",
       " 'https://www.transfermarkt.co.uk/club-atletico-patronato/kader/verein/19806/saison_id/2018/plus/1']"
      ]
     },
     "execution_count": 132,
     "metadata": {},
     "output_type": "execute_result"
    }
   ],
   "source": [
    "db_urls"
   ]
  },
  {
   "cell_type": "code",
   "execution_count": 151,
   "metadata": {},
   "outputs": [],
   "source": [
    "from html_scraper import get_all_player_data_from_url, team_scrape"
   ]
  },
  {
   "cell_type": "code",
   "execution_count": 148,
   "metadata": {},
   "outputs": [],
   "source": [
    "teams = [get_all_player_data_from_url(url) for url in db_urls]"
   ]
  },
  {
   "cell_type": "code",
   "execution_count": 164,
   "metadata": {},
   "outputs": [],
   "source": [
    "from html_scraper import add_player_to_db\n",
    "import pandas as pd"
   ]
  },
  {
   "cell_type": "code",
   "execution_count": 167,
   "metadata": {},
   "outputs": [
    {
     "name": "stdout",
     "output_type": "stream",
     "text": [
      "https://www.transfermarkt.co.uk/club-atletico-boca-juniors/kader/verein/189/saison_id/2018/plus/1\n",
      "https://www.transfermarkt.co.uk/ca-independiente-de-avellaneda/kader/verein/1234/saison_id/2018/plus/1\n",
      "https://www.transfermarkt.co.uk/club-atletico-river-plate/kader/verein/209/saison_id/2018/plus/1\n",
      "https://www.transfermarkt.co.uk/racing-club-de-avellaneda/kader/verein/1444/saison_id/2018/plus/1\n",
      "https://www.transfermarkt.co.uk/club-atletico-san-lorenzo-de-almagro/kader/verein/1775/saison_id/2018/plus/1\n",
      "https://www.transfermarkt.co.uk/club-atletico-lanus/kader/verein/333/saison_id/2018/plus/1\n",
      "https://www.transfermarkt.co.uk/club-atletico-velez-sarsfield/kader/verein/1029/saison_id/2018/plus/1\n",
      "https://www.transfermarkt.co.uk/club-deportivo-godoy-cruz/kader/verein/12574/saison_id/2018/plus/1\n",
      "https://www.transfermarkt.co.uk/club-atletico-colon-santa-fe-/kader/verein/1070/saison_id/2018/plus/1\n",
      "https://www.transfermarkt.co.uk/defensa-y-justicia/kader/verein/2402/saison_id/2018/plus/1\n",
      "https://www.transfermarkt.co.uk/club-atletico-rosario-central/kader/verein/1418/saison_id/2018/plus/1\n",
      "https://www.transfermarkt.co.uk/talleres-de-cordoba-ca/kader/verein/3938/saison_id/2018/plus/1\n",
      "https://www.transfermarkt.co.uk/ca-union-santa-fe/kader/verein/7097/saison_id/2018/plus/1\n",
      "https://www.transfermarkt.co.uk/estudiantes-de-la-plata/kader/verein/288/saison_id/2018/plus/1\n",
      "https://www.transfermarkt.co.uk/club-atletico-huracan/kader/verein/2063/saison_id/2018/plus/1\n",
      "https://www.transfermarkt.co.uk/argentinos-juniors/kader/verein/1030/saison_id/2018/plus/1\n",
      "https://www.transfermarkt.co.uk/club-atletico-banfield/kader/verein/830/saison_id/2018/plus/1\n",
      "https://www.transfermarkt.co.uk/belgrano-de-cordoba/kader/verein/2417/saison_id/2018/plus/1\n",
      "https://www.transfermarkt.co.uk/club-atletico-tigre/kader/verein/11831/saison_id/2018/plus/1\n",
      "https://www.transfermarkt.co.uk/club-atletico-newells-old-boys/kader/verein/1286/saison_id/2018/plus/1\n",
      "https://www.transfermarkt.co.uk/club-atletico-tucuman/kader/verein/14554/saison_id/2018/plus/1\n",
      "https://www.transfermarkt.co.uk/club-de-gimnasia-y-esgrima-la-plata/kader/verein/1106/saison_id/2018/plus/1\n",
      "https://www.transfermarkt.co.uk/club-atletico-aldosivi-mdp-/kader/verein/12301/saison_id/2018/plus/1\n",
      "https://www.transfermarkt.co.uk/club-atletico-san-martin-sj-/kader/verein/10511/saison_id/2018/plus/1\n",
      "https://www.transfermarkt.co.uk/club-atletico-san-martin-tucuman-/kader/verein/12709/saison_id/2018/plus/1\n",
      "https://www.transfermarkt.co.uk/club-atletico-patronato/kader/verein/19806/saison_id/2018/plus/1\n"
     ]
    }
   ],
   "source": [
    "for url in db_urls:\n",
    "    player_data = get_all_player_data_from_url(url)\n",
    "    print(url)\n",
    "    for player in player_data:\n",
    "        add_player_to_db(player)\n",
    "    "
   ]
  },
  {
   "cell_type": "markdown",
   "metadata": {},
   "source": [
    "# check db"
   ]
  },
  {
   "cell_type": "code",
   "execution_count": 168,
   "metadata": {},
   "outputs": [
    {
     "data": {
      "text/plain": [
       "Collection(Database(MongoClient(host=['localhost:27017'], document_class=dict, tz_aware=False, connect=True), 'gameinfo_db'), 'players')"
      ]
     },
     "execution_count": 168,
     "metadata": {},
     "output_type": "execute_result"
    }
   ],
   "source": [
    "db.players"
   ]
  },
  {
   "cell_type": "code",
   "execution_count": 250,
   "metadata": {},
   "outputs": [],
   "source": [
    "players = db.players.find()"
   ]
  },
  {
   "cell_type": "code",
   "execution_count": 251,
   "metadata": {},
   "outputs": [
    {
     "name": "stderr",
     "output_type": "stream",
     "text": [
      "/Users/david/anaconda3/lib/python3.6/site-packages/ipykernel_launcher.py:1: DeprecationWarning: count is deprecated. Use Collection.count_documents instead.\n",
      "  \"\"\"Entry point for launching an IPython kernel.\n"
     ]
    },
    {
     "data": {
      "text/plain": [
       "657"
      ]
     },
     "execution_count": 251,
     "metadata": {},
     "output_type": "execute_result"
    }
   ],
   "source": [
    "players.count()"
   ]
  },
  {
   "cell_type": "code",
   "execution_count": 252,
   "metadata": {},
   "outputs": [],
   "source": [
    "master_list = []\n",
    "for player in players:\n",
    "    master_list.append(player)"
   ]
  },
  {
   "cell_type": "code",
   "execution_count": 243,
   "metadata": {},
   "outputs": [
    {
     "data": {
      "text/plain": [
       "{'_id': ObjectId('5c058ab23d54c00a19927820'),\n",
       " 'player': 'Nicolás Royón',\n",
       " 'club': 'Squad Club Atlético Patronato de la Juventud Católica',\n",
       " 'squad_num': '32',\n",
       " 'height': '1,72 m',\n",
       " 'foot': 'right',\n",
       " 'birthday': 'Jan 28, 1991 (27)',\n",
       " 'transfer_value(sterlings)': '£270k'}"
      ]
     },
     "execution_count": 243,
     "metadata": {},
     "output_type": "execute_result"
    }
   ],
   "source": [
    "master_dict"
   ]
  },
  {
   "cell_type": "code",
   "execution_count": 195,
   "metadata": {},
   "outputs": [
    {
     "name": "stdout",
     "output_type": "stream",
     "text": [
      "{'_id': ObjectId('5c0588e63d54c00a19927577'), 'player': 'Esteban Andrada', 'club': 'Squad Club Atlético Boca Juniors', 'squad_num': '31', 'height': '1,94 m', 'foot': 'right', 'birthday': 'Jan 26, 1991 (27)', 'transfer_value(sterlings)': '£4.50m'}\n",
      "{'_id': ObjectId('5c0588e73d54c00a19927578'), 'player': 'Carlos Lampe', 'club': 'Squad Club Atlético Boca Juniors', 'squad_num': '28', 'height': '1,92 m', 'foot': 'right', 'birthday': 'Mar 17, 1987 (31)', 'transfer_value(sterlings)': '£495k'}\n",
      "{'_id': ObjectId('5c0588e73d54c00a19927579'), 'player': 'Lisandro Magallán', 'club': 'Squad Club Atlético Boca Juniors', 'squad_num': '6', 'height': '1,85 m', 'foot': 'right', 'birthday': 'Sep 27, 1993 (25)', 'transfer_value(sterlings)': '£4.05m'}\n",
      "{'_id': ObjectId('5c0588e73d54c00a1992757a'), 'player': 'Paolo Goltz', 'club': 'Squad Club Atlético Boca Juniors', 'squad_num': '2', 'height': '1,84 m', 'foot': 'right', 'birthday': 'May 12, 1985 (33)', 'transfer_value(sterlings)': '£1.62m'}\n",
      "{'_id': ObjectId('5c0588e73d54c00a1992757b'), 'player': 'Frank Fabra', 'club': 'Squad Club Atlético Boca Juniors', 'squad_num': '18', 'height': '1,73 m', 'foot': 'left', 'birthday': 'Feb 22, 1991 (27)', 'transfer_value(sterlings)': '£5.40m'}\n",
      "{'_id': ObjectId('5c0588e73d54c00a1992757c'), 'player': 'Lucas Olaza', 'club': 'Squad Club Atlético Boca Juniors', 'squad_num': '20', 'height': '1,76 m', 'foot': 'left', 'birthday': 'Jul 21, 1994 (24)', 'transfer_value(sterlings)': '£2.25m'}\n",
      "{'_id': ObjectId('5c0588e73d54c00a1992757d'), 'player': 'Leonardo Jara', 'club': 'Squad Club Atlético Boca Juniors', 'squad_num': '29', 'height': '1,85 m', 'foot': 'right', 'birthday': 'May 20, 1991 (27)', 'transfer_value(sterlings)': '£3.15m'}\n",
      "{'_id': ObjectId('5c0588e73d54c00a1992757e'), 'player': 'Wilmar Barrios', 'club': 'Squad Club Atlético Boca Juniors', 'squad_num': '16', 'height': '1,79 m', 'foot': 'right', 'birthday': 'Oct 16, 1993 (25)', 'transfer_value(sterlings)': '£9.00m'}\n",
      "{'_id': ObjectId('5c0588e73d54c00a1992757f'), 'player': 'Nahitan Nández', 'club': 'Squad Club Atlético Boca Juniors', 'squad_num': '15', 'height': '1,72 m', 'foot': 'right', 'birthday': 'Dec 28, 1995 (22)', 'transfer_value(sterlings)': '£8.55m'}\n",
      "{'_id': ObjectId('5c0588e73d54c00a19927580'), 'player': 'Pablo Pérez', 'club': 'Squad Club Atlético Boca Juniors', 'squad_num': '8', 'height': '1,75 m', 'foot': 'right', 'birthday': 'Aug 10, 1985 (33)', 'transfer_value(sterlings)': '£1.80m'}\n",
      "{'_id': ObjectId('5c0588e73d54c00a19927581'), 'player': 'Emanuel Reynoso', 'club': 'Squad Club Atlético Boca Juniors', 'squad_num': '30', 'height': '1,76 m', 'foot': 'left', 'birthday': 'Nov 16, 1995 (23)', 'transfer_value(sterlings)': '£5.40m'}\n",
      "{'_id': ObjectId('5c0588e73d54c00a19927582'), 'player': 'Cristian Pavón', 'club': 'Squad Club Atlético Boca Juniors', 'squad_num': '7', 'height': '1,74 m', 'foot': 'right', 'birthday': 'Jan 21, 1996 (22)', 'transfer_value(sterlings)': '£18.00m'}\n",
      "{'_id': ObjectId('5c0588e73d54c00a19927583'), 'player': 'Sebastián Villa', 'club': 'Squad Club Atlético Boca Juniors', 'squad_num': '22', 'height': '1,79 m', 'foot': 'right', 'birthday': 'May 19, 1996 (22)', 'transfer_value(sterlings)': '£720k'}\n",
      "{'_id': ObjectId('5c0588e73d54c00a19927584'), 'player': 'Mauro Zárate', 'club': 'Squad Club Atlético Boca Juniors', 'squad_num': '19', 'height': '1,75 m', 'foot': 'right', 'birthday': 'Mar 18, 1987 (31)', 'transfer_value(sterlings)': '£1.80m'}\n",
      "{'_id': ObjectId('5c0588e73d54c00a19927585'), 'player': 'Ramón Ábila', 'club': 'Squad Club Atlético Boca Juniors', 'squad_num': '17', 'height': '1,77 m', 'foot': 'right', 'birthday': 'Oct 14, 1989 (29)', 'transfer_value(sterlings)': '£5.40m'}\n",
      "{'_id': ObjectId('5c0588e73d54c00a19927586'), 'player': 'Agustín Rossi', 'club': 'Squad Club Atlético Boca Juniors', 'squad_num': '1', 'height': '1,93 m', 'foot': 'right', 'birthday': 'Aug 21, 1995 (23)', 'transfer_value(sterlings)': '£2.25m'}\n",
      "{'_id': ObjectId('5c0588e73d54c00a19927587'), 'player': 'Javier Bustillos', 'club': 'Squad Club Atlético Boca Juniors', 'squad_num': '25', 'height': '1,87 m', 'foot': 'right', 'birthday': 'Mar 5, 1997 (21)', 'transfer_value(sterlings)': '£45k'}\n",
      "{'_id': ObjectId('5c0588e73d54c00a19927588'), 'player': 'Carlos Izquierdoz', 'club': 'Squad Club Atlético Boca Juniors', 'squad_num': '24', 'height': '1,86 m', 'foot': 'right', 'birthday': 'Nov 3, 1988 (30)', 'transfer_value(sterlings)': '£2.70m'}\n",
      "{'_id': ObjectId('5c0588e73d54c00a19927589'), 'player': 'Leonardo Balerdi', 'club': 'Squad Club Atlético Boca Juniors', 'squad_num': '26', 'height': '1,87 m', 'foot': 'right', 'birthday': 'Jan 26, 1999 (19)', 'transfer_value(sterlings)': '-'}\n",
      "{'_id': ObjectId('5c0588e73d54c00a1992758a'), 'player': 'Emmanuel Más', 'club': 'Squad Club Atlético Boca Juniors', 'squad_num': '3', 'height': '1,80 m', 'foot': 'left', 'birthday': 'Jan 15, 1989 (29)', 'transfer_value(sterlings)': '£2.25m'}\n",
      "{'_id': ObjectId('5c0588e73d54c00a1992758b'), 'player': 'Gino Peruzzi', 'club': 'Squad Club Atlético Boca Juniors', 'squad_num': '14', 'height': '1,76 m', 'foot': 'right', 'birthday': 'Jun 9, 1992 (26)', 'transfer_value(sterlings)': '£3.15m'}\n",
      "{'_id': ObjectId('5c0588e73d54c00a1992758c'), 'player': 'Julio Buffarini', 'club': 'Squad Club Atlético Boca Juniors', 'squad_num': '4', 'height': '1,70 m', 'foot': 'right', 'birthday': 'Aug 18, 1988 (30)', 'transfer_value(sterlings)': '£1.80m'}\n",
      "{'_id': ObjectId('5c0588e73d54c00a1992758d'), 'player': 'Julián Chicco', 'club': 'Squad Club Atlético Boca Juniors', 'squad_num': '40', 'height': '1,86 m', 'foot': 'right', 'birthday': 'Jan 13, 1998 (20)', 'transfer_value(sterlings)': '£540k'}\n",
      "{'_id': ObjectId('5c0588e73d54c00a1992758e'), 'player': 'Fernando Gago', 'club': 'Squad Club Atlético Boca Juniors', 'squad_num': '5', 'height': '1,77 m', 'foot': 'right', 'birthday': 'Apr 10, 1986 (32)', 'transfer_value(sterlings)': '£1.80m'}\n",
      "{'_id': ObjectId('5c0588e73d54c00a1992758f'), 'player': 'Agustín Almendra', 'club': 'Squad Club Atlético Boca Juniors', 'squad_num': '39', 'height': '1,82 m', 'foot': 'right', 'birthday': 'Feb 11, 2000 (18)', 'transfer_value(sterlings)': '£450k'}\n",
      "{'_id': ObjectId('5c0588e73d54c00a19927590'), 'player': 'Edwin Cardona', 'club': 'Squad Club Atlético Boca Juniors', 'squad_num': '10', 'height': '1,85 m', 'foot': 'right', 'birthday': 'Dec 8, 1992 (25)', 'transfer_value(sterlings)': '£4.95m'}\n",
      "{'_id': ObjectId('5c0588e73d54c00a19927591'), 'player': 'Cristian Espinoza', 'club': 'Squad Club Atlético Boca Juniors', 'squad_num': '11', 'height': '1,73 m', 'foot': 'right', 'birthday': 'Apr 3, 1995 (23)', 'transfer_value(sterlings)': '£1.35m'}\n",
      "{'_id': ObjectId('5c0588e73d54c00a19927592'), 'player': 'Carlos Tévez', 'club': 'Squad Club Atlético Boca Juniors', 'squad_num': '32', 'height': '1,71 m', 'foot': 'right', 'birthday': 'Feb 5, 1984 (34)', 'transfer_value(sterlings)': '£2.25m'}\n",
      "{'_id': ObjectId('5c0588e73d54c00a19927593'), 'player': 'Darío Benedetto', 'club': 'Squad Club Atlético Boca Juniors', 'squad_num': '9', 'height': '1,77 m', 'foot': 'right', 'birthday': 'May 17, 1990 (28)', 'transfer_value(sterlings)': '£9.00m'}\n",
      "{'_id': ObjectId('5c0588f23d54c00a19927595'), 'player': 'Martín Campaña', 'club': 'Squad Club Atlético Independiente', 'squad_num': '25', 'height': '1,86 m', 'foot': 'right', 'birthday': 'May 29, 1989 (29)', 'transfer_value(sterlings)': '£4.50m'}\n",
      "{'_id': ObjectId('5c0588f23d54c00a19927596'), 'player': 'Milton Álvarez', 'club': 'Squad Club Atlético Independiente', 'squad_num': '13', 'height': '1,86 m', 'foot': 'left', 'birthday': 'Jan 26, 1989 (29)', 'transfer_value(sterlings)': '-'}\n",
      "{'_id': ObjectId('5c0588f23d54c00a19927597'), 'player': 'Jorge Figal', 'club': 'Squad Club Atlético Independiente', 'squad_num': '4', 'height': '1,80 m', 'foot': 'right', 'birthday': 'Apr 3, 1994 (24)', 'transfer_value(sterlings)': '£4.05m'}\n",
      "{'_id': ObjectId('5c0588f23d54c00a19927598'), 'player': 'Fernando Amorebieta', 'club': 'Squad Club Atlético Independiente', 'squad_num': '14', 'height': '1,91 m', 'foot': 'left', 'birthday': 'Mar 29, 1985 (33)', 'transfer_value(sterlings)': '£1.13m'}\n",
      "{'_id': ObjectId('5c0588f23d54c00a19927599'), 'player': 'Juan Sánchez Miño', 'club': 'Squad Club Atlético Independiente', 'squad_num': '6', 'height': '1,77 m', 'foot': 'left', 'birthday': 'Jan 1, 1990 (28)', 'transfer_value(sterlings)': '£4.05m'}\n",
      "{'_id': ObjectId('5c0588f23d54c00a1992759a'), 'player': 'Fabricio Bustos', 'club': 'Squad Club Atlético Independiente', 'squad_num': '16', 'height': '1,67 m', 'foot': 'right', 'birthday': 'Apr 28, 1996 (22)', 'transfer_value(sterlings)': '£9.00m'}\n",
      "{'_id': ObjectId('5c0588f23d54c00a1992759b'), 'player': 'Fernando Gaibor', 'club': 'Squad Club Atlético Independiente', 'squad_num': '10', 'height': '1,79 m', 'foot': 'right', 'birthday': 'Oct 8, 1991 (27)', 'transfer_value(sterlings)': '£1.80m'}\n",
      "{'_id': ObjectId('5c0588f23d54c00a1992759c'), 'player': 'Francisco Silva', 'club': 'Squad Club Atlético Independiente', 'squad_num': '22', 'height': '1,78 m', 'foot': 'right', 'birthday': 'Feb 11, 1986 (32)', 'transfer_value(sterlings)': '£1.62m'}\n",
      "{'_id': ObjectId('5c0588f23d54c00a1992759d'), 'player': 'Pablo Hernández', 'club': 'Squad Club Atlético Independiente', 'squad_num': '19', 'height': '1,85 m', 'foot': 'left', 'birthday': 'Oct 24, 1986 (32)', 'transfer_value(sterlings)': '£4.50m'}\n",
      "{'_id': ObjectId('5c0588f23d54c00a1992759e'), 'player': 'Braian Romero', 'club': 'Squad Club Atlético Independiente', 'squad_num': '17', 'height': '1,73 m', 'foot': 'right', 'birthday': 'Jun 15, 1991 (27)', 'transfer_value(sterlings)': '£2.25m'}\n",
      "{'_id': ObjectId('5c0588f23d54c00a1992759f'), 'player': 'Martín Benítez', 'club': 'Squad Club Atlético Independiente', 'squad_num': '7', 'height': '1,73 m', 'foot': 'right', 'birthday': 'Jun 17, 1994 (24)', 'transfer_value(sterlings)': '£5.40m'}\n",
      "{'_id': ObjectId('5c0588f23d54c00a199275a0'), 'player': 'Gonzalo Verón', 'club': 'Squad Club Atlético Independiente', 'squad_num': '30', 'height': '1,78 m', 'foot': 'right', 'birthday': 'Dec 24, 1989 (28)', 'transfer_value(sterlings)': '£675k'}\n",
      "{'_id': ObjectId('5c0588f23d54c00a199275a1'), 'player': 'Silvio Romero', 'club': 'Squad Club Atlético Independiente', 'squad_num': '18', 'height': '1,75 m', 'foot': 'right', 'birthday': 'Jul 22, 1988 (30)', 'transfer_value(sterlings)': '£3.15m'}\n",
      "{'_id': ObjectId('5c0588f23d54c00a199275a2'), 'player': 'Gonzalo Rehak', 'club': 'Squad Club Atlético Independiente', 'squad_num': '-', 'height': '1,86 m', 'foot': 'right', 'birthday': 'Apr 11, 1993 (25)', 'transfer_value(sterlings)': '£180k'}\n",
      "{'_id': ObjectId('5c0588f23d54c00a199275a3'), 'player': 'Alan Franco', 'club': 'Squad Club Atlético Independiente', 'squad_num': '2', 'height': '1,83 m', 'foot': 'right', 'birthday': 'Oct 11, 1996 (22)', 'transfer_value(sterlings)': '£5.40m'}\n",
      "{'_id': ObjectId('5c0588f23d54c00a199275a4'), 'player': 'Guillermo Burdisso', 'club': 'Squad Club Atlético Independiente', 'squad_num': '3', 'height': '1,89 m', 'foot': 'right', 'birthday': 'Sep 26, 1988 (30)', 'transfer_value(sterlings)': '£1.62m'}\n",
      "{'_id': ObjectId('5c0588f23d54c00a199275a5'), 'player': 'Emanuel Brítez', 'club': 'Squad Club Atlético Independiente', 'squad_num': '23', 'height': '1,78 m', 'foot': 'right', 'birthday': 'Mar 26, 1992 (26)', 'transfer_value(sterlings)': '£900k'}\n",
      "{'_id': ObjectId('5c0588f23d54c00a199275a6'), 'player': 'Gastón Silva', 'club': 'Squad Club Atlético Independiente', 'squad_num': '20', 'height': '1,85 m', 'foot': 'left', 'birthday': 'Mar 5, 1994 (24)', 'transfer_value(sterlings)': '£2.25m'}\n",
      "{'_id': ObjectId('5c0588f23d54c00a199275a7'), 'player': 'Gonzalo Asis', 'club': 'Squad Club Atlético Independiente', 'squad_num': '15', 'height': '1,74 m', 'foot': 'right', 'birthday': 'Mar 28, 1996 (22)', 'transfer_value(sterlings)': '-'}\n",
      "{'_id': ObjectId('5c0588f23d54c00a199275a8'), 'player': 'Carlos Benavidez', 'club': 'Squad Club Atlético Independiente', 'squad_num': '21', 'height': '1,85 m', 'foot': 'right', 'birthday': 'Mar 30, 1998 (20)', 'transfer_value(sterlings)': '£1.80m'}\n",
      "{'_id': ObjectId('5c0588f23d54c00a199275a9'), 'player': 'Nicolás Domingo', 'club': 'Squad Club Atlético Independiente', 'squad_num': '5', 'height': '1,74 m', 'foot': 'right', 'birthday': 'Aug 4, 1985 (33)', 'transfer_value(sterlings)': '£675k'}\n",
      "{'_id': ObjectId('5c0588f23d54c00a199275aa'), 'player': 'Maximiliano Meza', 'club': 'Squad Club Atlético Independiente', 'squad_num': '8', 'height': '1,80 m', 'foot': 'right', 'birthday': 'Jan 15, 1992 (26)', 'transfer_value(sterlings)': '£12.60m'}\n",
      "{'_id': ObjectId('5c0588f23d54c00a199275ab'), 'player': 'Francisco Pizzini', 'club': 'Squad Club Atlético Independiente', 'squad_num': '29', 'height': '1,77 m', 'foot': 'right', 'birthday': 'Sep 19, 1993 (25)', 'transfer_value(sterlings)': '£720k'}\n",
      "{'_id': ObjectId('5c0588f23d54c00a199275ac'), 'player': 'Ezequiel Cerutti', 'club': 'Squad Club Atlético Independiente', 'squad_num': '32', 'height': '1,69 m', 'foot': 'right', 'birthday': 'Jan 17, 1992 (26)', 'transfer_value(sterlings)': '£3.42m'}\n",
      "{'_id': ObjectId('5c0588f23d54c00a199275ad'), 'player': 'Leandro Fernández', 'club': 'Squad Club Atlético Independiente', 'squad_num': '11', 'height': '1,78 m', 'foot': 'right', 'birthday': 'Mar 12, 1991 (27)', 'transfer_value(sterlings)': '£3.15m'}\n",
      "{'_id': ObjectId('5c0588f23d54c00a199275ae'), 'player': 'Emanuel Gigliotti', 'club': 'Squad Club Atlético Independiente', 'squad_num': '9', 'height': '1,87 m', 'foot': 'right', 'birthday': 'May 20, 1987 (31)', 'transfer_value(sterlings)': '£2.70m'}\n",
      "{'_id': ObjectId('5c0588fa3d54c00a199275b0'), 'player': 'Franco Armani', 'club': 'Squad Club Atlético River Plate', 'squad_num': '1', 'height': '1,89 m', 'foot': 'right', 'birthday': 'Oct 16, 1986 (32)', 'transfer_value(sterlings)': '£3.15m'}\n",
      "{'_id': ObjectId('5c0588fa3d54c00a199275b1'), 'player': 'Enrique Bologna', 'club': 'Squad Club Atlético River Plate', 'squad_num': '25', 'height': '1,88 m', 'foot': 'right', 'birthday': 'Feb 13, 1982 (36)', 'transfer_value(sterlings)': '£180k'}\n",
      "{'_id': ObjectId('5c0588fa3d54c00a199275b2'), 'player': 'Jonathan Maidana', 'club': 'Squad Club Atlético River Plate', 'squad_num': '2', 'height': '1,83 m', 'foot': 'right', 'birthday': 'Jul 29, 1985 (33)', 'transfer_value(sterlings)': '£1.35m'}\n",
      "{'_id': ObjectId('5c0588fa3d54c00a199275b3'), 'player': 'Javier Pinola', 'club': 'Squad Club Atlético River Plate', 'squad_num': '22', 'height': '1,80 m', 'foot': 'left', 'birthday': 'Feb 24, 1983 (35)', 'transfer_value(sterlings)': '£900k'}\n",
      "{'_id': ObjectId('5c0588fa3d54c00a199275b4'), 'player': 'Gonzalo Montiel', 'club': 'Squad Club Atlético River Plate', 'squad_num': '29', 'height': '1,76 m', 'foot': 'right', 'birthday': 'Jan 1, 1997 (21)', 'transfer_value(sterlings)': '£1.80m'}\n",
      "{'_id': ObjectId('5c0588fa3d54c00a199275b5'), 'player': 'Bruno Zuculini', 'club': 'Squad Club Atlético River Plate', 'squad_num': '5', 'height': '1,82 m', 'foot': 'right', 'birthday': 'Apr 2, 1993 (25)', 'transfer_value(sterlings)': '£2.25m'}\n",
      "{'_id': ObjectId('5c0588fa3d54c00a199275b6'), 'player': 'Ignacio Fernández', 'club': 'Squad Club Atlético River Plate', 'squad_num': '26', 'height': '1,82 m', 'foot': 'left', 'birthday': 'Jan 12, 1990 (28)', 'transfer_value(sterlings)': '£4.05m'}\n",
      "{'_id': ObjectId('5c0588fa3d54c00a199275b7'), 'player': 'Enzo Pérez', 'club': 'Squad Club Atlético River Plate', 'squad_num': '24', 'height': '1,79 m', 'foot': 'right', 'birthday': 'Feb 22, 1986 (32)', 'transfer_value(sterlings)': '£2.25m'}\n",
      "{'_id': ObjectId('5c0588fa3d54c00a199275b8'), 'player': 'Juan Quintero', 'club': 'Squad Club Atlético River Plate', 'squad_num': '8', 'height': '1,69 m', 'foot': 'left', 'birthday': 'Jan 18, 1993 (25)', 'transfer_value(sterlings)': '£5.85m'}\n",
      "{'_id': ObjectId('5c0588fa3d54c00a199275b9'), 'player': 'Gonzalo Martínez', 'club': 'Squad Club Atlético River Plate', 'squad_num': '10', 'height': '1,70 m', 'foot': 'left', 'birthday': 'Jun 13, 1993 (25)', 'transfer_value(sterlings)': '£13.50m'}\n",
      "{'_id': ObjectId('5c0588fa3d54c00a199275ba'), 'player': 'Ignacio Scocco', 'club': 'Squad Club Atlético River Plate', 'squad_num': '32', 'height': '1,76 m', 'foot': 'right', 'birthday': 'May 29, 1985 (33)', 'transfer_value(sterlings)': '£3.60m'}\n",
      "{'_id': ObjectId('5c0588fa3d54c00a199275bb'), 'player': 'Rodrigo Mora', 'club': 'Squad Club Atlético River Plate', 'squad_num': '7', 'height': '1,72 m', 'foot': 'right', 'birthday': 'Oct 29, 1987 (31)', 'transfer_value(sterlings)': '£1.58m'}\n",
      "{'_id': ObjectId('5c0588fa3d54c00a199275bc'), 'player': 'Germán Lux', 'club': 'Squad Club Atlético River Plate', 'squad_num': '14', 'height': '1,85 m', 'foot': 'right', 'birthday': 'Jul 6, 1982 (36)', 'transfer_value(sterlings)': '£450k'}\n",
      "{'_id': ObjectId('5c0588fa3d54c00a199275bd'), 'player': 'Lucas Martínez', 'club': 'Squad Club Atlético River Plate', 'squad_num': '28', 'height': '1,83 m', 'foot': 'right', 'birthday': 'May 10, 1996 (22)', 'transfer_value(sterlings)': '£5.85m'}\n",
      "{'_id': ObjectId('5c0588fa3d54c00a199275be'), 'player': 'Luciano Lollo', 'club': 'Squad Club Atlético River Plate', 'squad_num': '6', 'height': '1,83 m', 'foot': 'right', 'birthday': 'Mar 29, 1987 (31)', 'transfer_value(sterlings)': '£1.13m'}\n",
      "{'_id': ObjectId('5c0588fa3d54c00a199275bf'), 'player': 'Milton Casco', 'club': 'Squad Club Atlético River Plate', 'squad_num': '20', 'height': '1,69 m', 'foot': 'right', 'birthday': 'Apr 11, 1988 (30)', 'transfer_value(sterlings)': '£900k'}\n",
      "{'_id': ObjectId('5c0588fa3d54c00a199275c0'), 'player': 'Jorge Moreira', 'club': 'Squad Club Atlético River Plate', 'squad_num': '4', 'height': '1,74 m', 'foot': 'right', 'birthday': 'Feb 1, 1990 (28)', 'transfer_value(sterlings)': '£1.35m'}\n",
      "{'_id': ObjectId('5c0588fa3d54c00a199275c1'), 'player': 'Leonardo Ponzio', 'club': 'Squad Club Atlético River Plate', 'squad_num': '23', 'height': '1,75 m', 'foot': 'right', 'birthday': 'Jan 29, 1982 (36)', 'transfer_value(sterlings)': '£675k'}\n",
      "{'_id': ObjectId('5c0588fa3d54c00a199275c2'), 'player': 'Exequiel Palacios', 'club': 'Squad Club Atlético River Plate', 'squad_num': '15', 'height': '1,70 m', 'foot': 'right', 'birthday': 'Oct 5, 1998 (20)', 'transfer_value(sterlings)': '£3.38m'}\n",
      "{'_id': ObjectId('5c0588fa3d54c00a199275c3'), 'player': 'Camilo Mayada', 'club': 'Squad Club Atlético River Plate', 'squad_num': '18', 'height': '1,75 m', 'foot': 'right', 'birthday': 'Jan 8, 1991 (27)', 'transfer_value(sterlings)': '£1.35m'}\n",
      "{'_id': ObjectId('5c0588fa3d54c00a199275c4'), 'player': 'Nicolás De La Cruz', 'club': 'Squad Club Atlético River Plate', 'squad_num': '11', 'height': '1,67 m', 'foot': 'right', 'birthday': 'Jun 1, 1997 (21)', 'transfer_value(sterlings)': '£3.60m'}\n",
      "{'_id': ObjectId('5c0588fa3d54c00a199275c5'), 'player': 'Lucas Pratto', 'club': 'Squad Club Atlético River Plate', 'squad_num': '27', 'height': '1,88 m', 'foot': 'right', 'birthday': 'Jun 4, 1988 (30)', 'transfer_value(sterlings)': '£5.40m'}\n",
      "{'_id': ObjectId('5c0588fa3d54c00a199275c6'), 'player': 'Santos Borré', 'club': 'Squad Club Atlético River Plate', 'squad_num': '19', 'height': '1,74 m', 'foot': 'right', 'birthday': 'Sep 15, 1995 (23)', 'transfer_value(sterlings)': '£2.70m'}\n",
      "{'_id': ObjectId('5c0589023d54c00a199275c8'), 'player': 'Javier García', 'club': 'Squad Racing Club', 'squad_num': '13', 'height': '1,82 m', 'foot': 'right', 'birthday': 'Jan 29, 1987 (31)', 'transfer_value(sterlings)': '£450k'}\n",
      "{'_id': ObjectId('5c0589023d54c00a199275c9'), 'player': 'Gabriel Arias', 'club': 'Squad Racing Club', 'squad_num': '1', 'height': '1,87 m', 'foot': 'right', 'birthday': 'Sep 13, 1987 (31)', 'transfer_value(sterlings)': '£405k'}\n",
      "{'_id': ObjectId('5c0589023d54c00a199275ca'), 'player': 'Alejandro Donatti', 'club': 'Squad Racing Club', 'squad_num': '2', 'height': '1,92 m', 'foot': 'right', 'birthday': 'Oct 24, 1986 (32)', 'transfer_value(sterlings)': '£1.35m'}\n",
      "{'_id': ObjectId('5c0589023d54c00a199275cb'), 'player': 'Rodrigo Schlegel', 'club': 'Squad Racing Club', 'squad_num': '14', 'height': '1,85 m', 'foot': 'right', 'birthday': 'Apr 3, 1997 (21)', 'transfer_value(sterlings)': '£180k'}\n",
      "{'_id': ObjectId('5c0589023d54c00a199275cc'), 'player': 'Eugenio Mena', 'club': 'Squad Racing Club', 'squad_num': '5', 'height': '1,75 m', 'foot': 'left', 'birthday': 'Jul 18, 1988 (30)', 'transfer_value(sterlings)': '£1.35m'}\n",
      "{'_id': ObjectId('5c0589023d54c00a199275cd'), 'player': 'Iván Pillud', 'club': 'Squad Racing Club', 'squad_num': '4', 'height': '1,78 m', 'foot': 'right', 'birthday': 'Apr 24, 1986 (32)', 'transfer_value(sterlings)': '£540k'}\n",
      "{'_id': ObjectId('5c0589023d54c00a199275ce'), 'player': 'Marcelo Díaz', 'club': 'Squad Racing Club', 'squad_num': '21', 'height': '1,66 m', 'foot': 'right', 'birthday': 'Dec 30, 1986 (31)', 'transfer_value(sterlings)': '£2.25m'}\n",
      "{'_id': ObjectId('5c0589023d54c00a199275cf'), 'player': 'Guillermo Fernández', 'club': 'Squad Racing Club', 'squad_num': '8', 'height': '1,78 m', 'foot': 'right', 'birthday': 'Oct 11, 1991 (27)', 'transfer_value(sterlings)': '£3.60m'}\n",
      "{'_id': ObjectId('5c0589023d54c00a199275d0'), 'player': 'Augusto Solari', 'club': 'Squad Racing Club', 'squad_num': '18', 'height': '1,76 m', 'foot': 'right', 'birthday': 'Jan 3, 1992 (26)', 'transfer_value(sterlings)': '£3.15m'}\n",
      "{'_id': ObjectId('5c0589023d54c00a199275d1'), 'player': 'Ricardo Centurión', 'club': 'Squad Racing Club', 'squad_num': '10', 'height': '1,74 m', 'foot': 'right', 'birthday': 'Jan 19, 1993 (25)', 'transfer_value(sterlings)': '£4.50m'}\n",
      "{'_id': ObjectId('5c0589023d54c00a199275d2'), 'player': 'Gustavo Bou', 'club': 'Squad Racing Club', 'squad_num': '7', 'height': '1,77 m', 'foot': 'right', 'birthday': 'Feb 18, 1990 (28)', 'transfer_value(sterlings)': '£4.50m'}\n",
      "{'_id': ObjectId('5c0589023d54c00a199275d3'), 'player': 'Maximiliano Cuadra', 'club': 'Squad Racing Club', 'squad_num': '27', 'height': '1,73 m', 'foot': 'right', 'birthday': 'Jun 6, 1995 (23)', 'transfer_value(sterlings)': '£1.80m'}\n",
      "{'_id': ObjectId('5c0589023d54c00a199275d4'), 'player': 'Jonathan Cristaldo', 'club': 'Squad Racing Club', 'squad_num': '9', 'height': '1,75 m', 'foot': 'right', 'birthday': 'Mar 5, 1989 (29)', 'transfer_value(sterlings)': '£1.08m'}\n",
      "{'_id': ObjectId('5c0589023d54c00a199275d5'), 'player': 'Gastón Gómez', 'club': 'Squad Racing Club', 'squad_num': '25', 'height': '1,90 m', 'foot': 'right', 'birthday': 'Mar 4, 1996 (22)', 'transfer_value(sterlings)': '£450k'}\n",
      "{'_id': ObjectId('5c0589023d54c00a199275d6'), 'player': 'Leonardo Sigali', 'club': 'Squad Racing Club', 'squad_num': '30', 'height': '1,80 m', 'foot': 'right', 'birthday': 'May 29, 1987 (31)', 'transfer_value(sterlings)': '£2.70m'}\n",
      "{'_id': ObjectId('5c0589023d54c00a199275d7'), 'player': 'Lucas Orbán', 'club': 'Squad Racing Club', 'squad_num': '6', 'height': '1,84 m', 'foot': 'left', 'birthday': 'Feb 3, 1989 (29)', 'transfer_value(sterlings)': '£450k'}\n",
      "{'_id': ObjectId('5c0589023d54c00a199275d8'), 'player': 'Alexis Soto', 'club': 'Squad Racing Club', 'squad_num': '3', 'height': '1,77 m', 'foot': 'left', 'birthday': 'Oct 20, 1993 (25)', 'transfer_value(sterlings)': '£2.52m'}\n",
      "{'_id': ObjectId('5c0589023d54c00a199275d9'), 'player': 'Renzo Saravia', 'club': 'Squad Racing Club', 'squad_num': '26', 'height': '1,76 m', 'foot': 'right', 'birthday': 'Jun 16, 1993 (25)', 'transfer_value(sterlings)': '£2.25m'}\n",
      "{'_id': ObjectId('5c0589023d54c00a199275da'), 'player': 'Mauricio Martínez', 'club': 'Squad Racing Club', 'squad_num': '16', 'height': '1,74 m', 'foot': 'right', 'birthday': 'Feb 20, 1993 (25)', 'transfer_value(sterlings)': '£2.48m'}\n",
      "{'_id': ObjectId('5c0589023d54c00a199275db'), 'player': 'Nery Domínguez', 'club': 'Squad Racing Club', 'squad_num': '23', 'height': '1,84 m', 'foot': 'right', 'birthday': 'Apr 9, 1990 (28)', 'transfer_value(sterlings)': '£900k'}\n",
      "{'_id': ObjectId('5c0589023d54c00a199275dc'), 'player': 'Neri Cardozo', 'club': 'Squad Racing Club', 'squad_num': '19', 'height': '1,73 m', 'foot': 'left', 'birthday': 'Aug 8, 1986 (32)', 'transfer_value(sterlings)': '£1.62m'}\n",
      "{'_id': ObjectId('5c0589023d54c00a199275dd'), 'player': 'Matías Zaracho', 'club': 'Squad Racing Club', 'squad_num': '28', 'height': '1,71 m', 'foot': 'right', 'birthday': 'Mar 10, 1998 (20)', 'transfer_value(sterlings)': '£3.15m'}\n",
      "{'_id': ObjectId('5c0589023d54c00a199275de'), 'player': 'Martín Ojeda', 'club': 'Squad Racing Club', 'squad_num': '17', 'height': '1,79 m', 'foot': 'left', 'birthday': 'Nov 27, 1998 (20)', 'transfer_value(sterlings)': '£450k'}\n",
      "{'_id': ObjectId('5c0589023d54c00a199275df'), 'player': 'Brian Mansilla', 'club': 'Squad Racing Club', 'squad_num': '11', 'height': '1,80 m', 'foot': 'left', 'birthday': 'Apr 16, 1997 (21)', 'transfer_value(sterlings)': '£2.70m'}\n",
      "{'_id': ObjectId('5c0589023d54c00a199275e0'), 'player': 'Lisandro López', 'club': 'Squad Racing Club', 'squad_num': '15', 'height': '1,74 m', 'foot': 'right', 'birthday': 'Mar 2, 1983 (35)', 'transfer_value(sterlings)': '£1.58m'}\n",
      "{'_id': ObjectId('5c05890a3d54c00a199275e2'), 'player': 'Nicolás Navarro', 'club': 'Squad Club Atlético San Lorenzo de Almagro', 'squad_num': '22', 'height': '1,90 m', 'foot': 'right', 'birthday': 'Mar 25, 1985 (33)', 'transfer_value(sterlings)': '£540k'}\n",
      "{'_id': ObjectId('5c05890a3d54c00a199275e3'), 'player': 'José Devecchi', 'club': 'Squad Club Atlético San Lorenzo de Almagro', 'squad_num': '25', 'height': '1,89 m', 'foot': 'right', 'birthday': 'Jul 9, 1995 (23)', 'transfer_value(sterlings)': '£90k'}\n",
      "{'_id': ObjectId('5c05890a3d54c00a199275e4'), 'player': 'Fabricio Coloccini', 'club': 'Squad Club Atlético San Lorenzo de Almagro', 'squad_num': '32', 'height': '1,84 m', 'foot': 'right', 'birthday': 'Jan 22, 1982 (36)', 'transfer_value(sterlings)': '£540k'}\n",
      "{'_id': ObjectId('5c05890a3d54c00a199275e5'), 'player': 'Gianluca Ferrari', 'club': 'Squad Club Atlético San Lorenzo de Almagro', 'squad_num': '41', 'height': '1,84 m', 'foot': '-', 'birthday': 'Jun 30, 1997 (21)', 'transfer_value(sterlings)': '£68k'}\n",
      "{'_id': ObjectId('5c05890a3d54c00a199275e6'), 'player': 'Elías Pereyra', 'club': 'Squad Club Atlético San Lorenzo de Almagro', 'squad_num': '21', 'height': '1,72 m', 'foot': 'left', 'birthday': 'Feb 15, 1999 (19)', 'transfer_value(sterlings)': '-'}\n",
      "{'_id': ObjectId('5c05890a3d54c00a199275e7'), 'player': 'Franco Mussis', 'club': 'Squad Club Atlético San Lorenzo de Almagro', 'squad_num': '7', 'height': '1,74 m', 'foot': 'both', 'birthday': 'Apr 19, 1992 (26)', 'transfer_value(sterlings)': '£1.62m'}\n",
      "{'_id': ObjectId('5c05890a3d54c00a199275e8'), 'player': 'Alexis Castro', 'club': 'Squad Club Atlético San Lorenzo de Almagro', 'squad_num': '14', 'height': '1,82 m', 'foot': 'left', 'birthday': 'Oct 18, 1994 (24)', 'transfer_value(sterlings)': '£1.58m'}\n",
      "{'_id': ObjectId('5c05890a3d54c00a199275e9'), 'player': 'Franco Moyano', 'club': 'Squad Club Atlético San Lorenzo de Almagro', 'squad_num': '34', 'height': '1,71 m', 'foot': 'right', 'birthday': 'Sep 13, 1997 (21)', 'transfer_value(sterlings)': '£450k'}\n",
      "{'_id': ObjectId('5c05890a3d54c00a199275ea'), 'player': 'Rubén Botta', 'club': 'Squad Club Atlético San Lorenzo de Almagro', 'squad_num': '19', 'height': '1,77 m', 'foot': 'left', 'birthday': 'Jan 31, 1990 (28)', 'transfer_value(sterlings)': '£2.25m'}\n",
      "{'_id': ObjectId('5c05890a3d54c00a199275eb'), 'player': 'Daniel Hernández', 'club': 'Squad Club Atlético San Lorenzo de Almagro', 'squad_num': '31', 'height': '1,76 m', 'foot': 'left', 'birthday': 'Dec 10, 1990 (27)', 'transfer_value(sterlings)': '£720k'}\n",
      "{'_id': ObjectId('5c05890a3d54c00a199275ec'), 'player': 'Nahuel Barrios', 'club': 'Squad Club Atlético San Lorenzo de Almagro', 'squad_num': '28', 'height': '1,56 m', 'foot': 'right', 'birthday': 'May 7, 1998 (20)', 'transfer_value(sterlings)': '£1.80m'}\n",
      "{'_id': ObjectId('5c05890a3d54c00a199275ed'), 'player': 'Pablo Mouche', 'club': 'Squad Club Atlético San Lorenzo de Almagro', 'squad_num': '37', 'height': '1,77 m', 'foot': 'left', 'birthday': 'Oct 11, 1987 (31)', 'transfer_value(sterlings)': '£900k'}\n",
      "{'_id': ObjectId('5c05890a3d54c00a199275ee'), 'player': 'Nicolás Reniero', 'club': 'Squad Club Atlético San Lorenzo de Almagro', 'squad_num': '15', 'height': '1,83 m', 'foot': 'right', 'birthday': 'Mar 18, 1995 (23)', 'transfer_value(sterlings)': '£1.80m'}\n",
      "{'_id': ObjectId('5c05890a3d54c00a199275ef'), 'player': 'Sebastián Torrico', 'club': 'Squad Club Atlético San Lorenzo de Almagro', 'squad_num': '12', 'height': '1,86 m', 'foot': 'right', 'birthday': 'Feb 22, 1980 (38)', 'transfer_value(sterlings)': '£270k'}\n",
      "{'_id': ObjectId('5c05890a3d54c00a199275f0'), 'player': 'Marcos Senesi', 'club': 'Squad Club Atlético San Lorenzo de Almagro', 'squad_num': '6', 'height': '1,85 m', 'foot': 'left', 'birthday': 'May 10, 1997 (21)', 'transfer_value(sterlings)': '£1.62m'}\n",
      "{'_id': ObjectId('5c05890a3d54c00a199275f1'), 'player': 'Gonzalo Rodríguez', 'club': 'Squad Club Atlético San Lorenzo de Almagro', 'squad_num': '2', 'height': '1,82 m', 'foot': 'right', 'birthday': 'Apr 10, 1984 (34)', 'transfer_value(sterlings)': '£450k'}\n",
      "{'_id': ObjectId('5c05890a3d54c00a199275f2'), 'player': 'Gabriel Rojas', 'club': 'Squad Club Atlético San Lorenzo de Almagro', 'squad_num': '27', 'height': '1,78 m', 'foot': 'left', 'birthday': 'Jun 22, 1997 (21)', 'transfer_value(sterlings)': '£1.35m'}\n",
      "{'_id': ObjectId('5c05890a3d54c00a199275f3'), 'player': 'Víctor Salazar', 'club': 'Squad Club Atlético San Lorenzo de Almagro', 'squad_num': '29', 'height': '1,75 m', 'foot': 'right', 'birthday': 'May 26, 1993 (25)', 'transfer_value(sterlings)': '£1.13m'}\n",
      "{'_id': ObjectId('5c05890a3d54c00a199275f4'), 'player': 'Gerónimo Poblete', 'club': 'Squad Club Atlético San Lorenzo de Almagro', 'squad_num': '17', 'height': '1,75 m', 'foot': 'right', 'birthday': 'Jan 2, 1993 (25)', 'transfer_value(sterlings)': '£1.35m'}\n",
      "{'_id': ObjectId('5c05890a3d54c00a199275f5'), 'player': 'Ariel Rojas', 'club': 'Squad Club Atlético San Lorenzo de Almagro', 'squad_num': '5', 'height': '1,76 m', 'foot': 'left', 'birthday': 'Jan 16, 1986 (32)', 'transfer_value(sterlings)': '£900k'}\n",
      "{'_id': ObjectId('5c05890a3d54c00a199275f6'), 'player': 'Manuel Insaurralde', 'club': 'Squad Club Atlético San Lorenzo de Almagro', 'squad_num': '36', 'height': '1,76 m', 'foot': 'right', 'birthday': 'Jan 31, 1999 (19)', 'transfer_value(sterlings)': '-'}\n",
      "{'_id': ObjectId('5c05890a3d54c00a199275f7'), 'player': 'Fernando Belluschi', 'club': 'Squad Club Atlético San Lorenzo de Almagro', 'squad_num': '16', 'height': '1,71 m', 'foot': 'both', 'birthday': 'Sep 10, 1983 (35)', 'transfer_value(sterlings)': '£2.03m'}\n",
      "{'_id': ObjectId('5c05890a3d54c00a199275f8'), 'player': 'Bautista Merlini', 'club': 'Squad Club Atlético San Lorenzo de Almagro', 'squad_num': '11', 'height': '1,65 m', 'foot': 'right', 'birthday': 'Jul 4, 1995 (23)', 'transfer_value(sterlings)': '£2.25m'}\n",
      "{'_id': ObjectId('5c05890a3d54c00a199275f9'), 'player': 'Gabriel Gudiño', 'club': 'Squad Club Atlético San Lorenzo de Almagro', 'squad_num': '8', 'height': '1,70 m', 'foot': 'right', 'birthday': 'Mar 16, 1992 (26)', 'transfer_value(sterlings)': '£1.80m'}\n",
      "{'_id': ObjectId('5c05890a3d54c00a199275fa'), 'player': 'Nicolás Blandi', 'club': 'Squad Club Atlético San Lorenzo de Almagro', 'squad_num': '9', 'height': '1,80 m', 'foot': 'right', 'birthday': 'Jan 13, 1990 (28)', 'transfer_value(sterlings)': '£4.95m'}\n",
      "{'_id': ObjectId('5c05890a3d54c00a199275fb'), 'player': 'Adolfo Gaich', 'club': 'Squad Club Atlético San Lorenzo de Almagro', 'squad_num': '38', 'height': '1,90 m', 'foot': 'right', 'birthday': 'Feb 26, 1999 (19)', 'transfer_value(sterlings)': '-'}\n",
      "{'_id': ObjectId('5c0589123d54c00a199275fd'), 'player': 'Guillermo Sara', 'club': 'Squad Club Atlético Lanús', 'squad_num': '1', 'height': '1,84 m', 'foot': 'right', 'birthday': 'Sep 30, 1987 (31)', 'transfer_value(sterlings)': '£720k'}\n",
      "{'_id': ObjectId('5c0589123d54c00a199275fe'), 'player': 'Marcelo Herrera', 'club': 'Squad Club Atlético Lanús', 'squad_num': '2', 'height': '1,85 m', 'foot': 'right', 'birthday': 'Feb 26, 1992 (26)', 'transfer_value(sterlings)': '£2.70m'}\n",
      "{'_id': ObjectId('5c0589123d54c00a199275ff'), 'player': 'Facundo Monteseirín', 'club': 'Squad Club Atlético Lanús', 'squad_num': '6', 'height': '1,83 m', 'foot': 'left', 'birthday': 'Mar 12, 1995 (23)', 'transfer_value(sterlings)': '£450k'}\n",
      "{'_id': ObjectId('5c0589123d54c00a19927600'), 'player': 'Nicolás Thaller', 'club': 'Squad Club Atlético Lanús', 'squad_num': '29', 'height': '1,85 m', 'foot': 'right', 'birthday': 'Sep 7, 1998 (20)', 'transfer_value(sterlings)': '£135k'}\n",
      "{'_id': ObjectId('5c0589123d54c00a19927601'), 'player': 'Marcos Pinto', 'club': 'Squad Club Atlético Lanús', 'squad_num': '24', 'height': '1,73 m', 'foot': 'left', 'birthday': 'Jan 25, 1994 (24)', 'transfer_value(sterlings)': '£158k'}\n",
      "{'_id': ObjectId('5c0589123d54c00a19927602'), 'player': 'Leonel Di Placido', 'club': 'Squad Club Atlético Lanús', 'squad_num': '26', 'height': '1,76 m', 'foot': 'right', 'birthday': 'Jan 28, 1994 (24)', 'transfer_value(sterlings)': '£720k'}\n",
      "{'_id': ObjectId('5c0589123d54c00a19927603'), 'player': 'Leandro Maciel', 'club': 'Squad Club Atlético Lanús', 'squad_num': '5', 'height': '1,78 m', 'foot': 'right', 'birthday': 'Dec 29, 1995 (22)', 'transfer_value(sterlings)': '£360k'}\n",
      "{'_id': ObjectId('5c0589123d54c00a19927604'), 'player': 'Facundo Quignón', 'club': 'Squad Club Atlético Lanús', 'squad_num': '19', 'height': '1,78 m', 'foot': 'left', 'birthday': 'May 2, 1993 (25)', 'transfer_value(sterlings)': '£1.80m'}\n",
      "{'_id': ObjectId('5c0589123d54c00a19927605'), 'player': 'Fernando Barrientos', 'club': 'Squad Club Atlético Lanús', 'squad_num': '8', 'height': '1,74 m', 'foot': 'right', 'birthday': 'Nov 17, 1991 (27)', 'transfer_value(sterlings)': '£360k'}\n",
      "{'_id': ObjectId('5c0589123d54c00a19927606'), 'player': 'Lautaro Acosta', 'club': 'Squad Club Atlético Lanús', 'squad_num': '7', 'height': '1,69 m', 'foot': 'right', 'birthday': 'Mar 14, 1988 (30)', 'transfer_value(sterlings)': '£5.40m'}\n",
      "{'_id': ObjectId('5c0589123d54c00a19927607'), 'player': 'Jorge Pereyra Díaz', 'club': 'Squad Club Atlético Lanús', 'squad_num': '14', 'height': '1,78 m', 'foot': 'right', 'birthday': 'Aug 5, 1990 (28)', 'transfer_value(sterlings)': '£900k'}\n",
      "{'_id': ObjectId('5c0589123d54c00a19927608'), 'player': 'Gonzalo Di Renzo', 'club': 'Squad Club Atlético Lanús', 'squad_num': '17', 'height': '1,87 m', 'foot': 'both', 'birthday': 'Dec 30, 1995 (22)', 'transfer_value(sterlings)': '£360k'}\n",
      "{'_id': ObjectId('5c0589123d54c00a19927609'), 'player': 'Fernando Coniglio', 'club': 'Squad Club Atlético Lanús', 'squad_num': '9', 'height': '1,84 m', 'foot': 'right', 'birthday': 'Nov 24, 1991 (27)', 'transfer_value(sterlings)': '£1.80m'}\n",
      "{'_id': ObjectId('5c0589123d54c00a1992760a'), 'player': 'Bruno Vides', 'club': 'Squad Club Atlético Lanús', 'squad_num': '32', 'height': '1,78 m', 'foot': 'right', 'birthday': 'Feb 20, 1993 (25)', 'transfer_value(sterlings)': '£450k'}\n",
      "{'_id': ObjectId('5c0589123d54c00a1992760b'), 'player': 'Matías Ibáñez', 'club': 'Squad Club Atlético Lanús', 'squad_num': '12', 'height': '1,90 m', 'foot': 'right', 'birthday': 'Dec 16, 1986 (31)', 'transfer_value(sterlings)': '£450k'}\n",
      "{'_id': ObjectId('5c0589123d54c00a1992760c'), 'player': 'Rolando García', 'club': 'Squad Club Atlético Lanús', 'squad_num': '23', 'height': '1,85 m', 'foot': 'right', 'birthday': 'Feb 10, 1990 (28)', 'transfer_value(sterlings)': '£1.35m'}\n",
      "{'_id': ObjectId('5c0589123d54c00a1992760d'), 'player': 'Marco Torsiglieri', 'club': 'Squad Club Atlético Lanús', 'squad_num': '18', 'height': '1,91 m', 'foot': 'left', 'birthday': 'Jan 12, 1988 (30)', 'transfer_value(sterlings)': '£450k'}\n",
      "{'_id': ObjectId('5c0589123d54c00a1992760e'), 'player': 'Nicolás Pasquini', 'club': 'Squad Club Atlético Lanús', 'squad_num': '21', 'height': '1,77 m', 'foot': 'left', 'birthday': 'Jan 2, 1991 (27)', 'transfer_value(sterlings)': '£2.25m'}\n",
      "{'_id': ObjectId('5c0589123d54c00a1992760f'), 'player': 'José Luis Gómez', 'club': 'Squad Club Atlético Lanús', 'squad_num': '4', 'height': '1,75 m', 'foot': 'right', 'birthday': 'Sep 13, 1993 (25)', 'transfer_value(sterlings)': '£3.60m'}\n",
      "{'_id': ObjectId('5c0589123d54c00a19927610'), 'player': 'Gabriel Carrasco', 'club': 'Squad Club Atlético Lanús', 'squad_num': '27', 'height': '1,75 m', 'foot': 'right', 'birthday': 'Mar 7, 1997 (21)', 'transfer_value(sterlings)': '£360k'}\n",
      "{'_id': ObjectId('5c0589123d54c00a19927611'), 'player': 'Tomás Belmonte', 'club': 'Squad Club Atlético Lanús', 'squad_num': '13', 'height': '1,78 m', 'foot': 'right', 'birthday': 'May 27, 1998 (20)', 'transfer_value(sterlings)': '£360k'}\n",
      "{'_id': ObjectId('5c0589123d54c00a19927612'), 'player': 'Gastón Lódico', 'club': 'Squad Club Atlético Lanús', 'squad_num': '16', 'height': '1,73 m', 'foot': 'right', 'birthday': 'May 28, 1998 (20)', 'transfer_value(sterlings)': '£900k'}\n",
      "{'_id': ObjectId('5c0589123d54c00a19927613'), 'player': 'Lucas Mugni', 'club': 'Squad Club Atlético Lanús', 'squad_num': '22', 'height': '1,82 m', 'foot': 'left', 'birthday': 'Jan 12, 1992 (26)', 'transfer_value(sterlings)': '£135k'}\n",
      "{'_id': ObjectId('5c0589123d54c00a19927614'), 'player': 'Pedro De La Vega', 'club': 'Squad Club Atlético Lanús', 'squad_num': '39', 'height': '1,72 m', 'foot': 'right', 'birthday': 'Feb 7, 2001 (17)', 'transfer_value(sterlings)': '-'}\n",
      "{'_id': ObjectId('5c0589123d54c00a19927615'), 'player': 'Marcelino Moreno', 'club': 'Squad Club Atlético Lanús', 'squad_num': '25', 'height': '1,68 m', 'foot': 'right', 'birthday': 'Jun 25, 1995 (23)', 'transfer_value(sterlings)': '£900k'}\n",
      "{'_id': ObjectId('5c0589123d54c00a19927616'), 'player': 'Pablo Martínez', 'club': 'Squad Club Atlético Lanús', 'squad_num': '10', 'height': '1,75 m', 'foot': 'left', 'birthday': 'Nov 30, 1996 (22)', 'transfer_value(sterlings)': '-'}\n",
      "{'_id': ObjectId('5c0589123d54c00a19927617'), 'player': 'Sebastián Ribas', 'club': 'Squad Club Atlético Lanús', 'squad_num': '37', 'height': '1,87 m', 'foot': 'right', 'birthday': 'Mar 11, 1988 (30)', 'transfer_value(sterlings)': '£1.35m'}\n",
      "{'_id': ObjectId('5c05891a3d54c00a19927619'), 'player': 'Alexander Domínguez', 'club': 'Squad Club Atlético Vélez Sarsfield', 'squad_num': '22', 'height': '1,95 m', 'foot': 'right', 'birthday': 'Jun 5, 1987 (31)', 'transfer_value(sterlings)': '£1.58m'}\n",
      "{'_id': ObjectId('5c05891a3d54c00a1992761a'), 'player': 'Lautaro Gianetti', 'club': 'Squad Club Atlético Vélez Sarsfield', 'squad_num': '17', 'height': '1,84 m', 'foot': 'right', 'birthday': 'Nov 13, 1993 (25)', 'transfer_value(sterlings)': '£1.35m'}\n",
      "{'_id': ObjectId('5c05891a3d54c00a1992761b'), 'player': 'Joaquín Laso', 'club': 'Squad Club Atlético Vélez Sarsfield', 'squad_num': '6', 'height': '1,85 m', 'foot': 'right', 'birthday': 'Jul 4, 1990 (28)', 'transfer_value(sterlings)': '£270k'}\n",
      "{'_id': ObjectId('5c05891a3d54c00a1992761c'), 'player': 'Nahuel Arena', 'club': 'Squad Club Atlético Vélez Sarsfield', 'squad_num': '15', 'height': '1,83 m', 'foot': 'right', 'birthday': 'Jun 2, 1998 (20)', 'transfer_value(sterlings)': '-'}\n",
      "{'_id': ObjectId('5c05891a3d54c00a1992761d'), 'player': 'Francisco Ortega', 'club': 'Squad Club Atlético Vélez Sarsfield', 'squad_num': '34', 'height': '1,77 m', 'foot': 'left', 'birthday': 'Feb 19, 1999 (19)', 'transfer_value(sterlings)': '£360k'}\n",
      "{'_id': ObjectId('5c05891a3d54c00a1992761e'), 'player': 'Gastón Díaz', 'club': 'Squad Club Atlético Vélez Sarsfield', 'squad_num': '24', 'height': '1,75 m', 'foot': 'right', 'birthday': 'Mar 13, 1988 (30)', 'transfer_value(sterlings)': '£450k'}\n",
      "{'_id': ObjectId('5c05891a3d54c00a1992761f'), 'player': 'Nicolás Domínguez', 'club': 'Squad Club Atlético Vélez Sarsfield', 'squad_num': '28', 'height': '1,79 m', 'foot': 'right', 'birthday': 'Jun 28, 1998 (20)', 'transfer_value(sterlings)': '£3.60m'}\n",
      "{'_id': ObjectId('5c05891a3d54c00a19927620'), 'player': 'Pablo Galdames', 'club': 'Squad Club Atlético Vélez Sarsfield', 'squad_num': '27', 'height': '1,72 m', 'foot': 'right', 'birthday': 'Dec 30, 1996 (21)', 'transfer_value(sterlings)': '£450k'}\n",
      "{'_id': ObjectId('5c05891a3d54c00a19927621'), 'player': 'Matías Vargas', 'club': 'Squad Club Atlético Vélez Sarsfield', 'squad_num': '26', 'height': '1,68 m', 'foot': 'right', 'birthday': 'May 8, 1997 (21)', 'transfer_value(sterlings)': '£8.10m'}\n",
      "{'_id': ObjectId('5c05891a3d54c00a19927622'), 'player': 'Agustín Bouzat', 'club': 'Squad Club Atlético Vélez Sarsfield', 'squad_num': '10', 'height': '1,73 m', 'foot': 'left', 'birthday': 'Mar 28, 1994 (24)', 'transfer_value(sterlings)': '£1.58m'}\n",
      "{'_id': ObjectId('5c05891a3d54c00a19927623'), 'player': 'Álvaro Barreal', 'club': 'Squad Club Atlético Vélez Sarsfield', 'squad_num': '31', 'height': ' m', 'foot': 'left', 'birthday': 'Aug 17, 2000 (18)', 'transfer_value(sterlings)': '-'}\n",
      "{'_id': ObjectId('5c05891a3d54c00a19927624'), 'player': 'Jhonathan Ramis', 'club': 'Squad Club Atlético Vélez Sarsfield', 'squad_num': '11', 'height': '1,78 m', 'foot': 'right', 'birthday': 'Nov 6, 1989 (29)', 'transfer_value(sterlings)': '£630k'}\n",
      "{'_id': ObjectId('5c05891a3d54c00a19927625'), 'player': 'Luis Amarilla', 'club': 'Squad Club Atlético Vélez Sarsfield', 'squad_num': '20', 'height': '1,82 m', 'foot': 'right', 'birthday': 'Aug 25, 1995 (23)', 'transfer_value(sterlings)': '£225k'}\n",
      "{'_id': ObjectId('5c05891a3d54c00a19927626'), 'player': 'Lucas Hoyos', 'club': 'Squad Club Atlético Vélez Sarsfield', 'squad_num': '12', 'height': '1,83 m', 'foot': 'right', 'birthday': 'Apr 29, 1989 (29)', 'transfer_value(sterlings)': '£135k'}\n",
      "{'_id': ObjectId('5c05891a3d54c00a19927627'), 'player': 'Luis Abram', 'club': 'Squad Club Atlético Vélez Sarsfield', 'squad_num': '29', 'height': '1,80 m', 'foot': 'left', 'birthday': 'Feb 27, 1996 (22)', 'transfer_value(sterlings)': '£405k'}\n",
      "{'_id': ObjectId('5c05891a3d54c00a19927628'), 'player': 'Fabián Cubero', 'club': 'Squad Club Atlético Vélez Sarsfield', 'squad_num': '5', 'height': '1,75 m', 'foot': 'right', 'birthday': 'Dec 21, 1978 (39)', 'transfer_value(sterlings)': '£180k'}\n",
      "{'_id': ObjectId('5c05891a3d54c00a19927629'), 'player': 'Brian Cufré', 'club': 'Squad Club Atlético Vélez Sarsfield', 'squad_num': '3', 'height': '1,79 m', 'foot': 'left', 'birthday': 'Dec 15, 1996 (21)', 'transfer_value(sterlings)': '£720k'}\n",
      "{'_id': ObjectId('5c05891a3d54c00a1992762a'), 'player': 'Hernán De La Fuente', 'club': 'Squad Club Atlético Vélez Sarsfield', 'squad_num': '4', 'height': '1,78 m', 'foot': 'right', 'birthday': 'Jan 7, 1997 (21)', 'transfer_value(sterlings)': '£540k'}\n",
      "{'_id': ObjectId('5c05891a3d54c00a1992762b'), 'player': 'Gastón Giménez', 'club': 'Squad Club Atlético Vélez Sarsfield', 'squad_num': '30', 'height': '1,88 m', 'foot': 'left', 'birthday': 'Jul 27, 1991 (27)', 'transfer_value(sterlings)': '£1.80m'}\n",
      "{'_id': ObjectId('5c05891a3d54c00a1992762c'), 'player': 'Lucas Robertone', 'club': 'Squad Club Atlético Vélez Sarsfield', 'squad_num': '16', 'height': '1,70 m', 'foot': 'right', 'birthday': 'Mar 18, 1997 (21)', 'transfer_value(sterlings)': '£2.70m'}\n",
      "{'_id': ObjectId('5c05891a3d54c00a1992762d'), 'player': 'Jesús Méndez', 'club': 'Squad Club Atlético Vélez Sarsfield', 'squad_num': '8', 'height': '1,79 m', 'foot': 'right', 'birthday': 'Aug 1, 1984 (34)', 'transfer_value(sterlings)': '£315k'}\n",
      "{'_id': ObjectId('5c05891a3d54c00a1992762e'), 'player': 'Nicolás Delgadillo', 'club': 'Squad Club Atlético Vélez Sarsfield', 'squad_num': '33', 'height': '1,77 m', 'foot': 'left', 'birthday': 'Oct 2, 1997 (21)', 'transfer_value(sterlings)': '£900k'}\n",
      "{'_id': ObjectId('5c05891a3d54c00a1992762f'), 'player': 'Guido Mainero', 'club': 'Squad Club Atlético Vélez Sarsfield', 'squad_num': '7', 'height': '1,79 m', 'foot': 'right', 'birthday': 'Mar 23, 1995 (23)', 'transfer_value(sterlings)': '£360k'}\n",
      "{'_id': ObjectId('5c05891a3d54c00a19927630'), 'player': 'Thiago Almada', 'club': 'Squad Club Atlético Vélez Sarsfield', 'squad_num': '23', 'height': '1,71 m', 'foot': 'right', 'birthday': 'Apr 26, 2001 (17)', 'transfer_value(sterlings)': '-'}\n",
      "{'_id': ObjectId('5c05891a3d54c00a19927631'), 'player': 'Rodrigo Salinas', 'club': 'Squad Club Atlético Vélez Sarsfield', 'squad_num': '9', 'height': '1,91 m', 'foot': 'right', 'birthday': 'Jun 4, 1986 (32)', 'transfer_value(sterlings)': '£360k'}\n",
      "{'_id': ObjectId('5c0589213d54c00a19927633'), 'player': 'Roberto Ramírez', 'club': 'Squad Club Deportivo Godoy Cruz Antonio Tomba', 'squad_num': '1', 'height': '1,87 m', 'foot': 'left', 'birthday': 'Jul 7, 1996 (22)', 'transfer_value(sterlings)': '£270k'}\n",
      "{'_id': ObjectId('5c0589213d54c00a19927634'), 'player': 'Tomás Cardona', 'club': 'Squad Club Deportivo Godoy Cruz Antonio Tomba', 'squad_num': '6', 'height': '1,88 m', 'foot': 'left', 'birthday': 'Oct 10, 1995 (23)', 'transfer_value(sterlings)': '£2.70m'}\n",
      "{'_id': ObjectId('5c0589213d54c00a19927635'), 'player': 'Joaquín Varela', 'club': 'Squad Club Deportivo Godoy Cruz Antonio Tomba', 'squad_num': '2', 'height': '1,90 m', 'foot': 'right', 'birthday': 'Aug 23, 1996 (22)', 'transfer_value(sterlings)': '£675k'}\n",
      "{'_id': ObjectId('5c0589213d54c00a19927636'), 'player': 'Fabricio Angileri', 'club': 'Squad Club Deportivo Godoy Cruz Antonio Tomba', 'squad_num': '21', 'height': '1,84 m', 'foot': 'left', 'birthday': 'Apr 15, 1994 (24)', 'transfer_value(sterlings)': '£2.25m'}\n",
      "{'_id': ObjectId('5c0589213d54c00a19927637'), 'player': 'Luciano Abecasis', 'club': 'Squad Club Deportivo Godoy Cruz Antonio Tomba', 'squad_num': '29', 'height': '1,75 m', 'foot': 'right', 'birthday': 'Jun 4, 1990 (28)', 'transfer_value(sterlings)': '£2.25m'}\n",
      "{'_id': ObjectId('5c0589213d54c00a19927638'), 'player': 'Juan Andrada', 'club': 'Squad Club Deportivo Godoy Cruz Antonio Tomba', 'squad_num': '30', 'height': '1,83 m', 'foot': 'right', 'birthday': 'Jan 4, 1995 (23)', 'transfer_value(sterlings)': '£900k'}\n",
      "{'_id': ObjectId('5c0589213d54c00a19927639'), 'player': 'Jalil Elías', 'club': 'Squad Club Deportivo Godoy Cruz Antonio Tomba', 'squad_num': '10', 'height': '1,75 m', 'foot': 'right', 'birthday': 'Apr 25, 1996 (22)', 'transfer_value(sterlings)': '£765k'}\n",
      "{'_id': ObjectId('5c0589213d54c00a1992763a'), 'player': 'Diego Sosa', 'club': 'Squad Club Deportivo Godoy Cruz Antonio Tomba', 'squad_num': '20', 'height': '1,68 m', 'foot': 'right', 'birthday': 'Oct 24, 1991 (27)', 'transfer_value(sterlings)': '£180k'}\n",
      "{'_id': ObjectId('5c0589213d54c00a1992763b'), 'player': 'Victorio Ramis', 'club': 'Squad Club Deportivo Godoy Cruz Antonio Tomba', 'squad_num': '11', 'height': '1,81 m', 'foot': 'right', 'birthday': 'Jul 7, 1994 (24)', 'transfer_value(sterlings)': '£2.48m'}\n",
      "{'_id': ObjectId('5c0589213d54c00a1992763c'), 'player': 'Fernando Núñez', 'club': 'Squad Club Deportivo Godoy Cruz Antonio Tomba', 'squad_num': '23', 'height': '1,84 m', 'foot': 'right', 'birthday': 'Jul 22, 1995 (23)', 'transfer_value(sterlings)': '£45k'}\n",
      "{'_id': ObjectId('5c0589213d54c00a1992763d'), 'player': 'Osmar Leguizamón', 'club': 'Squad Club Deportivo Godoy Cruz Antonio Tomba', 'squad_num': '27', 'height': '1,70 m', 'foot': 'right', 'birthday': 'May 11, 1994 (24)', 'transfer_value(sterlings)': '-'}\n",
      "{'_id': ObjectId('5c0589213d54c00a1992763e'), 'player': 'Gabriel Ávalos', 'club': 'Squad Club Deportivo Godoy Cruz Antonio Tomba', 'squad_num': '9', 'height': '1,88 m', 'foot': 'right', 'birthday': 'Oct 12, 1990 (28)', 'transfer_value(sterlings)': '£180k'}\n",
      "{'_id': ObjectId('5c0589213d54c00a1992763f'), 'player': 'Andrés Mehring', 'club': 'Squad Club Deportivo Godoy Cruz Antonio Tomba', 'squad_num': '12', 'height': '1,91 m', 'foot': 'right', 'birthday': 'Apr 19, 1994 (24)', 'transfer_value(sterlings)': '£225k'}\n",
      "{'_id': ObjectId('5c0589213d54c00a19927640'), 'player': 'Diego Viera', 'club': 'Squad Club Deportivo Godoy Cruz Antonio Tomba', 'squad_num': '5', 'height': '1,85 m', 'foot': 'right', 'birthday': 'Apr 30, 1991 (27)', 'transfer_value(sterlings)': '£1.35m'}\n",
      "{'_id': ObjectId('5c0589213d54c00a19927641'), 'player': 'Brian Alférez', 'club': 'Squad Club Deportivo Godoy Cruz Antonio Tomba', 'squad_num': '3', 'height': '1,83 m', 'foot': 'left', 'birthday': 'Apr 4, 1998 (20)', 'transfer_value(sterlings)': '£90k'}\n",
      "{'_id': ObjectId('5c0589213d54c00a19927642'), 'player': 'Facundo Cobos', 'club': 'Squad Club Deportivo Godoy Cruz Antonio Tomba', 'squad_num': '28', 'height': '1,78 m', 'foot': 'left', 'birthday': 'Feb 19, 1993 (25)', 'transfer_value(sterlings)': '£315k'}\n",
      "{'_id': ObjectId('5c0589213d54c00a19927643'), 'player': 'Agustín Verdugo', 'club': 'Squad Club Deportivo Godoy Cruz Antonio Tomba', 'squad_num': '26', 'height': '1,69 m', 'foot': 'right', 'birthday': 'Sep 18, 1997 (21)', 'transfer_value(sterlings)': '£360k'}\n",
      "{'_id': ObjectId('5c0589213d54c00a19927644'), 'player': 'Iván Ramírez', 'club': 'Squad Club Deportivo Godoy Cruz Antonio Tomba', 'squad_num': '15', 'height': '1,77 m', 'foot': 'right', 'birthday': 'Dec 8, 1994 (23)', 'transfer_value(sterlings)': '£225k'}\n",
      "{'_id': ObjectId('5c0589213d54c00a19927645'), 'player': 'Fabián Henríquez', 'club': 'Squad Club Deportivo Godoy Cruz Antonio Tomba', 'squad_num': '19', 'height': '1,75 m', 'foot': 'right', 'birthday': 'Jun 8, 1995 (23)', 'transfer_value(sterlings)': '£450k'}\n",
      "{'_id': ObjectId('5c0589213d54c00a19927646'), 'player': 'Valentín Burgoa', 'club': 'Squad Club Deportivo Godoy Cruz Antonio Tomba', 'squad_num': '39', 'height': '1,74 m', 'foot': 'left', 'birthday': 'Jan 8, 2000 (18)', 'transfer_value(sterlings)': '-'}\n",
      "{'_id': ObjectId('5c0589213d54c00a19927647'), 'player': 'Leandro Lencinas', 'club': 'Squad Club Deportivo Godoy Cruz Antonio Tomba', 'squad_num': '17', 'height': '1,74 m', 'foot': 'left', 'birthday': 'Mar 6, 1995 (23)', 'transfer_value(sterlings)': '£135k'}\n",
      "{'_id': ObjectId('5c0589213d54c00a19927648'), 'player': 'Ángel González', 'club': 'Squad Club Deportivo Godoy Cruz Antonio Tomba', 'squad_num': '8', 'height': '1,69 m', 'foot': 'right', 'birthday': 'May 16, 1994 (24)', 'transfer_value(sterlings)': '£2.25m'}\n",
      "{'_id': ObjectId('5c0589213d54c00a19927649'), 'player': 'Santiago García', 'club': 'Squad Club Deportivo Godoy Cruz Antonio Tomba', 'squad_num': '18', 'height': '1,81 m', 'foot': 'right', 'birthday': 'Sep 14, 1990 (28)', 'transfer_value(sterlings)': '£5.40m'}\n",
      "{'_id': ObjectId('5c0589293d54c00a1992764b'), 'player': 'Leonardo Burián', 'club': 'Squad Club Atlético Colón', 'squad_num': '1', 'height': '1,87 m', 'foot': 'right', 'birthday': 'Jan 21, 1984 (34)', 'transfer_value(sterlings)': '£450k'}\n",
      "{'_id': ObjectId('5c0589293d54c00a1992764c'), 'player': 'Guillermo Ortiz', 'club': 'Squad Club Atlético Colón', 'squad_num': '24', 'height': '1,83 m', 'foot': 'left', 'birthday': 'Aug 9, 1992 (26)', 'transfer_value(sterlings)': '£2.48m'}\n",
      "{'_id': ObjectId('5c0589293d54c00a1992764d'), 'player': 'Jonathan Galván', 'club': 'Squad Club Atlético Colón', 'squad_num': '8', 'height': '1,77 m', 'foot': 'right', 'birthday': 'Jun 25, 1992 (26)', 'transfer_value(sterlings)': '£1.13m'}\n",
      "{'_id': ObjectId('5c0589293d54c00a1992764e'), 'player': 'Gonzalo Escobar', 'club': 'Squad Club Atlético Colón', 'squad_num': '31', 'height': '1,70 m', 'foot': 'left', 'birthday': 'Mar 16, 1997 (21)', 'transfer_value(sterlings)': '£1.35m'}\n",
      "{'_id': ObjectId('5c0589293d54c00a1992764f'), 'player': 'Gustavo Toledo', 'club': 'Squad Club Atlético Colón', 'squad_num': '2', 'height': '1,75 m', 'foot': 'right', 'birthday': 'Sep 19, 1989 (29)', 'transfer_value(sterlings)': '£810k'}\n",
      "{'_id': ObjectId('5c0589293d54c00a19927650'), 'player': 'Adrián Bastía', 'club': 'Squad Club Atlético Colón', 'squad_num': '14', 'height': '1,77 m', 'foot': 'right', 'birthday': 'Dec 20, 1978 (39)', 'transfer_value(sterlings)': '£90k'}\n",
      "{'_id': ObjectId('5c0589293d54c00a19927651'), 'player': 'Ariel Cháves', 'club': 'Squad Club Atlético Colón', 'squad_num': '25', 'height': ' m', 'foot': 'right', 'birthday': 'Feb 20, 1992 (26)', 'transfer_value(sterlings)': '-'}\n",
      "{'_id': ObjectId('5c0589293d54c00a19927652'), 'player': 'Leonardo Heredia', 'club': 'Squad Club Atlético Colón', 'squad_num': '21', 'height': '1,87 m', 'foot': 'right', 'birthday': 'Jan 11, 1996 (22)', 'transfer_value(sterlings)': '£45k'}\n",
      "{'_id': ObjectId('5c0589293d54c00a19927653'), 'player': 'Marcelo Estigarribia', 'club': 'Squad Club Atlético Colón', 'squad_num': '28', 'height': '1,81 m', 'foot': 'left', 'birthday': 'Sep 21, 1987 (31)', 'transfer_value(sterlings)': '£900k'}\n",
      "{'_id': ObjectId('5c0589293d54c00a19927654'), 'player': 'Cristian Bernardi', 'club': 'Squad Club Atlético Colón', 'squad_num': '23', 'height': '1,77 m', 'foot': 'right', 'birthday': 'Apr 10, 1990 (28)', 'transfer_value(sterlings)': '£540k'}\n",
      "{'_id': ObjectId('5c0589293d54c00a19927655'), 'player': 'Alan Ruiz', 'club': 'Squad Club Atlético Colón', 'squad_num': '10', 'height': '1,83 m', 'foot': 'left', 'birthday': 'Aug 19, 1993 (25)', 'transfer_value(sterlings)': '£3.60m'}\n",
      "{'_id': ObjectId('5c0589293d54c00a19927656'), 'player': 'Javier Correa', 'club': 'Squad Club Atlético Colón', 'squad_num': '11', 'height': '1,84 m', 'foot': 'right', 'birthday': 'Oct 23, 1992 (26)', 'transfer_value(sterlings)': '£3.60m'}\n",
      "{'_id': ObjectId('5c0589293d54c00a19927657'), 'player': 'Ignacio Chicco', 'club': 'Squad Club Atlético Colón', 'squad_num': '17', 'height': '1,84 m', 'foot': 'left', 'birthday': 'Jun 30, 1996 (22)', 'transfer_value(sterlings)': '£45k'}\n",
      "{'_id': ObjectId('5c0589293d54c00a19927658'), 'player': 'Érik Godoy', 'club': 'Squad Club Atlético Colón', 'squad_num': '27', 'height': '1,85 m', 'foot': 'right', 'birthday': 'Aug 16, 1993 (25)', 'transfer_value(sterlings)': '£1.35m'}\n",
      "{'_id': ObjectId('5c0589293d54c00a19927659'), 'player': 'Emanuel Olivera', 'club': 'Squad Club Atlético Colón', 'squad_num': '6', 'height': '1,80 m', 'foot': 'right', 'birthday': 'Apr 2, 1990 (28)', 'transfer_value(sterlings)': '£315k'}\n",
      "{'_id': ObjectId('5c0589293d54c00a1992765a'), 'player': 'Clemente Rodríguez', 'club': 'Squad Club Atlético Colón', 'squad_num': '3', 'height': '1,67 m', 'foot': 'left', 'birthday': 'Jul 31, 1981 (37)', 'transfer_value(sterlings)': '£270k'}\n",
      "{'_id': ObjectId('5c0589293d54c00a1992765b'), 'player': 'Matías Fritzler', 'club': 'Squad Club Atlético Colón', 'squad_num': '5', 'height': '1,79 m', 'foot': 'right', 'birthday': 'Aug 23, 1986 (32)', 'transfer_value(sterlings)': '£450k'}\n",
      "{'_id': ObjectId('5c0589293d54c00a1992765c'), 'player': 'Franco Zuculini', 'club': 'Squad Club Atlético Colón', 'squad_num': '18', 'height': '1,76 m', 'foot': 'right', 'birthday': 'Sep 5, 1990 (28)', 'transfer_value(sterlings)': '£540k'}\n",
      "{'_id': ObjectId('5c0589293d54c00a1992765d'), 'player': 'Mariano González', 'club': 'Squad Club Atlético Colón', 'squad_num': '15', 'height': '1,75 m', 'foot': 'right', 'birthday': 'May 5, 1981 (37)', 'transfer_value(sterlings)': '£135k'}\n",
      "{'_id': ObjectId('5c0589293d54c00a1992765e'), 'player': 'Tomás Chancalay', 'club': 'Squad Club Atlético Colón', 'squad_num': '12', 'height': '1,79 m', 'foot': 'right', 'birthday': 'Jan 1, 1999 (19)', 'transfer_value(sterlings)': '£2.48m'}\n",
      "{'_id': ObjectId('5c0589293d54c00a1992765f'), 'player': 'Gonzalo Bueno', 'club': 'Squad Club Atlético Colón', 'squad_num': '7', 'height': '1,76 m', 'foot': 'left', 'birthday': 'Jan 16, 1993 (25)', 'transfer_value(sterlings)': '£585k'}\n",
      "{'_id': ObjectId('5c0589293d54c00a19927660'), 'player': 'Braian Galván', 'club': 'Squad Club Atlético Colón', 'squad_num': '29', 'height': '1,66 m', 'foot': '-', 'birthday': 'Oct 6, 2000 (18)', 'transfer_value(sterlings)': '£45k'}\n",
      "{'_id': ObjectId('5c0589293d54c00a19927661'), 'player': 'Tomás Sandoval', 'club': 'Squad Club Atlético Colón', 'squad_num': '32', 'height': '1,85 m', 'foot': 'right', 'birthday': 'Mar 30, 1999 (19)', 'transfer_value(sterlings)': '£270k'}\n",
      "{'_id': ObjectId('5c0589293d54c00a19927662'), 'player': 'Nicolás Leguizamón', 'club': 'Squad Club Atlético Colón', 'squad_num': '9', 'height': '1,81 m', 'foot': 'right', 'birthday': 'Jan 26, 1995 (23)', 'transfer_value(sterlings)': '£1.35m'}\n",
      "{'_id': ObjectId('5c0589313d54c00a19927664'), 'player': 'Ezequiel Unsain', 'club': 'Squad Club Social y Deportivo Defensa y Justicia', 'squad_num': '22', 'height': '1,88 m', 'foot': 'right', 'birthday': 'Mar 9, 1995 (23)', 'transfer_value(sterlings)': '£720k'}\n",
      "{'_id': ObjectId('5c0589313d54c00a19927665'), 'player': 'Alexander Barboza', 'club': 'Squad Club Social y Deportivo Defensa y Justicia', 'squad_num': '6', 'height': '1,93 m', 'foot': 'left', 'birthday': 'Mar 16, 1995 (23)', 'transfer_value(sterlings)': '£2.25m'}\n",
      "{'_id': ObjectId('5c0589313d54c00a19927666'), 'player': 'Mariano Bareiro', 'club': 'Squad Club Social y Deportivo Defensa y Justicia', 'squad_num': '5', 'height': '1,80 m', 'foot': 'right', 'birthday': 'Mar 8, 1995 (23)', 'transfer_value(sterlings)': '£900k'}\n",
      "{'_id': ObjectId('5c0589313d54c00a19927667'), 'player': 'Rafael Delgado', 'club': 'Squad Club Social y Deportivo Defensa y Justicia', 'squad_num': '33', 'height': '1,78 m', 'foot': 'left', 'birthday': 'Jan 13, 1990 (28)', 'transfer_value(sterlings)': '£1.35m'}\n",
      "{'_id': ObjectId('5c0589313d54c00a19927668'), 'player': 'Nahuel Molina', 'club': 'Squad Club Social y Deportivo Defensa y Justicia', 'squad_num': '18', 'height': '1,75 m', 'foot': 'right', 'birthday': 'Dec 2, 1997 (21)', 'transfer_value(sterlings)': '£900k'}\n",
      "{'_id': ObjectId('5c0589313d54c00a19927669'), 'player': 'Nicolás Tripichio', 'club': 'Squad Club Social y Deportivo Defensa y Justicia', 'squad_num': '19', 'height': '1,75 m', 'foot': 'right', 'birthday': 'Jan 5, 1996 (22)', 'transfer_value(sterlings)': '£405k'}\n",
      "{'_id': ObjectId('5c0589313d54c00a1992766a'), 'player': 'Lucas Villarruel', 'club': 'Squad Club Social y Deportivo Defensa y Justicia', 'squad_num': '15', 'height': '1,71 m', 'foot': 'right', 'birthday': 'Nov 13, 1990 (28)', 'transfer_value(sterlings)': '£225k'}\n",
      "{'_id': ObjectId('5c0589313d54c00a1992766b'), 'player': 'Francisco Cerro', 'club': 'Squad Club Social y Deportivo Defensa y Justicia', 'squad_num': '28', 'height': '1,79 m', 'foot': 'right', 'birthday': 'Feb 9, 1988 (30)', 'transfer_value(sterlings)': '£360k'}\n",
      "{'_id': ObjectId('5c0589313d54c00a1992766c'), 'player': 'Matías Rojas', 'club': 'Squad Club Social y Deportivo Defensa y Justicia', 'squad_num': '26', 'height': '1,86 m', 'foot': 'left', 'birthday': 'Nov 3, 1995 (23)', 'transfer_value(sterlings)': '£270k'}\n",
      "{'_id': ObjectId('5c0589313d54c00a1992766d'), 'player': 'Gonzalo Díaz', 'club': 'Squad Club Social y Deportivo Defensa y Justicia', 'squad_num': '20', 'height': '1,70 m', 'foot': 'left', 'birthday': 'Mar 1, 1990 (28)', 'transfer_value(sterlings)': '£270k'}\n",
      "{'_id': ObjectId('5c0589313d54c00a1992766e'), 'player': 'Ignacio Aliseda', 'club': 'Squad Club Social y Deportivo Defensa y Justicia', 'squad_num': '31', 'height': '1,69 m', 'foot': 'both', 'birthday': 'Mar 14, 2000 (18)', 'transfer_value(sterlings)': '-'}\n",
      "{'_id': ObjectId('5c0589313d54c00a1992766f'), 'player': 'Fabián Bordagaray', 'club': 'Squad Club Social y Deportivo Defensa y Justicia', 'squad_num': '9', 'height': '1,73 m', 'foot': 'right', 'birthday': 'Feb 15, 1987 (31)', 'transfer_value(sterlings)': '£900k'}\n",
      "{'_id': ObjectId('5c0589313d54c00a19927670'), 'player': 'Nicolás Fernández', 'club': 'Squad Club Social y Deportivo Defensa y Justicia', 'squad_num': '29', 'height': '1,72 m', 'foot': 'right', 'birthday': 'Feb 8, 1996 (22)', 'transfer_value(sterlings)': '£2.70m'}\n",
      "{'_id': ObjectId('5c0589313d54c00a19927671'), 'player': 'Ignacio Huguenet', 'club': 'Squad Club Social y Deportivo Defensa y Justicia', 'squad_num': '30', 'height': '1,87 m', 'foot': 'right', 'birthday': 'May 5, 1998 (20)', 'transfer_value(sterlings)': '-'}\n",
      "{'_id': ObjectId('5c0589313d54c00a19927672'), 'player': 'Nicolás Avellaneda', 'club': 'Squad Club Social y Deportivo Defensa y Justicia', 'squad_num': '17', 'height': '1,91 m', 'foot': 'right', 'birthday': 'Feb 24, 1993 (25)', 'transfer_value(sterlings)': '£68k'}\n",
      "{'_id': ObjectId('5c0589313d54c00a19927673'), 'player': 'Lisandro Martínez', 'club': 'Squad Club Social y Deportivo Defensa y Justicia', 'squad_num': '24', 'height': '1,78 m', 'foot': 'left', 'birthday': 'Jan 18, 1998 (20)', 'transfer_value(sterlings)': '£1.80m'}\n",
      "{'_id': ObjectId('5c0589313d54c00a19927674'), 'player': 'Julio González', 'club': 'Squad Club Social y Deportivo Defensa y Justicia', 'squad_num': '4', 'height': '1,77 m', 'foot': 'right', 'birthday': 'Jun 28, 1992 (26)', 'transfer_value(sterlings)': '-'}\n",
      "{'_id': ObjectId('5c0589313d54c00a19927675'), 'player': 'Christian Almeida', 'club': 'Squad Club Social y Deportivo Defensa y Justicia', 'squad_num': '13', 'height': '1,70 m', 'foot': 'left', 'birthday': 'Dec 25, 1989 (28)', 'transfer_value(sterlings)': '£675k'}\n",
      "{'_id': ObjectId('5c0589313d54c00a19927676'), 'player': 'Hugo Silva', 'club': 'Squad Club Social y Deportivo Defensa y Justicia', 'squad_num': '27', 'height': '1,76 m', 'foot': 'right', 'birthday': 'Feb 4, 1992 (26)', 'transfer_value(sterlings)': '£450k'}\n",
      "{'_id': ObjectId('5c0589313d54c00a19927677'), 'player': 'Leonel Miranda', 'club': 'Squad Club Social y Deportivo Defensa y Justicia', 'squad_num': '10', 'height': '1,70 m', 'foot': 'right', 'birthday': 'Jan 7, 1994 (24)', 'transfer_value(sterlings)': '£1.35m'}\n",
      "{'_id': ObjectId('5c0589313d54c00a19927678'), 'player': 'Jonás Gutiérrez', 'club': 'Squad Club Social y Deportivo Defensa y Justicia', 'squad_num': '23', 'height': '1,84 m', 'foot': 'right', 'birthday': 'Jul 5, 1983 (35)', 'transfer_value(sterlings)': '£675k'}\n",
      "{'_id': ObjectId('5c0589313d54c00a19927679'), 'player': 'Domingo Blanco', 'club': 'Squad Club Social y Deportivo Defensa y Justicia', 'squad_num': '8', 'height': '1,67 m', 'foot': 'right', 'birthday': 'Apr 22, 1995 (23)', 'transfer_value(sterlings)': '£315k'}\n",
      "{'_id': ObjectId('5c0589313d54c00a1992767a'), 'player': 'Eugenio Isnaldo', 'club': 'Squad Club Social y Deportivo Defensa y Justicia', 'squad_num': '11', 'height': '1,80 m', 'foot': 'left', 'birthday': 'Jan 7, 1994 (24)', 'transfer_value(sterlings)': '£540k'}\n",
      "{'_id': ObjectId('5c0589313d54c00a1992767b'), 'player': 'Gastón Togni', 'club': 'Squad Club Social y Deportivo Defensa y Justicia', 'squad_num': '7', 'height': '1,80 m', 'foot': 'left', 'birthday': 'Sep 20, 1997 (21)', 'transfer_value(sterlings)': '£135k'}\n",
      "{'_id': ObjectId('5c0589313d54c00a1992767c'), 'player': 'Mauricio Tévez', 'club': 'Squad Club Social y Deportivo Defensa y Justicia', 'squad_num': '32', 'height': '1,70 m', 'foot': 'right', 'birthday': 'Jul 31, 1996 (22)', 'transfer_value(sterlings)': '£1.35m'}\n",
      "{'_id': ObjectId('5c0589313d54c00a1992767d'), 'player': 'Ciro Rius', 'club': 'Squad Club Social y Deportivo Defensa y Justicia', 'squad_num': '12', 'height': '1,75 m', 'foot': 'right', 'birthday': 'Oct 27, 1988 (30)', 'transfer_value(sterlings)': '£540k'}\n",
      "{'_id': ObjectId('5c0589313d54c00a1992767e'), 'player': 'Marcelo Larrondo', 'club': 'Squad Club Social y Deportivo Defensa y Justicia', 'squad_num': '16', 'height': '1,91 m', 'foot': 'right', 'birthday': 'Aug 16, 1988 (30)', 'transfer_value(sterlings)': '£900k'}\n",
      "{'_id': ObjectId('5c05897d3d54c00a19927680'), 'player': 'Jeremías Ledesma', 'club': 'Squad Club Atlético Rosario Central', 'squad_num': '1', 'height': '1,86 m', 'foot': 'right', 'birthday': 'Feb 13, 1993 (25)', 'transfer_value(sterlings)': '£180k'}\n",
      "{'_id': ObjectId('5c05897d3d54c00a19927681'), 'player': 'Miguel Barbieri', 'club': 'Squad Club Atlético Rosario Central', 'squad_num': '19', 'height': '1,81 m', 'foot': 'right', 'birthday': 'Aug 24, 1993 (25)', 'transfer_value(sterlings)': '£900k'}\n",
      "{'_id': ObjectId('5c05897d3d54c00a19927682'), 'player': 'Óscar Cabezas', 'club': 'Squad Club Atlético Rosario Central', 'squad_num': '26', 'height': '1,80 m', 'foot': 'left', 'birthday': 'Dec 22, 1996 (21)', 'transfer_value(sterlings)': '£450k'}\n",
      "{'_id': ObjectId('5c05897d3d54c00a19927683'), 'player': 'Alfonso Parot', 'club': 'Squad Club Atlético Rosario Central', 'squad_num': '24', 'height': '1,81 m', 'foot': 'left', 'birthday': 'Oct 15, 1989 (29)', 'transfer_value(sterlings)': '£900k'}\n",
      "{'_id': ObjectId('5c05897d3d54c00a19927684'), 'player': 'Gonzalo Bettini', 'club': 'Squad Club Atlético Rosario Central', 'squad_num': '4', 'height': '1,71 m', 'foot': 'left', 'birthday': 'Sep 26, 1992 (26)', 'transfer_value(sterlings)': '£540k'}\n",
      "{'_id': ObjectId('5c05897d3d54c00a19927685'), 'player': 'Diego Arismendi', 'club': 'Squad Club Atlético Rosario Central', 'squad_num': '14', 'height': '1,89 m', 'foot': 'right', 'birthday': 'Jan 25, 1988 (30)', 'transfer_value(sterlings)': '£450k'}\n",
      "{'_id': ObjectId('5c05897d3d54c00a19927686'), 'player': 'Joaquín Pereyra', 'club': 'Squad Club Atlético Rosario Central', 'squad_num': '7', 'height': '1,81 m', 'foot': 'left', 'birthday': 'Dec 1, 1998 (20)', 'transfer_value(sterlings)': '£540k'}\n",
      "{'_id': ObjectId('5c05897d3d54c00a19927687'), 'player': 'Andrés Lioi', 'club': 'Squad Club Atlético Rosario Central', 'squad_num': '18', 'height': '1,75 m', 'foot': 'right', 'birthday': 'Mar 7, 1997 (21)', 'transfer_value(sterlings)': '£900k'}\n",
      "{'_id': ObjectId('5c05897d3d54c00a19927688'), 'player': 'Washington Camacho', 'club': 'Squad Club Atlético Rosario Central', 'squad_num': '15', 'height': '1,77 m', 'foot': 'left', 'birthday': 'Apr 8, 1986 (32)', 'transfer_value(sterlings)': '£450k'}\n",
      "{'_id': ObjectId('5c05897d3d54c00a19927689'), 'player': 'Maximiliano Lovera', 'club': 'Squad Club Atlético Rosario Central', 'squad_num': '34', 'height': '1,70 m', 'foot': 'right', 'birthday': 'Mar 9, 1999 (19)', 'transfer_value(sterlings)': '£2.25m'}\n",
      "{'_id': ObjectId('5c05897d3d54c00a1992768a'), 'player': 'Marco Ruben', 'club': 'Squad Club Atlético Rosario Central', 'squad_num': '9', 'height': '1,79 m', 'foot': 'right', 'birthday': 'Oct 26, 1986 (32)', 'transfer_value(sterlings)': '£2.25m'}\n",
      "{'_id': ObjectId('5c05897d3d54c00a1992768b'), 'player': 'Germán Herrera', 'club': 'Squad Club Atlético Rosario Central', 'squad_num': '17', 'height': '1,80 m', 'foot': 'right', 'birthday': 'Jul 19, 1983 (35)', 'transfer_value(sterlings)': '£270k'}\n",
      "{'_id': ObjectId('5c05897d3d54c00a1992768c'), 'player': 'Josué Ayala', 'club': 'Squad Club Atlético Rosario Central', 'squad_num': '31', 'height': '1,84 m', 'foot': 'left', 'birthday': 'May 30, 1988 (30)', 'transfer_value(sterlings)': '£158k'}\n",
      "{'_id': ObjectId('5c05897d3d54c00a1992768d'), 'player': 'Matías Caruzzo', 'club': 'Squad Club Atlético Rosario Central', 'squad_num': '2', 'height': '1,85 m', 'foot': 'right', 'birthday': 'Aug 15, 1984 (34)', 'transfer_value(sterlings)': '£675k'}\n",
      "{'_id': ObjectId('5c05897d3d54c00a1992768e'), 'player': 'Marcelo Ortiz', 'club': 'Squad Club Atlético Rosario Central', 'squad_num': '6', 'height': '1,86 m', 'foot': 'right', 'birthday': 'Jan 13, 1994 (24)', 'transfer_value(sterlings)': '£45k'}\n",
      "{'_id': ObjectId('5c05897d3d54c00a1992768f'), 'player': 'Elías Gómez', 'club': 'Squad Club Atlético Rosario Central', 'squad_num': '3', 'height': '1,76 m', 'foot': 'left', 'birthday': 'Jun 9, 1994 (24)', 'transfer_value(sterlings)': '£225k'}\n",
      "{'_id': ObjectId('5c05897d3d54c00a19927690'), 'player': 'Nahuel Gómez', 'club': 'Squad Club Atlético Rosario Central', 'squad_num': '21', 'height': '1,78 m', 'foot': 'right', 'birthday': 'Aug 23, 1996 (22)', 'transfer_value(sterlings)': '£90k'}\n",
      "{'_id': ObjectId('5c05897d3d54c00a19927691'), 'player': 'Leonardo Gil', 'club': 'Squad Club Atlético Rosario Central', 'squad_num': '5', 'height': '1,71 m', 'foot': 'left', 'birthday': 'May 31, 1991 (27)', 'transfer_value(sterlings)': '£3.15m'}\n",
      "{'_id': ObjectId('5c05897d3d54c00a19927692'), 'player': 'Néstor Ortigoza', 'club': 'Squad Club Atlético Rosario Central', 'squad_num': '10', 'height': '1,80 m', 'foot': 'right', 'birthday': 'Oct 7, 1984 (34)', 'transfer_value(sterlings)': '£450k'}\n",
      "{'_id': ObjectId('5c05897d3d54c00a19927693'), 'player': 'José Luis Fernández', 'club': 'Squad Club Atlético Rosario Central', 'squad_num': '11', 'height': '1,68 m', 'foot': 'left', 'birthday': 'Oct 26, 1987 (31)', 'transfer_value(sterlings)': '£720k'}\n",
      "{'_id': ObjectId('5c05897d3d54c00a19927694'), 'player': 'Federico Carrizo', 'club': 'Squad Club Atlético Rosario Central', 'squad_num': '8', 'height': '1,73 m', 'foot': 'right', 'birthday': 'May 17, 1991 (27)', 'transfer_value(sterlings)': '£1.35m'}\n",
      "{'_id': ObjectId('5c05897d3d54c00a19927695'), 'player': 'Fernando Zampedri', 'club': 'Squad Club Atlético Rosario Central', 'squad_num': '20', 'height': '1,85 m', 'foot': 'right', 'birthday': 'Feb 14, 1988 (30)', 'transfer_value(sterlings)': '£2.70m'}\n",
      "{'_id': ObjectId('5c05897d3d54c00a19927696'), 'player': 'Agustín Maziero', 'club': 'Squad Club Atlético Rosario Central', 'squad_num': '23', 'height': '1,79 m', 'foot': 'right', 'birthday': 'Nov 27, 1997 (21)', 'transfer_value(sterlings)': '£360k'}\n",
      "{'_id': ObjectId('5c0589e03d54c00a19927698'), 'player': 'Guido Herrera', 'club': 'Squad Club Atlético Talleres', 'squad_num': '22', 'height': '1,88 m', 'foot': 'left', 'birthday': 'Feb 29, 1992 (26)', 'transfer_value(sterlings)': '£1.13m'}\n",
      "{'_id': ObjectId('5c0589e03d54c00a19927699'), 'player': 'Ezequiel Mastrolía', 'club': 'Squad Club Atlético Talleres', 'squad_num': '23', 'height': '1,90 m', 'foot': 'right', 'birthday': 'Mar 25, 1991 (27)', 'transfer_value(sterlings)': '£45k'}\n",
      "{'_id': ObjectId('5c0589e03d54c00a1992769a'), 'player': 'Carlos Quintana', 'club': 'Squad Club Atlético Talleres', 'squad_num': '2', 'height': '1,91 m', 'foot': 'right', 'birthday': 'Feb 11, 1988 (30)', 'transfer_value(sterlings)': '£1.35m'}\n",
      "{'_id': ObjectId('5c0589e03d54c00a1992769b'), 'player': 'Javier Gandolfi', 'club': 'Squad Club Atlético Talleres', 'squad_num': '3', 'height': '1,78 m', 'foot': 'right', 'birthday': 'Dec 5, 1980 (37)', 'transfer_value(sterlings)': '£135k'}\n",
      "{'_id': ObjectId('5c0589e03d54c00a1992769c'), 'player': 'Facundo Medina', 'club': 'Squad Club Atlético Talleres', 'squad_num': '30', 'height': '1,81 m', 'foot': 'left', 'birthday': 'May 28, 1999 (19)', 'transfer_value(sterlings)': '£45k'}\n",
      "{'_id': ObjectId('5c0589e03d54c00a1992769d'), 'player': 'Nahuel Tenaglia', 'club': 'Squad Club Atlético Talleres', 'squad_num': '14', 'height': '1,82 m', 'foot': 'right', 'birthday': 'Feb 21, 1996 (22)', 'transfer_value(sterlings)': '£135k'}\n",
      "{'_id': ObjectId('5c0589e03d54c00a1992769e'), 'player': 'Pablo Guiñazú', 'club': 'Squad Club Atlético Talleres', 'squad_num': '5', 'height': '1,72 m', 'foot': 'left', 'birthday': 'Aug 26, 1978 (40)', 'transfer_value(sterlings)': '£360k'}\n",
      "{'_id': ObjectId('5c0589e03d54c00a1992769f'), 'player': 'Juan Ramírez', 'club': 'Squad Club Atlético Talleres', 'squad_num': '20', 'height': '1,73 m', 'foot': 'left', 'birthday': 'May 25, 1993 (25)', 'transfer_value(sterlings)': '£1.80m'}\n",
      "{'_id': ObjectId('5c0589e03d54c00a199276a0'), 'player': 'Joel Soñora', 'club': 'Squad Club Atlético Talleres', 'squad_num': '21', 'height': '1,76 m', 'foot': 'right', 'birthday': 'Sep 15, 1996 (22)', 'transfer_value(sterlings)': '£135k'}\n",
      "{'_id': ObjectId('5c0589e03d54c00a199276a1'), 'player': 'Aldo Araujo', 'club': 'Squad Club Atlético Talleres', 'squad_num': '11', 'height': '1,69 m', 'foot': 'right', 'birthday': 'Jan 3, 1992 (26)', 'transfer_value(sterlings)': '£315k'}\n",
      "{'_id': ObjectId('5c0589e03d54c00a199276a2'), 'player': 'Nahuel Bustos', 'club': 'Squad Club Atlético Talleres', 'squad_num': '7', 'height': '1,76 m', 'foot': 'right', 'birthday': 'Jul 4, 1998 (20)', 'transfer_value(sterlings)': '£45k'}\n",
      "{'_id': ObjectId('5c0589e03d54c00a199276a3'), 'player': 'Brian Montenegro', 'club': 'Squad Club Atlético Talleres', 'squad_num': '27', 'height': '1,79 m', 'foot': 'right', 'birthday': 'Jun 10, 1993 (25)', 'transfer_value(sterlings)': '£360k'}\n",
      "{'_id': ObjectId('5c0589e03d54c00a199276a4'), 'player': 'Mauricio Caranta', 'club': 'Squad Club Atlético Talleres', 'squad_num': '1', 'height': '1,84 m', 'foot': 'right', 'birthday': 'Jul 31, 1978 (40)', 'transfer_value(sterlings)': '£90k'}\n",
      "{'_id': ObjectId('5c0589e03d54c00a199276a5'), 'player': 'Juan Komar', 'club': 'Squad Club Atlético Talleres', 'squad_num': '6', 'height': '1,89 m', 'foot': 'right', 'birthday': 'Aug 13, 1996 (22)', 'transfer_value(sterlings)': '£3.15m'}\n",
      "{'_id': ObjectId('5c0589e03d54c00a199276a6'), 'player': 'Miguel Araujo', 'club': 'Squad Club Atlético Talleres', 'squad_num': '4', 'height': '1,81 m', 'foot': 'right', 'birthday': 'Oct 24, 1994 (24)', 'transfer_value(sterlings)': '£450k'}\n",
      "{'_id': ObjectId('5c0589e03d54c00a199276a7'), 'player': 'Ian Escobar', 'club': 'Squad Club Atlético Talleres', 'squad_num': '26', 'height': '1,72 m', 'foot': 'left', 'birthday': 'May 29, 1996 (22)', 'transfer_value(sterlings)': '£540k'}\n",
      "{'_id': ObjectId('5c0589e03d54c00a199276a8'), 'player': 'Leonardo Godoy', 'club': 'Squad Club Atlético Talleres', 'squad_num': '25', 'height': '1,73 m', 'foot': 'right', 'birthday': 'Apr 28, 1995 (23)', 'transfer_value(sterlings)': '£1.58m'}\n",
      "{'_id': ObjectId('5c0589e03d54c00a199276a9'), 'player': 'Andrés Cubas', 'club': 'Squad Club Atlético Talleres', 'squad_num': '8', 'height': '1,67 m', 'foot': 'right', 'birthday': 'May 22, 1996 (22)', 'transfer_value(sterlings)': '£1.98m'}\n",
      "{'_id': ObjectId('5c0589e03d54c00a199276aa'), 'player': 'Tomás Pochettino', 'club': 'Squad Club Atlético Talleres', 'squad_num': '32', 'height': '1,80 m', 'foot': 'right', 'birthday': 'Feb 1, 1996 (22)', 'transfer_value(sterlings)': '£1.80m'}\n",
      "{'_id': ObjectId('5c0589e03d54c00a199276ab'), 'player': 'Gonzalo Maroni', 'club': 'Squad Club Atlético Talleres', 'squad_num': '10', 'height': '1,77 m', 'foot': 'right', 'birthday': 'Mar 18, 1999 (19)', 'transfer_value(sterlings)': '£675k'}\n",
      "{'_id': ObjectId('5c0589e03d54c00a199276ac'), 'player': 'Diego Valoyes', 'club': 'Squad Club Atlético Talleres', 'squad_num': '18', 'height': '1,81 m', 'foot': 'right', 'birthday': 'Sep 22, 1996 (22)', 'transfer_value(sterlings)': '£450k'}\n",
      "{'_id': ObjectId('5c0589e03d54c00a199276ad'), 'player': 'Mauro Ortíz', 'club': 'Squad Club Atlético Talleres', 'squad_num': '19', 'height': '1,62 m', 'foot': 'right', 'birthday': 'Dec 27, 1994 (23)', 'transfer_value(sterlings)': '£135k'}\n",
      "{'_id': ObjectId('5c0589e03d54c00a199276ae'), 'player': 'Junior Arias', 'club': 'Squad Club Atlético Talleres', 'squad_num': '9', 'height': '1,76 m', 'foot': 'right', 'birthday': 'May 17, 1993 (25)', 'transfer_value(sterlings)': '£1.80m'}\n",
      "{'_id': ObjectId('5c0589e03d54c00a199276af'), 'player': 'Marcos Arturia', 'club': 'Squad Club Atlético Talleres', 'squad_num': '-', 'height': ' m', 'foot': '-', 'birthday': 'Feb 8, 1998 (20)', 'transfer_value(sterlings)': '-'}\n",
      "{'_id': ObjectId('5c0589e83d54c00a199276b1'), 'player': 'Nereo Fernandez', 'club': 'Squad Club Atlético Unión (Santa Fe)', 'squad_num': '1', 'height': '1,95 m', 'foot': 'right', 'birthday': 'Apr 13, 1979 (39)', 'transfer_value(sterlings)': '£135k'}\n",
      "{'_id': ObjectId('5c0589e83d54c00a199276b2'), 'player': 'Yeimar Gómez Andrade', 'club': 'Squad Club Atlético Unión (Santa Fe)', 'squad_num': '28', 'height': '1,87 m', 'foot': 'right', 'birthday': 'Jun 30, 1992 (26)', 'transfer_value(sterlings)': '£1.80m'}\n",
      "{'_id': ObjectId('5c0589e83d54c00a199276b3'), 'player': 'Brian Blasi', 'club': 'Squad Club Atlético Unión (Santa Fe)', 'squad_num': '17', 'height': '1,80 m', 'foot': 'right', 'birthday': 'Feb 8, 1996 (22)', 'transfer_value(sterlings)': '£225k'}\n",
      "{'_id': ObjectId('5c0589e83d54c00a199276b4'), 'player': 'Claudio Corvalán', 'club': 'Squad Club Atlético Unión (Santa Fe)', 'squad_num': '3', 'height': '1,79 m', 'foot': 'left', 'birthday': 'Mar 23, 1989 (29)', 'transfer_value(sterlings)': '£675k'}\n",
      "{'_id': ObjectId('5c0589e83d54c00a199276b5'), 'player': 'Santiago Zurbriggen', 'club': 'Squad Club Atlético Unión (Santa Fe)', 'squad_num': '20', 'height': '1,77 m', 'foot': 'right', 'birthday': 'Jan 27, 1990 (28)', 'transfer_value(sterlings)': '£315k'}\n",
      "{'_id': ObjectId('5c0589e83d54c00a199276b6'), 'player': 'Manuel De Iriondo', 'club': 'Squad Club Atlético Unión (Santa Fe)', 'squad_num': '23', 'height': '1,79 m', 'foot': 'right', 'birthday': 'May 6, 1993 (25)', 'transfer_value(sterlings)': '£225k'}\n",
      "{'_id': ObjectId('5c0589e83d54c00a199276b7'), 'player': 'Diego Zabala', 'club': 'Squad Club Atlético Unión (Santa Fe)', 'squad_num': '11', 'height': '1,71 m', 'foot': 'right', 'birthday': 'Sep 19, 1991 (27)', 'transfer_value(sterlings)': '£1.80m'}\n",
      "{'_id': ObjectId('5c0589e83d54c00a199276b8'), 'player': 'Franco Fragapane', 'club': 'Squad Club Atlético Unión (Santa Fe)', 'squad_num': '7', 'height': '1,67 m', 'foot': 'right', 'birthday': 'Jun 2, 1993 (25)', 'transfer_value(sterlings)': '£900k'}\n",
      "{'_id': ObjectId('5c0589e83d54c00a199276b9'), 'player': 'Franco Soldano', 'club': 'Squad Club Atlético Unión (Santa Fe)', 'squad_num': '27', 'height': '1,86 m', 'foot': 'right', 'birthday': 'Sep 14, 1994 (24)', 'transfer_value(sterlings)': '£4.50m'}\n",
      "{'_id': ObjectId('5c0589e83d54c00a199276ba'), 'player': 'Franco Troyansky', 'club': 'Squad Club Atlético Unión (Santa Fe)', 'squad_num': '22', 'height': '1,78 m', 'foot': 'left', 'birthday': 'Jun 3, 1997 (21)', 'transfer_value(sterlings)': '£1.13m'}\n",
      "{'_id': ObjectId('5c0589e83d54c00a199276bb'), 'player': 'Joaquín Papaleo', 'club': 'Squad Club Atlético Unión (Santa Fe)', 'squad_num': '25', 'height': '1,88 m', 'foot': 'right', 'birthday': 'Mar 23, 1994 (24)', 'transfer_value(sterlings)': '£68k'}\n",
      "{'_id': ObjectId('5c0589e83d54c00a199276bc'), 'player': 'Jonathan Bottinelli', 'club': 'Squad Club Atlético Unión (Santa Fe)', 'squad_num': '33', 'height': '1,79 m', 'foot': 'left', 'birthday': 'Sep 14, 1984 (34)', 'transfer_value(sterlings)': '£405k'}\n",
      "{'_id': ObjectId('5c0589e83d54c00a199276bd'), 'player': 'Bruno Pittón', 'club': 'Squad Club Atlético Unión (Santa Fe)', 'squad_num': '14', 'height': '1,79 m', 'foot': 'left', 'birthday': 'Feb 11, 1993 (25)', 'transfer_value(sterlings)': '£1.13m'}\n",
      "{'_id': ObjectId('5c0589e83d54c00a199276be'), 'player': 'Damián Martínez', 'club': 'Squad Club Atlético Unión (Santa Fe)', 'squad_num': '4', 'height': '1,77 m', 'foot': 'right', 'birthday': 'Jan 31, 1990 (28)', 'transfer_value(sterlings)': '£360k'}\n",
      "{'_id': ObjectId('5c0589e83d54c00a199276bf'), 'player': 'Nelson Acevedo', 'club': 'Squad Club Atlético Unión (Santa Fe)', 'squad_num': '5', 'height': '1,71 m', 'foot': 'right', 'birthday': 'Jul 11, 1988 (30)', 'transfer_value(sterlings)': '£540k'}\n",
      "{'_id': ObjectId('5c0589e83d54c00a199276c0'), 'player': 'Mauro Pittón', 'club': 'Squad Club Atlético Unión (Santa Fe)', 'squad_num': '30', 'height': '1,81 m', 'foot': 'right', 'birthday': 'Aug 8, 1994 (24)', 'transfer_value(sterlings)': '£1.80m'}\n",
      "{'_id': ObjectId('5c0589e83d54c00a199276c1'), 'player': 'Gabriel Compagnucci', 'club': 'Squad Club Atlético Unión (Santa Fe)', 'squad_num': '8', 'height': ' m', 'foot': 'right', 'birthday': 'Aug 29, 1991 (27)', 'transfer_value(sterlings)': '-'}\n",
      "{'_id': ObjectId('5c0589e83d54c00a199276c2'), 'player': 'Rodrigo Gómez', 'club': 'Squad Club Atlético Unión (Santa Fe)', 'squad_num': '10', 'height': '1,68 m', 'foot': 'right', 'birthday': 'Jan 2, 1993 (25)', 'transfer_value(sterlings)': '£900k'}\n",
      "{'_id': ObjectId('5c0589e83d54c00a199276c3'), 'player': 'Federico Andrada', 'club': 'Squad Club Atlético Unión (Santa Fe)', 'squad_num': '9', 'height': '1,81 m', 'foot': 'right', 'birthday': 'Mar 3, 1994 (24)', 'transfer_value(sterlings)': '£1.35m'}\n",
      "{'_id': ObjectId('5c0589e83d54c00a199276c4'), 'player': 'Matías Gallegos', 'club': 'Squad Club Atlético Unión (Santa Fe)', 'squad_num': '26', 'height': '1,79 m', 'foot': 'left', 'birthday': 'May 15, 1997 (21)', 'transfer_value(sterlings)': '£90k'}\n",
      "{'_id': ObjectId('5c0589ef3d54c00a199276c6'), 'player': 'Mariano Andújar', 'club': 'Squad Club Estudiantes de La Plata', 'squad_num': '21', 'height': '1,94 m', 'foot': 'right', 'birthday': 'Jul 30, 1983 (35)', 'transfer_value(sterlings)': '£1.80m'}\n",
      "{'_id': ObjectId('5c0589ef3d54c00a199276c7'), 'player': 'Jonathan Schunke', 'club': 'Squad Club Estudiantes de La Plata', 'squad_num': '6', 'height': '1,93 m', 'foot': 'right', 'birthday': 'Feb 22, 1987 (31)', 'transfer_value(sterlings)': '£1.62m'}\n",
      "{'_id': ObjectId('5c0589ef3d54c00a199276c8'), 'player': 'Fabián Noguera', 'club': 'Squad Club Estudiantes de La Plata', 'squad_num': '18', 'height': '1,92 m', 'foot': 'right', 'birthday': 'Mar 20, 1993 (25)', 'transfer_value(sterlings)': '£540k'}\n",
      "{'_id': ObjectId('5c0589ef3d54c00a199276c9'), 'player': 'Fernando Evangelista', 'club': 'Squad Club Estudiantes de La Plata', 'squad_num': '13', 'height': '1,84 m', 'foot': 'left', 'birthday': 'Oct 21, 1991 (27)', 'transfer_value(sterlings)': '£540k'}\n",
      "{'_id': ObjectId('5c0589ef3d54c00a199276ca'), 'player': 'Facundo Sánchez', 'club': 'Squad Club Estudiantes de La Plata', 'squad_num': '14', 'height': '1,76 m', 'foot': 'right', 'birthday': 'Mar 7, 1990 (28)', 'transfer_value(sterlings)': '£2.25m'}\n",
      "{'_id': ObjectId('5c0589ef3d54c00a199276cb'), 'player': 'Ivan Gomez', 'club': 'Squad Club Estudiantes de La Plata', 'squad_num': '4', 'height': '1,65 m', 'foot': 'right', 'birthday': 'Feb 28, 1997 (21)', 'transfer_value(sterlings)': '£450k'}\n",
      "{'_id': ObjectId('5c0589ef3d54c00a199276cc'), 'player': 'Franco Sivetti', 'club': 'Squad Club Estudiantes de La Plata', 'squad_num': '27', 'height': '1,79 m', 'foot': '-', 'birthday': 'May 30, 1998 (20)', 'transfer_value(sterlings)': '-'}\n",
      "{'_id': ObjectId('5c0589ef3d54c00a199276cd'), 'player': 'Matías Laba', 'club': 'Squad Club Estudiantes de La Plata', 'squad_num': '26', 'height': '1,77 m', 'foot': 'right', 'birthday': 'Dec 11, 1991 (26)', 'transfer_value(sterlings)': '£315k'}\n",
      "{'_id': ObjectId('5c0589ef3d54c00a199276ce'), 'player': 'Lucas Rodríguez', 'club': 'Squad Club Estudiantes de La Plata', 'squad_num': '9', 'height': '1,69 m', 'foot': 'right', 'birthday': 'Apr 27, 1997 (21)', 'transfer_value(sterlings)': '£2.70m'}\n",
      "{'_id': ObjectId('5c0589ef3d54c00a199276cf'), 'player': 'Jacob Murillo', 'club': 'Squad Club Estudiantes de La Plata', 'squad_num': '25', 'height': '1,71 m', 'foot': 'right', 'birthday': 'Mar 31, 1993 (25)', 'transfer_value(sterlings)': '£315k'}\n",
      "{'_id': ObjectId('5c0589ef3d54c00a199276d0'), 'player': 'Matías Pellegrini', 'club': 'Squad Club Estudiantes de La Plata', 'squad_num': '8', 'height': '1,76 m', 'foot': 'left', 'birthday': 'Mar 11, 2000 (18)', 'transfer_value(sterlings)': '-'}\n",
      "{'_id': ObjectId('5c0589ef3d54c00a199276d1'), 'player': 'Pablo Lugüercio', 'club': 'Squad Club Estudiantes de La Plata', 'squad_num': '17', 'height': '1,77 m', 'foot': 'right', 'birthday': 'Mar 10, 1982 (36)', 'transfer_value(sterlings)': '£180k'}\n",
      "{'_id': ObjectId('5c0589ef3d54c00a199276d2'), 'player': 'Mariano Pavone', 'club': 'Squad Club Estudiantes de La Plata', 'squad_num': '16', 'height': '1,81 m', 'foot': 'both', 'birthday': 'May 27, 1982 (36)', 'transfer_value(sterlings)': '£360k'}\n",
      "{'_id': ObjectId('5c0589ef3d54c00a199276d3'), 'player': 'Daniel Sappa', 'club': 'Squad Club Estudiantes de La Plata', 'squad_num': '12', 'height': '1,93 m', 'foot': 'right', 'birthday': 'Feb 9, 1995 (23)', 'transfer_value(sterlings)': '£450k'}\n",
      "{'_id': ObjectId('5c0589ef3d54c00a199276d4'), 'player': 'Gastón Campi', 'club': 'Squad Club Estudiantes de La Plata', 'squad_num': '15', 'height': '1,93 m', 'foot': 'left', 'birthday': 'Apr 6, 1991 (27)', 'transfer_value(sterlings)': '£1.35m'}\n",
      "{'_id': ObjectId('5c0589ef3d54c00a199276d5'), 'player': 'Nicolás Bazzana', 'club': 'Squad Club Estudiantes de La Plata', 'squad_num': '2', 'height': '1,83 m', 'foot': 'right', 'birthday': 'Feb 23, 1996 (22)', 'transfer_value(sterlings)': '£45k'}\n",
      "{'_id': ObjectId('5c0589ef3d54c00a199276d6'), 'player': 'Iván Erquiaga', 'club': 'Squad Club Estudiantes de La Plata', 'squad_num': '3', 'height': '1,77 m', 'foot': 'left', 'birthday': 'Mar 26, 1998 (20)', 'transfer_value(sterlings)': '-'}\n",
      "{'_id': ObjectId('5c0589ef3d54c00a199276d7'), 'player': 'Matías Ruiz Díaz', 'club': 'Squad Club Estudiantes de La Plata', 'squad_num': '20', 'height': '1,79 m', 'foot': 'right', 'birthday': 'Sep 9, 1996 (22)', 'transfer_value(sterlings)': '£135k'}\n",
      "{'_id': ObjectId('5c0589ef3d54c00a199276d8'), 'player': 'Rodrigo Braña', 'club': 'Squad Club Estudiantes de La Plata', 'squad_num': '22', 'height': '1,67 m', 'foot': 'right', 'birthday': 'Mar 7, 1979 (39)', 'transfer_value(sterlings)': '£180k'}\n",
      "{'_id': ObjectId('5c0589ef3d54c00a199276d9'), 'player': 'Fernando Zuqui', 'club': 'Squad Club Estudiantes de La Plata', 'squad_num': '5', 'height': '1,70 m', 'foot': 'right', 'birthday': 'Nov 27, 1991 (27)', 'transfer_value(sterlings)': '£1.35m'}\n",
      "{'_id': ObjectId('5c0589ef3d54c00a199276da'), 'player': 'Nahuel Estévez', 'club': 'Squad Club Estudiantes de La Plata', 'squad_num': '24', 'height': '1,83 m', 'foot': 'right', 'birthday': 'Nov 14, 1995 (23)', 'transfer_value(sterlings)': '-'}\n",
      "{'_id': ObjectId('5c0589ef3d54c00a199276db'), 'player': 'Gastón Fernández', 'club': 'Squad Club Estudiantes de La Plata', 'squad_num': '10', 'height': '1,70 m', 'foot': 'right', 'birthday': 'Oct 12, 1983 (35)', 'transfer_value(sterlings)': '£270k'}\n",
      "{'_id': ObjectId('5c0589ef3d54c00a199276dc'), 'player': 'Carlo Lattanzio', 'club': 'Squad Club Estudiantes de La Plata', 'squad_num': '30', 'height': '1,78 m', 'foot': 'left', 'birthday': 'Jul 25, 1997 (21)', 'transfer_value(sterlings)': '£225k'}\n",
      "{'_id': ObjectId('5c0589ef3d54c00a199276dd'), 'player': 'Juan Cejas', 'club': 'Squad Club Estudiantes de La Plata', 'squad_num': '23', 'height': '1,75 m', 'foot': 'right', 'birthday': 'Mar 6, 1998 (20)', 'transfer_value(sterlings)': '£450k'}\n",
      "{'_id': ObjectId('5c0589ef3d54c00a199276de'), 'player': 'Lucas Albertengo', 'club': 'Squad Club Estudiantes de La Plata', 'squad_num': '7', 'height': '1,75 m', 'foot': 'right', 'birthday': 'Jan 30, 1991 (27)', 'transfer_value(sterlings)': '£1.62m'}\n",
      "{'_id': ObjectId('5c0589ef3d54c00a199276df'), 'player': 'Francisco Apaolaza', 'club': 'Squad Club Estudiantes de La Plata', 'squad_num': '19', 'height': '1,87 m', 'foot': 'right', 'birthday': 'Jun 19, 1997 (21)', 'transfer_value(sterlings)': '£135k'}\n",
      "{'_id': ObjectId('5c0589f63d54c00a199276e1'), 'player': 'Marcos Díaz', 'club': 'Squad Club Atlético Huracán', 'squad_num': '1', 'height': '1,88 m', 'foot': 'right', 'birthday': 'Feb 5, 1986 (32)', 'transfer_value(sterlings)': '£1.35m'}\n",
      "{'_id': ObjectId('5c0589f63d54c00a199276e2'), 'player': 'Saúl Salcedo', 'club': 'Squad Club Atlético Huracán', 'squad_num': '6', 'height': '1,83 m', 'foot': 'right', 'birthday': 'Aug 29, 1997 (21)', 'transfer_value(sterlings)': '£1.58m'}\n",
      "{'_id': ObjectId('5c0589f73d54c00a199276e3'), 'player': 'Federico Mancinelli', 'club': 'Squad Club Atlético Huracán', 'squad_num': '2', 'height': '1,82 m', 'foot': 'right', 'birthday': 'May 8, 1982 (36)', 'transfer_value(sterlings)': '£135k'}\n",
      "{'_id': ObjectId('5c0589f73d54c00a199276e4'), 'player': 'Walter Pérez', 'club': 'Squad Club Atlético Huracán', 'squad_num': '13', 'height': '1,75 m', 'foot': 'left', 'birthday': 'Oct 23, 1998 (20)', 'transfer_value(sterlings)': '-'}\n",
      "{'_id': ObjectId('5c0589f73d54c00a199276e5'), 'player': 'Pablo Álvarez', 'club': 'Squad Club Atlético Huracán', 'squad_num': '3', 'height': '1,77 m', 'foot': 'right', 'birthday': 'Apr 17, 1984 (34)', 'transfer_value(sterlings)': '£270k'}\n",
      "{'_id': ObjectId('5c0589f73d54c00a199276e6'), 'player': 'Iván Rossi', 'club': 'Squad Club Atlético Huracán', 'squad_num': '15', 'height': '1,83 m', 'foot': 'left', 'birthday': 'Nov 1, 1993 (25)', 'transfer_value(sterlings)': '£450k'}\n",
      "{'_id': ObjectId('5c0589f73d54c00a199276e7'), 'player': 'David Drocco', 'club': 'Squad Club Atlético Huracán', 'squad_num': '26', 'height': '1,67 m', 'foot': 'right', 'birthday': 'Jan 20, 1989 (29)', 'transfer_value(sterlings)': '£225k'}\n",
      "{'_id': ObjectId('5c0589f73d54c00a199276e8'), 'player': 'Gabriel Guerra', 'club': 'Squad Club Atlético Huracán', 'squad_num': '10', 'height': '1,83 m', 'foot': 'right', 'birthday': 'Apr 17, 1993 (25)', 'transfer_value(sterlings)': '£270k'}\n",
      "{'_id': ObjectId('5c0589f73d54c00a199276e9'), 'player': 'Juan Garro', 'club': 'Squad Club Atlético Huracán', 'squad_num': '24', 'height': '1,79 m', 'foot': 'left', 'birthday': 'Nov 24, 1992 (26)', 'transfer_value(sterlings)': '£3.15m'}\n",
      "{'_id': ObjectId('5c0589f73d54c00a199276ea'), 'player': 'Carlos Auzqui', 'club': 'Squad Club Atlético Huracán', 'squad_num': '11', 'height': '1,80 m', 'foot': 'right', 'birthday': 'Sep 18, 1991 (27)', 'transfer_value(sterlings)': '£1.80m'}\n",
      "{'_id': ObjectId('5c0589f73d54c00a199276eb'), 'player': 'Lucas Gamba', 'club': 'Squad Club Atlético Huracán', 'squad_num': '21', 'height': '1,84 m', 'foot': 'right', 'birthday': 'Jun 24, 1987 (31)', 'transfer_value(sterlings)': '£1.58m'}\n",
      "{'_id': ObjectId('5c0589f73d54c00a199276ec'), 'player': 'Diego Mendoza', 'club': 'Squad Club Atlético Huracán', 'squad_num': '16', 'height': '1,86 m', 'foot': 'right', 'birthday': 'Sep 30, 1992 (26)', 'transfer_value(sterlings)': '£270k'}\n",
      "{'_id': ObjectId('5c0589f73d54c00a199276ed'), 'player': 'Fernando Pellegrino', 'club': 'Squad Club Atlético Huracán', 'squad_num': '22', 'height': '1,98 m', 'foot': 'right', 'birthday': 'Mar 31, 1986 (32)', 'transfer_value(sterlings)': '£270k'}\n",
      "{'_id': ObjectId('5c0589f73d54c00a199276ee'), 'player': 'Omar Alderete', 'club': 'Squad Club Atlético Huracán', 'squad_num': '25', 'height': '1,83 m', 'foot': 'left', 'birthday': 'Dec 26, 1996 (21)', 'transfer_value(sterlings)': '£810k'}\n",
      "{'_id': ObjectId('5c0589f73d54c00a199276ef'), 'player': 'Lucas Merolla', 'club': 'Squad Club Atlético Huracán', 'squad_num': '23', 'height': '1,93 m', 'foot': 'left', 'birthday': 'Jun 27, 1995 (23)', 'transfer_value(sterlings)': '-'}\n",
      "{'_id': ObjectId('5c0589f73d54c00a199276f0'), 'player': 'Christian Chimino', 'club': 'Squad Club Atlético Huracán', 'squad_num': '28', 'height': '1,78 m', 'foot': 'right', 'birthday': 'Feb 9, 1988 (30)', 'transfer_value(sterlings)': '£450k'}\n",
      "{'_id': ObjectId('5c0589f73d54c00a199276f1'), 'player': 'Carlos Araujo', 'club': 'Squad Club Atlético Huracán', 'squad_num': '4', 'height': '1,72 m', 'foot': 'right', 'birthday': 'Nov 19, 1981 (37)', 'transfer_value(sterlings)': '£135k'}\n",
      "{'_id': ObjectId('5c0589f73d54c00a199276f2'), 'player': 'Israel Damonte', 'club': 'Squad Club Atlético Huracán', 'squad_num': '5', 'height': '1,76 m', 'foot': 'right', 'birthday': 'Jan 6, 1982 (36)', 'transfer_value(sterlings)': '£225k'}\n",
      "{'_id': ObjectId('5c0589f73d54c00a199276f3'), 'player': 'Mauro Bogado', 'club': 'Squad Club Atlético Huracán', 'squad_num': '8', 'height': '1,70 m', 'foot': 'right', 'birthday': 'May 31, 1985 (33)', 'transfer_value(sterlings)': '£315k'}\n",
      "{'_id': ObjectId('5c0589f73d54c00a199276f4'), 'player': 'Patricio Toranzo', 'club': 'Squad Club Atlético Huracán', 'squad_num': '18', 'height': '1,81 m', 'foot': 'right', 'birthday': 'Mar 19, 1982 (36)', 'transfer_value(sterlings)': '£180k'}\n",
      "{'_id': ObjectId('5c0589f73d54c00a199276f5'), 'player': 'Andrés Roa', 'club': 'Squad Club Atlético Huracán', 'squad_num': '27', 'height': '1,75 m', 'foot': 'right', 'birthday': 'May 25, 1993 (25)', 'transfer_value(sterlings)': '£495k'}\n",
      "{'_id': ObjectId('5c0589f73d54c00a199276f6'), 'player': 'Andrés Chávez', 'club': 'Squad Club Atlético Huracán', 'squad_num': '9', 'height': '1,84 m', 'foot': 'left', 'birthday': 'Mar 21, 1991 (27)', 'transfer_value(sterlings)': '£2.25m'}\n",
      "{'_id': ObjectId('5c0589f73d54c00a199276f7'), 'player': 'Norberto Briasco-Balekian', 'club': 'Squad Club Atlético Huracán', 'squad_num': '20', 'height': '1,79 m', 'foot': 'left', 'birthday': 'Feb 29, 1996 (22)', 'transfer_value(sterlings)': '£450k'}\n",
      "{'_id': ObjectId('5c0589fe3d54c00a199276f9'), 'player': 'Lucas Chaves', 'club': 'Squad Asociación Atlética Argentinos Juniors', 'squad_num': '12', 'height': '1,79 m', 'foot': 'right', 'birthday': 'Aug 9, 1995 (23)', 'transfer_value(sterlings)': '£900k'}\n",
      "{'_id': ObjectId('5c0589fe3d54c00a199276fa'), 'player': 'Miguel Torrén', 'club': 'Squad Asociación Atlética Argentinos Juniors', 'squad_num': '2', 'height': '1,79 m', 'foot': 'right', 'birthday': 'Aug 12, 1988 (30)', 'transfer_value(sterlings)': '£630k'}\n",
      "{'_id': ObjectId('5c0589fe3d54c00a199276fb'), 'player': 'Julián Illanes', 'club': 'Squad Asociación Atlética Argentinos Juniors', 'squad_num': '21', 'height': '1,88 m', 'foot': 'right', 'birthday': 'Mar 10, 1997 (21)', 'transfer_value(sterlings)': '£23k'}\n",
      "{'_id': ObjectId('5c0589fe3d54c00a199276fc'), 'player': 'Mauro Maidana', 'club': 'Squad Asociación Atlética Argentinos Juniors', 'squad_num': '3', 'height': '1,76 m', 'foot': 'left', 'birthday': 'Jul 12, 1990 (28)', 'transfer_value(sterlings)': '£180k'}\n",
      "{'_id': ObjectId('5c0589fe3d54c00a199276fd'), 'player': 'Kevin Mac Allister', 'club': 'Squad Asociación Atlética Argentinos Juniors', 'squad_num': '4', 'height': '1,75 m', 'foot': 'right', 'birthday': 'Nov 7, 1997 (21)', 'transfer_value(sterlings)': '£1.35m'}\n",
      "{'_id': ObjectId('5c0589fe3d54c00a199276fe'), 'player': 'Francis Mac Allister', 'club': 'Squad Asociación Atlética Argentinos Juniors', 'squad_num': '5', 'height': '1,76 m', 'foot': 'right', 'birthday': 'Oct 30, 1995 (23)', 'transfer_value(sterlings)': '£675k'}\n",
      "{'_id': ObjectId('5c0589fe3d54c00a199276ff'), 'player': 'Facundo Barboza', 'club': 'Squad Asociación Atlética Argentinos Juniors', 'squad_num': '7', 'height': '1,71 m', 'foot': 'right', 'birthday': 'Jul 31, 1996 (22)', 'transfer_value(sterlings)': '£270k'}\n",
      "{'_id': ObjectId('5c0589fe3d54c00a19927700'), 'player': 'Matías Romero', 'club': 'Squad Asociación Atlética Argentinos Juniors', 'squad_num': '26', 'height': '1,76 m', 'foot': 'right', 'birthday': 'Feb 1, 1996 (22)', 'transfer_value(sterlings)': '-'}\n",
      "{'_id': ObjectId('5c0589fe3d54c00a19927701'), 'player': 'Leonardo Pisculichi', 'club': 'Squad Asociación Atlética Argentinos Juniors', 'squad_num': '18', 'height': '1,78 m', 'foot': 'left', 'birthday': 'Jan 18, 1984 (34)', 'transfer_value(sterlings)': '£450k'}\n",
      "{'_id': ObjectId('5c0589fe3d54c00a19927702'), 'player': 'Hernán Toledo', 'club': 'Squad Asociación Atlética Argentinos Juniors', 'squad_num': '19', 'height': '1,80 m', 'foot': 'right', 'birthday': 'Jan 17, 1996 (22)', 'transfer_value(sterlings)': '£900k'}\n",
      "{'_id': ObjectId('5c0589fe3d54c00a19927703'), 'player': 'Esteban Rueda', 'club': 'Squad Asociación Atlética Argentinos Juniors', 'squad_num': '17', 'height': '1,74 m', 'foot': 'right', 'birthday': 'Jan 28, 1996 (22)', 'transfer_value(sterlings)': '£135k'}\n",
      "{'_id': ObjectId('5c0589fe3d54c00a19927704'), 'player': 'Ignacio Méndez', 'club': 'Squad Asociación Atlética Argentinos Juniors', 'squad_num': '14', 'height': '1,75 m', 'foot': 'right', 'birthday': 'Apr 28, 1997 (21)', 'transfer_value(sterlings)': '£90k'}\n",
      "{'_id': ObjectId('5c0589fe3d54c00a19927705'), 'player': 'Gastón Verón', 'club': 'Squad Asociación Atlética Argentinos Juniors', 'squad_num': '16', 'height': '1,84 m', 'foot': 'right', 'birthday': 'Apr 23, 2001 (17)', 'transfer_value(sterlings)': '-'}\n",
      "{'_id': ObjectId('5c0589fe3d54c00a19927706'), 'player': 'Federico Lanzillotta', 'club': 'Squad Asociación Atlética Argentinos Juniors', 'squad_num': '1', 'height': '1,85 m', 'foot': 'right', 'birthday': 'Dec 1, 1992 (26)', 'transfer_value(sterlings)': '£180k'}\n",
      "{'_id': ObjectId('5c0589fe3d54c00a19927707'), 'player': 'Gastón Bojanich', 'club': 'Squad Asociación Atlética Argentinos Juniors', 'squad_num': '23', 'height': '1,91 m', 'foot': 'left', 'birthday': 'Apr 23, 1985 (33)', 'transfer_value(sterlings)': '£180k'}\n",
      "{'_id': ObjectId('5c0589fe3d54c00a19927708'), 'player': 'Nehuén Pérez', 'club': 'Squad Asociación Atlética Argentinos Juniors', 'squad_num': '6', 'height': '1,84 m', 'foot': 'right', 'birthday': 'Jun 24, 2000 (18)', 'transfer_value(sterlings)': '-'}\n",
      "{'_id': ObjectId('5c0589fe3d54c00a19927709'), 'player': 'Enzo Ybáñez', 'club': 'Squad Asociación Atlética Argentinos Juniors', 'squad_num': '13', 'height': '1,76 m', 'foot': 'left', 'birthday': 'Aug 29, 1998 (20)', 'transfer_value(sterlings)': '£45k'}\n",
      "{'_id': ObjectId('5c0589fe3d54c00a1992770a'), 'player': 'Jonathan Sandoval', 'club': 'Squad Asociación Atlética Argentinos Juniors', 'squad_num': '15', 'height': '1,79 m', 'foot': 'right', 'birthday': 'Jun 25, 1987 (31)', 'transfer_value(sterlings)': '£270k'}\n",
      "{'_id': ObjectId('5c0589fe3d54c00a1992770b'), 'player': 'Fausto Montero', 'club': 'Squad Asociación Atlética Argentinos Juniors', 'squad_num': '30', 'height': '1,67 m', 'foot': 'right', 'birthday': 'Oct 22, 1988 (30)', 'transfer_value(sterlings)': '£315k'}\n",
      "{'_id': ObjectId('5c0589fe3d54c00a1992770c'), 'player': 'Gastón Machín', 'club': 'Squad Asociación Atlética Argentinos Juniors', 'squad_num': '8', 'height': '1,74 m', 'foot': 'right', 'birthday': 'Feb 23, 1983 (35)', 'transfer_value(sterlings)': '£180k'}\n",
      "{'_id': ObjectId('5c0589fe3d54c00a1992770d'), 'player': 'Alexis Mac Allister', 'club': 'Squad Asociación Atlética Argentinos Juniors', 'squad_num': '10', 'height': '1,74 m', 'foot': 'right', 'birthday': 'Dec 24, 1998 (19)', 'transfer_value(sterlings)': '£3.60m'}\n",
      "{'_id': ObjectId('5c0589fe3d54c00a1992770e'), 'player': 'Oscar Benítez', 'club': 'Squad Asociación Atlética Argentinos Juniors', 'squad_num': '9', 'height': '1,83 m', 'foot': 'right', 'birthday': 'Jan 14, 1993 (25)', 'transfer_value(sterlings)': '£1.35m'}\n",
      "{'_id': ObjectId('5c0589fe3d54c00a1992770f'), 'player': 'Damián Batallini', 'club': 'Squad Asociación Atlética Argentinos Juniors', 'squad_num': '11', 'height': '1,74 m', 'foot': 'right', 'birthday': 'Jun 24, 1996 (22)', 'transfer_value(sterlings)': '£1.80m'}\n",
      "{'_id': ObjectId('5c0589fe3d54c00a19927710'), 'player': 'Francisco Ilarregui', 'club': 'Squad Asociación Atlética Argentinos Juniors', 'squad_num': '27', 'height': '1,70 m', 'foot': '-', 'birthday': 'May 6, 1997 (21)', 'transfer_value(sterlings)': '£135k'}\n",
      "{'_id': ObjectId('5c0589fe3d54c00a19927711'), 'player': 'Raúl Bobadilla', 'club': 'Squad Asociación Atlética Argentinos Juniors', 'squad_num': '25', 'height': '1,81 m', 'foot': 'right', 'birthday': 'Jun 18, 1987 (31)', 'transfer_value(sterlings)': '£1.58m'}\n",
      "{'_id': ObjectId('5c058a063d54c00a19927713'), 'player': 'Iván Arboleda', 'club': 'Squad Club Atlético Banfield', 'squad_num': '1', 'height': '1,81 m', 'foot': 'right', 'birthday': 'Apr 21, 1996 (22)', 'transfer_value(sterlings)': '£1.80m'}\n",
      "{'_id': ObjectId('5c058a063d54c00a19927714'), 'player': 'Jorge Rodríguez', 'club': 'Squad Club Atlético Banfield', 'squad_num': '30', 'height': '1,87 m', 'foot': 'right', 'birthday': 'Sep 15, 1995 (23)', 'transfer_value(sterlings)': '£630k'}\n",
      "{'_id': ObjectId('5c058a063d54c00a19927715'), 'player': 'Danilo Ortíz', 'club': 'Squad Club Atlético Banfield', 'squad_num': '6', 'height': '1,88 m', 'foot': 'left', 'birthday': 'May 28, 1992 (26)', 'transfer_value(sterlings)': '£450k'}\n",
      "{'_id': ObjectId('5c058a063d54c00a19927716'), 'player': 'Adrián Spörle', 'club': 'Squad Club Atlético Banfield', 'squad_num': '33', 'height': '1,82 m', 'foot': 'left', 'birthday': 'Jul 13, 1995 (23)', 'transfer_value(sterlings)': '£1.13m'}\n",
      "{'_id': ObjectId('5c058a063d54c00a19927717'), 'player': 'Rodrigo Arciero', 'club': 'Squad Club Atlético Banfield', 'squad_num': '4', 'height': '1,81 m', 'foot': 'right', 'birthday': 'Mar 12, 1993 (25)', 'transfer_value(sterlings)': '£135k'}\n",
      "{'_id': ObjectId('5c058a063d54c00a19927718'), 'player': 'Adrián Calello', 'club': 'Squad Club Atlético Banfield', 'squad_num': '7', 'height': '1,78 m', 'foot': 'right', 'birthday': 'May 14, 1987 (31)', 'transfer_value(sterlings)': '£270k'}\n",
      "{'_id': ObjectId('5c058a063d54c00a19927719'), 'player': 'Enzo Kalinski', 'club': 'Squad Club Atlético Banfield', 'squad_num': '23', 'height': '1,83 m', 'foot': 'right', 'birthday': 'Mar 10, 1987 (31)', 'transfer_value(sterlings)': '£720k'}\n",
      "{'_id': ObjectId('5c058a063d54c00a1992771a'), 'player': 'Nicolás Bertolo', 'club': 'Squad Club Atlético Banfield', 'squad_num': '8', 'height': '1,80 m', 'foot': 'right', 'birthday': 'Jan 2, 1986 (32)', 'transfer_value(sterlings)': '£675k'}\n",
      "{'_id': ObjectId('5c058a063d54c00a1992771b'), 'player': 'Luciano Gomez', 'club': 'Squad Club Atlético Banfield', 'squad_num': '24', 'height': '1,63 m', 'foot': 'right', 'birthday': 'Mar 22, 1996 (22)', 'transfer_value(sterlings)': '£270k'}\n",
      "{'_id': ObjectId('5c058a063d54c00a1992771c'), 'player': 'Julián Carranza', 'club': 'Squad Club Atlético Banfield', 'squad_num': '21', 'height': '1,82 m', 'foot': 'right', 'birthday': 'May 22, 2000 (18)', 'transfer_value(sterlings)': '£1.80m'}\n",
      "{'_id': ObjectId('5c058a063d54c00a1992771d'), 'player': 'Marcelo Torres', 'club': 'Squad Club Atlético Banfield', 'squad_num': '11', 'height': '1,80 m', 'foot': 'right', 'birthday': 'Nov 6, 1997 (21)', 'transfer_value(sterlings)': '£540k'}\n",
      "{'_id': ObjectId('5c058a063d54c00a1992771e'), 'player': 'Facundo Altamirano', 'club': 'Squad Club Atlético Banfield', 'squad_num': '27', 'height': '1,86 m', 'foot': 'right', 'birthday': 'Mar 21, 1996 (22)', 'transfer_value(sterlings)': '£540k'}\n",
      "{'_id': ObjectId('5c058a063d54c00a1992771f'), 'player': 'Renato Civelli', 'club': 'Squad Club Atlético Banfield', 'squad_num': '2', 'height': '1,93 m', 'foot': 'right', 'birthday': 'Oct 14, 1983 (35)', 'transfer_value(sterlings)': '£450k'}\n",
      "{'_id': ObjectId('5c058a063d54c00a19927720'), 'player': 'Alexis Maldonado', 'club': 'Squad Club Atlético Banfield', 'squad_num': '25', 'height': '1,87 m', 'foot': '-', 'birthday': 'Sep 2, 1997 (21)', 'transfer_value(sterlings)': '£315k'}\n",
      "{'_id': ObjectId('5c058a063d54c00a19927721'), 'player': 'Claudio Bravo', 'club': 'Squad Club Atlético Banfield', 'squad_num': '3', 'height': '1,70 m', 'foot': 'left', 'birthday': 'Mar 13, 1997 (21)', 'transfer_value(sterlings)': '£270k'}\n",
      "{'_id': ObjectId('5c058a063d54c00a19927722'), 'player': 'Nicolás Linares', 'club': 'Squad Club Atlético Banfield', 'squad_num': '15', 'height': '1,75 m', 'foot': 'right', 'birthday': 'Mar 6, 1996 (22)', 'transfer_value(sterlings)': '£315k'}\n",
      "{'_id': ObjectId('5c058a063d54c00a19927723'), 'player': 'Emanuel Cecchini', 'club': 'Squad Club Atlético Banfield', 'squad_num': '5', 'height': '1,79 m', 'foot': 'right', 'birthday': 'Dec 24, 1996 (21)', 'transfer_value(sterlings)': '£1.35m'}\n",
      "{'_id': ObjectId('5c058a063d54c00a19927724'), 'player': 'Jesús Dátolo', 'club': 'Squad Club Atlético Banfield', 'squad_num': '10', 'height': '1,75 m', 'foot': 'left', 'birthday': 'May 19, 1984 (34)', 'transfer_value(sterlings)': '£675k'}\n",
      "{'_id': ObjectId('5c058a063d54c00a19927725'), 'player': 'Nicolás Silva', 'club': 'Squad Club Atlético Banfield', 'squad_num': '34', 'height': '1,63 m', 'foot': 'right', 'birthday': 'Jan 24, 1990 (28)', 'transfer_value(sterlings)': '£248k'}\n",
      "{'_id': ObjectId('5c058a063d54c00a19927726'), 'player': 'Juan Pablo Álvarez', 'club': 'Squad Club Atlético Banfield', 'squad_num': '22', 'height': '1,75 m', 'foot': 'right', 'birthday': 'Feb 10, 1996 (22)', 'transfer_value(sterlings)': '£135k'}\n",
      "{'_id': ObjectId('5c058a063d54c00a19927727'), 'player': 'Darío Cvitanich', 'club': 'Squad Club Atlético Banfield', 'squad_num': '20', 'height': '1,74 m', 'foot': 'right', 'birthday': 'May 16, 1984 (34)', 'transfer_value(sterlings)': '£1.35m'}\n",
      "{'_id': ObjectId('5c058a063d54c00a19927728'), 'player': 'Michael López', 'club': 'Squad Club Atlético Banfield', 'squad_num': '14', 'height': '1,81 m', 'foot': 'right', 'birthday': 'Aug 19, 1997 (21)', 'transfer_value(sterlings)': '£45k'}\n",
      "{'_id': ObjectId('5c058a0d3d54c00a1992772a'), 'player': 'Lucas Acosta', 'club': 'Squad Club Atlético Belgrano', 'squad_num': '1', 'height': '1,87 m', 'foot': 'right', 'birthday': 'Mar 12, 1995 (23)', 'transfer_value(sterlings)': '£450k'}\n",
      "{'_id': ObjectId('5c058a0d3d54c00a1992772b'), 'player': 'Pablo Heredia', 'club': 'Squad Club Atlético Belgrano', 'squad_num': '15', 'height': '1,87 m', 'foot': 'right', 'birthday': 'Jun 11, 1990 (28)', 'transfer_value(sterlings)': '£135k'}\n",
      "{'_id': ObjectId('5c058a0d3d54c00a1992772c'), 'player': 'Hernán Menosse', 'club': 'Squad Club Atlético Belgrano', 'squad_num': '2', 'height': '1,83 m', 'foot': 'right', 'birthday': 'Apr 28, 1987 (31)', 'transfer_value(sterlings)': '£360k'}\n",
      "{'_id': ObjectId('5c058a0d3d54c00a1992772d'), 'player': 'Matias Nani', 'club': 'Squad Club Atlético Belgrano', 'squad_num': '6', 'height': '1,89 m', 'foot': 'left', 'birthday': 'Mar 26, 1998 (20)', 'transfer_value(sterlings)': '£68k'}\n",
      "{'_id': ObjectId('5c058a0d3d54c00a1992772e'), 'player': 'Juan Quiroga', 'club': 'Squad Club Atlético Belgrano', 'squad_num': '29', 'height': '1,80 m', 'foot': 'left', 'birthday': 'Apr 20, 1982 (36)', 'transfer_value(sterlings)': '£45k'}\n",
      "{'_id': ObjectId('5c058a0d3d54c00a1992772f'), 'player': 'Sebastián Luna', 'club': 'Squad Club Atlético Belgrano', 'squad_num': '21', 'height': '1,78 m', 'foot': 'left', 'birthday': 'Dec 25, 1987 (30)', 'transfer_value(sterlings)': '£360k'}\n",
      "{'_id': ObjectId('5c058a0d3d54c00a19927730'), 'player': 'Federico Lértora', 'club': 'Squad Club Atlético Belgrano', 'squad_num': '14', 'height': '1,85 m', 'foot': 'right', 'birthday': 'Jul 1, 1990 (28)', 'transfer_value(sterlings)': '£1.13m'}\n",
      "{'_id': ObjectId('5c058a0d3d54c00a19927731'), 'player': 'Maximiliano Lugo', 'club': 'Squad Club Atlético Belgrano', 'squad_num': '16', 'height': '1,70 m', 'foot': 'left', 'birthday': 'Dec 4, 1989 (28)', 'transfer_value(sterlings)': '£315k'}\n",
      "{'_id': ObjectId('5c058a0d3d54c00a19927732'), 'player': 'Gabriel Alanís', 'club': 'Squad Club Atlético Belgrano', 'squad_num': '22', 'height': '1,86 m', 'foot': 'left', 'birthday': 'Mar 16, 1994 (24)', 'transfer_value(sterlings)': '£180k'}\n",
      "{'_id': ObjectId('5c058a0d3d54c00a19927733'), 'player': 'Fabricio Brener', 'club': 'Squad Club Atlético Belgrano', 'squad_num': '7', 'height': '1,70 m', 'foot': 'right', 'birthday': 'May 26, 1998 (20)', 'transfer_value(sterlings)': '£135k'}\n",
      "{'_id': ObjectId('5c058a0d3d54c00a19927734'), 'player': 'Matías Suárez', 'club': 'Squad Club Atlético Belgrano', 'squad_num': '10', 'height': '1,83 m', 'foot': 'both', 'birthday': 'May 9, 1988 (30)', 'transfer_value(sterlings)': '£2.25m'}\n",
      "{'_id': ObjectId('5c058a0d3d54c00a19927735'), 'player': 'Adrián Balboa', 'club': 'Squad Club Atlético Belgrano', 'squad_num': '11', 'height': '1,86 m', 'foot': 'right', 'birthday': 'Jan 19, 1994 (24)', 'transfer_value(sterlings)': '£675k'}\n",
      "{'_id': ObjectId('5c058a0d3d54c00a19927736'), 'player': 'César Rigamonti', 'club': 'Squad Club Atlético Belgrano', 'squad_num': '23', 'height': '1,86 m', 'foot': 'right', 'birthday': 'Apr 7, 1987 (31)', 'transfer_value(sterlings)': '£360k'}\n",
      "{'_id': ObjectId('5c058a0d3d54c00a19927737'), 'player': 'Miguel Martínez', 'club': 'Squad Club Atlético Belgrano', 'squad_num': '3', 'height': '1,87 m', 'foot': 'left', 'birthday': 'Jan 19, 1984 (34)', 'transfer_value(sterlings)': '£900k'}\n",
      "{'_id': ObjectId('5c058a0d3d54c00a19927738'), 'player': 'Sebastián Olivarez', 'club': 'Squad Club Atlético Belgrano', 'squad_num': '25', 'height': '1,80 m', 'foot': 'right', 'birthday': 'May 15, 1992 (26)', 'transfer_value(sterlings)': '£360k'}\n",
      "{'_id': ObjectId('5c058a0d3d54c00a19927739'), 'player': 'Federico Álvarez', 'club': 'Squad Club Atlético Belgrano', 'squad_num': '24', 'height': '1,83 m', 'foot': 'left', 'birthday': 'Aug 7, 1994 (24)', 'transfer_value(sterlings)': '£405k'}\n",
      "{'_id': ObjectId('5c058a0d3d54c00a1992773a'), 'player': 'Tomás Guidara', 'club': 'Squad Club Atlético Belgrano', 'squad_num': '4', 'height': '1,73 m', 'foot': 'right', 'birthday': 'Mar 13, 1996 (22)', 'transfer_value(sterlings)': '£1.13m'}\n",
      "{'_id': ObjectId('5c058a0d3d54c00a1992773b'), 'player': 'Gastón Gil Romero', 'club': 'Squad Club Atlético Belgrano', 'squad_num': '8', 'height': '1,77 m', 'foot': 'right', 'birthday': 'May 6, 1993 (25)', 'transfer_value(sterlings)': '£450k'}\n",
      "{'_id': ObjectId('5c058a0d3d54c00a1992773c'), 'player': 'Martín Rivero', 'club': 'Squad Club Atlético Belgrano', 'squad_num': '19', 'height': '1,75 m', 'foot': 'right', 'birthday': 'Nov 13, 1989 (29)', 'transfer_value(sterlings)': '£450k'}\n",
      "{'_id': ObjectId('5c058a0d3d54c00a1992773d'), 'player': 'Jonás Aguirre', 'club': 'Squad Club Atlético Belgrano', 'squad_num': '20', 'height': '1,74 m', 'foot': 'left', 'birthday': 'Mar 5, 1992 (26)', 'transfer_value(sterlings)': '£540k'}\n",
      "{'_id': ObjectId('5c058a0d3d54c00a1992773e'), 'player': 'Denis Rodríguez', 'club': 'Squad Club Atlético Belgrano', 'squad_num': '30', 'height': '1,71 m', 'foot': 'right', 'birthday': 'Mar 21, 1996 (22)', 'transfer_value(sterlings)': '£450k'}\n",
      "{'_id': ObjectId('5c058a0d3d54c00a1992773f'), 'player': 'Leonardo Sequeira', 'club': 'Squad Club Atlético Belgrano', 'squad_num': '26', 'height': '1,78 m', 'foot': 'right', 'birthday': 'Apr 26, 1995 (23)', 'transfer_value(sterlings)': '£1.35m'}\n",
      "{'_id': ObjectId('5c058a0d3d54c00a19927740'), 'player': 'Juan Brunetta', 'club': 'Squad Club Atlético Belgrano', 'squad_num': '17', 'height': '1,78 m', 'foot': 'left', 'birthday': 'May 12, 1997 (21)', 'transfer_value(sterlings)': '£1.13m'}\n",
      "{'_id': ObjectId('5c058a0d3d54c00a19927741'), 'player': 'Tomás Attis', 'club': 'Squad Club Atlético Belgrano', 'squad_num': '28', 'height': '1,83 m', 'foot': 'right', 'birthday': 'Oct 2, 1999 (19)', 'transfer_value(sterlings)': '£135k'}\n",
      "{'_id': ObjectId('5c058a143d54c00a19927743'), 'player': 'Augusto Batalla', 'club': 'Squad Club Atlético Tigre', 'squad_num': '24', 'height': '1,86 m', 'foot': 'right', 'birthday': 'Apr 30, 1996 (22)', 'transfer_value(sterlings)': '£1.80m'}\n",
      "{'_id': ObjectId('5c058a143d54c00a19927744'), 'player': 'Néstor Moiraghi', 'club': 'Squad Club Atlético Tigre', 'squad_num': '3', 'height': '1,80 m', 'foot': 'left', 'birthday': 'Apr 19, 1984 (34)', 'transfer_value(sterlings)': '£360k'}\n",
      "{'_id': ObjectId('5c058a143d54c00a19927745'), 'player': 'Alexis Niz', 'club': 'Squad Club Atlético Tigre', 'squad_num': '4', 'height': '1,79 m', 'foot': 'right', 'birthday': 'May 17, 1988 (30)', 'transfer_value(sterlings)': '£270k'}\n",
      "{'_id': ObjectId('5c058a143d54c00a19927746'), 'player': 'Lucas Rodríguez', 'club': 'Squad Club Atlético Tigre', 'squad_num': '20', 'height': '1,68 m', 'foot': 'left', 'birthday': 'Sep 27, 1993 (25)', 'transfer_value(sterlings)': '£630k'}\n",
      "{'_id': ObjectId('5c058a143d54c00a19927747'), 'player': 'Maximiliano Caire', 'club': 'Squad Club Atlético Tigre', 'squad_num': '32', 'height': '1,77 m', 'foot': 'right', 'birthday': 'Jul 12, 1988 (30)', 'transfer_value(sterlings)': '£315k'}\n",
      "{'_id': ObjectId('5c058a143d54c00a19927748'), 'player': 'Ezequiel Rodríguez', 'club': 'Squad Club Atlético Tigre', 'squad_num': '2', 'height': '1,87 m', 'foot': 'right', 'birthday': 'Oct 26, 1990 (28)', 'transfer_value(sterlings)': '£90k'}\n",
      "{'_id': ObjectId('5c058a143d54c00a19927749'), 'player': 'Jorge Ortiz', 'club': 'Squad Club Atlético Tigre', 'squad_num': '22', 'height': '1,81 m', 'foot': 'right', 'birthday': 'Jun 20, 1984 (34)', 'transfer_value(sterlings)': '£270k'}\n",
      "{'_id': ObjectId('5c058a143d54c00a1992774a'), 'player': 'Martín Galmarini', 'club': 'Squad Club Atlético Tigre', 'squad_num': '8', 'height': '1,80 m', 'foot': 'right', 'birthday': 'Feb 28, 1982 (36)', 'transfer_value(sterlings)': '£90k'}\n",
      "{'_id': ObjectId('5c058a143d54c00a1992774b'), 'player': 'Diego Morales', 'club': 'Squad Club Atlético Tigre', 'squad_num': '11', 'height': '1,72 m', 'foot': 'right', 'birthday': 'Nov 29, 1986 (32)', 'transfer_value(sterlings)': '£675k'}\n",
      "{'_id': ObjectId('5c058a143d54c00a1992774c'), 'player': 'Wálter Montillo', 'club': 'Squad Club Atlético Tigre', 'squad_num': '14', 'height': '1,72 m', 'foot': 'right', 'birthday': 'Apr 14, 1984 (34)', 'transfer_value(sterlings)': '-'}\n",
      "{'_id': ObjectId('5c058a143d54c00a1992774d'), 'player': 'Iván Bolaño', 'club': 'Squad Club Atlético Tigre', 'squad_num': '30', 'height': '1,71 m', 'foot': 'right', 'birthday': 'May 15, 1998 (20)', 'transfer_value(sterlings)': '£135k'}\n",
      "{'_id': ObjectId('5c058a143d54c00a1992774e'), 'player': 'Federico González', 'club': 'Squad Club Atlético Tigre', 'squad_num': '9', 'height': '1,78 m', 'foot': 'right', 'birthday': 'Jan 6, 1987 (31)', 'transfer_value(sterlings)': '£720k'}\n",
      "{'_id': ObjectId('5c058a143d54c00a1992774f'), 'player': 'Carlos Luna', 'club': 'Squad Club Atlético Tigre', 'squad_num': '7', 'height': '1,79 m', 'foot': 'right', 'birthday': 'Jan 17, 1982 (36)', 'transfer_value(sterlings)': '£270k'}\n",
      "{'_id': ObjectId('5c058a143d54c00a19927750'), 'player': 'Gonzalo Marinelli', 'club': 'Squad Club Atlético Tigre', 'squad_num': '23', 'height': '1,81 m', 'foot': 'right', 'birthday': 'Feb 7, 1989 (29)', 'transfer_value(sterlings)': '£180k'}\n",
      "{'_id': ObjectId('5c058a143d54c00a19927751'), 'player': 'Ignacio Canuto', 'club': 'Squad Club Atlético Tigre', 'squad_num': '6', 'height': '1,82 m', 'foot': 'right', 'birthday': 'Feb 20, 1986 (32)', 'transfer_value(sterlings)': '£315k'}\n",
      "{'_id': ObjectId('5c058a143d54c00a19927752'), 'player': 'Diego Sosa', 'club': 'Squad Club Atlético Tigre', 'squad_num': '29', 'height': '1,75 m', 'foot': 'left', 'birthday': 'Jul 28, 1997 (21)', 'transfer_value(sterlings)': '£720k'}\n",
      "{'_id': ObjectId('5c058a143d54c00a19927753'), 'player': 'Matías Pérez Acuña', 'club': 'Squad Club Atlético Tigre', 'squad_num': '17', 'height': '1,76 m', 'foot': 'right', 'birthday': 'Feb 9, 1994 (24)', 'transfer_value(sterlings)': '£360k'}\n",
      "{'_id': ObjectId('5c058a143d54c00a19927754'), 'player': 'Sebastián Prediger', 'club': 'Squad Club Atlético Tigre', 'squad_num': '21', 'height': '1,82 m', 'foot': 'right', 'birthday': 'Sep 4, 1986 (32)', 'transfer_value(sterlings)': '£180k'}\n",
      "{'_id': ObjectId('5c058a143d54c00a19927755'), 'player': 'Lucas Menossi', 'club': 'Squad Club Atlético Tigre', 'squad_num': '5', 'height': '1,69 m', 'foot': 'right', 'birthday': 'Jul 20, 1992 (26)', 'transfer_value(sterlings)': '£1.35m'}\n",
      "{'_id': ObjectId('5c058a143d54c00a19927756'), 'player': 'Maximiliano González', 'club': 'Squad Club Atlético Tigre', 'squad_num': '25', 'height': '1,79 m', 'foot': 'right', 'birthday': 'Mar 12, 1994 (24)', 'transfer_value(sterlings)': '£270k'}\n",
      "{'_id': ObjectId('5c058a143d54c00a19927757'), 'player': 'Juan Cavallaro', 'club': 'Squad Club Atlético Tigre', 'squad_num': '15', 'height': '1,72 m', 'foot': 'right', 'birthday': 'Jun 28, 1994 (24)', 'transfer_value(sterlings)': '£1.13m'}\n",
      "{'_id': ObjectId('5c058a143d54c00a19927758'), 'player': 'Matías Pérez García', 'club': 'Squad Club Atlético Tigre', 'squad_num': '10', 'height': '1,65 m', 'foot': 'left', 'birthday': 'Oct 13, 1984 (34)', 'transfer_value(sterlings)': '£270k'}\n",
      "{'_id': ObjectId('5c058a143d54c00a19927759'), 'player': 'Kevin Ramírez', 'club': 'Squad Club Atlético Tigre', 'squad_num': '27', 'height': '1,80 m', 'foot': 'left', 'birthday': 'Apr 1, 1994 (24)', 'transfer_value(sterlings)': '£1.22m'}\n",
      "{'_id': ObjectId('5c058a143d54c00a1992775a'), 'player': 'Hugo Silveira', 'club': 'Squad Club Atlético Tigre', 'squad_num': '26', 'height': '1,89 m', 'foot': 'right', 'birthday': 'May 23, 1993 (25)', 'transfer_value(sterlings)': '£900k'}\n",
      "{'_id': ObjectId('5c058a143d54c00a1992775b'), 'player': 'Diego Vera', 'club': 'Squad Club Atlético Tigre', 'squad_num': '19', 'height': '1,81 m', 'foot': 'right', 'birthday': 'Jan 5, 1985 (33)', 'transfer_value(sterlings)': '£675k'}\n",
      "{'_id': ObjectId('5c058a1c3d54c00a1992775d'), 'player': 'Alan Aguerre', 'club': \"Squad Club Atlético Newell's Old Boys\", 'squad_num': '1', 'height': '1,81 m', 'foot': 'right', 'birthday': 'Aug 23, 1990 (28)', 'transfer_value(sterlings)': '£675k'}\n",
      "{'_id': ObjectId('5c058a1c3d54c00a1992775e'), 'player': 'Fabricio Fontanini', 'club': \"Squad Club Atlético Newell's Old Boys\", 'squad_num': '24', 'height': '1,80 m', 'foot': 'right', 'birthday': 'Mar 30, 1990 (28)', 'transfer_value(sterlings)': '£540k'}\n",
      "{'_id': ObjectId('5c058a1c3d54c00a1992775f'), 'player': 'Stefano Callegari', 'club': \"Squad Club Atlético Newell's Old Boys\", 'squad_num': '29', 'height': '1,88 m', 'foot': 'right', 'birthday': 'Jan 6, 1997 (21)', 'transfer_value(sterlings)': '£45k'}\n",
      "{'_id': ObjectId('5c058a1c3d54c00a19927760'), 'player': 'Leandro Grimi', 'club': \"Squad Club Atlético Newell's Old Boys\", 'squad_num': '3', 'height': '1,83 m', 'foot': 'left', 'birthday': 'Feb 9, 1985 (33)', 'transfer_value(sterlings)': '£225k'}\n",
      "{'_id': ObjectId('5c058a1c3d54c00a19927761'), 'player': 'Iván Piris', 'club': \"Squad Club Atlético Newell's Old Boys\", 'squad_num': '4', 'height': '1,74 m', 'foot': 'right', 'birthday': 'Mar 10, 1989 (29)', 'transfer_value(sterlings)': '£1.35m'}\n",
      "{'_id': ObjectId('5c058a1c3d54c00a19927762'), 'player': 'Hernán Bernardello', 'club': \"Squad Club Atlético Newell's Old Boys\", 'squad_num': '5', 'height': '1,74 m', 'foot': 'right', 'birthday': 'Aug 3, 1986 (32)', 'transfer_value(sterlings)': '£270k'}\n",
      "{'_id': ObjectId('5c058a1c3d54c00a19927763'), 'player': 'Jerónimo Cacciabue', 'club': \"Squad Club Atlético Newell's Old Boys\", 'squad_num': '31', 'height': '1,73 m', 'foot': 'right', 'birthday': 'Jan 24, 1998 (20)', 'transfer_value(sterlings)': '£270k'}\n",
      "{'_id': ObjectId('5c058a1c3d54c00a19927764'), 'player': 'Mauro Formica', 'club': \"Squad Club Atlético Newell's Old Boys\", 'squad_num': '33', 'height': '1,79 m', 'foot': 'right', 'birthday': 'Apr 4, 1988 (30)', 'transfer_value(sterlings)': '£1.62m'}\n",
      "{'_id': ObjectId('5c058a1c3d54c00a19927765'), 'player': 'Nahuel Cisneros', 'club': \"Squad Club Atlético Newell's Old Boys\", 'squad_num': '-', 'height': '1,65 m', 'foot': 'left', 'birthday': 'Feb 17, 1998 (20)', 'transfer_value(sterlings)': '£270k'}\n",
      "{'_id': ObjectId('5c058a1c3d54c00a19927766'), 'player': 'Héctor Fértoli', 'club': \"Squad Club Atlético Newell's Old Boys\", 'squad_num': '26', 'height': '1,74 m', 'foot': 'right', 'birthday': 'Dec 3, 1994 (24)', 'transfer_value(sterlings)': '£630k'}\n",
      "{'_id': ObjectId('5c058a1c3d54c00a19927767'), 'player': 'Joaquin Torres', 'club': \"Squad Club Atlético Newell's Old Boys\", 'squad_num': '18', 'height': '1,67 m', 'foot': 'right', 'birthday': 'Jan 28, 1997 (21)', 'transfer_value(sterlings)': '£1.35m'}\n",
      "{'_id': ObjectId('5c058a1c3d54c00a19927768'), 'player': 'Joel Amoroso', 'club': \"Squad Club Atlético Newell's Old Boys\", 'squad_num': '15', 'height': '1,85 m', 'foot': 'right', 'birthday': 'Jan 8, 1988 (30)', 'transfer_value(sterlings)': '£360k'}\n",
      "{'_id': ObjectId('5c058a1c3d54c00a19927769'), 'player': 'Alexis Rodríguez', 'club': \"Squad Club Atlético Newell's Old Boys\", 'squad_num': '14', 'height': '1,70 m', 'foot': 'right', 'birthday': 'Mar 21, 1996 (22)', 'transfer_value(sterlings)': '£225k'}\n",
      "{'_id': ObjectId('5c058a1c3d54c00a1992776a'), 'player': 'Francisco Fydriszewski', 'club': \"Squad Club Atlético Newell's Old Boys\", 'squad_num': '9', 'height': '1,83 m', 'foot': 'both', 'birthday': 'Apr 13, 1993 (25)', 'transfer_value(sterlings)': '£180k'}\n",
      "{'_id': ObjectId('5c058a1c3d54c00a1992776b'), 'player': 'Julián Marcioni', 'club': \"Squad Club Atlético Newell's Old Boys\", 'squad_num': '-', 'height': ' m', 'foot': '-', 'birthday': 'Mar 19, 1998 (20)', 'transfer_value(sterlings)': '-'}\n",
      "{'_id': ObjectId('5c058a1c3d54c00a1992776c'), 'player': 'Nelson Ibáñez', 'club': \"Squad Club Atlético Newell's Old Boys\", 'squad_num': '23', 'height': '1,85 m', 'foot': 'right', 'birthday': 'Nov 13, 1981 (37)', 'transfer_value(sterlings)': '£180k'}\n",
      "{'_id': ObjectId('5c058a1c3d54c00a1992776d'), 'player': 'Teodoro Paredes', 'club': \"Squad Club Atlético Newell's Old Boys\", 'squad_num': '13', 'height': '1,85 m', 'foot': 'right', 'birthday': 'Apr 1, 1993 (25)', 'transfer_value(sterlings)': '£180k'}\n",
      "{'_id': ObjectId('5c058a1c3d54c00a1992776e'), 'player': 'Mariano Bíttolo', 'club': \"Squad Club Atlético Newell's Old Boys\", 'squad_num': '28', 'height': '1,75 m', 'foot': 'left', 'birthday': 'Apr 24, 1990 (28)', 'transfer_value(sterlings)': '£540k'}\n",
      "{'_id': ObjectId('5c058a1c3d54c00a1992776f'), 'player': 'Leonel Ferroni', 'club': \"Squad Club Atlético Newell's Old Boys\", 'squad_num': '20', 'height': '1,70 m', 'foot': 'left', 'birthday': 'Jan 29, 1996 (22)', 'transfer_value(sterlings)': '£135k'}\n",
      "{'_id': ObjectId('5c058a1c3d54c00a19927770'), 'player': 'Facundo Nadalín', 'club': \"Squad Club Atlético Newell's Old Boys\", 'squad_num': '35', 'height': '1,76 m', 'foot': 'right', 'birthday': 'Aug 16, 1997 (21)', 'transfer_value(sterlings)': '£45k'}\n",
      "{'_id': ObjectId('5c058a1c3d54c00a19927771'), 'player': 'Juan Sills', 'club': \"Squad Club Atlético Newell's Old Boys\", 'squad_num': '21', 'height': '1,80 m', 'foot': 'right', 'birthday': 'May 4, 1987 (31)', 'transfer_value(sterlings)': '£180k'}\n",
      "{'_id': ObjectId('5c058a1c3d54c00a19927772'), 'player': 'Braian Rivero', 'club': \"Squad Club Atlético Newell's Old Boys\", 'squad_num': '8', 'height': '1,70 m', 'foot': 'right', 'birthday': 'Feb 22, 1996 (22)', 'transfer_value(sterlings)': '£225k'}\n",
      "{'_id': ObjectId('5c058a1c3d54c00a19927773'), 'player': 'Brian Sarmiento', 'club': \"Squad Club Atlético Newell's Old Boys\", 'squad_num': '10', 'height': '1,66 m', 'foot': 'right', 'birthday': 'Apr 22, 1990 (28)', 'transfer_value(sterlings)': '£1.35m'}\n",
      "{'_id': ObjectId('5c058a1c3d54c00a19927774'), 'player': 'Lisandro Alzugaray', 'club': \"Squad Club Atlético Newell's Old Boys\", 'squad_num': '30', 'height': ' m', 'foot': 'left', 'birthday': 'Apr 17, 1990 (28)', 'transfer_value(sterlings)': '-'}\n",
      "{'_id': ObjectId('5c058a1c3d54c00a19927775'), 'player': 'Víctor Figueroa', 'club': \"Squad Club Atlético Newell's Old Boys\", 'squad_num': '16', 'height': '1,68 m', 'foot': 'right', 'birthday': 'Sep 29, 1983 (35)', 'transfer_value(sterlings)': '£180k'}\n",
      "{'_id': ObjectId('5c058a1c3d54c00a19927776'), 'player': 'Enzo Cabrera', 'club': \"Squad Club Atlético Newell's Old Boys\", 'squad_num': '25', 'height': '1,75 m', 'foot': 'right', 'birthday': 'Nov 20, 1999 (19)', 'transfer_value(sterlings)': '£675k'}\n",
      "{'_id': ObjectId('5c058a1c3d54c00a19927777'), 'player': 'Luís Leal', 'club': \"Squad Club Atlético Newell's Old Boys\", 'squad_num': '7', 'height': '1,76 m', 'foot': 'right', 'birthday': 'May 29, 1987 (31)', 'transfer_value(sterlings)': '£1.08m'}\n",
      "{'_id': ObjectId('5c058a1c3d54c00a19927778'), 'player': 'Alfio Oviedo', 'club': \"Squad Club Atlético Newell's Old Boys\", 'squad_num': '19', 'height': ' m', 'foot': 'right', 'birthday': 'Dec 18, 1995 (22)', 'transfer_value(sterlings)': '£225k'}\n",
      "{'_id': ObjectId('5c058a1c3d54c00a19927779'), 'player': 'Zé Turbo', 'club': \"Squad Club Atlético Newell's Old Boys\", 'squad_num': '30', 'height': '1,86 m', 'foot': 'left', 'birthday': 'Oct 22, 1996 (22)', 'transfer_value(sterlings)': '£135k'}\n",
      "{'_id': ObjectId('5c058a233d54c00a1992777b'), 'player': 'Alejandro Sánchez', 'club': 'Squad Club Atlético Tucumán', 'squad_num': '17', 'height': '1,88 m', 'foot': 'right', 'birthday': 'Oct 25, 1986 (32)', 'transfer_value(sterlings)': '£225k'}\n",
      "{'_id': ObjectId('5c058a233d54c00a1992777c'), 'player': 'Bruno Bianchi', 'club': 'Squad Club Atlético Tucumán', 'squad_num': '2', 'height': '1,83 m', 'foot': 'right', 'birthday': 'Feb 17, 1989 (29)', 'transfer_value(sterlings)': '£540k'}\n",
      "{'_id': ObjectId('5c058a233d54c00a1992777d'), 'player': 'Franco Sbuttoni', 'club': 'Squad Club Atlético Tucumán', 'squad_num': '6', 'height': '1,90 m', 'foot': 'right', 'birthday': 'May 6, 1989 (29)', 'transfer_value(sterlings)': '£270k'}\n",
      "{'_id': ObjectId('5c058a233d54c00a1992777e'), 'player': 'Gabriel Risso', 'club': 'Squad Club Atlético Tucumán', 'squad_num': '33', 'height': '1,79 m', 'foot': 'left', 'birthday': 'Nov 5, 1995 (23)', 'transfer_value(sterlings)': '£225k'}\n",
      "{'_id': ObjectId('5c058a233d54c00a1992777f'), 'player': 'Pier Barrios', 'club': 'Squad Club Atlético Tucumán', 'squad_num': '23', 'height': '1,80 m', 'foot': 'right', 'birthday': 'Jul 1, 1990 (28)', 'transfer_value(sterlings)': '£450k'}\n",
      "{'_id': ObjectId('5c058a233d54c00a19927780'), 'player': 'Nery Leyes', 'club': 'Squad Club Atlético Tucumán', 'squad_num': '38', 'height': '1,81 m', 'foot': 'right', 'birthday': 'Sep 5, 1989 (29)', 'transfer_value(sterlings)': '£315k'}\n",
      "{'_id': ObjectId('5c058a233d54c00a19927781'), 'player': 'Rodrigo Aliendro', 'club': 'Squad Club Atlético Tucumán', 'squad_num': '29', 'height': '1,77 m', 'foot': 'right', 'birthday': 'Feb 16, 1991 (27)', 'transfer_value(sterlings)': '£675k'}\n",
      "{'_id': ObjectId('5c058a233d54c00a19927782'), 'player': 'Guilermo Acosta', 'club': 'Squad Club Atlético Tucumán', 'squad_num': '8', 'height': '1,85 m', 'foot': 'right', 'birthday': 'Oct 31, 1988 (30)', 'transfer_value(sterlings)': '£450k'}\n",
      "{'_id': ObjectId('5c058a233d54c00a19927783'), 'player': 'Gervasio Núñez', 'club': 'Squad Club Atlético Tucumán', 'squad_num': '10', 'height': '1,80 m', 'foot': 'left', 'birthday': 'Jan 29, 1988 (30)', 'transfer_value(sterlings)': '£900k'}\n",
      "{'_id': ObjectId('5c058a233d54c00a19927784'), 'player': 'David Barbona', 'club': 'Squad Club Atlético Tucumán', 'squad_num': '19', 'height': '1,84 m', 'foot': 'right', 'birthday': 'Feb 22, 1995 (23)', 'transfer_value(sterlings)': '£1.80m'}\n",
      "{'_id': ObjectId('5c058a233d54c00a19927785'), 'player': 'Ricardo Noir', 'club': 'Squad Club Atlético Tucumán', 'squad_num': '22', 'height': '1,76 m', 'foot': 'right', 'birthday': 'Feb 26, 1987 (31)', 'transfer_value(sterlings)': '£225k'}\n",
      "{'_id': ObjectId('5c058a233d54c00a19927786'), 'player': 'Juan Cruz Kaprof', 'club': 'Squad Club Atlético Tucumán', 'squad_num': '22', 'height': '1,69 m', 'foot': 'right', 'birthday': 'Mar 12, 1995 (23)', 'transfer_value(sterlings)': '£360k'}\n",
      "{'_id': ObjectId('5c058a233d54c00a19927787'), 'player': 'Javier Toledo', 'club': 'Squad Club Atlético Tucumán', 'squad_num': '12', 'height': '1,90 m', 'foot': 'right', 'birthday': 'Apr 24, 1986 (32)', 'transfer_value(sterlings)': '£270k'}\n",
      "{'_id': ObjectId('5c058a233d54c00a19927788'), 'player': 'Cristian Lucchetti', 'club': 'Squad Club Atlético Tucumán', 'squad_num': '1', 'height': '1,82 m', 'foot': 'right', 'birthday': 'Jun 26, 1978 (40)', 'transfer_value(sterlings)': '£90k'}\n",
      "{'_id': ObjectId('5c058a233d54c00a19927789'), 'player': 'Yonathan Cabral', 'club': 'Squad Club Atlético Tucumán', 'squad_num': '31', 'height': '1,88 m', 'foot': 'right', 'birthday': 'May 10, 1992 (26)', 'transfer_value(sterlings)': '£540k'}\n",
      "{'_id': ObjectId('5c058a233d54c00a1992778a'), 'player': 'Andrés Lamas', 'club': 'Squad Club Atlético Tucumán', 'squad_num': '39', 'height': '1,88 m', 'foot': 'left', 'birthday': 'Jan 16, 1984 (34)', 'transfer_value(sterlings)': '£90k'}\n",
      "{'_id': ObjectId('5c058a233d54c00a1992778b'), 'player': 'Mathías Abero', 'club': 'Squad Club Atlético Tucumán', 'squad_num': '16', 'height': '1,84 m', 'foot': 'left', 'birthday': 'Apr 9, 1990 (28)', 'transfer_value(sterlings)': '£180k'}\n",
      "{'_id': ObjectId('5c058a233d54c00a1992778c'), 'player': 'José San Román', 'club': 'Squad Club Atlético Tucumán', 'squad_num': '20', 'height': '1,72 m', 'foot': 'right', 'birthday': 'Aug 17, 1988 (30)', 'transfer_value(sterlings)': '£360k'}\n",
      "{'_id': ObjectId('5c058a233d54c00a1992778d'), 'player': 'Juan Mercier', 'club': 'Squad Club Atlético Tucumán', 'squad_num': '5', 'height': '1,85 m', 'foot': 'right', 'birthday': 'Feb 2, 1980 (38)', 'transfer_value(sterlings)': '£180k'}\n",
      "{'_id': ObjectId('5c058a233d54c00a1992778e'), 'player': 'Claudio Pombo', 'club': 'Squad Club Atlético Tucumán', 'squad_num': '21', 'height': '1,71 m', 'foot': '-', 'birthday': 'Apr 28, 1994 (24)', 'transfer_value(sterlings)': '-'}\n",
      "{'_id': ObjectId('5c058a233d54c00a1992778f'), 'player': 'Tomás Rojas', 'club': 'Squad Club Atlético Tucumán', 'squad_num': '35', 'height': '1,73 m', 'foot': 'right', 'birthday': 'Mar 17, 1997 (21)', 'transfer_value(sterlings)': '£225k'}\n",
      "{'_id': ObjectId('5c058a233d54c00a19927790'), 'player': 'Tomás Cuello', 'club': 'Squad Club Atlético Tucumán', 'squad_num': '28', 'height': '1,76 m', 'foot': 'right', 'birthday': 'Mar 5, 2000 (18)', 'transfer_value(sterlings)': '£45k'}\n",
      "{'_id': ObjectId('5c058a233d54c00a19927791'), 'player': 'Favio Álvarez', 'club': 'Squad Club Atlético Tucumán', 'squad_num': '11', 'height': '1,84 m', 'foot': 'right', 'birthday': 'Jan 23, 1993 (25)', 'transfer_value(sterlings)': '£450k'}\n",
      "{'_id': ObjectId('5c058a233d54c00a19927792'), 'player': 'Luis Miguel Rodríguez', 'club': 'Squad Club Atlético Tucumán', 'squad_num': '7', 'height': '1,67 m', 'foot': 'right', 'birthday': 'Jan 1, 1985 (33)', 'transfer_value(sterlings)': '£1.35m'}\n",
      "{'_id': ObjectId('5c058a233d54c00a19927793'), 'player': 'Leandro Díaz', 'club': 'Squad Club Atlético Tucumán', 'squad_num': '27', 'height': '1,82 m', 'foot': 'right', 'birthday': 'Jun 6, 1992 (26)', 'transfer_value(sterlings)': '£315k'}\n",
      "{'_id': ObjectId('5c058a233d54c00a19927794'), 'player': 'Mauro Matos', 'club': 'Squad Club Atlético Tucumán', 'squad_num': '18', 'height': '1,80 m', 'foot': 'right', 'birthday': 'Aug 6, 1982 (36)', 'transfer_value(sterlings)': '£225k'}\n",
      "{'_id': ObjectId('5c058a2a3d54c00a19927796'), 'player': 'Alexis Martín Arias', 'club': 'Squad Club de Gimnasia y Esgrima La Plata', 'squad_num': '31', 'height': '1,85 m', 'foot': 'right', 'birthday': 'Jul 4, 1992 (26)', 'transfer_value(sterlings)': '£1.13m'}\n",
      "{'_id': ObjectId('5c058a2a3d54c00a19927797'), 'player': 'Tomás Durso', 'club': 'Squad Club de Gimnasia y Esgrima La Plata', 'squad_num': '1', 'height': '1,85 m', 'foot': 'right', 'birthday': 'Feb 26, 1999 (19)', 'transfer_value(sterlings)': '£45k'}\n",
      "{'_id': ObjectId('5c058a2a3d54c00a19927798'), 'player': 'Gonzalo Piovi', 'club': 'Squad Club de Gimnasia y Esgrima La Plata', 'squad_num': '3', 'height': '1,78 m', 'foot': 'left', 'birthday': 'Sep 8, 1994 (24)', 'transfer_value(sterlings)': '£450k'}\n",
      "{'_id': ObjectId('5c058a2a3d54c00a19927799'), 'player': 'Germán Guiffrey', 'club': 'Squad Club de Gimnasia y Esgrima La Plata', 'squad_num': '24', 'height': '1,82 m', 'foot': '-', 'birthday': 'Dec 31, 1997 (20)', 'transfer_value(sterlings)': '-'}\n",
      "{'_id': ObjectId('5c058a2a3d54c00a1992779a'), 'player': 'Matías Melluso', 'club': 'Squad Club de Gimnasia y Esgrima La Plata', 'squad_num': '32', 'height': '1,68 m', 'foot': 'left', 'birthday': 'Jun 9, 1998 (20)', 'transfer_value(sterlings)': '£45k'}\n",
      "{'_id': ObjectId('5c058a2a3d54c00a1992779b'), 'player': 'Facundo Oreja', 'club': 'Squad Club de Gimnasia y Esgrima La Plata', 'squad_num': '4', 'height': '1,69 m', 'foot': 'right', 'birthday': 'Jun 14, 1982 (36)', 'transfer_value(sterlings)': '£135k'}\n",
      "{'_id': ObjectId('5c058a2a3d54c00a1992779c'), 'player': 'Agustín Bolívar', 'club': 'Squad Club de Gimnasia y Esgrima La Plata', 'squad_num': '14', 'height': '1,73 m', 'foot': 'right', 'birthday': 'Jan 9, 1996 (22)', 'transfer_value(sterlings)': '£68k'}\n",
      "{'_id': ObjectId('5c058a2a3d54c00a1992779d'), 'player': 'Lorenzo Faravelli', 'club': 'Squad Club de Gimnasia y Esgrima La Plata', 'squad_num': '8', 'height': '1,77 m', 'foot': 'right', 'birthday': 'Mar 29, 1993 (25)', 'transfer_value(sterlings)': '£720k'}\n",
      "{'_id': ObjectId('5c058a2a3d54c00a1992779e'), 'player': 'Luciano Perdomo', 'club': 'Squad Club de Gimnasia y Esgrima La Plata', 'squad_num': '38', 'height': '1,74 m', 'foot': 'right', 'birthday': 'Sep 10, 1996 (22)', 'transfer_value(sterlings)': '£450k'}\n",
      "{'_id': ObjectId('5c058a2a3d54c00a1992779f'), 'player': 'Maximiliano Comba', 'club': 'Squad Club de Gimnasia y Esgrima La Plata', 'squad_num': '30', 'height': '1,70 m', 'foot': 'right', 'birthday': 'Jan 16, 1994 (24)', 'transfer_value(sterlings)': '-'}\n",
      "{'_id': ObjectId('5c058a2a3d54c00a199277a0'), 'player': 'Horacio Tijanovich', 'club': 'Squad Club de Gimnasia y Esgrima La Plata', 'squad_num': '11', 'height': '1,73 m', 'foot': 'right', 'birthday': 'Feb 28, 1996 (22)', 'transfer_value(sterlings)': '£450k'}\n",
      "{'_id': ObjectId('5c058a2a3d54c00a199277a1'), 'player': 'Matías Gómez', 'club': 'Squad Club de Gimnasia y Esgrima La Plata', 'squad_num': '33', 'height': '1,70 m', 'foot': '-', 'birthday': 'Aug 10, 1998 (20)', 'transfer_value(sterlings)': '-'}\n",
      "{'_id': ObjectId('5c058a2a3d54c00a199277a2'), 'player': 'Jan Hurtado', 'club': 'Squad Club de Gimnasia y Esgrima La Plata', 'squad_num': '17', 'height': '1,81 m', 'foot': 'right', 'birthday': 'Mar 5, 2000 (18)', 'transfer_value(sterlings)': '£315k'}\n",
      "{'_id': ObjectId('5c058a2a3d54c00a199277a3'), 'player': 'Sebastián Moyano', 'club': 'Squad Club de Gimnasia y Esgrima La Plata', 'squad_num': '15', 'height': '1,88 m', 'foot': 'right', 'birthday': 'Aug 26, 1990 (28)', 'transfer_value(sterlings)': '£180k'}\n",
      "{'_id': ObjectId('5c058a2a3d54c00a199277a4'), 'player': 'Manuel Guanini', 'club': 'Squad Club de Gimnasia y Esgrima La Plata', 'squad_num': '28', 'height': '1,91 m', 'foot': 'right', 'birthday': 'Feb 14, 1996 (22)', 'transfer_value(sterlings)': '£1.26m'}\n",
      "{'_id': ObjectId('5c058a2a3d54c00a199277a5'), 'player': 'Maximiliano Coronel', 'club': 'Squad Club de Gimnasia y Esgrima La Plata', 'squad_num': '23', 'height': '1,80 m', 'foot': 'right', 'birthday': 'Apr 28, 1989 (29)', 'transfer_value(sterlings)': '£270k'}\n",
      "{'_id': ObjectId('5c058a2a3d54c00a199277a6'), 'player': 'Lucas Licht', 'club': 'Squad Club de Gimnasia y Esgrima La Plata', 'squad_num': '25', 'height': '1,74 m', 'foot': 'left', 'birthday': 'Apr 6, 1981 (37)', 'transfer_value(sterlings)': '£90k'}\n",
      "{'_id': ObjectId('5c058a2a3d54c00a199277a7'), 'player': 'Ezequiel Bonifacio', 'club': 'Squad Club de Gimnasia y Esgrima La Plata', 'squad_num': '6', 'height': '1,70 m', 'foot': 'right', 'birthday': 'May 9, 1994 (24)', 'transfer_value(sterlings)': '£450k'}\n",
      "{'_id': ObjectId('5c058a2a3d54c00a199277a8'), 'player': 'Fabián Rinaudo', 'club': 'Squad Club de Gimnasia y Esgrima La Plata', 'squad_num': '21', 'height': '1,75 m', 'foot': 'right', 'birthday': 'May 8, 1987 (31)', 'transfer_value(sterlings)': '£675k'}\n",
      "{'_id': ObjectId('5c058a2a3d54c00a199277a9'), 'player': 'Kevin Gutiérrez', 'club': 'Squad Club de Gimnasia y Esgrima La Plata', 'squad_num': '13', 'height': '1,67 m', 'foot': 'right', 'birthday': 'Jun 3, 1997 (21)', 'transfer_value(sterlings)': '-'}\n",
      "{'_id': ObjectId('5c058a2a3d54c00a199277aa'), 'player': 'Víctor Ayala', 'club': 'Squad Club de Gimnasia y Esgrima La Plata', 'squad_num': '16', 'height': '1,77 m', 'foot': 'right', 'birthday': 'Jan 1, 1988 (30)', 'transfer_value(sterlings)': '£450k'}\n",
      "{'_id': ObjectId('5c058a2a3d54c00a199277ab'), 'player': 'Juan Cataldi', 'club': 'Squad Club de Gimnasia y Esgrima La Plata', 'squad_num': '19', 'height': '1,72 m', 'foot': '-', 'birthday': 'Dec 17, 1998 (19)', 'transfer_value(sterlings)': '-'}\n",
      "{'_id': ObjectId('5c058a2a3d54c00a199277ac'), 'player': 'Santiago Rosales', 'club': 'Squad Club de Gimnasia y Esgrima La Plata', 'squad_num': '10', 'height': '1,80 m', 'foot': 'right', 'birthday': 'Mar 22, 1995 (23)', 'transfer_value(sterlings)': '£2.16m'}\n",
      "{'_id': ObjectId('5c058a2a3d54c00a199277ad'), 'player': 'Alejandro Melo', 'club': 'Squad Club de Gimnasia y Esgrima La Plata', 'squad_num': '22', 'height': '1,80 m', 'foot': 'right', 'birthday': 'Jan 11, 1996 (22)', 'transfer_value(sterlings)': '£315k'}\n",
      "{'_id': ObjectId('5c058a2a3d54c00a199277ae'), 'player': 'Mauro Guevgeozián', 'club': 'Squad Club de Gimnasia y Esgrima La Plata', 'squad_num': '18', 'height': '1,82 m', 'foot': 'right', 'birthday': 'May 10, 1986 (32)', 'transfer_value(sterlings)': '£540k'}\n",
      "{'_id': ObjectId('5c058a2a3d54c00a199277af'), 'player': 'Santiago Silva', 'club': 'Squad Club de Gimnasia y Esgrima La Plata', 'squad_num': '9', 'height': '1,85 m', 'foot': 'right', 'birthday': 'Dec 9, 1980 (37)', 'transfer_value(sterlings)': '£270k'}\n",
      "{'_id': ObjectId('5c058a323d54c00a199277b1'), 'player': 'Luciano Pocrnjic', 'club': 'Squad Club Atlético Aldosivi', 'squad_num': '1', 'height': '1,92 m', 'foot': 'right', 'birthday': 'Aug 4, 1981 (37)', 'transfer_value(sterlings)': '£225k'}\n",
      "{'_id': ObjectId('5c058a323d54c00a199277b2'), 'player': 'Luis Ingolotti', 'club': 'Squad Club Atlético Aldosivi', 'squad_num': '31', 'height': ' m', 'foot': '-', 'birthday': 'Jan 14, 2000 (18)', 'transfer_value(sterlings)': '-'}\n",
      "{'_id': ObjectId('5c058a323d54c00a199277b3'), 'player': 'Leonel Galeano', 'club': 'Squad Club Atlético Aldosivi', 'squad_num': '6', 'height': '1,83 m', 'foot': 'right', 'birthday': 'Aug 2, 1991 (27)', 'transfer_value(sterlings)': '£540k'}\n",
      "{'_id': ObjectId('5c058a323d54c00a199277b4'), 'player': 'Jefferson Mena', 'club': 'Squad Club Atlético Aldosivi', 'squad_num': '2', 'height': '1,82 m', 'foot': 'right', 'birthday': 'Jun 15, 1989 (29)', 'transfer_value(sterlings)': '£360k'}\n",
      "{'_id': ObjectId('5c058a323d54c00a199277b5'), 'player': 'Lucas Kruspzky', 'club': 'Squad Club Atlético Aldosivi', 'squad_num': '3', 'height': '1,77 m', 'foot': 'left', 'birthday': 'Apr 6, 1992 (26)', 'transfer_value(sterlings)': '£270k'}\n",
      "{'_id': ObjectId('5c058a323d54c00a199277b6'), 'player': 'Ismael Quílez', 'club': 'Squad Club Atlético Aldosivi', 'squad_num': '4', 'height': '1,79 m', 'foot': 'right', 'birthday': 'Oct 2, 1988 (30)', 'transfer_value(sterlings)': '£248k'}\n",
      "{'_id': ObjectId('5c058a323d54c00a199277b7'), 'player': 'Fernando Godoy', 'club': 'Squad Club Atlético Aldosivi', 'squad_num': '15', 'height': '1,72 m', 'foot': 'right', 'birthday': 'May 1, 1990 (28)', 'transfer_value(sterlings)': '£450k'}\n",
      "{'_id': ObjectId('5c058a323d54c00a199277b8'), 'player': 'Juan Galeano', 'club': 'Squad Club Atlético Aldosivi', 'squad_num': '8', 'height': '1,70 m', 'foot': '-', 'birthday': 'Jul 3, 1988 (30)', 'transfer_value(sterlings)': '£90k'}\n",
      "{'_id': ObjectId('5c058a323d54c00a199277b9'), 'player': 'Federico Gino', 'club': 'Squad Club Atlético Aldosivi', 'squad_num': '29', 'height': '1,76 m', 'foot': 'right', 'birthday': 'Feb 26, 1993 (25)', 'transfer_value(sterlings)': '£248k'}\n",
      "{'_id': ObjectId('5c058a323d54c00a199277ba'), 'player': 'Iván Colman', 'club': 'Squad Club Atlético Aldosivi', 'squad_num': '28', 'height': '1,73 m', 'foot': 'right', 'birthday': 'May 6, 1995 (23)', 'transfer_value(sterlings)': '£450k'}\n",
      "{'_id': ObjectId('5c058a323d54c00a199277bb'), 'player': 'Cristian Chávez', 'club': 'Squad Club Atlético Aldosivi', 'squad_num': '11', 'height': '1,71 m', 'foot': 'right', 'birthday': 'Jun 4, 1987 (31)', 'transfer_value(sterlings)': '£450k'}\n",
      "{'_id': ObjectId('5c058a323d54c00a199277bc'), 'player': 'Matías Pisano', 'club': 'Squad Club Atlético Aldosivi', 'squad_num': '10', 'height': '1,62 m', 'foot': 'left', 'birthday': 'Dec 13, 1991 (26)', 'transfer_value(sterlings)': '£1.13m'}\n",
      "{'_id': ObjectId('5c058a323d54c00a199277bd'), 'player': 'Denis Stracqualursi', 'club': 'Squad Club Atlético Aldosivi', 'squad_num': '22', 'height': '1,91 m', 'foot': 'right', 'birthday': 'Oct 20, 1987 (31)', 'transfer_value(sterlings)': '£450k'}\n",
      "{'_id': ObjectId('5c058a323d54c00a199277be'), 'player': 'Fernando Telechea', 'club': 'Squad Club Atlético Aldosivi', 'squad_num': '9', 'height': '1,80 m', 'foot': 'right', 'birthday': 'Oct 6, 1981 (37)', 'transfer_value(sterlings)': '£180k'}\n",
      "{'_id': ObjectId('5c058a323d54c00a199277bf'), 'player': 'Fabián Assmann', 'club': 'Squad Club Atlético Aldosivi', 'squad_num': '35', 'height': '1,89 m', 'foot': 'right', 'birthday': 'Mar 23, 1986 (32)', 'transfer_value(sterlings)': '£225k'}\n",
      "{'_id': ObjectId('5c058a323d54c00a199277c0'), 'player': 'Emiliano Amor', 'club': 'Squad Club Atlético Aldosivi', 'squad_num': '32', 'height': '1,83 m', 'foot': 'right', 'birthday': 'May 16, 1995 (23)', 'transfer_value(sterlings)': '£720k'}\n",
      "{'_id': ObjectId('5c058a323d54c00a199277c1'), 'player': 'Leonardo Sánchez', 'club': 'Squad Club Atlético Aldosivi', 'squad_num': '16', 'height': '1,91 m', 'foot': 'right', 'birthday': 'Aug 2, 1986 (32)', 'transfer_value(sterlings)': '£450k'}\n",
      "{'_id': ObjectId('5c058a323d54c00a199277c2'), 'player': 'Lucas Villalba', 'club': 'Squad Club Atlético Aldosivi', 'squad_num': '23', 'height': '1,72 m', 'foot': 'left', 'birthday': 'Aug 19, 1994 (24)', 'transfer_value(sterlings)': '£1.13m'}\n",
      "{'_id': ObjectId('5c058a323d54c00a199277c3'), 'player': 'Leandro Sapetti', 'club': 'Squad Club Atlético Aldosivi', 'squad_num': '26', 'height': '1,76 m', 'foot': 'left', 'birthday': 'Jan 30, 1989 (29)', 'transfer_value(sterlings)': '£270k'}\n",
      "{'_id': ObjectId('5c058a323d54c00a199277c4'), 'player': 'Emanuel Iñiguez', 'club': 'Squad Club Atlético Aldosivi', 'squad_num': '21', 'height': '1,77 m', 'foot': 'right', 'birthday': 'Sep 16, 1996 (22)', 'transfer_value(sterlings)': '-'}\n",
      "{'_id': ObjectId('5c058a323d54c00a199277c5'), 'player': 'Ezequiel Videla', 'club': 'Squad Club Atlético Aldosivi', 'squad_num': '87', 'height': '1,74 m', 'foot': 'right', 'birthday': 'Jan 15, 1988 (30)', 'transfer_value(sterlings)': '£405k'}\n",
      "{'_id': ObjectId('5c058a323d54c00a199277c6'), 'player': 'Dardo Miloc', 'club': 'Squad Club Atlético Aldosivi', 'squad_num': '5', 'height': '1,75 m', 'foot': 'right', 'birthday': 'Oct 16, 1990 (28)', 'transfer_value(sterlings)': '£315k'}\n",
      "{'_id': ObjectId('5c058a323d54c00a199277c7'), 'player': 'Nahuel Yeri', 'club': 'Squad Club Atlético Aldosivi', 'squad_num': '25', 'height': '1,72 m', 'foot': 'right', 'birthday': 'Nov 12, 1991 (27)', 'transfer_value(sterlings)': '£293k'}\n",
      "{'_id': ObjectId('5c058a323d54c00a199277c8'), 'player': 'Javier Iritier', 'club': 'Squad Club Atlético Aldosivi', 'squad_num': '18', 'height': '1,69 m', 'foot': 'right', 'birthday': 'Dec 20, 1994 (23)', 'transfer_value(sterlings)': '£315k'}\n",
      "{'_id': ObjectId('5c058a323d54c00a199277c9'), 'player': 'Emiliano Ozuna', 'club': 'Squad Club Atlético Aldosivi', 'squad_num': '36', 'height': '1,72 m', 'foot': 'left', 'birthday': 'Feb 9, 1996 (22)', 'transfer_value(sterlings)': '£248k'}\n",
      "{'_id': ObjectId('5c058a323d54c00a199277ca'), 'player': 'Facundo Castillón', 'club': 'Squad Club Atlético Aldosivi', 'squad_num': '19', 'height': '1,73 m', 'foot': 'right', 'birthday': 'Aug 21, 1985 (33)', 'transfer_value(sterlings)': '£225k'}\n",
      "{'_id': ObjectId('5c058a323d54c00a199277cb'), 'player': 'Antonio Medina', 'club': 'Squad Club Atlético Aldosivi', 'squad_num': '7', 'height': '1,73 m', 'foot': 'right', 'birthday': 'Dec 18, 1984 (33)', 'transfer_value(sterlings)': '£270k'}\n",
      "{'_id': ObjectId('5c058a3c3d54c00a199277cd'), 'player': 'Luis Ardente', 'club': 'Squad Club Atlético San Martín (SJ)', 'squad_num': '1', 'height': '1,86 m', 'foot': 'right', 'birthday': 'Sep 17, 1981 (37)', 'transfer_value(sterlings)': '£225k'}\n",
      "{'_id': ObjectId('5c058a3c3d54c00a199277ce'), 'player': 'Facundo Erpen', 'club': 'Squad Club Atlético San Martín (SJ)', 'squad_num': '3', 'height': '1,83 m', 'foot': 'right', 'birthday': 'May 19, 1983 (35)', 'transfer_value(sterlings)': '£720k'}\n",
      "{'_id': ObjectId('5c058a3c3d54c00a199277cf'), 'player': 'Arián Pucheta', 'club': 'Squad Club Atlético San Martín (SJ)', 'squad_num': '6', 'height': '1,80 m', 'foot': 'left', 'birthday': 'Mar 8, 1995 (23)', 'transfer_value(sterlings)': '£225k'}\n",
      "{'_id': ObjectId('5c058a3c3d54c00a199277d0'), 'player': 'Federico Milo', 'club': 'Squad Club Atlético San Martín (SJ)', 'squad_num': '25', 'height': '1,77 m', 'foot': 'left', 'birthday': 'Jan 10, 1992 (26)', 'transfer_value(sterlings)': '£225k'}\n",
      "{'_id': ObjectId('5c058a3c3d54c00a199277d1'), 'player': 'Jonatan Goitía', 'club': 'Squad Club Atlético San Martín (SJ)', 'squad_num': '19', 'height': '1,75 m', 'foot': 'left', 'birthday': 'Aug 2, 1994 (24)', 'transfer_value(sterlings)': '£135k'}\n",
      "{'_id': ObjectId('5c058a3c3d54c00a199277d2'), 'player': 'Gonzalo Prósperi', 'club': 'Squad Club Atlético San Martín (SJ)', 'squad_num': '4', 'height': '1,79 m', 'foot': 'right', 'birthday': 'Sep 28, 1985 (33)', 'transfer_value(sterlings)': '£225k'}\n",
      "{'_id': ObjectId('5c058a3c3d54c00a199277d3'), 'player': 'Marcos Gelabert', 'club': 'Squad Club Atlético San Martín (SJ)', 'squad_num': '5', 'height': '1,76 m', 'foot': 'right', 'birthday': 'Sep 16, 1981 (37)', 'transfer_value(sterlings)': '£90k'}\n",
      "{'_id': ObjectId('5c058a3c3d54c00a199277d4'), 'player': 'Matías Fissore', 'club': 'Squad Club Atlético San Martín (SJ)', 'squad_num': '8', 'height': '1,75 m', 'foot': 'right', 'birthday': 'Sep 21, 1990 (28)', 'transfer_value(sterlings)': '£315k'}\n",
      "{'_id': ObjectId('5c058a3c3d54c00a199277d5'), 'player': 'Nicolás Pelaitay', 'club': 'Squad Club Atlético San Martín (SJ)', 'squad_num': '35', 'height': '1,68 m', 'foot': 'right', 'birthday': 'Dec 27, 1992 (25)', 'transfer_value(sterlings)': '£180k'}\n",
      "{'_id': ObjectId('5c058a3c3d54c00a199277d6'), 'player': 'Hernán Da Campo', 'club': 'Squad Club Atlético San Martín (SJ)', 'squad_num': '21', 'height': '1,81 m', 'foot': 'right', 'birthday': 'Aug 6, 1994 (24)', 'transfer_value(sterlings)': '£540k'}\n",
      "{'_id': ObjectId('5c058a3c3d54c00a199277d7'), 'player': 'Nazareno Solís', 'club': 'Squad Club Atlético San Martín (SJ)', 'squad_num': '7', 'height': '1,70 m', 'foot': 'left', 'birthday': 'Apr 22, 1994 (24)', 'transfer_value(sterlings)': '£540k'}\n",
      "{'_id': ObjectId('5c058a3c3d54c00a199277d8'), 'player': 'Fernando Brandán', 'club': 'Squad Club Atlético San Martín (SJ)', 'squad_num': '22', 'height': '1,65 m', 'foot': 'right', 'birthday': 'Mar 27, 1990 (28)', 'transfer_value(sterlings)': '£495k'}\n",
      "{'_id': ObjectId('5c058a3c3d54c00a199277d9'), 'player': 'Martín Bravo', 'club': 'Squad Club Atlético San Martín (SJ)', 'squad_num': '23', 'height': '1,68 m', 'foot': 'left', 'birthday': 'Sep 19, 1986 (32)', 'transfer_value(sterlings)': '£720k'}\n",
      "{'_id': ObjectId('5c058a3c3d54c00a199277da'), 'player': 'Pablo Magnin', 'club': 'Squad Club Atlético San Martín (SJ)', 'squad_num': '11', 'height': '1,77 m', 'foot': 'right', 'birthday': 'Apr 25, 1990 (28)', 'transfer_value(sterlings)': '£180k'}\n",
      "{'_id': ObjectId('5c058a3c3d54c00a199277db'), 'player': 'Pablo Palacios', 'club': 'Squad Club Atlético San Martín (SJ)', 'squad_num': '33', 'height': '1,93 m', 'foot': '-', 'birthday': 'Jun 22, 1988 (30)', 'transfer_value(sterlings)': '-'}\n",
      "{'_id': ObjectId('5c058a3c3d54c00a199277dc'), 'player': 'Leonardo Corti', 'club': 'Squad Club Atlético San Martín (SJ)', 'squad_num': '12', 'height': '1,80 m', 'foot': 'right', 'birthday': 'Jan 29, 1981 (37)', 'transfer_value(sterlings)': '£90k'}\n",
      "{'_id': ObjectId('5c058a3c3d54c00a199277dd'), 'player': 'Francisco Mattia', 'club': 'Squad Club Atlético San Martín (SJ)', 'squad_num': '2', 'height': '1,90 m', 'foot': 'right', 'birthday': 'Jun 24, 1988 (30)', 'transfer_value(sterlings)': '£315k'}\n",
      "{'_id': ObjectId('5c058a3c3d54c00a199277de'), 'player': 'Juan Rodríguez', 'club': 'Squad Club Atlético San Martín (SJ)', 'squad_num': '18', 'height': '1,88 m', 'foot': 'right', 'birthday': 'Feb 28, 1994 (24)', 'transfer_value(sterlings)': '-'}\n",
      "{'_id': ObjectId('5c058a3c3d54c00a199277df'), 'player': 'Gianni Rodríguez', 'club': 'Squad Club Atlético San Martín (SJ)', 'squad_num': '17', 'height': '1,77 m', 'foot': 'left', 'birthday': 'Jun 7, 1994 (24)', 'transfer_value(sterlings)': '£203k'}\n",
      "{'_id': ObjectId('5c058a3c3d54c00a199277e0'), 'player': 'Alex Silva', 'club': 'Squad Club Atlético San Martín (SJ)', 'squad_num': '16', 'height': '1,74 m', 'foot': 'right', 'birthday': 'Jun 15, 1993 (25)', 'transfer_value(sterlings)': '£450k'}\n",
      "{'_id': ObjectId('5c058a3c3d54c00a199277e1'), 'player': 'Matías Sánchez', 'club': 'Squad Club Atlético San Martín (SJ)', 'squad_num': '15', 'height': '1,73 m', 'foot': 'right', 'birthday': 'Aug 18, 1987 (31)', 'transfer_value(sterlings)': '£405k'}\n",
      "{'_id': ObjectId('5c058a3c3d54c00a199277e2'), 'player': 'Franco Cristaldo', 'club': 'Squad Club Atlético San Martín (SJ)', 'squad_num': '32', 'height': '1,75 m', 'foot': 'right', 'birthday': 'Aug 15, 1996 (22)', 'transfer_value(sterlings)': '£360k'}\n",
      "{'_id': ObjectId('5c058a3c3d54c00a199277e3'), 'player': 'Francisco Grahl', 'club': 'Squad Club Atlético San Martín (SJ)', 'squad_num': '26', 'height': '1,70 m', 'foot': 'left', 'birthday': 'Mar 5, 1992 (26)', 'transfer_value(sterlings)': '£270k'}\n",
      "{'_id': ObjectId('5c058a3c3d54c00a199277e4'), 'player': 'Zacarías Morán', 'club': 'Squad Club Atlético San Martín (SJ)', 'squad_num': '14', 'height': '1,70 m', 'foot': 'left', 'birthday': 'Feb 22, 1996 (22)', 'transfer_value(sterlings)': '£45k'}\n",
      "{'_id': ObjectId('5c058a3c3d54c00a199277e5'), 'player': 'Diego Cardozo', 'club': 'Squad Club Atlético San Martín (SJ)', 'squad_num': '30', 'height': '1,73 m', 'foot': 'left', 'birthday': 'Jun 2, 1987 (31)', 'transfer_value(sterlings)': '£270k'}\n",
      "{'_id': ObjectId('5c058a3c3d54c00a199277e6'), 'player': 'Claudio Mosca', 'club': 'Squad Club Atlético San Martín (SJ)', 'squad_num': '10', 'height': '1,80 m', 'foot': 'left', 'birthday': 'Apr 2, 1991 (27)', 'transfer_value(sterlings)': '£540k'}\n",
      "{'_id': ObjectId('5c058a3c3d54c00a199277e7'), 'player': 'Gustavo Villarruel', 'club': 'Squad Club Atlético San Martín (SJ)', 'squad_num': '27', 'height': '1,72 m', 'foot': 'right', 'birthday': 'Apr 2, 1992 (26)', 'transfer_value(sterlings)': '£315k'}\n",
      "{'_id': ObjectId('5c058a3c3d54c00a199277e8'), 'player': 'Gonzalo Castillejos', 'club': 'Squad Club Atlético San Martín (SJ)', 'squad_num': '20', 'height': '1,82 m', 'foot': 'right', 'birthday': 'Mar 5, 1986 (32)', 'transfer_value(sterlings)': '£225k'}\n",
      "{'_id': ObjectId('5c058a3c3d54c00a199277e9'), 'player': 'Daniel Opazo', 'club': 'Squad Club Atlético San Martín (SJ)', 'squad_num': '9', 'height': '1,78 m', 'foot': 'right', 'birthday': 'Nov 8, 1996 (22)', 'transfer_value(sterlings)': '£90k'}\n",
      "{'_id': ObjectId('5c058aa53d54c00a199277eb'), 'player': 'Jorge Carranza', 'club': 'Squad Club Atlético San Martín (Tucumán)', 'squad_num': '18', 'height': '1,85 m', 'foot': 'right', 'birthday': 'May 7, 1981 (37)', 'transfer_value(sterlings)': '£45k'}\n",
      "{'_id': ObjectId('5c058aa53d54c00a199277ec'), 'player': 'Matías Cahais', 'club': 'Squad Club Atlético San Martín (Tucumán)', 'squad_num': '6', 'height': '1,85 m', 'foot': 'left', 'birthday': 'Dec 24, 1987 (30)', 'transfer_value(sterlings)': '£540k'}\n",
      "{'_id': ObjectId('5c058aa53d54c00a199277ed'), 'player': 'Héctor Schmidt', 'club': 'Squad Club Atlético San Martín (Tucumán)', 'squad_num': '21', 'height': '1,83 m', 'foot': 'left', 'birthday': 'Dec 7, 1992 (25)', 'transfer_value(sterlings)': '£270k'}\n",
      "{'_id': ObjectId('5c058aa53d54c00a199277ee'), 'player': 'Lucas Diarte', 'club': 'Squad Club Atlético San Martín (Tucumán)', 'squad_num': '20', 'height': '1,75 m', 'foot': 'left', 'birthday': 'Jun 4, 1993 (25)', 'transfer_value(sterlings)': '£1.26m'}\n",
      "{'_id': ObjectId('5c058aa53d54c00a199277ef'), 'player': 'Maximiliano Martínez', 'club': 'Squad Club Atlético San Martín (Tucumán)', 'squad_num': '3', 'height': '1,78 m', 'foot': 'left', 'birthday': 'Sep 1, 1992 (26)', 'transfer_value(sterlings)': '-'}\n",
      "{'_id': ObjectId('5c058aa53d54c00a199277f0'), 'player': 'Emiliano Albín', 'club': 'Squad Club Atlético San Martín (Tucumán)', 'squad_num': '24', 'height': '1,75 m', 'foot': 'right', 'birthday': 'Jan 24, 1989 (29)', 'transfer_value(sterlings)': '£225k'}\n",
      "{'_id': ObjectId('5c058aa53d54c00a199277f1'), 'player': 'Gustavo Abregú', 'club': 'Squad Club Atlético San Martín (Tucumán)', 'squad_num': '25', 'height': '1,70 m', 'foot': 'right', 'birthday': 'Jul 4, 1997 (21)', 'transfer_value(sterlings)': '-'}\n",
      "{'_id': ObjectId('5c058aa53d54c00a199277f2'), 'player': 'Alejandro Altuna', 'club': 'Squad Club Atlético San Martín (Tucumán)', 'squad_num': '5', 'height': '1,82 m', 'foot': 'right', 'birthday': 'Jan 19, 1992 (26)', 'transfer_value(sterlings)': '-'}\n",
      "{'_id': ObjectId('5c058aa53d54c00a199277f3'), 'player': 'Álvaro Fernández', 'club': 'Squad Club Atlético San Martín (Tucumán)', 'squad_num': '23', 'height': '1,86 m', 'foot': 'right', 'birthday': 'Oct 11, 1985 (33)', 'transfer_value(sterlings)': '£360k'}\n",
      "{'_id': ObjectId('5c058aa53d54c00a199277f4'), 'player': 'Nicolás Giménez', 'club': 'Squad Club Atlético San Martín (Tucumán)', 'squad_num': '31', 'height': '1,79 m', 'foot': 'right', 'birthday': 'Jan 16, 1996 (22)', 'transfer_value(sterlings)': '£360k'}\n",
      "{'_id': ObjectId('5c058aa53d54c00a199277f5'), 'player': 'Franco Costa', 'club': 'Squad Club Atlético San Martín (Tucumán)', 'squad_num': '11', 'height': '1,62 m', 'foot': '-', 'birthday': 'Dec 10, 1991 (26)', 'transfer_value(sterlings)': '£68k'}\n",
      "{'_id': ObjectId('5c058aa53d54c00a199277f6'), 'player': 'Marcos Figueroa', 'club': 'Squad Club Atlético San Martín (Tucumán)', 'squad_num': '19', 'height': '1,72 m', 'foot': 'right', 'birthday': 'Jan 18, 1990 (28)', 'transfer_value(sterlings)': '£1.35m'}\n",
      "{'_id': ObjectId('5c058aa53d54c00a199277f7'), 'player': 'Edgar Espíndola', 'club': 'Squad Club Atlético San Martín (Tucumán)', 'squad_num': '14', 'height': '1,75 m', 'foot': 'both', 'birthday': 'May 4, 1985 (33)', 'transfer_value(sterlings)': '£450k'}\n",
      "{'_id': ObjectId('5c058aa53d54c00a199277f8'), 'player': 'Ignacio Arce', 'club': 'Squad Club Atlético San Martín (Tucumán)', 'squad_num': '22', 'height': '1,80 m', 'foot': 'both', 'birthday': 'Feb 8, 1992 (26)', 'transfer_value(sterlings)': '£45k'}\n",
      "{'_id': ObjectId('5c058aa53d54c00a199277f9'), 'player': 'Rodrigo Moreira', 'club': 'Squad Club Atlético San Martín (Tucumán)', 'squad_num': '4', 'height': '1,85 m', 'foot': 'right', 'birthday': 'Jul 15, 1996 (22)', 'transfer_value(sterlings)': '£360k'}\n",
      "{'_id': ObjectId('5c058aa53d54c00a199277fa'), 'player': 'Lucas Acevedo', 'club': 'Squad Club Atlético San Martín (Tucumán)', 'squad_num': '2', 'height': '1,94 m', 'foot': 'right', 'birthday': 'Nov 8, 1991 (27)', 'transfer_value(sterlings)': '£225k'}\n",
      "{'_id': ObjectId('5c058aa53d54c00a199277fb'), 'player': 'Fernando Cordero', 'club': 'Squad Club Atlético San Martín (Tucumán)', 'squad_num': '16', 'height': '1,72 m', 'foot': 'left', 'birthday': 'Aug 26, 1987 (31)', 'transfer_value(sterlings)': '£360k'}\n",
      "{'_id': ObjectId('5c058aa53d54c00a199277fc'), 'player': 'Hernán Petryk', 'club': 'Squad Club Atlético San Martín (Tucumán)', 'squad_num': '32', 'height': '1,82 m', 'foot': 'right', 'birthday': 'Oct 21, 1994 (24)', 'transfer_value(sterlings)': '£270k'}\n",
      "{'_id': ObjectId('5c058aa53d54c00a199277fd'), 'player': 'Emiliano Purita', 'club': 'Squad Club Atlético San Martín (Tucumán)', 'squad_num': '30', 'height': '1,67 m', 'foot': 'right', 'birthday': 'Mar 25, 1997 (21)', 'transfer_value(sterlings)': '£180k'}\n",
      "{'_id': ObjectId('5c058aa53d54c00a199277fe'), 'player': 'Adrián Arregui', 'club': 'Squad Club Atlético San Martín (Tucumán)', 'squad_num': '13', 'height': '1,76 m', 'foot': 'right', 'birthday': 'Aug 12, 1992 (26)', 'transfer_value(sterlings)': '£225k'}\n",
      "{'_id': ObjectId('5c058aa53d54c00a199277ff'), 'player': 'Tino Costa', 'club': 'Squad Club Atlético San Martín (Tucumán)', 'squad_num': '8', 'height': '1,76 m', 'foot': 'left', 'birthday': 'Jan 9, 1985 (33)', 'transfer_value(sterlings)': '£450k'}\n",
      "{'_id': ObjectId('5c058aa53d54c00a19927800'), 'player': 'Julián Vitale', 'club': 'Squad Club Atlético San Martín (Tucumán)', 'squad_num': '15', 'height': '1,82 m', 'foot': 'right', 'birthday': 'Jun 21, 1995 (23)', 'transfer_value(sterlings)': '£270k'}\n",
      "{'_id': ObjectId('5c058aa53d54c00a19927801'), 'player': 'Matias García', 'club': 'Squad Club Atlético San Martín (Tucumán)', 'squad_num': '10', 'height': '1,74 m', 'foot': 'left', 'birthday': 'Oct 22, 1991 (27)', 'transfer_value(sterlings)': '£158k'}\n",
      "{'_id': ObjectId('5c058aa53d54c00a19927802'), 'player': 'Gonzalo Rodríguez', 'club': 'Squad Club Atlético San Martín (Tucumán)', 'squad_num': '7', 'height': '1,78 m', 'foot': 'right', 'birthday': 'Sep 18, 1990 (28)', 'transfer_value(sterlings)': '-'}\n",
      "{'_id': ObjectId('5c058aa53d54c00a19927803'), 'player': 'Claudio Bieler', 'club': 'Squad Club Atlético San Martín (Tucumán)', 'squad_num': '9', 'height': '1,79 m', 'foot': 'right', 'birthday': 'Mar 1, 1984 (34)', 'transfer_value(sterlings)': '£450k'}\n",
      "{'_id': ObjectId('5c058aa53d54c00a19927804'), 'player': 'Luciano Pons', 'club': 'Squad Club Atlético San Martín (Tucumán)', 'squad_num': '27', 'height': '1,80 m', 'foot': 'right', 'birthday': 'Apr 18, 1990 (28)', 'transfer_value(sterlings)': '-'}\n",
      "{'_id': ObjectId('5c058ab23d54c00a19927806'), 'player': 'Sebastián Bértoli', 'club': 'Squad Club Atlético Patronato de la Juventud Católica', 'squad_num': '1', 'height': '1,86 m', 'foot': 'right', 'birthday': 'Oct 16, 1977 (41)', 'transfer_value(sterlings)': '£90k'}\n",
      "{'_id': ObjectId('5c058ab23d54c00a19927807'), 'player': 'Emanuel Alarcón', 'club': 'Squad Club Atlético Patronato de la Juventud Católica', 'squad_num': '12', 'height': '1,83 m', 'foot': 'right', 'birthday': 'Nov 11, 1992 (26)', 'transfer_value(sterlings)': '£45k'}\n",
      "{'_id': ObjectId('5c058ab23d54c00a19927808'), 'player': 'Agustín Sandona', 'club': 'Squad Club Atlético Patronato de la Juventud Católica', 'squad_num': '34', 'height': '1,84 m', 'foot': 'right', 'birthday': 'May 1, 1993 (25)', 'transfer_value(sterlings)': '£270k'}\n",
      "{'_id': ObjectId('5c058ab23d54c00a19927809'), 'player': 'Walter Andrade', 'club': 'Squad Club Atlético Patronato de la Juventud Católica', 'squad_num': '2', 'height': '1,90 m', 'foot': 'right', 'birthday': 'Dec 1, 1984 (34)', 'transfer_value(sterlings)': '£135k'}\n",
      "{'_id': ObjectId('5c058ab23d54c00a1992780a'), 'player': 'Bruno Urribarri', 'club': 'Squad Club Atlético Patronato de la Juventud Católica', 'squad_num': '23', 'height': '1,76 m', 'foot': 'left', 'birthday': 'Nov 6, 1986 (32)', 'transfer_value(sterlings)': '£135k'}\n",
      "{'_id': ObjectId('5c058ab23d54c00a1992780b'), 'player': 'Lucas Ceballos', 'club': 'Squad Club Atlético Patronato de la Juventud Católica', 'squad_num': '3', 'height': '1,66 m', 'foot': 'right', 'birthday': 'Jan 3, 1987 (31)', 'transfer_value(sterlings)': '£450k'}\n",
      "{'_id': ObjectId('5c058ab23d54c00a1992780c'), 'player': 'Federico Bravo', 'club': 'Squad Club Atlético Patronato de la Juventud Católica', 'squad_num': '22', 'height': '1,85 m', 'foot': 'right', 'birthday': 'Oct 5, 1993 (25)', 'transfer_value(sterlings)': '£450k'}\n",
      "{'_id': ObjectId('5c058ab23d54c00a1992780d'), 'player': 'Marcos Minetti', 'club': 'Squad Club Atlético Patronato de la Juventud Católica', 'squad_num': '5', 'height': '1,85 m', 'foot': 'right', 'birthday': 'Apr 17, 1989 (29)', 'transfer_value(sterlings)': '£90k'}\n",
      "{'_id': ObjectId('5c058ab23d54c00a1992780e'), 'player': 'Pablo Ledesma', 'club': 'Squad Club Atlético Patronato de la Juventud Católica', 'squad_num': '27', 'height': '1,78 m', 'foot': 'right', 'birthday': 'Feb 4, 1984 (34)', 'transfer_value(sterlings)': '£225k'}\n",
      "{'_id': ObjectId('5c058ab23d54c00a1992780f'), 'player': 'Gabriel Carabajal', 'club': 'Squad Club Atlético Patronato de la Juventud Católica', 'squad_num': '30', 'height': '1,78 m', 'foot': 'right', 'birthday': 'Dec 9, 1991 (26)', 'transfer_value(sterlings)': '£450k'}\n",
      "{'_id': ObjectId('5c058ab23d54c00a19927810'), 'player': 'Agustín Guiffrey', 'club': 'Squad Club Atlético Patronato de la Juventud Católica', 'squad_num': '40', 'height': ' m', 'foot': 'left', 'birthday': 'Nov 3, 1997 (21)', 'transfer_value(sterlings)': '-'}\n",
      "{'_id': ObjectId('5c058ab23d54c00a19927811'), 'player': 'Lautaro Comas', 'club': 'Squad Club Atlético Patronato de la Juventud Católica', 'squad_num': '7', 'height': '1,72 m', 'foot': '-', 'birthday': 'Jan 15, 1995 (23)', 'transfer_value(sterlings)': '£135k'}\n",
      "{'_id': ObjectId('5c058ab23d54c00a19927812'), 'player': 'Facundo Barcelo', 'club': 'Squad Club Atlético Patronato de la Juventud Católica', 'squad_num': '31', 'height': '1,78 m', 'foot': 'right', 'birthday': 'Mar 31, 1993 (25)', 'transfer_value(sterlings)': '£450k'}\n",
      "{'_id': ObjectId('5c058ab23d54c00a19927813'), 'player': 'Matías Fonseca', 'club': 'Squad Club Atlético Patronato de la Juventud Católica', 'squad_num': '41', 'height': '1,73 m', 'foot': 'right', 'birthday': 'Oct 4, 1995 (23)', 'transfer_value(sterlings)': '-'}\n",
      "{'_id': ObjectId('5c058ab23d54c00a19927814'), 'player': 'Federico Costa', 'club': 'Squad Club Atlético Patronato de la Juventud Católica', 'squad_num': '21', 'height': '1,88 m', 'foot': 'right', 'birthday': 'Oct 8, 1988 (30)', 'transfer_value(sterlings)': '£90k'}\n",
      "{'_id': ObjectId('5c058ab23d54c00a19927815'), 'player': 'Matías Escudero', 'club': 'Squad Club Atlético Patronato de la Juventud Católica', 'squad_num': '6', 'height': '1,76 m', 'foot': 'right', 'birthday': 'Dec 15, 1988 (29)', 'transfer_value(sterlings)': '£450k'}\n",
      "{'_id': ObjectId('5c058ab23d54c00a19927816'), 'player': 'Renzo Vera', 'club': 'Squad Club Atlético Patronato de la Juventud Católica', 'squad_num': '33', 'height': '1,83 m', 'foot': 'right', 'birthday': 'Jun 1, 1983 (35)', 'transfer_value(sterlings)': '£158k'}\n",
      "{'_id': ObjectId('5c058ab23d54c00a19927817'), 'player': 'Nicolás Pantaleone', 'club': 'Squad Club Atlético Patronato de la Juventud Católica', 'squad_num': '20', 'height': '1,79 m', 'foot': 'left', 'birthday': 'Feb 18, 1993 (25)', 'transfer_value(sterlings)': '£203k'}\n",
      "{'_id': ObjectId('5c058ab23d54c00a19927818'), 'player': 'Martín Aruga', 'club': 'Squad Club Atlético Patronato de la Juventud Católica', 'squad_num': '-', 'height': ' m', 'foot': '-', 'birthday': 'Oct 4, 1998 (20)', 'transfer_value(sterlings)': '-'}\n",
      "{'_id': ObjectId('5c058ab23d54c00a19927819'), 'player': 'Lautaro Geminiani', 'club': 'Squad Club Atlético Patronato de la Juventud Católica', 'squad_num': '4', 'height': '1,78 m', 'foot': 'right', 'birthday': 'Mar 2, 1991 (27)', 'transfer_value(sterlings)': '£225k'}\n",
      "{'_id': ObjectId('5c058ab23d54c00a1992781a'), 'player': 'Damián Lemos', 'club': 'Squad Club Atlético Patronato de la Juventud Católica', 'squad_num': '24', 'height': '1,78 m', 'foot': 'right', 'birthday': 'Jan 31, 1989 (29)', 'transfer_value(sterlings)': '£225k'}\n",
      "{'_id': ObjectId('5c058ab23d54c00a1992781b'), 'player': 'Santiago Briñone', 'club': 'Squad Club Atlético Patronato de la Juventud Católica', 'squad_num': '25', 'height': ' m', 'foot': '-', 'birthday': 'Dec 28, 1996 (21)', 'transfer_value(sterlings)': '-'}\n",
      "{'_id': ObjectId('5c058ab23d54c00a1992781c'), 'player': 'Abel Peralta', 'club': 'Squad Club Atlético Patronato de la Juventud Católica', 'squad_num': '17', 'height': '1,80 m', 'foot': 'right', 'birthday': 'Sep 17, 1989 (29)', 'transfer_value(sterlings)': '£180k'}\n",
      "{'_id': ObjectId('5c058ab23d54c00a1992781d'), 'player': 'Matías Garrido', 'club': 'Squad Club Atlético Patronato de la Juventud Católica', 'squad_num': '10', 'height': '1,70 m', 'foot': 'right', 'birthday': 'Feb 2, 1986 (32)', 'transfer_value(sterlings)': '£180k'}\n",
      "{'_id': ObjectId('5c058ab23d54c00a1992781e'), 'player': 'Mauricio Sperduti', 'club': 'Squad Club Atlético Patronato de la Juventud Católica', 'squad_num': '14', 'height': '1,80 m', 'foot': 'right', 'birthday': 'Feb 16, 1986 (32)', 'transfer_value(sterlings)': '£450k'}\n",
      "{'_id': ObjectId('5c058ab23d54c00a1992781f'), 'player': 'Ezequiel Rescaldani', 'club': 'Squad Club Atlético Patronato de la Juventud Católica', 'squad_num': '29', 'height': '1,92 m', 'foot': 'right', 'birthday': 'Jun 11, 1992 (26)', 'transfer_value(sterlings)': '£450k'}\n",
      "{'_id': ObjectId('5c058ab23d54c00a19927820'), 'player': 'Nicolás Royón', 'club': 'Squad Club Atlético Patronato de la Juventud Católica', 'squad_num': '32', 'height': '1,72 m', 'foot': 'right', 'birthday': 'Jan 28, 1991 (27)', 'transfer_value(sterlings)': '£270k'}\n"
     ]
    }
   ],
   "source": [
    "frame = pd.DataFrame(['_id', 'birthday', 'club', 'foot', 'height', 'player', 'squad_num',\n",
    "       'transfer_value(sterlings)'])\n"
   ]
  },
  {
   "cell_type": "code",
   "execution_count": 218,
   "metadata": {},
   "outputs": [],
   "source": [
    "test = players[0]"
   ]
  },
  {
   "cell_type": "code",
   "execution_count": 234,
   "metadata": {},
   "outputs": [
    {
     "data": {
      "text/plain": [
       "Index(['_id', 'birthday', 'club', 'foot', 'height', 'player', 'squad_num',\n",
       "       'transfer_value(sterlings)'],\n",
       "      dtype='object')"
      ]
     },
     "execution_count": 234,
     "metadata": {},
     "output_type": "execute_result"
    }
   ],
   "source": [
    "pd.DataFrame([player]).columns"
   ]
  },
  {
   "cell_type": "code",
   "execution_count": null,
   "metadata": {},
   "outputs": [],
   "source": []
  },
  {
   "cell_type": "code",
   "execution_count": null,
   "metadata": {},
   "outputs": [],
   "source": []
  },
  {
   "cell_type": "code",
   "execution_count": null,
   "metadata": {},
   "outputs": [],
   "source": []
  }
 ],
 "metadata": {
  "kernelspec": {
   "display_name": "Python 3",
   "language": "python",
   "name": "python3"
  },
  "language_info": {
   "codemirror_mode": {
    "name": "ipython",
    "version": 3
   },
   "file_extension": ".py",
   "mimetype": "text/x-python",
   "name": "python",
   "nbconvert_exporter": "python",
   "pygments_lexer": "ipython3",
   "version": "3.6.6"
  }
 },
 "nbformat": 4,
 "nbformat_minor": 2
}
