{
 "cells": [
  {
   "cell_type": "code",
   "execution_count": 1,
   "metadata": {},
   "outputs": [],
   "source": [
    "from selenium.webdriver import (Chrome, Firefox)\n",
    "import time\n",
    "\n",
    "import requests\n",
    "from bs4 import BeautifulSoup"
   ]
  },
  {
   "cell_type": "code",
   "execution_count": 7,
   "metadata": {},
   "outputs": [],
   "source": [
    "browser = Firefox()"
   ]
  },
  {
   "cell_type": "code",
   "execution_count": 8,
   "metadata": {},
   "outputs": [],
   "source": [
    "url = 'https://www.transfermarkt.co.uk/primera-division/startseite/wettbewerb/AR1N'"
   ]
  },
  {
   "cell_type": "code",
   "execution_count": 9,
   "metadata": {},
   "outputs": [],
   "source": [
    "browser.get(url)"
   ]
  },
  {
   "cell_type": "markdown",
   "metadata": {},
   "source": [
    "hrefs:\n",
    "\n",
    "'https://www.transfermarkt.co.uk/club-atletico-boca-juniors/startseite/verein/189/saison_id/2018'\n",
    "\n",
    "'https://www.transfermarkt.co.uk/ca-independiente-de-avellaneda/startseite/verein/1234/saison_id/2018'\n",
    "\n",
    "\n",
    "\n"
   ]
  },
  {
   "cell_type": "code",
   "execution_count": null,
   "metadata": {},
   "outputs": [],
   "source": []
  },
  {
   "cell_type": "code",
   "execution_count": null,
   "metadata": {},
   "outputs": [],
   "source": []
  },
  {
   "cell_type": "code",
   "execution_count": 30,
   "metadata": {},
   "outputs": [],
   "source": [
    "elems = browser.find_elements_by_class_name(\"vereinprofil_tooltip\")\n",
    "\n",
    "url_links = []\n",
    "for elem in elems:\n",
    "    if elem.get_attribute(\"href\") not in url_links:\n",
    "        url_links.append(elem.get_attribute(\"href\"))"
   ]
  },
  {
   "cell_type": "code",
   "execution_count": 32,
   "metadata": {},
   "outputs": [
    {
     "data": {
      "text/plain": [
       "63"
      ]
     },
     "execution_count": 32,
     "metadata": {},
     "output_type": "execute_result"
    }
   ],
   "source": [
    "len(url_links)"
   ]
  },
  {
   "cell_type": "code",
   "execution_count": 34,
   "metadata": {},
   "outputs": [],
   "source": [
    "url_transfers = []\n",
    "for url in url_links:\n",
    "    if 'startseite' in url:\n",
    "        url_transfers.append(url)"
   ]
  },
  {
   "cell_type": "code",
   "execution_count": 36,
   "metadata": {},
   "outputs": [
    {
     "data": {
      "text/plain": [
       "26"
      ]
     },
     "execution_count": 36,
     "metadata": {},
     "output_type": "execute_result"
    }
   ],
   "source": [
    "len(url_transfers)"
   ]
  },
  {
   "cell_type": "code",
   "execution_count": 37,
   "metadata": {},
   "outputs": [
    {
     "data": {
      "text/plain": [
       "['https://www.transfermarkt.co.uk/club-atletico-boca-juniors/startseite/verein/189/saison_id/2018',\n",
       " 'https://www.transfermarkt.co.uk/ca-independiente-de-avellaneda/startseite/verein/1234/saison_id/2018',\n",
       " 'https://www.transfermarkt.co.uk/club-atletico-river-plate/startseite/verein/209/saison_id/2018',\n",
       " 'https://www.transfermarkt.co.uk/racing-club-de-avellaneda/startseite/verein/1444/saison_id/2018',\n",
       " 'https://www.transfermarkt.co.uk/club-atletico-san-lorenzo-de-almagro/startseite/verein/1775/saison_id/2018',\n",
       " 'https://www.transfermarkt.co.uk/club-atletico-lanus/startseite/verein/333/saison_id/2018',\n",
       " 'https://www.transfermarkt.co.uk/club-atletico-velez-sarsfield/startseite/verein/1029/saison_id/2018',\n",
       " 'https://www.transfermarkt.co.uk/club-deportivo-godoy-cruz/startseite/verein/12574/saison_id/2018',\n",
       " 'https://www.transfermarkt.co.uk/club-atletico-colon-santa-fe-/startseite/verein/1070/saison_id/2018',\n",
       " 'https://www.transfermarkt.co.uk/defensa-y-justicia/startseite/verein/2402/saison_id/2018',\n",
       " 'https://www.transfermarkt.co.uk/club-atletico-rosario-central/startseite/verein/1418/saison_id/2018',\n",
       " 'https://www.transfermarkt.co.uk/talleres-de-cordoba-ca/startseite/verein/3938/saison_id/2018',\n",
       " 'https://www.transfermarkt.co.uk/ca-union-santa-fe/startseite/verein/7097/saison_id/2018',\n",
       " 'https://www.transfermarkt.co.uk/estudiantes-de-la-plata/startseite/verein/288/saison_id/2018',\n",
       " 'https://www.transfermarkt.co.uk/club-atletico-huracan/startseite/verein/2063/saison_id/2018',\n",
       " 'https://www.transfermarkt.co.uk/argentinos-juniors/startseite/verein/1030/saison_id/2018',\n",
       " 'https://www.transfermarkt.co.uk/club-atletico-banfield/startseite/verein/830/saison_id/2018',\n",
       " 'https://www.transfermarkt.co.uk/belgrano-de-cordoba/startseite/verein/2417/saison_id/2018',\n",
       " 'https://www.transfermarkt.co.uk/club-atletico-tigre/startseite/verein/11831/saison_id/2018',\n",
       " 'https://www.transfermarkt.co.uk/club-atletico-newells-old-boys/startseite/verein/1286/saison_id/2018',\n",
       " 'https://www.transfermarkt.co.uk/club-atletico-tucuman/startseite/verein/14554/saison_id/2018',\n",
       " 'https://www.transfermarkt.co.uk/club-de-gimnasia-y-esgrima-la-plata/startseite/verein/1106/saison_id/2018',\n",
       " 'https://www.transfermarkt.co.uk/club-atletico-aldosivi-mdp-/startseite/verein/12301/saison_id/2018',\n",
       " 'https://www.transfermarkt.co.uk/club-atletico-san-martin-sj-/startseite/verein/10511/saison_id/2018',\n",
       " 'https://www.transfermarkt.co.uk/club-atletico-san-martin-tucuman-/startseite/verein/12709/saison_id/2018',\n",
       " 'https://www.transfermarkt.co.uk/club-atletico-patronato/startseite/verein/19806/saison_id/2018']"
      ]
     },
     "execution_count": 37,
     "metadata": {},
     "output_type": "execute_result"
    }
   ],
   "source": [
    "url_transfers"
   ]
  },
  {
   "cell_type": "code",
   "execution_count": 38,
   "metadata": {},
   "outputs": [],
   "source": [
    "test = url_transfers[0]"
   ]
  },
  {
   "cell_type": "code",
   "execution_count": 39,
   "metadata": {},
   "outputs": [],
   "source": [
    "browser.get(test)"
   ]
  },
  {
   "cell_type": "code",
   "execution_count": 40,
   "metadata": {},
   "outputs": [],
   "source": [
    "next_url = 'https://www.transfermarkt.co.uk/club-atletico-boca-juniors/kader/verein/189/saison_id/2018/plus/1'"
   ]
  },
  {
   "cell_type": "markdown",
   "metadata": {},
   "source": [
    "see if the only difference is \"kader\" instead of \"startseite\" and then \"plus/1\" at the end"
   ]
  },
  {
   "cell_type": "code",
   "execution_count": null,
   "metadata": {},
   "outputs": [],
   "source": []
  }
 ],
 "metadata": {
  "kernelspec": {
   "display_name": "Python 3",
   "language": "python",
   "name": "python3"
  },
  "language_info": {
   "codemirror_mode": {
    "name": "ipython",
    "version": 3
   },
   "file_extension": ".py",
   "mimetype": "text/x-python",
   "name": "python",
   "nbconvert_exporter": "python",
   "pygments_lexer": "ipython3",
   "version": "3.6.6"
  }
 },
 "nbformat": 4,
 "nbformat_minor": 2
}
