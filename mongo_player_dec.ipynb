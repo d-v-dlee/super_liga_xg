{
 "cells": [
  {
   "cell_type": "code",
   "execution_count": 42,
   "metadata": {},
   "outputs": [],
   "source": [
    "import pprint\n",
    "import json\n",
    "import pandas as pd\n",
    "import numpy as np\n",
    "import matplotlib.pyplot as plt\n",
    "from json_shot_scraper import flatten_shot, flatten_goal, flatten_complete_pass, flatten_incomplete_pass, flatten_corner\n",
    "from  player_scraper import flatten_player, flatten_sub\n",
    "from dataframe_cleaner import (pass_to_shot, corner_to_shot, transpose_coordinates, coord_to_yards, \n",
    "                               shot_distance_angle, dummy_columns, drop_own_goals, goal_dummy)\n",
    "from model_prep import create_hypothetical_df\n",
    "from transfer_market_scraper import flatten_player_info"
   ]
  },
  {
   "cell_type": "code",
   "execution_count": 4,
   "metadata": {},
   "outputs": [],
   "source": [
    "pd.set_option('display.max_columns', 50)"
   ]
  },
  {
   "cell_type": "code",
   "execution_count": 63,
   "metadata": {},
   "outputs": [],
   "source": [
    "from html_scraper import db\n",
    "from mongo_to_db import game_to_cleaned_df, create_frame, create_master_df, create_master_player_min_df\n",
    "import string"
   ]
  },
  {
   "cell_type": "markdown",
   "metadata": {},
   "source": [
    "# players to match up data with"
   ]
  },
  {
   "cell_type": "code",
   "execution_count": 13,
   "metadata": {},
   "outputs": [],
   "source": [
    "games = db.games.find()\n",
    "players_minutes_df = create_master_player_min_df(games)"
   ]
  },
  {
   "cell_type": "code",
   "execution_count": 244,
   "metadata": {},
   "outputs": [
    {
     "data": {
      "text/plain": [
       "array([22., 12., 24.,  6., 29., 34.,  4., 15., 16., 30., 28.,  8., 23.,\n",
       "       10., 11., 26.,  9., 33., nan, 13., 20., 21.,  5., 18., 31.,  7.,\n",
       "       19.,  3., 14., 25.,  2., 27., 41., 40., 37., 32.,  1., 17., 39.,\n",
       "       38., 87., 35., 36., 42., 43.])"
      ]
     },
     "execution_count": 244,
     "metadata": {},
     "output_type": "execute_result"
    }
   ],
   "source": [
    "players_minutes_df['squad_number'].unique()"
   ]
  },
  {
   "cell_type": "code",
   "execution_count": 245,
   "metadata": {},
   "outputs": [
    {
     "data": {
      "text/html": [
       "<div>\n",
       "<style scoped>\n",
       "    .dataframe tbody tr th:only-of-type {\n",
       "        vertical-align: middle;\n",
       "    }\n",
       "\n",
       "    .dataframe tbody tr th {\n",
       "        vertical-align: top;\n",
       "    }\n",
       "\n",
       "    .dataframe thead th {\n",
       "        text-align: right;\n",
       "    }\n",
       "</style>\n",
       "<table border=\"1\" class=\"dataframe\">\n",
       "  <thead>\n",
       "    <tr style=\"text-align: right;\">\n",
       "      <th></th>\n",
       "      <th>game_id</th>\n",
       "      <th>name</th>\n",
       "      <th>player_id</th>\n",
       "      <th>position_id</th>\n",
       "      <th>squad_number</th>\n",
       "      <th>substitute</th>\n",
       "      <th>team_id</th>\n",
       "      <th>minutes_played</th>\n",
       "    </tr>\n",
       "  </thead>\n",
       "  <tbody>\n",
       "    <tr>\n",
       "      <th>0</th>\n",
       "      <td>448548</td>\n",
       "      <td>Alexander Domínguez</td>\n",
       "      <td>19132.0</td>\n",
       "      <td>1</td>\n",
       "      <td>22.0</td>\n",
       "      <td>False</td>\n",
       "      <td>20</td>\n",
       "      <td>90.0</td>\n",
       "    </tr>\n",
       "    <tr>\n",
       "      <th>1</th>\n",
       "      <td>448548</td>\n",
       "      <td>Lucas Hoyos</td>\n",
       "      <td>27987.0</td>\n",
       "      <td>1</td>\n",
       "      <td>12.0</td>\n",
       "      <td>True</td>\n",
       "      <td>20</td>\n",
       "      <td>0.0</td>\n",
       "    </tr>\n",
       "    <tr>\n",
       "      <th>2</th>\n",
       "      <td>448548</td>\n",
       "      <td>Gastón Díaz</td>\n",
       "      <td>30896.0</td>\n",
       "      <td>2</td>\n",
       "      <td>24.0</td>\n",
       "      <td>False</td>\n",
       "      <td>20</td>\n",
       "      <td>90.0</td>\n",
       "    </tr>\n",
       "    <tr>\n",
       "      <th>3</th>\n",
       "      <td>448548</td>\n",
       "      <td>Joaquín Laso</td>\n",
       "      <td>94225.0</td>\n",
       "      <td>2</td>\n",
       "      <td>6.0</td>\n",
       "      <td>False</td>\n",
       "      <td>20</td>\n",
       "      <td>90.0</td>\n",
       "    </tr>\n",
       "    <tr>\n",
       "      <th>4</th>\n",
       "      <td>448548</td>\n",
       "      <td>Luis Abram</td>\n",
       "      <td>99779.0</td>\n",
       "      <td>2</td>\n",
       "      <td>29.0</td>\n",
       "      <td>False</td>\n",
       "      <td>20</td>\n",
       "      <td>90.0</td>\n",
       "    </tr>\n",
       "  </tbody>\n",
       "</table>\n",
       "</div>"
      ],
      "text/plain": [
       "  game_id                 name  player_id position_id  squad_number  \\\n",
       "0  448548  Alexander Domínguez    19132.0           1          22.0   \n",
       "1  448548          Lucas Hoyos    27987.0           1          12.0   \n",
       "2  448548          Gastón Díaz    30896.0           2          24.0   \n",
       "3  448548         Joaquín Laso    94225.0           2           6.0   \n",
       "4  448548           Luis Abram    99779.0           2          29.0   \n",
       "\n",
       "  substitute team_id  minutes_played  \n",
       "0      False      20            90.0  \n",
       "1       True      20             0.0  \n",
       "2      False      20            90.0  \n",
       "3      False      20            90.0  \n",
       "4      False      20            90.0  "
      ]
     },
     "execution_count": 245,
     "metadata": {},
     "output_type": "execute_result"
    }
   ],
   "source": [
    "players_minutes_df.head()"
   ]
  },
  {
   "cell_type": "code",
   "execution_count": 247,
   "metadata": {},
   "outputs": [],
   "source": [
    "names = players_minutes_df['name'].unique()"
   ]
  },
  {
   "cell_type": "code",
   "execution_count": 291,
   "metadata": {},
   "outputs": [],
   "source": [
    "afa_team_dict = {20: 'VEL', 13: 'NOB', 136: 'TIG', 19: 'SLO', 8: 'GIM', 2: 'ARG',\n",
    " 137: 'UNI', 122: 'ALD', 869: 'PA', 6: 'COL', 124: 'BEL', 134: 'SMS',\n",
    " 5: 'BOC', 135: 'TAL', 132: 'GOD', 7: 'EST', 12: 'LAN', 129: 'DEF',\n",
    " 18: 'ROS', 4: 'BAN', 100: 'HUR', 17: 'RIV', 815: 'ATT', 16: 'RAC', 10: 'IND',\n",
    " 490: 'SMT'}"
   ]
  },
  {
   "cell_type": "code",
   "execution_count": 292,
   "metadata": {},
   "outputs": [
    {
     "data": {
      "text/plain": [
       "26"
      ]
     },
     "execution_count": 292,
     "metadata": {},
     "output_type": "execute_result"
    }
   ],
   "source": [
    "len(afa_team_dict)"
   ]
  },
  {
   "cell_type": "code",
   "execution_count": 262,
   "metadata": {},
   "outputs": [],
   "source": [
    "team_dict = [{'team_id': '20', 'team_intitials': 'VEL', 'short_name': 'Vélez'},\n",
    " {'team_id': '13', 'team_intitials': 'NOB', 'short_name': 'Newell`s'},\n",
    " {'team_id': '136', 'team_intitials': 'TIG', 'short_name': 'Tigre'},\n",
    " {'team_id': '19', 'team_intitials': 'SLO', 'short_name': 'San Lorenzo'},\n",
    " {'team_id': '8', 'team_intitials': 'GIM', 'short_name': 'Gimnasia'},\n",
    " {'team_id': '2', 'team_intitials': 'ARG', 'short_name': 'Argentinos'},\n",
    " {'team_id': '137', 'team_intitials': 'UNI', 'short_name': 'Unión'},\n",
    " {'team_id': '122', 'team_intitials': 'ALD', 'short_name': 'Aldosivi'},\n",
    " {'team_id': '869', 'team_intitials': 'PA', 'short_name': 'Patronato'},\n",
    " {'team_id': '6', 'team_intitials': 'COL', 'short_name': 'Colón'},\n",
    " {'team_id': '124', 'team_intitials': 'BEL', 'short_name': 'Belgrano'},\n",
    " {'team_id': '134', 'team_intitials': 'SMS', 'short_name': 'S. Martín SJ'},\n",
    " {'team_id': '5', 'team_intitials': 'BOC', 'short_name': 'Boca'},\n",
    " {'team_id': '135', 'team_intitials': 'TAL', 'short_name': 'Talleres'},\n",
    " {'team_id': '132', 'team_intitials': 'GOD', 'short_name': 'Godoy Cruz'},\n",
    " {'team_id': '7', 'team_intitials': 'EST', 'short_name': 'Estudiantes'},\n",
    " {'team_id': '12', 'team_intitials': 'LAN', 'short_name': 'Lanús'},\n",
    " {'team_id': '129', 'team_intitials': 'DEF', 'short_name': 'Defensa'},\n",
    " {'team_id': '18', 'team_intitials': 'ROS', 'short_name': 'R. Central'},\n",
    " {'team_id': '4', 'team_intitials': 'BAN', 'short_name': 'Banfield'},\n",
    " {'team_id': '100', 'team_intitials': 'HUR', 'short_name': 'Huracán'},\n",
    " {'team_id': '17', 'team_intitials': 'RIV', 'short_name': 'River'},\n",
    " {'team_id': '815', 'team_intitials': 'ATT', 'short_name': 'Atl. Tucumán'},\n",
    " {'team_id': '16', 'team_intitials': 'RAC', 'short_name': 'Racing'},\n",
    " {'team_id': '10', 'team_intitials': 'IND', 'short_name': 'Independiente'},\n",
    " {'team_id': '490', 'team_intitials': 'SMT', 'short_name': 'S. Martín T'}]"
   ]
  },
  {
   "cell_type": "code",
   "execution_count": 293,
   "metadata": {},
   "outputs": [],
   "source": [
    "players_minutes_df['club_brev'] = players_minutes_df['team_id'].map(afa_team_dict)"
   ]
  },
  {
   "cell_type": "code",
   "execution_count": 295,
   "metadata": {},
   "outputs": [
    {
     "data": {
      "text/html": [
       "<div>\n",
       "<style scoped>\n",
       "    .dataframe tbody tr th:only-of-type {\n",
       "        vertical-align: middle;\n",
       "    }\n",
       "\n",
       "    .dataframe tbody tr th {\n",
       "        vertical-align: top;\n",
       "    }\n",
       "\n",
       "    .dataframe thead th {\n",
       "        text-align: right;\n",
       "    }\n",
       "</style>\n",
       "<table border=\"1\" class=\"dataframe\">\n",
       "  <thead>\n",
       "    <tr style=\"text-align: right;\">\n",
       "      <th></th>\n",
       "      <th>game_id</th>\n",
       "      <th>name</th>\n",
       "      <th>player_id</th>\n",
       "      <th>position_id</th>\n",
       "      <th>squad_number</th>\n",
       "      <th>substitute</th>\n",
       "      <th>team_id</th>\n",
       "      <th>minutes_played</th>\n",
       "      <th>club_brev</th>\n",
       "    </tr>\n",
       "  </thead>\n",
       "  <tbody>\n",
       "    <tr>\n",
       "      <th>0</th>\n",
       "      <td>448548</td>\n",
       "      <td>Alexander Domínguez</td>\n",
       "      <td>19132.0</td>\n",
       "      <td>1</td>\n",
       "      <td>22.0</td>\n",
       "      <td>False</td>\n",
       "      <td>20</td>\n",
       "      <td>90.0</td>\n",
       "      <td>VEL</td>\n",
       "    </tr>\n",
       "    <tr>\n",
       "      <th>1</th>\n",
       "      <td>448548</td>\n",
       "      <td>Lucas Hoyos</td>\n",
       "      <td>27987.0</td>\n",
       "      <td>1</td>\n",
       "      <td>12.0</td>\n",
       "      <td>True</td>\n",
       "      <td>20</td>\n",
       "      <td>0.0</td>\n",
       "      <td>VEL</td>\n",
       "    </tr>\n",
       "    <tr>\n",
       "      <th>2</th>\n",
       "      <td>448548</td>\n",
       "      <td>Gastón Díaz</td>\n",
       "      <td>30896.0</td>\n",
       "      <td>2</td>\n",
       "      <td>24.0</td>\n",
       "      <td>False</td>\n",
       "      <td>20</td>\n",
       "      <td>90.0</td>\n",
       "      <td>VEL</td>\n",
       "    </tr>\n",
       "    <tr>\n",
       "      <th>3</th>\n",
       "      <td>448548</td>\n",
       "      <td>Joaquín Laso</td>\n",
       "      <td>94225.0</td>\n",
       "      <td>2</td>\n",
       "      <td>6.0</td>\n",
       "      <td>False</td>\n",
       "      <td>20</td>\n",
       "      <td>90.0</td>\n",
       "      <td>VEL</td>\n",
       "    </tr>\n",
       "    <tr>\n",
       "      <th>4</th>\n",
       "      <td>448548</td>\n",
       "      <td>Luis Abram</td>\n",
       "      <td>99779.0</td>\n",
       "      <td>2</td>\n",
       "      <td>29.0</td>\n",
       "      <td>False</td>\n",
       "      <td>20</td>\n",
       "      <td>90.0</td>\n",
       "      <td>VEL</td>\n",
       "    </tr>\n",
       "  </tbody>\n",
       "</table>\n",
       "</div>"
      ],
      "text/plain": [
       "  game_id                 name  player_id position_id  squad_number  \\\n",
       "0  448548  Alexander Domínguez    19132.0           1          22.0   \n",
       "1  448548          Lucas Hoyos    27987.0           1          12.0   \n",
       "2  448548          Gastón Díaz    30896.0           2          24.0   \n",
       "3  448548         Joaquín Laso    94225.0           2           6.0   \n",
       "4  448548           Luis Abram    99779.0           2          29.0   \n",
       "\n",
       "  substitute team_id  minutes_played club_brev  \n",
       "0      False      20            90.0       VEL  \n",
       "1       True      20             0.0       VEL  \n",
       "2      False      20            90.0       VEL  \n",
       "3      False      20            90.0       VEL  \n",
       "4      False      20            90.0       VEL  "
      ]
     },
     "execution_count": 295,
     "metadata": {},
     "output_type": "execute_result"
    }
   ],
   "source": [
    "players_minutes_df.head()"
   ]
  },
  {
   "cell_type": "markdown",
   "metadata": {},
   "source": [
    "# Transfer Market Data"
   ]
  },
  {
   "cell_type": "code",
   "execution_count": 237,
   "metadata": {},
   "outputs": [],
   "source": [
    "players = db.players.find()"
   ]
  },
  {
   "cell_type": "code",
   "execution_count": 238,
   "metadata": {},
   "outputs": [],
   "source": [
    "master_list = []\n",
    "for player in players:\n",
    "    master_list.append(player)"
   ]
  },
  {
   "cell_type": "code",
   "execution_count": 240,
   "metadata": {},
   "outputs": [],
   "source": [
    "tm_player = pd.DataFrame(master_list)\n"
   ]
  },
  {
   "cell_type": "code",
   "execution_count": 241,
   "metadata": {},
   "outputs": [
    {
     "data": {
      "text/html": [
       "<div>\n",
       "<style scoped>\n",
       "    .dataframe tbody tr th:only-of-type {\n",
       "        vertical-align: middle;\n",
       "    }\n",
       "\n",
       "    .dataframe tbody tr th {\n",
       "        vertical-align: top;\n",
       "    }\n",
       "\n",
       "    .dataframe thead th {\n",
       "        text-align: right;\n",
       "    }\n",
       "</style>\n",
       "<table border=\"1\" class=\"dataframe\">\n",
       "  <thead>\n",
       "    <tr style=\"text-align: right;\">\n",
       "      <th></th>\n",
       "      <th>_id</th>\n",
       "      <th>birthday</th>\n",
       "      <th>club</th>\n",
       "      <th>foot</th>\n",
       "      <th>height</th>\n",
       "      <th>player</th>\n",
       "      <th>squad_num</th>\n",
       "      <th>transfer_value(sterlings)</th>\n",
       "    </tr>\n",
       "  </thead>\n",
       "  <tbody>\n",
       "    <tr>\n",
       "      <th>0</th>\n",
       "      <td>5c0588e63d54c00a19927577</td>\n",
       "      <td>Jan 26, 1991 (27)</td>\n",
       "      <td>Squad Club Atlético Boca Juniors</td>\n",
       "      <td>right</td>\n",
       "      <td>1,94 m</td>\n",
       "      <td>Esteban Andrada</td>\n",
       "      <td>31</td>\n",
       "      <td>£4.50m</td>\n",
       "    </tr>\n",
       "    <tr>\n",
       "      <th>1</th>\n",
       "      <td>5c0588e73d54c00a19927578</td>\n",
       "      <td>Mar 17, 1987 (31)</td>\n",
       "      <td>Squad Club Atlético Boca Juniors</td>\n",
       "      <td>right</td>\n",
       "      <td>1,92 m</td>\n",
       "      <td>Carlos Lampe</td>\n",
       "      <td>28</td>\n",
       "      <td>£495k</td>\n",
       "    </tr>\n",
       "    <tr>\n",
       "      <th>2</th>\n",
       "      <td>5c0588e73d54c00a19927579</td>\n",
       "      <td>Sep 27, 1993 (25)</td>\n",
       "      <td>Squad Club Atlético Boca Juniors</td>\n",
       "      <td>right</td>\n",
       "      <td>1,85 m</td>\n",
       "      <td>Lisandro Magallán</td>\n",
       "      <td>6</td>\n",
       "      <td>£4.05m</td>\n",
       "    </tr>\n",
       "    <tr>\n",
       "      <th>3</th>\n",
       "      <td>5c0588e73d54c00a1992757a</td>\n",
       "      <td>May 12, 1985 (33)</td>\n",
       "      <td>Squad Club Atlético Boca Juniors</td>\n",
       "      <td>right</td>\n",
       "      <td>1,84 m</td>\n",
       "      <td>Paolo Goltz</td>\n",
       "      <td>2</td>\n",
       "      <td>£1.62m</td>\n",
       "    </tr>\n",
       "    <tr>\n",
       "      <th>4</th>\n",
       "      <td>5c0588e73d54c00a1992757b</td>\n",
       "      <td>Feb 22, 1991 (27)</td>\n",
       "      <td>Squad Club Atlético Boca Juniors</td>\n",
       "      <td>left</td>\n",
       "      <td>1,73 m</td>\n",
       "      <td>Frank Fabra</td>\n",
       "      <td>18</td>\n",
       "      <td>£5.40m</td>\n",
       "    </tr>\n",
       "  </tbody>\n",
       "</table>\n",
       "</div>"
      ],
      "text/plain": [
       "                        _id           birthday  \\\n",
       "0  5c0588e63d54c00a19927577  Jan 26, 1991 (27)   \n",
       "1  5c0588e73d54c00a19927578  Mar 17, 1987 (31)   \n",
       "2  5c0588e73d54c00a19927579  Sep 27, 1993 (25)   \n",
       "3  5c0588e73d54c00a1992757a  May 12, 1985 (33)   \n",
       "4  5c0588e73d54c00a1992757b  Feb 22, 1991 (27)   \n",
       "\n",
       "                               club   foot  height             player  \\\n",
       "0  Squad Club Atlético Boca Juniors  right  1,94 m    Esteban Andrada   \n",
       "1  Squad Club Atlético Boca Juniors  right  1,92 m       Carlos Lampe   \n",
       "2  Squad Club Atlético Boca Juniors  right  1,85 m  Lisandro Magallán   \n",
       "3  Squad Club Atlético Boca Juniors  right  1,84 m        Paolo Goltz   \n",
       "4  Squad Club Atlético Boca Juniors   left  1,73 m        Frank Fabra   \n",
       "\n",
       "  squad_num transfer_value(sterlings)  \n",
       "0        31                    £4.50m  \n",
       "1        28                     £495k  \n",
       "2         6                    £4.05m  \n",
       "3         2                    £1.62m  \n",
       "4        18                    £5.40m  "
      ]
     },
     "execution_count": 241,
     "metadata": {},
     "output_type": "execute_result"
    }
   ],
   "source": [
    "tm_player.head()"
   ]
  },
  {
   "cell_type": "markdown",
   "metadata": {},
   "source": [
    "### Turn squad numbers into floats..."
   ]
  },
  {
   "cell_type": "code",
   "execution_count": 243,
   "metadata": {},
   "outputs": [
    {
     "data": {
      "text/plain": [
       "array(['31', '28', '6', '2', '18', '20', '29', '16', '15', '8', '30', '7',\n",
       "       '22', '19', '17', '1', '25', '24', '26', '3', '14', '4', '40', '5',\n",
       "       '39', '10', '11', '32', '9', '13', '-', '23', '21', '27', '41',\n",
       "       '34', '37', '12', '36', '38', '33', '35', '87'], dtype=object)"
      ]
     },
     "execution_count": 243,
     "metadata": {},
     "output_type": "execute_result"
    }
   ],
   "source": [
    "tm_player['squad_num'].unique()"
   ]
  },
  {
   "cell_type": "code",
   "execution_count": 300,
   "metadata": {},
   "outputs": [],
   "source": [
    "tm_player.loc[tm_player.squad_num == '-', 'squad_num'] = 99"
   ]
  },
  {
   "cell_type": "code",
   "execution_count": 278,
   "metadata": {},
   "outputs": [
    {
     "data": {
      "text/plain": [
       "array(['31', '28', '6', '2', '18', '20', '29', '16', '15', '8', '30', '7',\n",
       "       '22', '19', '17', '1', '25', '24', '26', '3', '14', '4', '40', '5',\n",
       "       '39', '10', '11', '32', '9', '13', '', '23', '21', '27', '41',\n",
       "       '34', '37', '12', '36', '38', '33', '35', '87'], dtype=object)"
      ]
     },
     "execution_count": 278,
     "metadata": {},
     "output_type": "execute_result"
    }
   ],
   "source": [
    "tm_player['squad_num'].unique()"
   ]
  },
  {
   "cell_type": "code",
   "execution_count": 299,
   "metadata": {},
   "outputs": [
    {
     "ename": "ValueError",
     "evalue": "invalid literal for int() with base 10: ''",
     "output_type": "error",
     "traceback": [
      "\u001b[0;31m---------------------------------------------------------------------------\u001b[0m",
      "\u001b[0;31mValueError\u001b[0m                                Traceback (most recent call last)",
      "\u001b[0;32m<ipython-input-299-3f63c0ea6cb4>\u001b[0m in \u001b[0;36m<module>\u001b[0;34m()\u001b[0m\n\u001b[0;32m----> 1\u001b[0;31m \u001b[0mtm_player\u001b[0m \u001b[0;34m=\u001b[0m \u001b[0mtm_player\u001b[0m\u001b[0;34m.\u001b[0m\u001b[0mastype\u001b[0m\u001b[0;34m(\u001b[0m\u001b[0;34m{\u001b[0m\u001b[0;34m'squad_num'\u001b[0m\u001b[0;34m:\u001b[0m \u001b[0mint\u001b[0m\u001b[0;34m}\u001b[0m\u001b[0;34m)\u001b[0m\u001b[0;34m\u001b[0m\u001b[0m\n\u001b[0m",
      "\u001b[0;32m~/anaconda3/lib/python3.6/site-packages/pandas/util/_decorators.py\u001b[0m in \u001b[0;36mwrapper\u001b[0;34m(*args, **kwargs)\u001b[0m\n\u001b[1;32m    176\u001b[0m                 \u001b[0;32melse\u001b[0m\u001b[0;34m:\u001b[0m\u001b[0;34m\u001b[0m\u001b[0m\n\u001b[1;32m    177\u001b[0m                     \u001b[0mkwargs\u001b[0m\u001b[0;34m[\u001b[0m\u001b[0mnew_arg_name\u001b[0m\u001b[0;34m]\u001b[0m \u001b[0;34m=\u001b[0m \u001b[0mnew_arg_value\u001b[0m\u001b[0;34m\u001b[0m\u001b[0m\n\u001b[0;32m--> 178\u001b[0;31m             \u001b[0;32mreturn\u001b[0m \u001b[0mfunc\u001b[0m\u001b[0;34m(\u001b[0m\u001b[0;34m*\u001b[0m\u001b[0margs\u001b[0m\u001b[0;34m,\u001b[0m \u001b[0;34m**\u001b[0m\u001b[0mkwargs\u001b[0m\u001b[0;34m)\u001b[0m\u001b[0;34m\u001b[0m\u001b[0m\n\u001b[0m\u001b[1;32m    179\u001b[0m         \u001b[0;32mreturn\u001b[0m \u001b[0mwrapper\u001b[0m\u001b[0;34m\u001b[0m\u001b[0m\n\u001b[1;32m    180\u001b[0m     \u001b[0;32mreturn\u001b[0m \u001b[0m_deprecate_kwarg\u001b[0m\u001b[0;34m\u001b[0m\u001b[0m\n",
      "\u001b[0;32m~/anaconda3/lib/python3.6/site-packages/pandas/core/generic.py\u001b[0m in \u001b[0;36mastype\u001b[0;34m(self, dtype, copy, errors, **kwargs)\u001b[0m\n\u001b[1;32m   4984\u001b[0m             \u001b[0;32mfor\u001b[0m \u001b[0mcol_name\u001b[0m\u001b[0;34m,\u001b[0m \u001b[0mcol\u001b[0m \u001b[0;32min\u001b[0m \u001b[0mself\u001b[0m\u001b[0;34m.\u001b[0m\u001b[0miteritems\u001b[0m\u001b[0;34m(\u001b[0m\u001b[0;34m)\u001b[0m\u001b[0;34m:\u001b[0m\u001b[0;34m\u001b[0m\u001b[0m\n\u001b[1;32m   4985\u001b[0m                 \u001b[0;32mif\u001b[0m \u001b[0mcol_name\u001b[0m \u001b[0;32min\u001b[0m \u001b[0mdtype\u001b[0m\u001b[0;34m:\u001b[0m\u001b[0;34m\u001b[0m\u001b[0m\n\u001b[0;32m-> 4986\u001b[0;31m                     \u001b[0mresults\u001b[0m\u001b[0;34m.\u001b[0m\u001b[0mappend\u001b[0m\u001b[0;34m(\u001b[0m\u001b[0mcol\u001b[0m\u001b[0;34m.\u001b[0m\u001b[0mastype\u001b[0m\u001b[0;34m(\u001b[0m\u001b[0mdtype\u001b[0m\u001b[0;34m[\u001b[0m\u001b[0mcol_name\u001b[0m\u001b[0;34m]\u001b[0m\u001b[0;34m,\u001b[0m \u001b[0mcopy\u001b[0m\u001b[0;34m=\u001b[0m\u001b[0mcopy\u001b[0m\u001b[0;34m)\u001b[0m\u001b[0;34m)\u001b[0m\u001b[0;34m\u001b[0m\u001b[0m\n\u001b[0m\u001b[1;32m   4987\u001b[0m                 \u001b[0;32melse\u001b[0m\u001b[0;34m:\u001b[0m\u001b[0;34m\u001b[0m\u001b[0m\n\u001b[1;32m   4988\u001b[0m                     \u001b[0mresults\u001b[0m\u001b[0;34m.\u001b[0m\u001b[0mappend\u001b[0m\u001b[0;34m(\u001b[0m\u001b[0mresults\u001b[0m\u001b[0;34m.\u001b[0m\u001b[0mappend\u001b[0m\u001b[0;34m(\u001b[0m\u001b[0mcol\u001b[0m\u001b[0;34m.\u001b[0m\u001b[0mcopy\u001b[0m\u001b[0;34m(\u001b[0m\u001b[0;34m)\u001b[0m \u001b[0;32mif\u001b[0m \u001b[0mcopy\u001b[0m \u001b[0;32melse\u001b[0m \u001b[0mcol\u001b[0m\u001b[0;34m)\u001b[0m\u001b[0;34m)\u001b[0m\u001b[0;34m\u001b[0m\u001b[0m\n",
      "\u001b[0;32m~/anaconda3/lib/python3.6/site-packages/pandas/util/_decorators.py\u001b[0m in \u001b[0;36mwrapper\u001b[0;34m(*args, **kwargs)\u001b[0m\n\u001b[1;32m    176\u001b[0m                 \u001b[0;32melse\u001b[0m\u001b[0;34m:\u001b[0m\u001b[0;34m\u001b[0m\u001b[0m\n\u001b[1;32m    177\u001b[0m                     \u001b[0mkwargs\u001b[0m\u001b[0;34m[\u001b[0m\u001b[0mnew_arg_name\u001b[0m\u001b[0;34m]\u001b[0m \u001b[0;34m=\u001b[0m \u001b[0mnew_arg_value\u001b[0m\u001b[0;34m\u001b[0m\u001b[0m\n\u001b[0;32m--> 178\u001b[0;31m             \u001b[0;32mreturn\u001b[0m \u001b[0mfunc\u001b[0m\u001b[0;34m(\u001b[0m\u001b[0;34m*\u001b[0m\u001b[0margs\u001b[0m\u001b[0;34m,\u001b[0m \u001b[0;34m**\u001b[0m\u001b[0mkwargs\u001b[0m\u001b[0;34m)\u001b[0m\u001b[0;34m\u001b[0m\u001b[0m\n\u001b[0m\u001b[1;32m    179\u001b[0m         \u001b[0;32mreturn\u001b[0m \u001b[0mwrapper\u001b[0m\u001b[0;34m\u001b[0m\u001b[0m\n\u001b[1;32m    180\u001b[0m     \u001b[0;32mreturn\u001b[0m \u001b[0m_deprecate_kwarg\u001b[0m\u001b[0;34m\u001b[0m\u001b[0m\n",
      "\u001b[0;32m~/anaconda3/lib/python3.6/site-packages/pandas/core/generic.py\u001b[0m in \u001b[0;36mastype\u001b[0;34m(self, dtype, copy, errors, **kwargs)\u001b[0m\n\u001b[1;32m   4995\u001b[0m             \u001b[0;31m# else, only a single dtype is given\u001b[0m\u001b[0;34m\u001b[0m\u001b[0;34m\u001b[0m\u001b[0m\n\u001b[1;32m   4996\u001b[0m             new_data = self._data.astype(dtype=dtype, copy=copy, errors=errors,\n\u001b[0;32m-> 4997\u001b[0;31m                                          **kwargs)\n\u001b[0m\u001b[1;32m   4998\u001b[0m             \u001b[0;32mreturn\u001b[0m \u001b[0mself\u001b[0m\u001b[0;34m.\u001b[0m\u001b[0m_constructor\u001b[0m\u001b[0;34m(\u001b[0m\u001b[0mnew_data\u001b[0m\u001b[0;34m)\u001b[0m\u001b[0;34m.\u001b[0m\u001b[0m__finalize__\u001b[0m\u001b[0;34m(\u001b[0m\u001b[0mself\u001b[0m\u001b[0;34m)\u001b[0m\u001b[0;34m\u001b[0m\u001b[0m\n\u001b[1;32m   4999\u001b[0m \u001b[0;34m\u001b[0m\u001b[0m\n",
      "\u001b[0;32m~/anaconda3/lib/python3.6/site-packages/pandas/core/internals.py\u001b[0m in \u001b[0;36mastype\u001b[0;34m(self, dtype, **kwargs)\u001b[0m\n\u001b[1;32m   3712\u001b[0m \u001b[0;34m\u001b[0m\u001b[0m\n\u001b[1;32m   3713\u001b[0m     \u001b[0;32mdef\u001b[0m \u001b[0mastype\u001b[0m\u001b[0;34m(\u001b[0m\u001b[0mself\u001b[0m\u001b[0;34m,\u001b[0m \u001b[0mdtype\u001b[0m\u001b[0;34m,\u001b[0m \u001b[0;34m**\u001b[0m\u001b[0mkwargs\u001b[0m\u001b[0;34m)\u001b[0m\u001b[0;34m:\u001b[0m\u001b[0;34m\u001b[0m\u001b[0m\n\u001b[0;32m-> 3714\u001b[0;31m         \u001b[0;32mreturn\u001b[0m \u001b[0mself\u001b[0m\u001b[0;34m.\u001b[0m\u001b[0mapply\u001b[0m\u001b[0;34m(\u001b[0m\u001b[0;34m'astype'\u001b[0m\u001b[0;34m,\u001b[0m \u001b[0mdtype\u001b[0m\u001b[0;34m=\u001b[0m\u001b[0mdtype\u001b[0m\u001b[0;34m,\u001b[0m \u001b[0;34m**\u001b[0m\u001b[0mkwargs\u001b[0m\u001b[0;34m)\u001b[0m\u001b[0;34m\u001b[0m\u001b[0m\n\u001b[0m\u001b[1;32m   3715\u001b[0m \u001b[0;34m\u001b[0m\u001b[0m\n\u001b[1;32m   3716\u001b[0m     \u001b[0;32mdef\u001b[0m \u001b[0mconvert\u001b[0m\u001b[0;34m(\u001b[0m\u001b[0mself\u001b[0m\u001b[0;34m,\u001b[0m \u001b[0;34m**\u001b[0m\u001b[0mkwargs\u001b[0m\u001b[0;34m)\u001b[0m\u001b[0;34m:\u001b[0m\u001b[0;34m\u001b[0m\u001b[0m\n",
      "\u001b[0;32m~/anaconda3/lib/python3.6/site-packages/pandas/core/internals.py\u001b[0m in \u001b[0;36mapply\u001b[0;34m(self, f, axes, filter, do_integrity_check, consolidate, **kwargs)\u001b[0m\n\u001b[1;32m   3579\u001b[0m \u001b[0;34m\u001b[0m\u001b[0m\n\u001b[1;32m   3580\u001b[0m             \u001b[0mkwargs\u001b[0m\u001b[0;34m[\u001b[0m\u001b[0;34m'mgr'\u001b[0m\u001b[0;34m]\u001b[0m \u001b[0;34m=\u001b[0m \u001b[0mself\u001b[0m\u001b[0;34m\u001b[0m\u001b[0m\n\u001b[0;32m-> 3581\u001b[0;31m             \u001b[0mapplied\u001b[0m \u001b[0;34m=\u001b[0m \u001b[0mgetattr\u001b[0m\u001b[0;34m(\u001b[0m\u001b[0mb\u001b[0m\u001b[0;34m,\u001b[0m \u001b[0mf\u001b[0m\u001b[0;34m)\u001b[0m\u001b[0;34m(\u001b[0m\u001b[0;34m**\u001b[0m\u001b[0mkwargs\u001b[0m\u001b[0;34m)\u001b[0m\u001b[0;34m\u001b[0m\u001b[0m\n\u001b[0m\u001b[1;32m   3582\u001b[0m             \u001b[0mresult_blocks\u001b[0m \u001b[0;34m=\u001b[0m \u001b[0m_extend_blocks\u001b[0m\u001b[0;34m(\u001b[0m\u001b[0mapplied\u001b[0m\u001b[0;34m,\u001b[0m \u001b[0mresult_blocks\u001b[0m\u001b[0;34m)\u001b[0m\u001b[0;34m\u001b[0m\u001b[0m\n\u001b[1;32m   3583\u001b[0m \u001b[0;34m\u001b[0m\u001b[0m\n",
      "\u001b[0;32m~/anaconda3/lib/python3.6/site-packages/pandas/core/internals.py\u001b[0m in \u001b[0;36mastype\u001b[0;34m(self, dtype, copy, errors, values, **kwargs)\u001b[0m\n\u001b[1;32m    573\u001b[0m     \u001b[0;32mdef\u001b[0m \u001b[0mastype\u001b[0m\u001b[0;34m(\u001b[0m\u001b[0mself\u001b[0m\u001b[0;34m,\u001b[0m \u001b[0mdtype\u001b[0m\u001b[0;34m,\u001b[0m \u001b[0mcopy\u001b[0m\u001b[0;34m=\u001b[0m\u001b[0;32mFalse\u001b[0m\u001b[0;34m,\u001b[0m \u001b[0merrors\u001b[0m\u001b[0;34m=\u001b[0m\u001b[0;34m'raise'\u001b[0m\u001b[0;34m,\u001b[0m \u001b[0mvalues\u001b[0m\u001b[0;34m=\u001b[0m\u001b[0;32mNone\u001b[0m\u001b[0;34m,\u001b[0m \u001b[0;34m**\u001b[0m\u001b[0mkwargs\u001b[0m\u001b[0;34m)\u001b[0m\u001b[0;34m:\u001b[0m\u001b[0;34m\u001b[0m\u001b[0m\n\u001b[1;32m    574\u001b[0m         return self._astype(dtype, copy=copy, errors=errors, values=values,\n\u001b[0;32m--> 575\u001b[0;31m                             **kwargs)\n\u001b[0m\u001b[1;32m    576\u001b[0m \u001b[0;34m\u001b[0m\u001b[0m\n\u001b[1;32m    577\u001b[0m     def _astype(self, dtype, copy=False, errors='raise', values=None,\n",
      "\u001b[0;32m~/anaconda3/lib/python3.6/site-packages/pandas/core/internals.py\u001b[0m in \u001b[0;36m_astype\u001b[0;34m(self, dtype, copy, errors, values, klass, mgr, **kwargs)\u001b[0m\n\u001b[1;32m    662\u001b[0m \u001b[0;34m\u001b[0m\u001b[0m\n\u001b[1;32m    663\u001b[0m                 \u001b[0;31m# _astype_nansafe works fine with 1-d only\u001b[0m\u001b[0;34m\u001b[0m\u001b[0;34m\u001b[0m\u001b[0m\n\u001b[0;32m--> 664\u001b[0;31m                 \u001b[0mvalues\u001b[0m \u001b[0;34m=\u001b[0m \u001b[0mastype_nansafe\u001b[0m\u001b[0;34m(\u001b[0m\u001b[0mvalues\u001b[0m\u001b[0;34m.\u001b[0m\u001b[0mravel\u001b[0m\u001b[0;34m(\u001b[0m\u001b[0;34m)\u001b[0m\u001b[0;34m,\u001b[0m \u001b[0mdtype\u001b[0m\u001b[0;34m,\u001b[0m \u001b[0mcopy\u001b[0m\u001b[0;34m=\u001b[0m\u001b[0;32mTrue\u001b[0m\u001b[0;34m)\u001b[0m\u001b[0;34m\u001b[0m\u001b[0m\n\u001b[0m\u001b[1;32m    665\u001b[0m                 \u001b[0mvalues\u001b[0m \u001b[0;34m=\u001b[0m \u001b[0mvalues\u001b[0m\u001b[0;34m.\u001b[0m\u001b[0mreshape\u001b[0m\u001b[0;34m(\u001b[0m\u001b[0mself\u001b[0m\u001b[0;34m.\u001b[0m\u001b[0mshape\u001b[0m\u001b[0;34m)\u001b[0m\u001b[0;34m\u001b[0m\u001b[0m\n\u001b[1;32m    666\u001b[0m \u001b[0;34m\u001b[0m\u001b[0m\n",
      "\u001b[0;32m~/anaconda3/lib/python3.6/site-packages/pandas/core/dtypes/cast.py\u001b[0m in \u001b[0;36mastype_nansafe\u001b[0;34m(arr, dtype, copy)\u001b[0m\n\u001b[1;32m    707\u001b[0m         \u001b[0;31m# work around NumPy brokenness, #1987\u001b[0m\u001b[0;34m\u001b[0m\u001b[0;34m\u001b[0m\u001b[0m\n\u001b[1;32m    708\u001b[0m         \u001b[0;32mif\u001b[0m \u001b[0mnp\u001b[0m\u001b[0;34m.\u001b[0m\u001b[0missubdtype\u001b[0m\u001b[0;34m(\u001b[0m\u001b[0mdtype\u001b[0m\u001b[0;34m.\u001b[0m\u001b[0mtype\u001b[0m\u001b[0;34m,\u001b[0m \u001b[0mnp\u001b[0m\u001b[0;34m.\u001b[0m\u001b[0minteger\u001b[0m\u001b[0;34m)\u001b[0m\u001b[0;34m:\u001b[0m\u001b[0;34m\u001b[0m\u001b[0m\n\u001b[0;32m--> 709\u001b[0;31m             \u001b[0;32mreturn\u001b[0m \u001b[0mlib\u001b[0m\u001b[0;34m.\u001b[0m\u001b[0mastype_intsafe\u001b[0m\u001b[0;34m(\u001b[0m\u001b[0marr\u001b[0m\u001b[0;34m.\u001b[0m\u001b[0mravel\u001b[0m\u001b[0;34m(\u001b[0m\u001b[0;34m)\u001b[0m\u001b[0;34m,\u001b[0m \u001b[0mdtype\u001b[0m\u001b[0;34m)\u001b[0m\u001b[0;34m.\u001b[0m\u001b[0mreshape\u001b[0m\u001b[0;34m(\u001b[0m\u001b[0marr\u001b[0m\u001b[0;34m.\u001b[0m\u001b[0mshape\u001b[0m\u001b[0;34m)\u001b[0m\u001b[0;34m\u001b[0m\u001b[0m\n\u001b[0m\u001b[1;32m    710\u001b[0m \u001b[0;34m\u001b[0m\u001b[0m\n\u001b[1;32m    711\u001b[0m         \u001b[0;31m# if we have a datetime/timedelta array of objects\u001b[0m\u001b[0;34m\u001b[0m\u001b[0;34m\u001b[0m\u001b[0m\n",
      "\u001b[0;32mpandas/_libs/lib.pyx\u001b[0m in \u001b[0;36mpandas._libs.lib.astype_intsafe\u001b[0;34m()\u001b[0m\n",
      "\u001b[0;32mpandas/_libs/src/util.pxd\u001b[0m in \u001b[0;36mutil.set_value_at_unsafe\u001b[0;34m()\u001b[0m\n",
      "\u001b[0;31mValueError\u001b[0m: invalid literal for int() with base 10: ''"
     ]
    }
   ],
   "source": [
    "tm_player = tm_player.astype({'squad_num': int})"
   ]
  },
  {
   "cell_type": "code",
   "execution_count": null,
   "metadata": {},
   "outputs": [],
   "source": []
  },
  {
   "cell_type": "markdown",
   "metadata": {},
   "source": [
    "### Add Column of Club_Abbrev"
   ]
  },
  {
   "cell_type": "code",
   "execution_count": 265,
   "metadata": {},
   "outputs": [
    {
     "data": {
      "text/plain": [
       "array(['Squad Club Atlético Boca Juniors',\n",
       "       'Squad Club Atlético Independiente',\n",
       "       'Squad Club Atlético River Plate', 'Squad Racing Club',\n",
       "       'Squad Club Atlético San Lorenzo de Almagro',\n",
       "       'Squad Club Atlético Lanús', 'Squad Club Atlético Vélez Sarsfield',\n",
       "       'Squad Club Deportivo Godoy Cruz Antonio Tomba',\n",
       "       'Squad Club Atlético Colón',\n",
       "       'Squad Club Social y Deportivo Defensa y Justicia',\n",
       "       'Squad Club Atlético Rosario Central',\n",
       "       'Squad Club Atlético Talleres',\n",
       "       'Squad Club Atlético Unión (Santa Fe)',\n",
       "       'Squad Club Estudiantes de La Plata',\n",
       "       'Squad Club Atlético Huracán',\n",
       "       'Squad Asociación Atlética Argentinos Juniors',\n",
       "       'Squad Club Atlético Banfield', 'Squad Club Atlético Belgrano',\n",
       "       'Squad Club Atlético Tigre',\n",
       "       \"Squad Club Atlético Newell's Old Boys\",\n",
       "       'Squad Club Atlético Tucumán',\n",
       "       'Squad Club de Gimnasia y Esgrima La Plata',\n",
       "       'Squad Club Atlético Aldosivi',\n",
       "       'Squad Club Atlético San Martín (SJ)',\n",
       "       'Squad Club Atlético San Martín (Tucumán)',\n",
       "       'Squad Club Atlético Patronato de la Juventud Católica'],\n",
       "      dtype=object)"
      ]
     },
     "execution_count": 265,
     "metadata": {},
     "output_type": "execute_result"
    }
   ],
   "source": [
    "tm_player['club'].unique()"
   ]
  },
  {
   "cell_type": "code",
   "execution_count": 268,
   "metadata": {},
   "outputs": [],
   "source": [
    "tm_club_brev = {'Squad Club Atlético Boca Juniors': 'BOC' , 'Squad Club Atlético Independiente': 'IND', 'Squad Club Atlético River Plate': 'RIV', 'Squad Racing Club': 'RAC',\n",
    "       'Squad Club Atlético San Lorenzo de Almagro': 'SLO', 'Squad Club Atlético Lanús': 'LAN', 'Squad Club Atlético Vélez Sarsfield': 'VEL',\n",
    "       'Squad Club Deportivo Godoy Cruz Antonio Tomba': 'GOD', 'Squad Club Atlético Colón': 'COL', 'Squad Club Social y Deportivo Defensa y Justicia': 'DEF',\n",
    "       'Squad Club Atlético Rosario Central': 'ROS', 'Squad Club Atlético Talleres': 'TAL', 'Squad Club Atlético Unión (Santa Fe)': 'UNI',\n",
    "       'Squad Club Estudiantes de La Plata': 'EST', 'Squad Club Atlético Huracán': 'HUR', 'Squad Asociación Atlética Argentinos Juniors': 'ARG',\n",
    "       'Squad Club Atlético Banfield': 'BAN', 'Squad Club Atlético Belgrano': 'BEL', 'Squad Club Atlético Tigre': 'TIG', \"Squad Club Atlético Newell's Old Boys\": 'NOB',\n",
    "       'Squad Club Atlético Tucumán': 'ATT', 'Squad Club de Gimnasia y Esgrima La Plata': 'GIM', 'Squad Club Atlético Aldosivi': 'ALD',\n",
    "       'Squad Club Atlético San Martín (SJ)': 'SMS', 'Squad Club Atlético San Martín (Tucumán)': 'SMT', 'Squad Club Atlético Patronato de la Juventud Católica': 'PA'}"
   ]
  },
  {
   "cell_type": "code",
   "execution_count": 269,
   "metadata": {},
   "outputs": [
    {
     "data": {
      "text/html": [
       "<div>\n",
       "<style scoped>\n",
       "    .dataframe tbody tr th:only-of-type {\n",
       "        vertical-align: middle;\n",
       "    }\n",
       "\n",
       "    .dataframe tbody tr th {\n",
       "        vertical-align: top;\n",
       "    }\n",
       "\n",
       "    .dataframe thead th {\n",
       "        text-align: right;\n",
       "    }\n",
       "</style>\n",
       "<table border=\"1\" class=\"dataframe\">\n",
       "  <thead>\n",
       "    <tr style=\"text-align: right;\">\n",
       "      <th></th>\n",
       "      <th>_id</th>\n",
       "      <th>birthday</th>\n",
       "      <th>club</th>\n",
       "      <th>foot</th>\n",
       "      <th>height</th>\n",
       "      <th>player</th>\n",
       "      <th>squad_num</th>\n",
       "      <th>transfer_value(sterlings)</th>\n",
       "    </tr>\n",
       "  </thead>\n",
       "  <tbody>\n",
       "    <tr>\n",
       "      <th>0</th>\n",
       "      <td>5c0588e63d54c00a19927577</td>\n",
       "      <td>Jan 26, 1991 (27)</td>\n",
       "      <td>Squad Club Atlético Boca Juniors</td>\n",
       "      <td>right</td>\n",
       "      <td>1,94 m</td>\n",
       "      <td>Esteban Andrada</td>\n",
       "      <td>31</td>\n",
       "      <td>£4.50m</td>\n",
       "    </tr>\n",
       "    <tr>\n",
       "      <th>1</th>\n",
       "      <td>5c0588e73d54c00a19927578</td>\n",
       "      <td>Mar 17, 1987 (31)</td>\n",
       "      <td>Squad Club Atlético Boca Juniors</td>\n",
       "      <td>right</td>\n",
       "      <td>1,92 m</td>\n",
       "      <td>Carlos Lampe</td>\n",
       "      <td>28</td>\n",
       "      <td>£495k</td>\n",
       "    </tr>\n",
       "    <tr>\n",
       "      <th>2</th>\n",
       "      <td>5c0588e73d54c00a19927579</td>\n",
       "      <td>Sep 27, 1993 (25)</td>\n",
       "      <td>Squad Club Atlético Boca Juniors</td>\n",
       "      <td>right</td>\n",
       "      <td>1,85 m</td>\n",
       "      <td>Lisandro Magallán</td>\n",
       "      <td>6</td>\n",
       "      <td>£4.05m</td>\n",
       "    </tr>\n",
       "    <tr>\n",
       "      <th>3</th>\n",
       "      <td>5c0588e73d54c00a1992757a</td>\n",
       "      <td>May 12, 1985 (33)</td>\n",
       "      <td>Squad Club Atlético Boca Juniors</td>\n",
       "      <td>right</td>\n",
       "      <td>1,84 m</td>\n",
       "      <td>Paolo Goltz</td>\n",
       "      <td>2</td>\n",
       "      <td>£1.62m</td>\n",
       "    </tr>\n",
       "    <tr>\n",
       "      <th>4</th>\n",
       "      <td>5c0588e73d54c00a1992757b</td>\n",
       "      <td>Feb 22, 1991 (27)</td>\n",
       "      <td>Squad Club Atlético Boca Juniors</td>\n",
       "      <td>left</td>\n",
       "      <td>1,73 m</td>\n",
       "      <td>Frank Fabra</td>\n",
       "      <td>18</td>\n",
       "      <td>£5.40m</td>\n",
       "    </tr>\n",
       "  </tbody>\n",
       "</table>\n",
       "</div>"
      ],
      "text/plain": [
       "                        _id           birthday  \\\n",
       "0  5c0588e63d54c00a19927577  Jan 26, 1991 (27)   \n",
       "1  5c0588e73d54c00a19927578  Mar 17, 1987 (31)   \n",
       "2  5c0588e73d54c00a19927579  Sep 27, 1993 (25)   \n",
       "3  5c0588e73d54c00a1992757a  May 12, 1985 (33)   \n",
       "4  5c0588e73d54c00a1992757b  Feb 22, 1991 (27)   \n",
       "\n",
       "                               club   foot  height             player  \\\n",
       "0  Squad Club Atlético Boca Juniors  right  1,94 m    Esteban Andrada   \n",
       "1  Squad Club Atlético Boca Juniors  right  1,92 m       Carlos Lampe   \n",
       "2  Squad Club Atlético Boca Juniors  right  1,85 m  Lisandro Magallán   \n",
       "3  Squad Club Atlético Boca Juniors  right  1,84 m        Paolo Goltz   \n",
       "4  Squad Club Atlético Boca Juniors   left  1,73 m        Frank Fabra   \n",
       "\n",
       "  squad_num transfer_value(sterlings)  \n",
       "0        31                    £4.50m  \n",
       "1        28                     £495k  \n",
       "2         6                    £4.05m  \n",
       "3         2                    £1.62m  \n",
       "4        18                    £5.40m  "
      ]
     },
     "execution_count": 269,
     "metadata": {},
     "output_type": "execute_result"
    }
   ],
   "source": [
    "tm_player.head()"
   ]
  },
  {
   "cell_type": "code",
   "execution_count": 274,
   "metadata": {},
   "outputs": [],
   "source": [
    "tm_player['club_brev'] = tm_player['club'].map(tm_club_brev)"
   ]
  },
  {
   "cell_type": "code",
   "execution_count": 276,
   "metadata": {},
   "outputs": [
    {
     "data": {
      "text/html": [
       "<div>\n",
       "<style scoped>\n",
       "    .dataframe tbody tr th:only-of-type {\n",
       "        vertical-align: middle;\n",
       "    }\n",
       "\n",
       "    .dataframe tbody tr th {\n",
       "        vertical-align: top;\n",
       "    }\n",
       "\n",
       "    .dataframe thead th {\n",
       "        text-align: right;\n",
       "    }\n",
       "</style>\n",
       "<table border=\"1\" class=\"dataframe\">\n",
       "  <thead>\n",
       "    <tr style=\"text-align: right;\">\n",
       "      <th></th>\n",
       "      <th>_id</th>\n",
       "      <th>birthday</th>\n",
       "      <th>club</th>\n",
       "      <th>foot</th>\n",
       "      <th>height</th>\n",
       "      <th>player</th>\n",
       "      <th>squad_num</th>\n",
       "      <th>transfer_value(sterlings)</th>\n",
       "      <th>club_brev</th>\n",
       "    </tr>\n",
       "  </thead>\n",
       "  <tbody>\n",
       "    <tr>\n",
       "      <th>0</th>\n",
       "      <td>5c0588e63d54c00a19927577</td>\n",
       "      <td>Jan 26, 1991 (27)</td>\n",
       "      <td>Squad Club Atlético Boca Juniors</td>\n",
       "      <td>right</td>\n",
       "      <td>1,94 m</td>\n",
       "      <td>Esteban Andrada</td>\n",
       "      <td>31</td>\n",
       "      <td>£4.50m</td>\n",
       "      <td>BOC</td>\n",
       "    </tr>\n",
       "    <tr>\n",
       "      <th>1</th>\n",
       "      <td>5c0588e73d54c00a19927578</td>\n",
       "      <td>Mar 17, 1987 (31)</td>\n",
       "      <td>Squad Club Atlético Boca Juniors</td>\n",
       "      <td>right</td>\n",
       "      <td>1,92 m</td>\n",
       "      <td>Carlos Lampe</td>\n",
       "      <td>28</td>\n",
       "      <td>£495k</td>\n",
       "      <td>BOC</td>\n",
       "    </tr>\n",
       "    <tr>\n",
       "      <th>2</th>\n",
       "      <td>5c0588e73d54c00a19927579</td>\n",
       "      <td>Sep 27, 1993 (25)</td>\n",
       "      <td>Squad Club Atlético Boca Juniors</td>\n",
       "      <td>right</td>\n",
       "      <td>1,85 m</td>\n",
       "      <td>Lisandro Magallán</td>\n",
       "      <td>6</td>\n",
       "      <td>£4.05m</td>\n",
       "      <td>BOC</td>\n",
       "    </tr>\n",
       "    <tr>\n",
       "      <th>3</th>\n",
       "      <td>5c0588e73d54c00a1992757a</td>\n",
       "      <td>May 12, 1985 (33)</td>\n",
       "      <td>Squad Club Atlético Boca Juniors</td>\n",
       "      <td>right</td>\n",
       "      <td>1,84 m</td>\n",
       "      <td>Paolo Goltz</td>\n",
       "      <td>2</td>\n",
       "      <td>£1.62m</td>\n",
       "      <td>BOC</td>\n",
       "    </tr>\n",
       "    <tr>\n",
       "      <th>4</th>\n",
       "      <td>5c0588e73d54c00a1992757b</td>\n",
       "      <td>Feb 22, 1991 (27)</td>\n",
       "      <td>Squad Club Atlético Boca Juniors</td>\n",
       "      <td>left</td>\n",
       "      <td>1,73 m</td>\n",
       "      <td>Frank Fabra</td>\n",
       "      <td>18</td>\n",
       "      <td>£5.40m</td>\n",
       "      <td>BOC</td>\n",
       "    </tr>\n",
       "  </tbody>\n",
       "</table>\n",
       "</div>"
      ],
      "text/plain": [
       "                        _id           birthday  \\\n",
       "0  5c0588e63d54c00a19927577  Jan 26, 1991 (27)   \n",
       "1  5c0588e73d54c00a19927578  Mar 17, 1987 (31)   \n",
       "2  5c0588e73d54c00a19927579  Sep 27, 1993 (25)   \n",
       "3  5c0588e73d54c00a1992757a  May 12, 1985 (33)   \n",
       "4  5c0588e73d54c00a1992757b  Feb 22, 1991 (27)   \n",
       "\n",
       "                               club   foot  height             player  \\\n",
       "0  Squad Club Atlético Boca Juniors  right  1,94 m    Esteban Andrada   \n",
       "1  Squad Club Atlético Boca Juniors  right  1,92 m       Carlos Lampe   \n",
       "2  Squad Club Atlético Boca Juniors  right  1,85 m  Lisandro Magallán   \n",
       "3  Squad Club Atlético Boca Juniors  right  1,84 m        Paolo Goltz   \n",
       "4  Squad Club Atlético Boca Juniors   left  1,73 m        Frank Fabra   \n",
       "\n",
       "  squad_num transfer_value(sterlings) club_brev  \n",
       "0        31                    £4.50m       BOC  \n",
       "1        28                     £495k       BOC  \n",
       "2         6                    £4.05m       BOC  \n",
       "3         2                    £1.62m       BOC  \n",
       "4        18                    £5.40m       BOC  "
      ]
     },
     "execution_count": 276,
     "metadata": {},
     "output_type": "execute_result"
    }
   ],
   "source": [
    "tm_player.head()"
   ]
  },
  {
   "cell_type": "code",
   "execution_count": null,
   "metadata": {},
   "outputs": [],
   "source": []
  }
 ],
 "metadata": {
  "kernelspec": {
   "display_name": "Python 3",
   "language": "python",
   "name": "python3"
  },
  "language_info": {
   "codemirror_mode": {
    "name": "ipython",
    "version": 3
   },
   "file_extension": ".py",
   "mimetype": "text/x-python",
   "name": "python",
   "nbconvert_exporter": "python",
   "pygments_lexer": "ipython3",
   "version": "3.6.6"
  }
 },
 "nbformat": 4,
 "nbformat_minor": 2
}
