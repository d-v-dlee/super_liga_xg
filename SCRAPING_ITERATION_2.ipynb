{
 "cells": [
  {
   "cell_type": "code",
   "execution_count": 1,
   "metadata": {},
   "outputs": [],
   "source": [
    "from selenium.webdriver import (Chrome, Firefox)\n",
    "import time\n",
    "\n",
    "import requests\n",
    "from bs4 import BeautifulSoup"
   ]
  },
  {
   "cell_type": "code",
   "execution_count": 2,
   "metadata": {},
   "outputs": [],
   "source": [
    "browser = Firefox()"
   ]
  },
  {
   "cell_type": "code",
   "execution_count": 3,
   "metadata": {},
   "outputs": [],
   "source": [
    "url = 'http://www.afa.com.ar/deposito/html/v3/index.html?channel=deportes.futbol.primeraa.fixture&lang=es_LA'\n"
   ]
  },
  {
   "cell_type": "code",
   "execution_count": 4,
   "metadata": {},
   "outputs": [],
   "source": [
    "browser.get(url)"
   ]
  },
  {
   "cell_type": "code",
   "execution_count": 5,
   "metadata": {},
   "outputs": [],
   "source": [
    "sel = 'ul.subnav.numbers li a'"
   ]
  },
  {
   "cell_type": "markdown",
   "metadata": {},
   "source": [
    "# Get to home page and selects all links which represent weeks (1-25)"
   ]
  },
  {
   "cell_type": "code",
   "execution_count": 9,
   "metadata": {},
   "outputs": [],
   "source": [
    "#all links which are weeks\n",
    "all_links = browser.find_elements_by_css_selector(sel)"
   ]
  },
  {
   "cell_type": "code",
   "execution_count": null,
   "metadata": {},
   "outputs": [],
   "source": []
  },
  {
   "cell_type": "code",
   "execution_count": 10,
   "metadata": {},
   "outputs": [
    {
     "data": {
      "text/plain": [
       "27"
      ]
     },
     "execution_count": 10,
     "metadata": {},
     "output_type": "execute_result"
    }
   ],
   "source": [
    "len(all_links)"
   ]
  },
  {
   "cell_type": "markdown",
   "metadata": {},
   "source": [
    "discard < > so its range(1, 25)\n",
    "\n",
    "and up to week 13"
   ]
  },
  {
   "cell_type": "code",
   "execution_count": 11,
   "metadata": {},
   "outputs": [],
   "source": [
    "#links that are actually numbers\n",
    "num_links = [link for link in all_links if link.text not in '<>' and link.text not in ['14', \n",
    "            '15', '16', '17', '18', '19', '20', '21', '22', '23', '24', '25']]"
   ]
  },
  {
   "cell_type": "code",
   "execution_count": 12,
   "metadata": {},
   "outputs": [
    {
     "data": {
      "text/plain": [
       "13"
      ]
     },
     "execution_count": 12,
     "metadata": {},
     "output_type": "execute_result"
    }
   ],
   "source": [
    "len(num_links)"
   ]
  },
  {
   "cell_type": "code",
   "execution_count": 13,
   "metadata": {},
   "outputs": [],
   "source": [
    "link = num_links[0]"
   ]
  },
  {
   "cell_type": "code",
   "execution_count": null,
   "metadata": {},
   "outputs": [],
   "source": []
  },
  {
   "cell_type": "code",
   "execution_count": 14,
   "metadata": {},
   "outputs": [],
   "source": [
    "link.click()"
   ]
  },
  {
   "cell_type": "markdown",
   "metadata": {},
   "source": [
    "### get href so that we can get game number id"
   ]
  },
  {
   "cell_type": "code",
   "execution_count": 15,
   "metadata": {},
   "outputs": [],
   "source": [
    "#details to get game_numid\n",
    "sel = 'a.btn.matchLink'"
   ]
  },
  {
   "cell_type": "code",
   "execution_count": 16,
   "metadata": {},
   "outputs": [],
   "source": [
    "buttons = browser.find_elements_by_css_selector(sel)"
   ]
  },
  {
   "cell_type": "code",
   "execution_count": 17,
   "metadata": {},
   "outputs": [
    {
     "data": {
      "text/plain": [
       "list"
      ]
     },
     "execution_count": 17,
     "metadata": {},
     "output_type": "execute_result"
    }
   ],
   "source": [
    "type(buttons)"
   ]
  },
  {
   "cell_type": "code",
   "execution_count": 18,
   "metadata": {},
   "outputs": [
    {
     "data": {
      "text/plain": [
       "325"
      ]
     },
     "execution_count": 18,
     "metadata": {},
     "output_type": "execute_result"
    }
   ],
   "source": [
    "len(buttons)"
   ]
  },
  {
   "cell_type": "code",
   "execution_count": 19,
   "metadata": {},
   "outputs": [],
   "source": [
    "button = buttons[0]"
   ]
  },
  {
   "cell_type": "code",
   "execution_count": 20,
   "metadata": {},
   "outputs": [],
   "source": [
    "page_link = button.get_attribute('href')"
   ]
  },
  {
   "cell_type": "code",
   "execution_count": 21,
   "metadata": {},
   "outputs": [],
   "source": [
    "page_links = [link.get_attribute('href') for link in buttons]"
   ]
  },
  {
   "cell_type": "code",
   "execution_count": 22,
   "metadata": {},
   "outputs": [
    {
     "data": {
      "text/plain": [
       "325"
      ]
     },
     "execution_count": 22,
     "metadata": {},
     "output_type": "execute_result"
    }
   ],
   "source": [
    "13 * 25"
   ]
  },
  {
   "cell_type": "markdown",
   "metadata": {},
   "source": [
    "provides link id to game page by o4der of weeks\n",
    "\n",
    "pseudo code:\n",
    "\n",
    "for link in page_links\n",
    "    go to that link url\n",
    "    save json into pymongo"
   ]
  },
  {
   "cell_type": "code",
   "execution_count": 78,
   "metadata": {
    "scrolled": false
   },
   "outputs": [],
   "source": [
    "#the 169 games we will have data on\n",
    "# page_links[0:170]"
   ]
  },
  {
   "cell_type": "code",
   "execution_count": null,
   "metadata": {},
   "outputs": [],
   "source": [
    "json_url = f'http://www.afa.com.ar/deposito/html/v3/htmlCenter/data/deportes/futbol/primeraa/events/{game_id}.json'"
   ]
  },
  {
   "cell_type": "code",
   "execution_count": null,
   "metadata": {},
   "outputs": [],
   "source": [
    "for page_url in page_links[0:170]:\n",
    "    pass\n",
    "    browser.get(page)\n",
    "    time.sleep\n",
    "    save the page as json\n",
    "    json to pymongo\n",
    "    "
   ]
  },
  {
   "cell_type": "markdown",
   "metadata": {},
   "source": [
    "save that page as json\n",
    "\n",
    "use time.sleep (15 seconds or sooo...)"
   ]
  },
  {
   "cell_type": "code",
   "execution_count": null,
   "metadata": {},
   "outputs": [],
   "source": [
    "# for link in page_links[0:170]:\n",
    "#     json_url = f'http://www.afa.com.ar/deposito/html/v3/htmlCenter/data/deportes/futbol/primeraa/events/{game_id}.json'"
   ]
  },
  {
   "cell_type": "code",
   "execution_count": 80,
   "metadata": {},
   "outputs": [
    {
     "data": {
      "text/plain": [
       "['http://www.afa.com.ar/deposito/html/v3/index.html?channel=deportes.futbol.primeraa.448548&lang=es_LA',\n",
       " 'http://www.afa.com.ar/deposito/html/v3/index.html?channel=deportes.futbol.primeraa.448543&lang=es_LA',\n",
       " 'http://www.afa.com.ar/deposito/html/v3/index.html?channel=deportes.futbol.primeraa.448542&lang=es_LA',\n",
       " 'http://www.afa.com.ar/deposito/html/v3/index.html?channel=deportes.futbol.primeraa.448547&lang=es_LA',\n",
       " 'http://www.afa.com.ar/deposito/html/v3/index.html?channel=deportes.futbol.primeraa.448539&lang=es_LA',\n",
       " 'http://www.afa.com.ar/deposito/html/v3/index.html?channel=deportes.futbol.primeraa.448540&lang=es_LA',\n",
       " 'http://www.afa.com.ar/deposito/html/v3/index.html?channel=deportes.futbol.primeraa.448536&lang=es_LA',\n",
       " 'http://www.afa.com.ar/deposito/html/v3/index.html?channel=deportes.futbol.primeraa.448546&lang=es_LA',\n",
       " 'http://www.afa.com.ar/deposito/html/v3/index.html?channel=deportes.futbol.primeraa.448538&lang=es_LA',\n",
       " 'http://www.afa.com.ar/deposito/html/v3/index.html?channel=deportes.futbol.primeraa.448544&lang=es_LA',\n",
       " 'http://www.afa.com.ar/deposito/html/v3/index.html?channel=deportes.futbol.primeraa.448541&lang=es_LA',\n",
       " 'http://www.afa.com.ar/deposito/html/v3/index.html?channel=deportes.futbol.primeraa.448545&lang=es_LA',\n",
       " 'http://www.afa.com.ar/deposito/html/v3/index.html?channel=deportes.futbol.primeraa.448537&lang=es_LA',\n",
       " 'http://www.afa.com.ar/deposito/html/v3/index.html?channel=deportes.futbol.primeraa.448560&lang=es_LA',\n",
       " 'http://www.afa.com.ar/deposito/html/v3/index.html?channel=deportes.futbol.primeraa.448557&lang=es_LA',\n",
       " 'http://www.afa.com.ar/deposito/html/v3/index.html?channel=deportes.futbol.primeraa.448556&lang=es_LA',\n",
       " 'http://www.afa.com.ar/deposito/html/v3/index.html?channel=deportes.futbol.primeraa.448555&lang=es_LA',\n",
       " 'http://www.afa.com.ar/deposito/html/v3/index.html?channel=deportes.futbol.primeraa.448552&lang=es_LA',\n",
       " 'http://www.afa.com.ar/deposito/html/v3/index.html?channel=deportes.futbol.primeraa.448549&lang=es_LA',\n",
       " 'http://www.afa.com.ar/deposito/html/v3/index.html?channel=deportes.futbol.primeraa.448561&lang=es_LA',\n",
       " 'http://www.afa.com.ar/deposito/html/v3/index.html?channel=deportes.futbol.primeraa.448558&lang=es_LA',\n",
       " 'http://www.afa.com.ar/deposito/html/v3/index.html?channel=deportes.futbol.primeraa.448551&lang=es_LA',\n",
       " 'http://www.afa.com.ar/deposito/html/v3/index.html?channel=deportes.futbol.primeraa.448550&lang=es_LA',\n",
       " 'http://www.afa.com.ar/deposito/html/v3/index.html?channel=deportes.futbol.primeraa.448553&lang=es_LA',\n",
       " 'http://www.afa.com.ar/deposito/html/v3/index.html?channel=deportes.futbol.primeraa.448554&lang=es_LA',\n",
       " 'http://www.afa.com.ar/deposito/html/v3/index.html?channel=deportes.futbol.primeraa.448559&lang=es_LA',\n",
       " 'http://www.afa.com.ar/deposito/html/v3/index.html?channel=deportes.futbol.primeraa.448571&lang=es_LA',\n",
       " 'http://www.afa.com.ar/deposito/html/v3/index.html?channel=deportes.futbol.primeraa.448573&lang=es_LA',\n",
       " 'http://www.afa.com.ar/deposito/html/v3/index.html?channel=deportes.futbol.primeraa.448564&lang=es_LA',\n",
       " 'http://www.afa.com.ar/deposito/html/v3/index.html?channel=deportes.futbol.primeraa.448572&lang=es_LA',\n",
       " 'http://www.afa.com.ar/deposito/html/v3/index.html?channel=deportes.futbol.primeraa.448565&lang=es_LA',\n",
       " 'http://www.afa.com.ar/deposito/html/v3/index.html?channel=deportes.futbol.primeraa.448567&lang=es_LA',\n",
       " 'http://www.afa.com.ar/deposito/html/v3/index.html?channel=deportes.futbol.primeraa.448562&lang=es_LA',\n",
       " 'http://www.afa.com.ar/deposito/html/v3/index.html?channel=deportes.futbol.primeraa.448568&lang=es_LA',\n",
       " 'http://www.afa.com.ar/deposito/html/v3/index.html?channel=deportes.futbol.primeraa.448566&lang=es_LA',\n",
       " 'http://www.afa.com.ar/deposito/html/v3/index.html?channel=deportes.futbol.primeraa.448569&lang=es_LA',\n",
       " 'http://www.afa.com.ar/deposito/html/v3/index.html?channel=deportes.futbol.primeraa.448563&lang=es_LA',\n",
       " 'http://www.afa.com.ar/deposito/html/v3/index.html?channel=deportes.futbol.primeraa.448574&lang=es_LA',\n",
       " 'http://www.afa.com.ar/deposito/html/v3/index.html?channel=deportes.futbol.primeraa.448570&lang=es_LA',\n",
       " 'http://www.afa.com.ar/deposito/html/v3/index.html?channel=deportes.futbol.primeraa.448582&lang=es_LA',\n",
       " 'http://www.afa.com.ar/deposito/html/v3/index.html?channel=deportes.futbol.primeraa.448586&lang=es_LA',\n",
       " 'http://www.afa.com.ar/deposito/html/v3/index.html?channel=deportes.futbol.primeraa.448584&lang=es_LA',\n",
       " 'http://www.afa.com.ar/deposito/html/v3/index.html?channel=deportes.futbol.primeraa.448578&lang=es_LA',\n",
       " 'http://www.afa.com.ar/deposito/html/v3/index.html?channel=deportes.futbol.primeraa.448580&lang=es_LA',\n",
       " 'http://www.afa.com.ar/deposito/html/v3/index.html?channel=deportes.futbol.primeraa.448581&lang=es_LA',\n",
       " 'http://www.afa.com.ar/deposito/html/v3/index.html?channel=deportes.futbol.primeraa.448577&lang=es_LA',\n",
       " 'http://www.afa.com.ar/deposito/html/v3/index.html?channel=deportes.futbol.primeraa.448583&lang=es_LA',\n",
       " 'http://www.afa.com.ar/deposito/html/v3/index.html?channel=deportes.futbol.primeraa.448576&lang=es_LA',\n",
       " 'http://www.afa.com.ar/deposito/html/v3/index.html?channel=deportes.futbol.primeraa.448579&lang=es_LA',\n",
       " 'http://www.afa.com.ar/deposito/html/v3/index.html?channel=deportes.futbol.primeraa.448575&lang=es_LA',\n",
       " 'http://www.afa.com.ar/deposito/html/v3/index.html?channel=deportes.futbol.primeraa.448587&lang=es_LA',\n",
       " 'http://www.afa.com.ar/deposito/html/v3/index.html?channel=deportes.futbol.primeraa.448585&lang=es_LA',\n",
       " 'http://www.afa.com.ar/deposito/html/v3/index.html?channel=deportes.futbol.primeraa.448592&lang=es_LA',\n",
       " 'http://www.afa.com.ar/deposito/html/v3/index.html?channel=deportes.futbol.primeraa.448598&lang=es_LA',\n",
       " 'http://www.afa.com.ar/deposito/html/v3/index.html?channel=deportes.futbol.primeraa.448591&lang=es_LA',\n",
       " 'http://www.afa.com.ar/deposito/html/v3/index.html?channel=deportes.futbol.primeraa.448588&lang=es_LA',\n",
       " 'http://www.afa.com.ar/deposito/html/v3/index.html?channel=deportes.futbol.primeraa.448599&lang=es_LA',\n",
       " 'http://www.afa.com.ar/deposito/html/v3/index.html?channel=deportes.futbol.primeraa.448590&lang=es_LA',\n",
       " 'http://www.afa.com.ar/deposito/html/v3/index.html?channel=deportes.futbol.primeraa.448597&lang=es_LA',\n",
       " 'http://www.afa.com.ar/deposito/html/v3/index.html?channel=deportes.futbol.primeraa.448594&lang=es_LA',\n",
       " 'http://www.afa.com.ar/deposito/html/v3/index.html?channel=deportes.futbol.primeraa.448596&lang=es_LA',\n",
       " 'http://www.afa.com.ar/deposito/html/v3/index.html?channel=deportes.futbol.primeraa.448593&lang=es_LA',\n",
       " 'http://www.afa.com.ar/deposito/html/v3/index.html?channel=deportes.futbol.primeraa.448600&lang=es_LA',\n",
       " 'http://www.afa.com.ar/deposito/html/v3/index.html?channel=deportes.futbol.primeraa.448589&lang=es_LA',\n",
       " 'http://www.afa.com.ar/deposito/html/v3/index.html?channel=deportes.futbol.primeraa.448595&lang=es_LA',\n",
       " 'http://www.afa.com.ar/deposito/html/v3/index.html?channel=deportes.futbol.primeraa.448602&lang=es_LA',\n",
       " 'http://www.afa.com.ar/deposito/html/v3/index.html?channel=deportes.futbol.primeraa.448610&lang=es_LA',\n",
       " 'http://www.afa.com.ar/deposito/html/v3/index.html?channel=deportes.futbol.primeraa.448609&lang=es_LA',\n",
       " 'http://www.afa.com.ar/deposito/html/v3/index.html?channel=deportes.futbol.primeraa.448612&lang=es_LA',\n",
       " 'http://www.afa.com.ar/deposito/html/v3/index.html?channel=deportes.futbol.primeraa.448606&lang=es_LA',\n",
       " 'http://www.afa.com.ar/deposito/html/v3/index.html?channel=deportes.futbol.primeraa.448608&lang=es_LA',\n",
       " 'http://www.afa.com.ar/deposito/html/v3/index.html?channel=deportes.futbol.primeraa.448611&lang=es_LA',\n",
       " 'http://www.afa.com.ar/deposito/html/v3/index.html?channel=deportes.futbol.primeraa.448605&lang=es_LA',\n",
       " 'http://www.afa.com.ar/deposito/html/v3/index.html?channel=deportes.futbol.primeraa.448613&lang=es_LA',\n",
       " 'http://www.afa.com.ar/deposito/html/v3/index.html?channel=deportes.futbol.primeraa.448601&lang=es_LA',\n",
       " 'http://www.afa.com.ar/deposito/html/v3/index.html?channel=deportes.futbol.primeraa.448603&lang=es_LA',\n",
       " 'http://www.afa.com.ar/deposito/html/v3/index.html?channel=deportes.futbol.primeraa.448604&lang=es_LA',\n",
       " 'http://www.afa.com.ar/deposito/html/v3/index.html?channel=deportes.futbol.primeraa.448607&lang=es_LA',\n",
       " 'http://www.afa.com.ar/deposito/html/v3/index.html?channel=deportes.futbol.primeraa.448621&lang=es_LA',\n",
       " 'http://www.afa.com.ar/deposito/html/v3/index.html?channel=deportes.futbol.primeraa.448622&lang=es_LA',\n",
       " 'http://www.afa.com.ar/deposito/html/v3/index.html?channel=deportes.futbol.primeraa.448615&lang=es_LA',\n",
       " 'http://www.afa.com.ar/deposito/html/v3/index.html?channel=deportes.futbol.primeraa.448618&lang=es_LA',\n",
       " 'http://www.afa.com.ar/deposito/html/v3/index.html?channel=deportes.futbol.primeraa.448626&lang=es_LA',\n",
       " 'http://www.afa.com.ar/deposito/html/v3/index.html?channel=deportes.futbol.primeraa.448619&lang=es_LA',\n",
       " 'http://www.afa.com.ar/deposito/html/v3/index.html?channel=deportes.futbol.primeraa.448614&lang=es_LA',\n",
       " 'http://www.afa.com.ar/deposito/html/v3/index.html?channel=deportes.futbol.primeraa.448625&lang=es_LA',\n",
       " 'http://www.afa.com.ar/deposito/html/v3/index.html?channel=deportes.futbol.primeraa.448617&lang=es_LA',\n",
       " 'http://www.afa.com.ar/deposito/html/v3/index.html?channel=deportes.futbol.primeraa.448624&lang=es_LA',\n",
       " 'http://www.afa.com.ar/deposito/html/v3/index.html?channel=deportes.futbol.primeraa.448616&lang=es_LA',\n",
       " 'http://www.afa.com.ar/deposito/html/v3/index.html?channel=deportes.futbol.primeraa.448620&lang=es_LA',\n",
       " 'http://www.afa.com.ar/deposito/html/v3/index.html?channel=deportes.futbol.primeraa.448623&lang=es_LA',\n",
       " 'http://www.afa.com.ar/deposito/html/v3/index.html?channel=deportes.futbol.primeraa.448628&lang=es_LA',\n",
       " 'http://www.afa.com.ar/deposito/html/v3/index.html?channel=deportes.futbol.primeraa.448629&lang=es_LA',\n",
       " 'http://www.afa.com.ar/deposito/html/v3/index.html?channel=deportes.futbol.primeraa.448638&lang=es_LA',\n",
       " 'http://www.afa.com.ar/deposito/html/v3/index.html?channel=deportes.futbol.primeraa.448631&lang=es_LA',\n",
       " 'http://www.afa.com.ar/deposito/html/v3/index.html?channel=deportes.futbol.primeraa.448635&lang=es_LA',\n",
       " 'http://www.afa.com.ar/deposito/html/v3/index.html?channel=deportes.futbol.primeraa.448637&lang=es_LA',\n",
       " 'http://www.afa.com.ar/deposito/html/v3/index.html?channel=deportes.futbol.primeraa.448636&lang=es_LA',\n",
       " 'http://www.afa.com.ar/deposito/html/v3/index.html?channel=deportes.futbol.primeraa.448632&lang=es_LA',\n",
       " 'http://www.afa.com.ar/deposito/html/v3/index.html?channel=deportes.futbol.primeraa.448634&lang=es_LA',\n",
       " 'http://www.afa.com.ar/deposito/html/v3/index.html?channel=deportes.futbol.primeraa.448627&lang=es_LA',\n",
       " 'http://www.afa.com.ar/deposito/html/v3/index.html?channel=deportes.futbol.primeraa.448630&lang=es_LA',\n",
       " 'http://www.afa.com.ar/deposito/html/v3/index.html?channel=deportes.futbol.primeraa.448639&lang=es_LA',\n",
       " 'http://www.afa.com.ar/deposito/html/v3/index.html?channel=deportes.futbol.primeraa.448633&lang=es_LA',\n",
       " 'http://www.afa.com.ar/deposito/html/v3/index.html?channel=deportes.futbol.primeraa.448643&lang=es_LA',\n",
       " 'http://www.afa.com.ar/deposito/html/v3/index.html?channel=deportes.futbol.primeraa.448649&lang=es_LA',\n",
       " 'http://www.afa.com.ar/deposito/html/v3/index.html?channel=deportes.futbol.primeraa.448644&lang=es_LA',\n",
       " 'http://www.afa.com.ar/deposito/html/v3/index.html?channel=deportes.futbol.primeraa.448651&lang=es_LA',\n",
       " 'http://www.afa.com.ar/deposito/html/v3/index.html?channel=deportes.futbol.primeraa.448648&lang=es_LA',\n",
       " 'http://www.afa.com.ar/deposito/html/v3/index.html?channel=deportes.futbol.primeraa.448640&lang=es_LA',\n",
       " 'http://www.afa.com.ar/deposito/html/v3/index.html?channel=deportes.futbol.primeraa.448652&lang=es_LA',\n",
       " 'http://www.afa.com.ar/deposito/html/v3/index.html?channel=deportes.futbol.primeraa.448642&lang=es_LA',\n",
       " 'http://www.afa.com.ar/deposito/html/v3/index.html?channel=deportes.futbol.primeraa.448641&lang=es_LA',\n",
       " 'http://www.afa.com.ar/deposito/html/v3/index.html?channel=deportes.futbol.primeraa.448647&lang=es_LA',\n",
       " 'http://www.afa.com.ar/deposito/html/v3/index.html?channel=deportes.futbol.primeraa.448650&lang=es_LA',\n",
       " 'http://www.afa.com.ar/deposito/html/v3/index.html?channel=deportes.futbol.primeraa.448645&lang=es_LA',\n",
       " 'http://www.afa.com.ar/deposito/html/v3/index.html?channel=deportes.futbol.primeraa.448646&lang=es_LA',\n",
       " 'http://www.afa.com.ar/deposito/html/v3/index.html?channel=deportes.futbol.primeraa.448661&lang=es_LA',\n",
       " 'http://www.afa.com.ar/deposito/html/v3/index.html?channel=deportes.futbol.primeraa.448659&lang=es_LA',\n",
       " 'http://www.afa.com.ar/deposito/html/v3/index.html?channel=deportes.futbol.primeraa.448653&lang=es_LA',\n",
       " 'http://www.afa.com.ar/deposito/html/v3/index.html?channel=deportes.futbol.primeraa.448660&lang=es_LA',\n",
       " 'http://www.afa.com.ar/deposito/html/v3/index.html?channel=deportes.futbol.primeraa.448658&lang=es_LA',\n",
       " 'http://www.afa.com.ar/deposito/html/v3/index.html?channel=deportes.futbol.primeraa.448665&lang=es_LA',\n",
       " 'http://www.afa.com.ar/deposito/html/v3/index.html?channel=deportes.futbol.primeraa.448654&lang=es_LA',\n",
       " 'http://www.afa.com.ar/deposito/html/v3/index.html?channel=deportes.futbol.primeraa.448657&lang=es_LA',\n",
       " 'http://www.afa.com.ar/deposito/html/v3/index.html?channel=deportes.futbol.primeraa.448656&lang=es_LA',\n",
       " 'http://www.afa.com.ar/deposito/html/v3/index.html?channel=deportes.futbol.primeraa.448655&lang=es_LA',\n",
       " 'http://www.afa.com.ar/deposito/html/v3/index.html?channel=deportes.futbol.primeraa.448663&lang=es_LA',\n",
       " 'http://www.afa.com.ar/deposito/html/v3/index.html?channel=deportes.futbol.primeraa.448662&lang=es_LA',\n",
       " 'http://www.afa.com.ar/deposito/html/v3/index.html?channel=deportes.futbol.primeraa.448664&lang=es_LA',\n",
       " 'http://www.afa.com.ar/deposito/html/v3/index.html?channel=deportes.futbol.primeraa.448671&lang=es_LA',\n",
       " 'http://www.afa.com.ar/deposito/html/v3/index.html?channel=deportes.futbol.primeraa.448670&lang=es_LA',\n",
       " 'http://www.afa.com.ar/deposito/html/v3/index.html?channel=deportes.futbol.primeraa.448667&lang=es_LA',\n",
       " 'http://www.afa.com.ar/deposito/html/v3/index.html?channel=deportes.futbol.primeraa.448677&lang=es_LA',\n",
       " 'http://www.afa.com.ar/deposito/html/v3/index.html?channel=deportes.futbol.primeraa.448674&lang=es_LA',\n",
       " 'http://www.afa.com.ar/deposito/html/v3/index.html?channel=deportes.futbol.primeraa.448666&lang=es_LA',\n",
       " 'http://www.afa.com.ar/deposito/html/v3/index.html?channel=deportes.futbol.primeraa.448673&lang=es_LA',\n",
       " 'http://www.afa.com.ar/deposito/html/v3/index.html?channel=deportes.futbol.primeraa.448678&lang=es_LA',\n",
       " 'http://www.afa.com.ar/deposito/html/v3/index.html?channel=deportes.futbol.primeraa.448672&lang=es_LA',\n",
       " 'http://www.afa.com.ar/deposito/html/v3/index.html?channel=deportes.futbol.primeraa.448668&lang=es_LA',\n",
       " 'http://www.afa.com.ar/deposito/html/v3/index.html?channel=deportes.futbol.primeraa.448676&lang=es_LA',\n",
       " 'http://www.afa.com.ar/deposito/html/v3/index.html?channel=deportes.futbol.primeraa.448675&lang=es_LA',\n",
       " 'http://www.afa.com.ar/deposito/html/v3/index.html?channel=deportes.futbol.primeraa.448669&lang=es_LA',\n",
       " 'http://www.afa.com.ar/deposito/html/v3/index.html?channel=deportes.futbol.primeraa.448684&lang=es_LA',\n",
       " 'http://www.afa.com.ar/deposito/html/v3/index.html?channel=deportes.futbol.primeraa.448689&lang=es_LA',\n",
       " 'http://www.afa.com.ar/deposito/html/v3/index.html?channel=deportes.futbol.primeraa.448691&lang=es_LA',\n",
       " 'http://www.afa.com.ar/deposito/html/v3/index.html?channel=deportes.futbol.primeraa.448680&lang=es_LA',\n",
       " 'http://www.afa.com.ar/deposito/html/v3/index.html?channel=deportes.futbol.primeraa.448686&lang=es_LA',\n",
       " 'http://www.afa.com.ar/deposito/html/v3/index.html?channel=deportes.futbol.primeraa.448681&lang=es_LA',\n",
       " 'http://www.afa.com.ar/deposito/html/v3/index.html?channel=deportes.futbol.primeraa.448679&lang=es_LA',\n",
       " 'http://www.afa.com.ar/deposito/html/v3/index.html?channel=deportes.futbol.primeraa.448690&lang=es_LA',\n",
       " 'http://www.afa.com.ar/deposito/html/v3/index.html?channel=deportes.futbol.primeraa.448687&lang=es_LA',\n",
       " 'http://www.afa.com.ar/deposito/html/v3/index.html?channel=deportes.futbol.primeraa.448685&lang=es_LA',\n",
       " 'http://www.afa.com.ar/deposito/html/v3/index.html?channel=deportes.futbol.primeraa.448688&lang=es_LA',\n",
       " 'http://www.afa.com.ar/deposito/html/v3/index.html?channel=deportes.futbol.primeraa.448682&lang=es_LA',\n",
       " 'http://www.afa.com.ar/deposito/html/v3/index.html?channel=deportes.futbol.primeraa.448683&lang=es_LA',\n",
       " 'http://www.afa.com.ar/deposito/html/v3/index.html?channel=deportes.futbol.primeraa.448692&lang=es_LA',\n",
       " 'http://www.afa.com.ar/deposito/html/v3/index.html?channel=deportes.futbol.primeraa.448700&lang=es_LA',\n",
       " 'http://www.afa.com.ar/deposito/html/v3/index.html?channel=deportes.futbol.primeraa.448697&lang=es_LA',\n",
       " 'http://www.afa.com.ar/deposito/html/v3/index.html?channel=deportes.futbol.primeraa.448699&lang=es_LA',\n",
       " 'http://www.afa.com.ar/deposito/html/v3/index.html?channel=deportes.futbol.primeraa.448704&lang=es_LA',\n",
       " 'http://www.afa.com.ar/deposito/html/v3/index.html?channel=deportes.futbol.primeraa.448696&lang=es_LA',\n",
       " 'http://www.afa.com.ar/deposito/html/v3/index.html?channel=deportes.futbol.primeraa.448693&lang=es_LA',\n",
       " 'http://www.afa.com.ar/deposito/html/v3/index.html?channel=deportes.futbol.primeraa.448694&lang=es_LA',\n",
       " 'http://www.afa.com.ar/deposito/html/v3/index.html?channel=deportes.futbol.primeraa.448702&lang=es_LA',\n",
       " 'http://www.afa.com.ar/deposito/html/v3/index.html?channel=deportes.futbol.primeraa.448698&lang=es_LA',\n",
       " 'http://www.afa.com.ar/deposito/html/v3/index.html?channel=deportes.futbol.primeraa.448703&lang=es_LA',\n",
       " 'http://www.afa.com.ar/deposito/html/v3/index.html?channel=deportes.futbol.primeraa.448701&lang=es_LA',\n",
       " 'http://www.afa.com.ar/deposito/html/v3/index.html?channel=deportes.futbol.primeraa.448695&lang=es_LA',\n",
       " 'http://www.afa.com.ar/deposito/html/v3/index.html?channel=deportes.futbol.primeraa.448709&lang=es_LA',\n",
       " 'http://www.afa.com.ar/deposito/html/v3/index.html?channel=deportes.futbol.primeraa.448717&lang=es_LA',\n",
       " 'http://www.afa.com.ar/deposito/html/v3/index.html?channel=deportes.futbol.primeraa.448707&lang=es_LA',\n",
       " 'http://www.afa.com.ar/deposito/html/v3/index.html?channel=deportes.futbol.primeraa.448713&lang=es_LA',\n",
       " 'http://www.afa.com.ar/deposito/html/v3/index.html?channel=deportes.futbol.primeraa.448715&lang=es_LA',\n",
       " 'http://www.afa.com.ar/deposito/html/v3/index.html?channel=deportes.futbol.primeraa.448706&lang=es_LA',\n",
       " 'http://www.afa.com.ar/deposito/html/v3/index.html?channel=deportes.futbol.primeraa.448712&lang=es_LA',\n",
       " 'http://www.afa.com.ar/deposito/html/v3/index.html?channel=deportes.futbol.primeraa.448705&lang=es_LA',\n",
       " 'http://www.afa.com.ar/deposito/html/v3/index.html?channel=deportes.futbol.primeraa.448708&lang=es_LA',\n",
       " 'http://www.afa.com.ar/deposito/html/v3/index.html?channel=deportes.futbol.primeraa.448714&lang=es_LA',\n",
       " 'http://www.afa.com.ar/deposito/html/v3/index.html?channel=deportes.futbol.primeraa.448716&lang=es_LA',\n",
       " 'http://www.afa.com.ar/deposito/html/v3/index.html?channel=deportes.futbol.primeraa.448710&lang=es_LA',\n",
       " 'http://www.afa.com.ar/deposito/html/v3/index.html?channel=deportes.futbol.primeraa.448711&lang=es_LA',\n",
       " 'http://www.afa.com.ar/deposito/html/v3/index.html?channel=deportes.futbol.primeraa.448728&lang=es_LA',\n",
       " 'http://www.afa.com.ar/deposito/html/v3/index.html?channel=deportes.futbol.primeraa.448724&lang=es_LA',\n",
       " 'http://www.afa.com.ar/deposito/html/v3/index.html?channel=deportes.futbol.primeraa.448730&lang=es_LA',\n",
       " 'http://www.afa.com.ar/deposito/html/v3/index.html?channel=deportes.futbol.primeraa.448721&lang=es_LA',\n",
       " 'http://www.afa.com.ar/deposito/html/v3/index.html?channel=deportes.futbol.primeraa.448726&lang=es_LA',\n",
       " 'http://www.afa.com.ar/deposito/html/v3/index.html?channel=deportes.futbol.primeraa.448729&lang=es_LA',\n",
       " 'http://www.afa.com.ar/deposito/html/v3/index.html?channel=deportes.futbol.primeraa.448719&lang=es_LA',\n",
       " 'http://www.afa.com.ar/deposito/html/v3/index.html?channel=deportes.futbol.primeraa.448720&lang=es_LA',\n",
       " 'http://www.afa.com.ar/deposito/html/v3/index.html?channel=deportes.futbol.primeraa.448718&lang=es_LA',\n",
       " 'http://www.afa.com.ar/deposito/html/v3/index.html?channel=deportes.futbol.primeraa.448725&lang=es_LA',\n",
       " 'http://www.afa.com.ar/deposito/html/v3/index.html?channel=deportes.futbol.primeraa.448727&lang=es_LA',\n",
       " 'http://www.afa.com.ar/deposito/html/v3/index.html?channel=deportes.futbol.primeraa.448722&lang=es_LA',\n",
       " 'http://www.afa.com.ar/deposito/html/v3/index.html?channel=deportes.futbol.primeraa.448723&lang=es_LA',\n",
       " 'http://www.afa.com.ar/deposito/html/v3/index.html?channel=deportes.futbol.primeraa.448731&lang=es_LA',\n",
       " 'http://www.afa.com.ar/deposito/html/v3/index.html?channel=deportes.futbol.primeraa.448732&lang=es_LA',\n",
       " 'http://www.afa.com.ar/deposito/html/v3/index.html?channel=deportes.futbol.primeraa.448733&lang=es_LA',\n",
       " 'http://www.afa.com.ar/deposito/html/v3/index.html?channel=deportes.futbol.primeraa.448734&lang=es_LA',\n",
       " 'http://www.afa.com.ar/deposito/html/v3/index.html?channel=deportes.futbol.primeraa.448735&lang=es_LA',\n",
       " 'http://www.afa.com.ar/deposito/html/v3/index.html?channel=deportes.futbol.primeraa.448736&lang=es_LA',\n",
       " 'http://www.afa.com.ar/deposito/html/v3/index.html?channel=deportes.futbol.primeraa.448737&lang=es_LA',\n",
       " 'http://www.afa.com.ar/deposito/html/v3/index.html?channel=deportes.futbol.primeraa.448738&lang=es_LA',\n",
       " 'http://www.afa.com.ar/deposito/html/v3/index.html?channel=deportes.futbol.primeraa.448739&lang=es_LA',\n",
       " 'http://www.afa.com.ar/deposito/html/v3/index.html?channel=deportes.futbol.primeraa.448740&lang=es_LA',\n",
       " 'http://www.afa.com.ar/deposito/html/v3/index.html?channel=deportes.futbol.primeraa.448741&lang=es_LA',\n",
       " 'http://www.afa.com.ar/deposito/html/v3/index.html?channel=deportes.futbol.primeraa.448742&lang=es_LA',\n",
       " 'http://www.afa.com.ar/deposito/html/v3/index.html?channel=deportes.futbol.primeraa.448743&lang=es_LA',\n",
       " 'http://www.afa.com.ar/deposito/html/v3/index.html?channel=deportes.futbol.primeraa.448744&lang=es_LA',\n",
       " 'http://www.afa.com.ar/deposito/html/v3/index.html?channel=deportes.futbol.primeraa.448745&lang=es_LA',\n",
       " 'http://www.afa.com.ar/deposito/html/v3/index.html?channel=deportes.futbol.primeraa.448746&lang=es_LA',\n",
       " 'http://www.afa.com.ar/deposito/html/v3/index.html?channel=deportes.futbol.primeraa.448747&lang=es_LA',\n",
       " 'http://www.afa.com.ar/deposito/html/v3/index.html?channel=deportes.futbol.primeraa.448748&lang=es_LA',\n",
       " 'http://www.afa.com.ar/deposito/html/v3/index.html?channel=deportes.futbol.primeraa.448749&lang=es_LA',\n",
       " 'http://www.afa.com.ar/deposito/html/v3/index.html?channel=deportes.futbol.primeraa.448750&lang=es_LA',\n",
       " 'http://www.afa.com.ar/deposito/html/v3/index.html?channel=deportes.futbol.primeraa.448751&lang=es_LA',\n",
       " 'http://www.afa.com.ar/deposito/html/v3/index.html?channel=deportes.futbol.primeraa.448752&lang=es_LA',\n",
       " 'http://www.afa.com.ar/deposito/html/v3/index.html?channel=deportes.futbol.primeraa.448753&lang=es_LA',\n",
       " 'http://www.afa.com.ar/deposito/html/v3/index.html?channel=deportes.futbol.primeraa.448754&lang=es_LA',\n",
       " 'http://www.afa.com.ar/deposito/html/v3/index.html?channel=deportes.futbol.primeraa.448755&lang=es_LA',\n",
       " 'http://www.afa.com.ar/deposito/html/v3/index.html?channel=deportes.futbol.primeraa.448756&lang=es_LA',\n",
       " 'http://www.afa.com.ar/deposito/html/v3/index.html?channel=deportes.futbol.primeraa.448757&lang=es_LA',\n",
       " 'http://www.afa.com.ar/deposito/html/v3/index.html?channel=deportes.futbol.primeraa.448758&lang=es_LA',\n",
       " 'http://www.afa.com.ar/deposito/html/v3/index.html?channel=deportes.futbol.primeraa.448759&lang=es_LA',\n",
       " 'http://www.afa.com.ar/deposito/html/v3/index.html?channel=deportes.futbol.primeraa.448760&lang=es_LA',\n",
       " 'http://www.afa.com.ar/deposito/html/v3/index.html?channel=deportes.futbol.primeraa.448761&lang=es_LA',\n",
       " 'http://www.afa.com.ar/deposito/html/v3/index.html?channel=deportes.futbol.primeraa.448762&lang=es_LA',\n",
       " 'http://www.afa.com.ar/deposito/html/v3/index.html?channel=deportes.futbol.primeraa.448763&lang=es_LA',\n",
       " 'http://www.afa.com.ar/deposito/html/v3/index.html?channel=deportes.futbol.primeraa.448764&lang=es_LA',\n",
       " 'http://www.afa.com.ar/deposito/html/v3/index.html?channel=deportes.futbol.primeraa.448765&lang=es_LA',\n",
       " 'http://www.afa.com.ar/deposito/html/v3/index.html?channel=deportes.futbol.primeraa.448766&lang=es_LA',\n",
       " 'http://www.afa.com.ar/deposito/html/v3/index.html?channel=deportes.futbol.primeraa.448767&lang=es_LA',\n",
       " 'http://www.afa.com.ar/deposito/html/v3/index.html?channel=deportes.futbol.primeraa.448768&lang=es_LA',\n",
       " 'http://www.afa.com.ar/deposito/html/v3/index.html?channel=deportes.futbol.primeraa.448769&lang=es_LA',\n",
       " 'http://www.afa.com.ar/deposito/html/v3/index.html?channel=deportes.futbol.primeraa.448770&lang=es_LA',\n",
       " 'http://www.afa.com.ar/deposito/html/v3/index.html?channel=deportes.futbol.primeraa.448771&lang=es_LA',\n",
       " 'http://www.afa.com.ar/deposito/html/v3/index.html?channel=deportes.futbol.primeraa.448772&lang=es_LA',\n",
       " 'http://www.afa.com.ar/deposito/html/v3/index.html?channel=deportes.futbol.primeraa.448773&lang=es_LA',\n",
       " 'http://www.afa.com.ar/deposito/html/v3/index.html?channel=deportes.futbol.primeraa.448774&lang=es_LA',\n",
       " 'http://www.afa.com.ar/deposito/html/v3/index.html?channel=deportes.futbol.primeraa.448775&lang=es_LA',\n",
       " 'http://www.afa.com.ar/deposito/html/v3/index.html?channel=deportes.futbol.primeraa.448776&lang=es_LA',\n",
       " 'http://www.afa.com.ar/deposito/html/v3/index.html?channel=deportes.futbol.primeraa.448777&lang=es_LA',\n",
       " 'http://www.afa.com.ar/deposito/html/v3/index.html?channel=deportes.futbol.primeraa.448778&lang=es_LA',\n",
       " 'http://www.afa.com.ar/deposito/html/v3/index.html?channel=deportes.futbol.primeraa.448779&lang=es_LA',\n",
       " 'http://www.afa.com.ar/deposito/html/v3/index.html?channel=deportes.futbol.primeraa.448780&lang=es_LA',\n",
       " 'http://www.afa.com.ar/deposito/html/v3/index.html?channel=deportes.futbol.primeraa.448781&lang=es_LA',\n",
       " 'http://www.afa.com.ar/deposito/html/v3/index.html?channel=deportes.futbol.primeraa.448782&lang=es_LA',\n",
       " 'http://www.afa.com.ar/deposito/html/v3/index.html?channel=deportes.futbol.primeraa.448783&lang=es_LA',\n",
       " 'http://www.afa.com.ar/deposito/html/v3/index.html?channel=deportes.futbol.primeraa.448784&lang=es_LA',\n",
       " 'http://www.afa.com.ar/deposito/html/v3/index.html?channel=deportes.futbol.primeraa.448785&lang=es_LA',\n",
       " 'http://www.afa.com.ar/deposito/html/v3/index.html?channel=deportes.futbol.primeraa.448786&lang=es_LA',\n",
       " 'http://www.afa.com.ar/deposito/html/v3/index.html?channel=deportes.futbol.primeraa.448787&lang=es_LA',\n",
       " 'http://www.afa.com.ar/deposito/html/v3/index.html?channel=deportes.futbol.primeraa.448788&lang=es_LA',\n",
       " 'http://www.afa.com.ar/deposito/html/v3/index.html?channel=deportes.futbol.primeraa.448789&lang=es_LA',\n",
       " 'http://www.afa.com.ar/deposito/html/v3/index.html?channel=deportes.futbol.primeraa.448790&lang=es_LA',\n",
       " 'http://www.afa.com.ar/deposito/html/v3/index.html?channel=deportes.futbol.primeraa.448791&lang=es_LA',\n",
       " 'http://www.afa.com.ar/deposito/html/v3/index.html?channel=deportes.futbol.primeraa.448792&lang=es_LA',\n",
       " 'http://www.afa.com.ar/deposito/html/v3/index.html?channel=deportes.futbol.primeraa.448793&lang=es_LA',\n",
       " 'http://www.afa.com.ar/deposito/html/v3/index.html?channel=deportes.futbol.primeraa.448794&lang=es_LA',\n",
       " 'http://www.afa.com.ar/deposito/html/v3/index.html?channel=deportes.futbol.primeraa.448795&lang=es_LA',\n",
       " 'http://www.afa.com.ar/deposito/html/v3/index.html?channel=deportes.futbol.primeraa.448796&lang=es_LA',\n",
       " 'http://www.afa.com.ar/deposito/html/v3/index.html?channel=deportes.futbol.primeraa.448797&lang=es_LA',\n",
       " 'http://www.afa.com.ar/deposito/html/v3/index.html?channel=deportes.futbol.primeraa.448798&lang=es_LA',\n",
       " 'http://www.afa.com.ar/deposito/html/v3/index.html?channel=deportes.futbol.primeraa.448799&lang=es_LA',\n",
       " 'http://www.afa.com.ar/deposito/html/v3/index.html?channel=deportes.futbol.primeraa.448800&lang=es_LA',\n",
       " 'http://www.afa.com.ar/deposito/html/v3/index.html?channel=deportes.futbol.primeraa.448801&lang=es_LA',\n",
       " 'http://www.afa.com.ar/deposito/html/v3/index.html?channel=deportes.futbol.primeraa.448802&lang=es_LA',\n",
       " 'http://www.afa.com.ar/deposito/html/v3/index.html?channel=deportes.futbol.primeraa.448803&lang=es_LA',\n",
       " 'http://www.afa.com.ar/deposito/html/v3/index.html?channel=deportes.futbol.primeraa.448804&lang=es_LA',\n",
       " 'http://www.afa.com.ar/deposito/html/v3/index.html?channel=deportes.futbol.primeraa.448805&lang=es_LA',\n",
       " 'http://www.afa.com.ar/deposito/html/v3/index.html?channel=deportes.futbol.primeraa.448806&lang=es_LA',\n",
       " 'http://www.afa.com.ar/deposito/html/v3/index.html?channel=deportes.futbol.primeraa.448807&lang=es_LA',\n",
       " 'http://www.afa.com.ar/deposito/html/v3/index.html?channel=deportes.futbol.primeraa.448808&lang=es_LA',\n",
       " 'http://www.afa.com.ar/deposito/html/v3/index.html?channel=deportes.futbol.primeraa.448809&lang=es_LA',\n",
       " 'http://www.afa.com.ar/deposito/html/v3/index.html?channel=deportes.futbol.primeraa.448810&lang=es_LA',\n",
       " 'http://www.afa.com.ar/deposito/html/v3/index.html?channel=deportes.futbol.primeraa.448811&lang=es_LA',\n",
       " 'http://www.afa.com.ar/deposito/html/v3/index.html?channel=deportes.futbol.primeraa.448812&lang=es_LA',\n",
       " 'http://www.afa.com.ar/deposito/html/v3/index.html?channel=deportes.futbol.primeraa.448813&lang=es_LA',\n",
       " 'http://www.afa.com.ar/deposito/html/v3/index.html?channel=deportes.futbol.primeraa.448814&lang=es_LA',\n",
       " 'http://www.afa.com.ar/deposito/html/v3/index.html?channel=deportes.futbol.primeraa.448815&lang=es_LA',\n",
       " 'http://www.afa.com.ar/deposito/html/v3/index.html?channel=deportes.futbol.primeraa.448816&lang=es_LA',\n",
       " 'http://www.afa.com.ar/deposito/html/v3/index.html?channel=deportes.futbol.primeraa.448817&lang=es_LA',\n",
       " 'http://www.afa.com.ar/deposito/html/v3/index.html?channel=deportes.futbol.primeraa.448818&lang=es_LA',\n",
       " 'http://www.afa.com.ar/deposito/html/v3/index.html?channel=deportes.futbol.primeraa.448819&lang=es_LA',\n",
       " 'http://www.afa.com.ar/deposito/html/v3/index.html?channel=deportes.futbol.primeraa.448820&lang=es_LA',\n",
       " 'http://www.afa.com.ar/deposito/html/v3/index.html?channel=deportes.futbol.primeraa.448821&lang=es_LA',\n",
       " 'http://www.afa.com.ar/deposito/html/v3/index.html?channel=deportes.futbol.primeraa.448822&lang=es_LA',\n",
       " 'http://www.afa.com.ar/deposito/html/v3/index.html?channel=deportes.futbol.primeraa.448823&lang=es_LA',\n",
       " 'http://www.afa.com.ar/deposito/html/v3/index.html?channel=deportes.futbol.primeraa.448824&lang=es_LA',\n",
       " 'http://www.afa.com.ar/deposito/html/v3/index.html?channel=deportes.futbol.primeraa.448825&lang=es_LA',\n",
       " 'http://www.afa.com.ar/deposito/html/v3/index.html?channel=deportes.futbol.primeraa.448826&lang=es_LA',\n",
       " 'http://www.afa.com.ar/deposito/html/v3/index.html?channel=deportes.futbol.primeraa.448827&lang=es_LA',\n",
       " 'http://www.afa.com.ar/deposito/html/v3/index.html?channel=deportes.futbol.primeraa.448828&lang=es_LA',\n",
       " 'http://www.afa.com.ar/deposito/html/v3/index.html?channel=deportes.futbol.primeraa.448829&lang=es_LA',\n",
       " 'http://www.afa.com.ar/deposito/html/v3/index.html?channel=deportes.futbol.primeraa.448830&lang=es_LA',\n",
       " 'http://www.afa.com.ar/deposito/html/v3/index.html?channel=deportes.futbol.primeraa.448831&lang=es_LA',\n",
       " 'http://www.afa.com.ar/deposito/html/v3/index.html?channel=deportes.futbol.primeraa.448832&lang=es_LA',\n",
       " 'http://www.afa.com.ar/deposito/html/v3/index.html?channel=deportes.futbol.primeraa.448833&lang=es_LA',\n",
       " 'http://www.afa.com.ar/deposito/html/v3/index.html?channel=deportes.futbol.primeraa.448834&lang=es_LA',\n",
       " 'http://www.afa.com.ar/deposito/html/v3/index.html?channel=deportes.futbol.primeraa.448835&lang=es_LA',\n",
       " 'http://www.afa.com.ar/deposito/html/v3/index.html?channel=deportes.futbol.primeraa.448836&lang=es_LA',\n",
       " 'http://www.afa.com.ar/deposito/html/v3/index.html?channel=deportes.futbol.primeraa.448837&lang=es_LA',\n",
       " 'http://www.afa.com.ar/deposito/html/v3/index.html?channel=deportes.futbol.primeraa.448838&lang=es_LA',\n",
       " 'http://www.afa.com.ar/deposito/html/v3/index.html?channel=deportes.futbol.primeraa.448839&lang=es_LA',\n",
       " 'http://www.afa.com.ar/deposito/html/v3/index.html?channel=deportes.futbol.primeraa.448840&lang=es_LA',\n",
       " 'http://www.afa.com.ar/deposito/html/v3/index.html?channel=deportes.futbol.primeraa.448841&lang=es_LA',\n",
       " 'http://www.afa.com.ar/deposito/html/v3/index.html?channel=deportes.futbol.primeraa.448842&lang=es_LA',\n",
       " 'http://www.afa.com.ar/deposito/html/v3/index.html?channel=deportes.futbol.primeraa.448843&lang=es_LA',\n",
       " 'http://www.afa.com.ar/deposito/html/v3/index.html?channel=deportes.futbol.primeraa.448844&lang=es_LA',\n",
       " 'http://www.afa.com.ar/deposito/html/v3/index.html?channel=deportes.futbol.primeraa.448845&lang=es_LA',\n",
       " 'http://www.afa.com.ar/deposito/html/v3/index.html?channel=deportes.futbol.primeraa.448846&lang=es_LA',\n",
       " 'http://www.afa.com.ar/deposito/html/v3/index.html?channel=deportes.futbol.primeraa.448847&lang=es_LA',\n",
       " 'http://www.afa.com.ar/deposito/html/v3/index.html?channel=deportes.futbol.primeraa.448848&lang=es_LA',\n",
       " 'http://www.afa.com.ar/deposito/html/v3/index.html?channel=deportes.futbol.primeraa.448849&lang=es_LA',\n",
       " 'http://www.afa.com.ar/deposito/html/v3/index.html?channel=deportes.futbol.primeraa.448850&lang=es_LA',\n",
       " 'http://www.afa.com.ar/deposito/html/v3/index.html?channel=deportes.futbol.primeraa.448851&lang=es_LA',\n",
       " 'http://www.afa.com.ar/deposito/html/v3/index.html?channel=deportes.futbol.primeraa.448852&lang=es_LA',\n",
       " 'http://www.afa.com.ar/deposito/html/v3/index.html?channel=deportes.futbol.primeraa.448853&lang=es_LA',\n",
       " 'http://www.afa.com.ar/deposito/html/v3/index.html?channel=deportes.futbol.primeraa.448854&lang=es_LA',\n",
       " 'http://www.afa.com.ar/deposito/html/v3/index.html?channel=deportes.futbol.primeraa.448855&lang=es_LA',\n",
       " 'http://www.afa.com.ar/deposito/html/v3/index.html?channel=deportes.futbol.primeraa.448856&lang=es_LA',\n",
       " 'http://www.afa.com.ar/deposito/html/v3/index.html?channel=deportes.futbol.primeraa.448857&lang=es_LA',\n",
       " 'http://www.afa.com.ar/deposito/html/v3/index.html?channel=deportes.futbol.primeraa.448858&lang=es_LA',\n",
       " 'http://www.afa.com.ar/deposito/html/v3/index.html?channel=deportes.futbol.primeraa.448859&lang=es_LA',\n",
       " 'http://www.afa.com.ar/deposito/html/v3/index.html?channel=deportes.futbol.primeraa.448860&lang=es_LA']"
      ]
     },
     "execution_count": 80,
     "metadata": {},
     "output_type": "execute_result"
    }
   ],
   "source": [
    "page_links"
   ]
  },
  {
   "cell_type": "markdown",
   "metadata": {},
   "source": [
    "# MongoDB"
   ]
  },
  {
   "cell_type": "code",
   "execution_count": 24,
   "metadata": {},
   "outputs": [],
   "source": [
    "import pymongo\n",
    "mc = pymongo.MongoClient()\n",
    "db = mc['gameinfo_db']\n",
    "games = db['games']"
   ]
  },
  {
   "cell_type": "code",
   "execution_count": 56,
   "metadata": {},
   "outputs": [],
   "source": [
    "from html_scraper import insert_new_games, get_urls"
   ]
  },
  {
   "cell_type": "code",
   "execution_count": 75,
   "metadata": {},
   "outputs": [],
   "source": [
    "urls = get_urls(page_links[0:150])"
   ]
  },
  {
   "cell_type": "code",
   "execution_count": null,
   "metadata": {},
   "outputs": [],
   "source": []
  },
  {
   "cell_type": "code",
   "execution_count": 67,
   "metadata": {},
   "outputs": [
    {
     "ename": "TypeError",
     "evalue": "string indices must be integers",
     "output_type": "error",
     "traceback": [
      "\u001b[0;31m---------------------------------------------------------------------------\u001b[0m",
      "\u001b[0;31mTypeError\u001b[0m                                 Traceback (most recent call last)",
      "\u001b[0;32m<ipython-input-67-195587d8d4b5>\u001b[0m in \u001b[0;36m<module>\u001b[0;34m()\u001b[0m\n\u001b[0;32m----> 1\u001b[0;31m \u001b[0minsert_new_games\u001b[0m\u001b[0;34m(\u001b[0m\u001b[0murls\u001b[0m\u001b[0;34m)\u001b[0m\u001b[0;34m\u001b[0m\u001b[0m\n\u001b[0m",
      "\u001b[0;32m~/galvanize/super_liga_xg/html_scraper.py\u001b[0m in \u001b[0;36minsert_new_games\u001b[0;34m(game_urls)\u001b[0m\n\u001b[1;32m     19\u001b[0m     \u001b[0;34m\"\"\"Insert game only if their URLs aren't already in the DB\"\"\"\u001b[0m\u001b[0;34m\u001b[0m\u001b[0m\n\u001b[1;32m     20\u001b[0m     \u001b[0;32mfor\u001b[0m \u001b[0mgame\u001b[0m \u001b[0;32min\u001b[0m \u001b[0mgame_urls\u001b[0m\u001b[0;34m:\u001b[0m\u001b[0;34m\u001b[0m\u001b[0m\n\u001b[0;32m---> 21\u001b[0;31m         \u001b[0;32mif\u001b[0m \u001b[0mgames\u001b[0m\u001b[0;34m.\u001b[0m\u001b[0mcount_documents\u001b[0m\u001b[0;34m(\u001b[0m\u001b[0;34m{\u001b[0m\u001b[0;34m'url'\u001b[0m\u001b[0;34m:\u001b[0m \u001b[0mgame\u001b[0m\u001b[0;34m[\u001b[0m\u001b[0;34m'url'\u001b[0m\u001b[0;34m]\u001b[0m\u001b[0;34m}\u001b[0m\u001b[0;34m)\u001b[0m \u001b[0;34m==\u001b[0m \u001b[0;36m0\u001b[0m\u001b[0;34m:\u001b[0m\u001b[0;34m\u001b[0m\u001b[0m\n\u001b[0m\u001b[1;32m     22\u001b[0m             \u001b[0mgames\u001b[0m\u001b[0;34m.\u001b[0m\u001b[0minsert_one\u001b[0m\u001b[0;34m(\u001b[0m\u001b[0mgame\u001b[0m\u001b[0;34m)\u001b[0m\u001b[0;34m\u001b[0m\u001b[0m\n",
      "\u001b[0;31mTypeError\u001b[0m: string indices must be integers"
     ]
    }
   ],
   "source": []
  },
  {
   "cell_type": "code",
   "execution_count": null,
   "metadata": {},
   "outputs": [],
   "source": []
  }
 ],
 "metadata": {
  "kernelspec": {
   "display_name": "Python 3",
   "language": "python",
   "name": "python3"
  },
  "language_info": {
   "codemirror_mode": {
    "name": "ipython",
    "version": 3
   },
   "file_extension": ".py",
   "mimetype": "text/x-python",
   "name": "python",
   "nbconvert_exporter": "python",
   "pygments_lexer": "ipython3",
   "version": "3.6.6"
  }
 },
 "nbformat": 4,
 "nbformat_minor": 2
}
