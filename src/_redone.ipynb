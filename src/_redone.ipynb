{
 "cells": [
  {
   "cell_type": "code",
   "execution_count": 1,
   "metadata": {},
   "outputs": [],
   "source": [
    "import sys\n",
    "sys.path.insert(0, '/Users/david/galvanize/super_liga_xg')"
   ]
  },
  {
   "cell_type": "code",
   "execution_count": 2,
   "metadata": {},
   "outputs": [],
   "source": [
    "import pprint\n",
    "import json\n",
    "import pandas as pd\n",
    "import numpy as np\n",
    "import matplotlib.pyplot as plt"
   ]
  },
  {
   "cell_type": "code",
   "execution_count": 3,
   "metadata": {},
   "outputs": [],
   "source": [
    "from scraping_tools.html_scraper import db\n",
    "from data_preparation import ConvertData"
   ]
  },
  {
   "cell_type": "code",
   "execution_count": 4,
   "metadata": {},
   "outputs": [],
   "source": [
    "pd.set_option('display.max_columns', 50)"
   ]
  },
  {
   "cell_type": "markdown",
   "metadata": {},
   "source": [
    "# 1) Pulling shot data from mongo_db and preparing for modeling"
   ]
  },
  {
   "cell_type": "code",
   "execution_count": 5,
   "metadata": {},
   "outputs": [],
   "source": [
    "games = db['games_update'].find()"
   ]
  },
  {
   "cell_type": "code",
   "execution_count": 6,
   "metadata": {},
   "outputs": [],
   "source": [
    "cd = ConvertData()"
   ]
  },
  {
   "cell_type": "code",
   "execution_count": 7,
   "metadata": {},
   "outputs": [],
   "source": [
    "df = cd.games_to_df(games)"
   ]
  },
  {
   "cell_type": "code",
   "execution_count": 8,
   "metadata": {},
   "outputs": [],
   "source": [
    "df_no_pen = cd.drop_penalties(df)"
   ]
  },
  {
   "cell_type": "code",
   "execution_count": 9,
   "metadata": {},
   "outputs": [
    {
     "data": {
      "text/html": [
       "<div>\n",
       "<style scoped>\n",
       "    .dataframe tbody tr th:only-of-type {\n",
       "        vertical-align: middle;\n",
       "    }\n",
       "\n",
       "    .dataframe tbody tr th {\n",
       "        vertical-align: top;\n",
       "    }\n",
       "\n",
       "    .dataframe thead th {\n",
       "        text-align: right;\n",
       "    }\n",
       "</style>\n",
       "<table border=\"1\" class=\"dataframe\">\n",
       "  <thead>\n",
       "    <tr style=\"text-align: right;\">\n",
       "      <th></th>\n",
       "      <th>game_id</th>\n",
       "      <th>player_id</th>\n",
       "      <th>shot_coord_x1</th>\n",
       "      <th>shot_coord_x2</th>\n",
       "      <th>shot_coord_y1</th>\n",
       "      <th>shot_coord_y2</th>\n",
       "      <th>shot_coord_z1</th>\n",
       "      <th>shot_coord_z2</th>\n",
       "      <th>shot_id</th>\n",
       "      <th>shot_type</th>\n",
       "      <th>team_id</th>\n",
       "      <th>time_of_event(min)</th>\n",
       "      <th>passed_from_id</th>\n",
       "      <th>pass_coord_x1</th>\n",
       "      <th>pass_coord_x2</th>\n",
       "      <th>pass_coord_y1</th>\n",
       "      <th>pass_coord_y2</th>\n",
       "      <th>pass_coord_z1</th>\n",
       "      <th>pass_coord_z2</th>\n",
       "      <th>corner_kick</th>\n",
       "      <th>shot_distance</th>\n",
       "      <th>shot_angle</th>\n",
       "      <th>assisted_shot</th>\n",
       "      <th>is_penalty_attempt</th>\n",
       "      <th>is_goal</th>\n",
       "    </tr>\n",
       "  </thead>\n",
       "  <tbody>\n",
       "    <tr>\n",
       "      <th>0</th>\n",
       "      <td>448548</td>\n",
       "      <td>99779.0</td>\n",
       "      <td>6.67</td>\n",
       "      <td>0.00</td>\n",
       "      <td>1.51</td>\n",
       "      <td>-1.21</td>\n",
       "      <td>-1</td>\n",
       "      <td>0.83</td>\n",
       "      <td>22336297</td>\n",
       "      <td>11</td>\n",
       "      <td>20</td>\n",
       "      <td>1.033333</td>\n",
       "      <td>177285.0</td>\n",
       "      <td>0.89</td>\n",
       "      <td>12.44</td>\n",
       "      <td>29.36</td>\n",
       "      <td>-4.84</td>\n",
       "      <td>-1.0</td>\n",
       "      <td>-1.0</td>\n",
       "      <td>1.0</td>\n",
       "      <td>6.838786</td>\n",
       "      <td>12.755990</td>\n",
       "      <td>1.0</td>\n",
       "      <td>0.0</td>\n",
       "      <td>1</td>\n",
       "    </tr>\n",
       "    <tr>\n",
       "      <th>1</th>\n",
       "      <td>448548</td>\n",
       "      <td>60730.0</td>\n",
       "      <td>21.33</td>\n",
       "      <td>12.00</td>\n",
       "      <td>4.24</td>\n",
       "      <td>-0.91</td>\n",
       "      <td>-1</td>\n",
       "      <td>0.73</td>\n",
       "      <td>22336386</td>\n",
       "      <td>35</td>\n",
       "      <td>20</td>\n",
       "      <td>9.683333</td>\n",
       "      <td>NaN</td>\n",
       "      <td>NaN</td>\n",
       "      <td>NaN</td>\n",
       "      <td>NaN</td>\n",
       "      <td>NaN</td>\n",
       "      <td>NaN</td>\n",
       "      <td>NaN</td>\n",
       "      <td>0.0</td>\n",
       "      <td>21.747333</td>\n",
       "      <td>11.242763</td>\n",
       "      <td>0.0</td>\n",
       "      <td>0.0</td>\n",
       "      <td>0</td>\n",
       "    </tr>\n",
       "    <tr>\n",
       "      <th>3</th>\n",
       "      <td>448548</td>\n",
       "      <td>185745.0</td>\n",
       "      <td>8.44</td>\n",
       "      <td>0.89</td>\n",
       "      <td>14.53</td>\n",
       "      <td>-6.66</td>\n",
       "      <td>-1</td>\n",
       "      <td>-1.00</td>\n",
       "      <td>22336723</td>\n",
       "      <td>33</td>\n",
       "      <td>20</td>\n",
       "      <td>38.883333</td>\n",
       "      <td>177285.0</td>\n",
       "      <td>22.67</td>\n",
       "      <td>6.22</td>\n",
       "      <td>3.93</td>\n",
       "      <td>19.67</td>\n",
       "      <td>-1.0</td>\n",
       "      <td>-1.0</td>\n",
       "      <td>0.0</td>\n",
       "      <td>16.803407</td>\n",
       "      <td>59.849102</td>\n",
       "      <td>1.0</td>\n",
       "      <td>0.0</td>\n",
       "      <td>0</td>\n",
       "    </tr>\n",
       "    <tr>\n",
       "      <th>4</th>\n",
       "      <td>448548</td>\n",
       "      <td>77892.0</td>\n",
       "      <td>22.22</td>\n",
       "      <td>0.44</td>\n",
       "      <td>13.92</td>\n",
       "      <td>-8.48</td>\n",
       "      <td>-1</td>\n",
       "      <td>-1.00</td>\n",
       "      <td>22336739</td>\n",
       "      <td>33</td>\n",
       "      <td>13</td>\n",
       "      <td>40.083333</td>\n",
       "      <td>NaN</td>\n",
       "      <td>NaN</td>\n",
       "      <td>NaN</td>\n",
       "      <td>NaN</td>\n",
       "      <td>NaN</td>\n",
       "      <td>NaN</td>\n",
       "      <td>NaN</td>\n",
       "      <td>0.0</td>\n",
       "      <td>26.220122</td>\n",
       "      <td>32.065607</td>\n",
       "      <td>0.0</td>\n",
       "      <td>0.0</td>\n",
       "      <td>0</td>\n",
       "    </tr>\n",
       "    <tr>\n",
       "      <th>5</th>\n",
       "      <td>448548</td>\n",
       "      <td>77892.0</td>\n",
       "      <td>11.56</td>\n",
       "      <td>0.44</td>\n",
       "      <td>10.59</td>\n",
       "      <td>-1.21</td>\n",
       "      <td>-1</td>\n",
       "      <td>0.14</td>\n",
       "      <td>22336802</td>\n",
       "      <td>35</td>\n",
       "      <td>13</td>\n",
       "      <td>44.483333</td>\n",
       "      <td>NaN</td>\n",
       "      <td>NaN</td>\n",
       "      <td>NaN</td>\n",
       "      <td>NaN</td>\n",
       "      <td>NaN</td>\n",
       "      <td>NaN</td>\n",
       "      <td>NaN</td>\n",
       "      <td>0.0</td>\n",
       "      <td>15.677426</td>\n",
       "      <td>42.492487</td>\n",
       "      <td>0.0</td>\n",
       "      <td>0.0</td>\n",
       "      <td>0</td>\n",
       "    </tr>\n",
       "  </tbody>\n",
       "</table>\n",
       "</div>"
      ],
      "text/plain": [
       "  game_id  player_id  shot_coord_x1  shot_coord_x2  shot_coord_y1  \\\n",
       "0  448548    99779.0           6.67           0.00           1.51   \n",
       "1  448548    60730.0          21.33          12.00           4.24   \n",
       "3  448548   185745.0           8.44           0.89          14.53   \n",
       "4  448548    77892.0          22.22           0.44          13.92   \n",
       "5  448548    77892.0          11.56           0.44          10.59   \n",
       "\n",
       "   shot_coord_y2 shot_coord_z1  shot_coord_z2   shot_id shot_type team_id  \\\n",
       "0          -1.21            -1           0.83  22336297        11      20   \n",
       "1          -0.91            -1           0.73  22336386        35      20   \n",
       "3          -6.66            -1          -1.00  22336723        33      20   \n",
       "4          -8.48            -1          -1.00  22336739        33      13   \n",
       "5          -1.21            -1           0.14  22336802        35      13   \n",
       "\n",
       "   time_of_event(min)  passed_from_id  pass_coord_x1  pass_coord_x2  \\\n",
       "0            1.033333        177285.0           0.89          12.44   \n",
       "1            9.683333             NaN            NaN            NaN   \n",
       "3           38.883333        177285.0          22.67           6.22   \n",
       "4           40.083333             NaN            NaN            NaN   \n",
       "5           44.483333             NaN            NaN            NaN   \n",
       "\n",
       "   pass_coord_y1  pass_coord_y2  pass_coord_z1  pass_coord_z2  corner_kick  \\\n",
       "0          29.36          -4.84           -1.0           -1.0          1.0   \n",
       "1            NaN            NaN            NaN            NaN          0.0   \n",
       "3           3.93          19.67           -1.0           -1.0          0.0   \n",
       "4            NaN            NaN            NaN            NaN          0.0   \n",
       "5            NaN            NaN            NaN            NaN          0.0   \n",
       "\n",
       "   shot_distance  shot_angle  assisted_shot  is_penalty_attempt is_goal  \n",
       "0       6.838786   12.755990            1.0                 0.0       1  \n",
       "1      21.747333   11.242763            0.0                 0.0       0  \n",
       "3      16.803407   59.849102            1.0                 0.0       0  \n",
       "4      26.220122   32.065607            0.0                 0.0       0  \n",
       "5      15.677426   42.492487            0.0                 0.0       0  "
      ]
     },
     "execution_count": 9,
     "metadata": {},
     "output_type": "execute_result"
    }
   ],
   "source": [
    "df_no_pen.head()"
   ]
  },
  {
   "cell_type": "code",
   "execution_count": 10,
   "metadata": {},
   "outputs": [],
   "source": [
    "X, y, shot_df = cd.create_xy_prep(df_no_pen)"
   ]
  },
  {
   "cell_type": "code",
   "execution_count": 11,
   "metadata": {},
   "outputs": [
    {
     "data": {
      "text/plain": [
       "True"
      ]
     },
     "execution_count": 11,
     "metadata": {},
     "output_type": "execute_result"
    }
   ],
   "source": [
    "len(X) == len(y)"
   ]
  },
  {
   "cell_type": "code",
   "execution_count": 12,
   "metadata": {},
   "outputs": [
    {
     "data": {
      "text/html": [
       "<div>\n",
       "<style scoped>\n",
       "    .dataframe tbody tr th:only-of-type {\n",
       "        vertical-align: middle;\n",
       "    }\n",
       "\n",
       "    .dataframe tbody tr th {\n",
       "        vertical-align: top;\n",
       "    }\n",
       "\n",
       "    .dataframe thead th {\n",
       "        text-align: right;\n",
       "    }\n",
       "</style>\n",
       "<table border=\"1\" class=\"dataframe\">\n",
       "  <thead>\n",
       "    <tr style=\"text-align: right;\">\n",
       "      <th></th>\n",
       "      <th>player_id</th>\n",
       "      <th>shot_distance</th>\n",
       "      <th>shot_angle</th>\n",
       "      <th>assisted_shot</th>\n",
       "      <th>is_goal</th>\n",
       "      <th>passed_from_id</th>\n",
       "    </tr>\n",
       "  </thead>\n",
       "  <tbody>\n",
       "    <tr>\n",
       "      <th>0</th>\n",
       "      <td>99779.0</td>\n",
       "      <td>6.838786</td>\n",
       "      <td>12.755990</td>\n",
       "      <td>1.0</td>\n",
       "      <td>1</td>\n",
       "      <td>177285.0</td>\n",
       "    </tr>\n",
       "    <tr>\n",
       "      <th>1</th>\n",
       "      <td>60730.0</td>\n",
       "      <td>21.747333</td>\n",
       "      <td>11.242763</td>\n",
       "      <td>0.0</td>\n",
       "      <td>0</td>\n",
       "      <td>NaN</td>\n",
       "    </tr>\n",
       "    <tr>\n",
       "      <th>3</th>\n",
       "      <td>185745.0</td>\n",
       "      <td>16.803407</td>\n",
       "      <td>59.849102</td>\n",
       "      <td>1.0</td>\n",
       "      <td>0</td>\n",
       "      <td>177285.0</td>\n",
       "    </tr>\n",
       "    <tr>\n",
       "      <th>4</th>\n",
       "      <td>77892.0</td>\n",
       "      <td>26.220122</td>\n",
       "      <td>32.065607</td>\n",
       "      <td>0.0</td>\n",
       "      <td>0</td>\n",
       "      <td>NaN</td>\n",
       "    </tr>\n",
       "    <tr>\n",
       "      <th>5</th>\n",
       "      <td>77892.0</td>\n",
       "      <td>15.677426</td>\n",
       "      <td>42.492487</td>\n",
       "      <td>0.0</td>\n",
       "      <td>0</td>\n",
       "      <td>NaN</td>\n",
       "    </tr>\n",
       "  </tbody>\n",
       "</table>\n",
       "</div>"
      ],
      "text/plain": [
       "   player_id  shot_distance  shot_angle  assisted_shot is_goal  passed_from_id\n",
       "0    99779.0       6.838786   12.755990            1.0       1        177285.0\n",
       "1    60730.0      21.747333   11.242763            0.0       0             NaN\n",
       "3   185745.0      16.803407   59.849102            1.0       0        177285.0\n",
       "4    77892.0      26.220122   32.065607            0.0       0             NaN\n",
       "5    77892.0      15.677426   42.492487            0.0       0             NaN"
      ]
     },
     "execution_count": 12,
     "metadata": {},
     "output_type": "execute_result"
    }
   ],
   "source": [
    "shot_df.head()"
   ]
  },
  {
   "cell_type": "markdown",
   "metadata": {},
   "source": [
    "# 2) Performance w K-folds"
   ]
  },
  {
   "cell_type": "code",
   "execution_count": 13,
   "metadata": {},
   "outputs": [],
   "source": [
    "from kfold_comp import KfoldComparison\n",
    "from sklearn.metrics import log_loss\n",
    "from sklearn.model_selection import train_test_split, KFold\n",
    "from sklearn.ensemble import  RandomForestClassifier, GradientBoostingClassifier\n",
    "from xgboost import XGBClassifier\n",
    "import numpy as np"
   ]
  },
  {
   "cell_type": "code",
   "execution_count": 14,
   "metadata": {},
   "outputs": [],
   "source": [
    "rf_model = RandomForestClassifier(n_estimators=300, max_depth=3, verbose=1, random_state=8)\n",
    "xgb_model = XGBClassifier(learning_rate = 0.01, max_depth = 3, n_estimators = 300, random_state=8)\n",
    "gb_model = GradientBoostingClassifier(learning_rate=0.01, max_depth=4, max_features='log2', min_samples_leaf=4, n_estimators=280, subsample=0.25, random_state=8)"
   ]
  },
  {
   "cell_type": "code",
   "execution_count": 15,
   "metadata": {},
   "outputs": [],
   "source": [
    "kc = KfoldComparison(rf_model, xgb_model, gb_model)"
   ]
  },
  {
   "cell_type": "code",
   "execution_count": 16,
   "metadata": {},
   "outputs": [
    {
     "name": "stderr",
     "output_type": "stream",
     "text": [
      "[Parallel(n_jobs=1)]: Using backend SequentialBackend with 1 concurrent workers.\n",
      "[Parallel(n_jobs=1)]: Done 300 out of 300 | elapsed:    0.4s finished\n",
      "[Parallel(n_jobs=1)]: Using backend SequentialBackend with 1 concurrent workers.\n",
      "[Parallel(n_jobs=1)]: Done 300 out of 300 | elapsed:    0.0s finished\n",
      "[Parallel(n_jobs=1)]: Using backend SequentialBackend with 1 concurrent workers.\n",
      "[Parallel(n_jobs=1)]: Done 300 out of 300 | elapsed:    0.3s finished\n",
      "[Parallel(n_jobs=1)]: Using backend SequentialBackend with 1 concurrent workers.\n",
      "[Parallel(n_jobs=1)]: Done 300 out of 300 | elapsed:    0.0s finished\n",
      "[Parallel(n_jobs=1)]: Using backend SequentialBackend with 1 concurrent workers.\n",
      "[Parallel(n_jobs=1)]: Done 300 out of 300 | elapsed:    0.3s finished\n",
      "[Parallel(n_jobs=1)]: Using backend SequentialBackend with 1 concurrent workers.\n",
      "[Parallel(n_jobs=1)]: Done 300 out of 300 | elapsed:    0.0s finished\n",
      "[Parallel(n_jobs=1)]: Using backend SequentialBackend with 1 concurrent workers.\n",
      "[Parallel(n_jobs=1)]: Done 300 out of 300 | elapsed:    0.3s finished\n",
      "[Parallel(n_jobs=1)]: Using backend SequentialBackend with 1 concurrent workers.\n",
      "[Parallel(n_jobs=1)]: Done 300 out of 300 | elapsed:    0.0s finished\n",
      "[Parallel(n_jobs=1)]: Using backend SequentialBackend with 1 concurrent workers.\n",
      "[Parallel(n_jobs=1)]: Done 300 out of 300 | elapsed:    0.4s finished\n",
      "[Parallel(n_jobs=1)]: Using backend SequentialBackend with 1 concurrent workers.\n",
      "[Parallel(n_jobs=1)]: Done 300 out of 300 | elapsed:    0.0s finished\n"
     ]
    }
   ],
   "source": [
    "model_performance = kc.kfold_performance(X, y)"
   ]
  },
  {
   "cell_type": "code",
   "execution_count": 17,
   "metadata": {},
   "outputs": [
    {
     "data": {
      "text/plain": [
       "{'RandomForestClassifier': {'scores over k splits': [0.3275601142949458,\n",
       "   0.2598850371235993,\n",
       "   0.31029943270000976,\n",
       "   0.29977531479770164,\n",
       "   0.29027946265614446],\n",
       "  'mean score': 0.29755987231448017},\n",
       " 'XGBClassifier': {'scores over k splits': [0.3205625975668869,\n",
       "   0.27954830782049717,\n",
       "   0.28788262710303947,\n",
       "   0.29842956981019064,\n",
       "   0.29757355771333377],\n",
       "  'mean score': 0.29679933200278963},\n",
       " 'GradientBoostingClassifier': {'scores over k splits': [0.2927048439053497,\n",
       "   0.2997007760634123,\n",
       "   0.3217547255945939,\n",
       "   0.27255568875160635,\n",
       "   0.29018746923636013],\n",
       "  'mean score': 0.29538070071026445}}"
      ]
     },
     "execution_count": 17,
     "metadata": {},
     "output_type": "execute_result"
    }
   ],
   "source": [
    "model_performance"
   ]
  },
  {
   "cell_type": "markdown",
   "metadata": {},
   "source": [
    "# 3) Tuning"
   ]
  },
  {
   "cell_type": "code",
   "execution_count": 18,
   "metadata": {},
   "outputs": [],
   "source": [
    "from kfold_comp import XGBoostTuner"
   ]
  },
  {
   "cell_type": "code",
   "execution_count": 19,
   "metadata": {},
   "outputs": [],
   "source": [
    "xt = XGBoostTuner()"
   ]
  },
  {
   "cell_type": "code",
   "execution_count": 20,
   "metadata": {},
   "outputs": [],
   "source": [
    "xgb_scores = xt.xgb_kfolds(X, y, [2, 4, 6, 8, 10])"
   ]
  },
  {
   "cell_type": "code",
   "execution_count": 21,
   "metadata": {},
   "outputs": [
    {
     "data": {
      "text/plain": [
       "{'200 trees': {'scores over k splits': [0.31678828204817633,\n",
       "   0.3075737889308263,\n",
       "   0.300106135438032,\n",
       "   0.32910019458435913,\n",
       "   0.29707677435234126],\n",
       "  'mean score': 0.310129035070747},\n",
       " '400 trees': {'scores over k splits': [0.3060992603957215,\n",
       "   0.28942265463445116,\n",
       "   0.28049036862109517,\n",
       "   0.3223998676684192,\n",
       "   0.27295035071703927],\n",
       "  'mean score': 0.29427250040734526},\n",
       " '600 trees': {'scores over k splits': [0.3070932225022903,\n",
       "   0.2908978165839525,\n",
       "   0.27925455492838996,\n",
       "   0.3269659901298035,\n",
       "   0.2714525934374605],\n",
       "  'mean score': 0.29513283551637937},\n",
       " '800 trees': {'scores over k splits': [0.30896474396097745,\n",
       "   0.29195561359143435,\n",
       "   0.28003585335921827,\n",
       "   0.3317013686646105,\n",
       "   0.2716020154046644],\n",
       "  'mean score': 0.29685191899618096},\n",
       " '1000 trees': {'scores over k splits': [0.31210567712345544,\n",
       "   0.2933789899490555,\n",
       "   0.2808106052908389,\n",
       "   0.33556055737084106,\n",
       "   0.2743885882256418],\n",
       "  'mean score': 0.29924888359196655}}"
      ]
     },
     "execution_count": 21,
     "metadata": {},
     "output_type": "execute_result"
    }
   ],
   "source": [
    "xgb_scores"
   ]
  },
  {
   "cell_type": "code",
   "execution_count": 22,
   "metadata": {},
   "outputs": [
    {
     "data": {
      "text/plain": [
       "(0.29427250040734526, '400 trees')"
      ]
     },
     "execution_count": 22,
     "metadata": {},
     "output_type": "execute_result"
    }
   ],
   "source": [
    "xt.best_params()"
   ]
  },
  {
   "cell_type": "code",
   "execution_count": 23,
   "metadata": {},
   "outputs": [],
   "source": [
    "from kfold_comp import GradientBoostTuner"
   ]
  },
  {
   "cell_type": "code",
   "execution_count": 24,
   "metadata": {},
   "outputs": [],
   "source": [
    "gbt = GradientBoostTuner()"
   ]
  },
  {
   "cell_type": "code",
   "execution_count": 25,
   "metadata": {},
   "outputs": [],
   "source": [
    "gb_dict = gbt.gb_kfolds(X, y)"
   ]
  },
  {
   "cell_type": "code",
   "execution_count": 26,
   "metadata": {},
   "outputs": [
    {
     "data": {
      "text/plain": [
       "{'Depth 1': {'scores over ksplits': [0.2934454133195602,\n",
       "   0.28705023498832694,\n",
       "   0.29030841605540975,\n",
       "   0.3028250959653611,\n",
       "   0.289204671557898],\n",
       "  'mean score': 0.29256676637731116,\n",
       "  'number of trees': [299, 289, 299, 298, 221]},\n",
       " 'Depth 2': {'scores over ksplits': [0.29256850442725096,\n",
       "   0.2888257241274842,\n",
       "   0.29016859898563535,\n",
       "   0.3053394291733273,\n",
       "   0.28908210673994195],\n",
       "  'mean score': 0.29319687269072797,\n",
       "  'number of trees': [299, 248, 197, 167, 138]},\n",
       " 'Depth 3': {'scores over ksplits': [0.2947779852165973,\n",
       "   0.2891957251953801,\n",
       "   0.2915187686934574,\n",
       "   0.30843221245251123,\n",
       "   0.28828025693564124],\n",
       "  'mean score': 0.29444098969871746,\n",
       "  'number of trees': [299, 240, 277, 162, 134]},\n",
       " 'Depth 4': {'scores over ksplits': [0.2928617044707311,\n",
       "   0.2872799799842507,\n",
       "   0.29266328666391983,\n",
       "   0.3095114702082014,\n",
       "   0.2891856456950433],\n",
       "  'mean score': 0.29430041740442925,\n",
       "  'number of trees': [164, 235, 140, 114, 140]},\n",
       " 'Depth 5': {'scores over ksplits': [0.29688934478481793,\n",
       "   0.2918747578386198,\n",
       "   0.29438385109293175,\n",
       "   0.3140456801461413,\n",
       "   0.29195271946496937],\n",
       "  'mean score': 0.297829270665496,\n",
       "  'number of trees': [152, 193, 153, 101, 119]},\n",
       " 'Depth 6': {'scores over ksplits': [0.29985849462979486,\n",
       "   0.29801570347177053,\n",
       "   0.2993888405117733,\n",
       "   0.31609527138714394,\n",
       "   0.29454039626026257],\n",
       "  'mean score': 0.30157974125214904,\n",
       "  'number of trees': [131, 151, 111, 88, 102]}}"
      ]
     },
     "execution_count": 26,
     "metadata": {},
     "output_type": "execute_result"
    }
   ],
   "source": [
    "gb_dict"
   ]
  },
  {
   "cell_type": "code",
   "execution_count": 27,
   "metadata": {},
   "outputs": [
    {
     "data": {
      "text/plain": [
       "('Depth 1', 0.29256676637731116, 281.2)"
      ]
     },
     "execution_count": 27,
     "metadata": {},
     "output_type": "execute_result"
    }
   ],
   "source": [
    "gbt.best_params()"
   ]
  },
  {
   "cell_type": "markdown",
   "metadata": {},
   "source": [
    "# 4) Comparing Tuned Models"
   ]
  },
  {
   "cell_type": "code",
   "execution_count": 28,
   "metadata": {},
   "outputs": [],
   "source": [
    "xgboost_model = XGBClassifier(learning_rate = 0.01, max_depth = 3, n_estimators = 400, random_state=8)\n",
    "gradient_boost_model = GradientBoostingClassifier(learning_rate=0.01, max_depth=1, max_features='log2', min_samples_leaf=4, n_estimators=281, subsample=0.25, random_state=8)\n",
    "random_forest_model = RandomForestClassifier(n_estimators=300, max_depth=3, verbose=1, random_state=8)"
   ]
  },
  {
   "cell_type": "code",
   "execution_count": 29,
   "metadata": {},
   "outputs": [],
   "source": [
    "kc_tuned = KfoldComparison(random_forest_model, xgboost_model, gradient_boost_model)"
   ]
  },
  {
   "cell_type": "code",
   "execution_count": 30,
   "metadata": {},
   "outputs": [
    {
     "name": "stderr",
     "output_type": "stream",
     "text": [
      "[Parallel(n_jobs=1)]: Using backend SequentialBackend with 1 concurrent workers.\n",
      "[Parallel(n_jobs=1)]: Done 300 out of 300 | elapsed:    0.4s finished\n",
      "[Parallel(n_jobs=1)]: Using backend SequentialBackend with 1 concurrent workers.\n",
      "[Parallel(n_jobs=1)]: Done 300 out of 300 | elapsed:    0.1s finished\n",
      "[Parallel(n_jobs=1)]: Using backend SequentialBackend with 1 concurrent workers.\n",
      "[Parallel(n_jobs=1)]: Done 300 out of 300 | elapsed:    0.5s finished\n",
      "[Parallel(n_jobs=1)]: Using backend SequentialBackend with 1 concurrent workers.\n",
      "[Parallel(n_jobs=1)]: Done 300 out of 300 | elapsed:    0.0s finished\n",
      "[Parallel(n_jobs=1)]: Using backend SequentialBackend with 1 concurrent workers.\n",
      "[Parallel(n_jobs=1)]: Done 300 out of 300 | elapsed:    0.4s finished\n",
      "[Parallel(n_jobs=1)]: Using backend SequentialBackend with 1 concurrent workers.\n",
      "[Parallel(n_jobs=1)]: Done 300 out of 300 | elapsed:    0.1s finished\n",
      "[Parallel(n_jobs=1)]: Using backend SequentialBackend with 1 concurrent workers.\n",
      "[Parallel(n_jobs=1)]: Done 300 out of 300 | elapsed:    0.3s finished\n",
      "[Parallel(n_jobs=1)]: Using backend SequentialBackend with 1 concurrent workers.\n",
      "[Parallel(n_jobs=1)]: Done 300 out of 300 | elapsed:    0.0s finished\n",
      "[Parallel(n_jobs=1)]: Using backend SequentialBackend with 1 concurrent workers.\n",
      "[Parallel(n_jobs=1)]: Done 300 out of 300 | elapsed:    0.4s finished\n",
      "[Parallel(n_jobs=1)]: Using backend SequentialBackend with 1 concurrent workers.\n",
      "[Parallel(n_jobs=1)]: Done 300 out of 300 | elapsed:    0.0s finished\n"
     ]
    }
   ],
   "source": [
    "tuned_model_performance = kc_tuned.kfold_performance(X, y)"
   ]
  },
  {
   "cell_type": "code",
   "execution_count": 31,
   "metadata": {},
   "outputs": [
    {
     "data": {
      "text/plain": [
       "{'RandomForestClassifier': {'scores over k splits': [0.29546540906476165,\n",
       "   0.2889701853094394,\n",
       "   0.29951160736615234,\n",
       "   0.29573637940391106,\n",
       "   0.3036051751704289],\n",
       "  'mean score': 0.2966577512629387},\n",
       " 'XGBClassifier': {'scores over k splits': [0.2660052969558712,\n",
       "   0.29229684397030403,\n",
       "   0.2699489613118417,\n",
       "   0.32000349151408847,\n",
       "   0.32344481072475],\n",
       "  'mean score': 0.2943398808953711},\n",
       " 'GradientBoostingClassifier': {'scores over k splits': [0.31291283322009356,\n",
       "   0.2931699923604007,\n",
       "   0.303222326530608,\n",
       "   0.2840979503124294,\n",
       "   0.3058292452325093],\n",
       "  'mean score': 0.2998464695312082}}"
      ]
     },
     "execution_count": 31,
     "metadata": {},
     "output_type": "execute_result"
    }
   ],
   "source": [
    "tuned_model_performance"
   ]
  },
  {
   "cell_type": "code",
   "execution_count": 32,
   "metadata": {},
   "outputs": [
    {
     "data": {
      "text/plain": [
       "{'RandomForestClassifier': {'scores over k splits': [0.3275601142949458,\n",
       "   0.2598850371235993,\n",
       "   0.31029943270000976,\n",
       "   0.29977531479770164,\n",
       "   0.29027946265614446],\n",
       "  'mean score': 0.29755987231448017},\n",
       " 'XGBClassifier': {'scores over k splits': [0.3205625975668869,\n",
       "   0.27954830782049717,\n",
       "   0.28788262710303947,\n",
       "   0.29842956981019064,\n",
       "   0.29757355771333377],\n",
       "  'mean score': 0.29679933200278963},\n",
       " 'GradientBoostingClassifier': {'scores over k splits': [0.2927048439053497,\n",
       "   0.2997007760634123,\n",
       "   0.3217547255945939,\n",
       "   0.27255568875160635,\n",
       "   0.29018746923636013],\n",
       "  'mean score': 0.29538070071026445}}"
      ]
     },
     "execution_count": 32,
     "metadata": {},
     "output_type": "execute_result"
    }
   ],
   "source": [
    "model_performance"
   ]
  },
  {
   "cell_type": "markdown",
   "metadata": {},
   "source": [
    "2/3 tuned_model_performance perform better - xgboost is the best"
   ]
  },
  {
   "cell_type": "markdown",
   "metadata": {},
   "source": [
    "# Modeling on all"
   ]
  },
  {
   "cell_type": "code",
   "execution_count": 109,
   "metadata": {},
   "outputs": [],
   "source": [
    "from xg import ExpectedGoal"
   ]
  },
  {
   "cell_type": "code",
   "execution_count": 110,
   "metadata": {},
   "outputs": [
    {
     "data": {
      "text/html": [
       "<div>\n",
       "<style scoped>\n",
       "    .dataframe tbody tr th:only-of-type {\n",
       "        vertical-align: middle;\n",
       "    }\n",
       "\n",
       "    .dataframe tbody tr th {\n",
       "        vertical-align: top;\n",
       "    }\n",
       "\n",
       "    .dataframe thead th {\n",
       "        text-align: right;\n",
       "    }\n",
       "</style>\n",
       "<table border=\"1\" class=\"dataframe\">\n",
       "  <thead>\n",
       "    <tr style=\"text-align: right;\">\n",
       "      <th></th>\n",
       "      <th>player_id</th>\n",
       "      <th>shot_distance</th>\n",
       "      <th>shot_angle</th>\n",
       "      <th>assisted_shot</th>\n",
       "      <th>is_goal</th>\n",
       "      <th>passed_from_id</th>\n",
       "    </tr>\n",
       "  </thead>\n",
       "  <tbody>\n",
       "    <tr>\n",
       "      <th>0</th>\n",
       "      <td>99779.0</td>\n",
       "      <td>6.838786</td>\n",
       "      <td>12.755990</td>\n",
       "      <td>1.0</td>\n",
       "      <td>1</td>\n",
       "      <td>177285.0</td>\n",
       "    </tr>\n",
       "    <tr>\n",
       "      <th>1</th>\n",
       "      <td>60730.0</td>\n",
       "      <td>21.747333</td>\n",
       "      <td>11.242763</td>\n",
       "      <td>0.0</td>\n",
       "      <td>0</td>\n",
       "      <td>NaN</td>\n",
       "    </tr>\n",
       "    <tr>\n",
       "      <th>3</th>\n",
       "      <td>185745.0</td>\n",
       "      <td>16.803407</td>\n",
       "      <td>59.849102</td>\n",
       "      <td>1.0</td>\n",
       "      <td>0</td>\n",
       "      <td>177285.0</td>\n",
       "    </tr>\n",
       "    <tr>\n",
       "      <th>4</th>\n",
       "      <td>77892.0</td>\n",
       "      <td>26.220122</td>\n",
       "      <td>32.065607</td>\n",
       "      <td>0.0</td>\n",
       "      <td>0</td>\n",
       "      <td>NaN</td>\n",
       "    </tr>\n",
       "    <tr>\n",
       "      <th>5</th>\n",
       "      <td>77892.0</td>\n",
       "      <td>15.677426</td>\n",
       "      <td>42.492487</td>\n",
       "      <td>0.0</td>\n",
       "      <td>0</td>\n",
       "      <td>NaN</td>\n",
       "    </tr>\n",
       "  </tbody>\n",
       "</table>\n",
       "</div>"
      ],
      "text/plain": [
       "   player_id  shot_distance  shot_angle  assisted_shot is_goal  passed_from_id\n",
       "0    99779.0       6.838786   12.755990            1.0       1        177285.0\n",
       "1    60730.0      21.747333   11.242763            0.0       0             NaN\n",
       "3   185745.0      16.803407   59.849102            1.0       0        177285.0\n",
       "4    77892.0      26.220122   32.065607            0.0       0             NaN\n",
       "5    77892.0      15.677426   42.492487            0.0       0             NaN"
      ]
     },
     "execution_count": 110,
     "metadata": {},
     "output_type": "execute_result"
    }
   ],
   "source": [
    "shot_df.head()"
   ]
  },
  {
   "cell_type": "code",
   "execution_count": 111,
   "metadata": {},
   "outputs": [],
   "source": [
    "eg = ExpectedGoal(random_forest_model, xgboost_model, gradient_boost_model, shot_df)"
   ]
  },
  {
   "cell_type": "code",
   "execution_count": 112,
   "metadata": {},
   "outputs": [
    {
     "name": "stderr",
     "output_type": "stream",
     "text": [
      "[Parallel(n_jobs=1)]: Using backend SequentialBackend with 1 concurrent workers.\n",
      "[Parallel(n_jobs=1)]: Done 300 out of 300 | elapsed:    0.1s finished\n"
     ]
    }
   ],
   "source": [
    "eg.predict_prob()"
   ]
  },
  {
   "cell_type": "code",
   "execution_count": 113,
   "metadata": {},
   "outputs": [],
   "source": [
    "ensemble_df, assist_df = eg.xg_ensemble()"
   ]
  },
  {
   "cell_type": "code",
   "execution_count": 114,
   "metadata": {},
   "outputs": [],
   "source": [
    "total_df = eg.xg_and_xa()"
   ]
  },
  {
   "cell_type": "code",
   "execution_count": 115,
   "metadata": {},
   "outputs": [
    {
     "data": {
      "text/html": [
       "<div>\n",
       "<style scoped>\n",
       "    .dataframe tbody tr th:only-of-type {\n",
       "        vertical-align: middle;\n",
       "    }\n",
       "\n",
       "    .dataframe tbody tr th {\n",
       "        vertical-align: top;\n",
       "    }\n",
       "\n",
       "    .dataframe thead th {\n",
       "        text-align: right;\n",
       "    }\n",
       "</style>\n",
       "<table border=\"1\" class=\"dataframe\">\n",
       "  <thead>\n",
       "    <tr style=\"text-align: right;\">\n",
       "      <th></th>\n",
       "      <th>player_id</th>\n",
       "      <th>total_xG</th>\n",
       "      <th>goals</th>\n",
       "      <th>total_xA</th>\n",
       "      <th>total_xG+xA</th>\n",
       "    </tr>\n",
       "  </thead>\n",
       "  <tbody>\n",
       "    <tr>\n",
       "      <th>125</th>\n",
       "      <td>24256.0</td>\n",
       "      <td>5.60</td>\n",
       "      <td>12</td>\n",
       "      <td>0.47</td>\n",
       "      <td>6.07</td>\n",
       "    </tr>\n",
       "    <tr>\n",
       "      <th>113</th>\n",
       "      <td>488.0</td>\n",
       "      <td>3.09</td>\n",
       "      <td>8</td>\n",
       "      <td>0.37</td>\n",
       "      <td>3.46</td>\n",
       "    </tr>\n",
       "    <tr>\n",
       "      <th>234</th>\n",
       "      <td>119431.0</td>\n",
       "      <td>1.86</td>\n",
       "      <td>6</td>\n",
       "      <td>1.64</td>\n",
       "      <td>3.50</td>\n",
       "    </tr>\n",
       "    <tr>\n",
       "      <th>83</th>\n",
       "      <td>136659.0</td>\n",
       "      <td>1.82</td>\n",
       "      <td>5</td>\n",
       "      <td>0.49</td>\n",
       "      <td>2.31</td>\n",
       "    </tr>\n",
       "    <tr>\n",
       "      <th>344</th>\n",
       "      <td>172801.0</td>\n",
       "      <td>2.08</td>\n",
       "      <td>5</td>\n",
       "      <td>0.25</td>\n",
       "      <td>2.33</td>\n",
       "    </tr>\n",
       "  </tbody>\n",
       "</table>\n",
       "</div>"
      ],
      "text/plain": [
       "     player_id  total_xG  goals  total_xA  total_xG+xA\n",
       "125    24256.0      5.60     12      0.47         6.07\n",
       "113      488.0      3.09      8      0.37         3.46\n",
       "234   119431.0      1.86      6      1.64         3.50\n",
       "83    136659.0      1.82      5      0.49         2.31\n",
       "344   172801.0      2.08      5      0.25         2.33"
      ]
     },
     "execution_count": 115,
     "metadata": {},
     "output_type": "execute_result"
    }
   ],
   "source": [
    "total_df.head()"
   ]
  },
  {
   "cell_type": "code",
   "execution_count": 116,
   "metadata": {},
   "outputs": [
    {
     "data": {
      "text/plain": [
       "346.93999999999994"
      ]
     },
     "execution_count": 116,
     "metadata": {},
     "output_type": "execute_result"
    }
   ],
   "source": [
    "total_df['total_xG'].sum()"
   ]
  },
  {
   "cell_type": "code",
   "execution_count": 117,
   "metadata": {},
   "outputs": [
    {
     "data": {
      "text/plain": [
       "342"
      ]
     },
     "execution_count": 117,
     "metadata": {},
     "output_type": "execute_result"
    }
   ],
   "source": [
    "total_df['goals'].sum()"
   ]
  },
  {
   "cell_type": "code",
   "execution_count": null,
   "metadata": {},
   "outputs": [],
   "source": []
  }
 ],
 "metadata": {
  "kernelspec": {
   "display_name": "Python 3",
   "language": "python",
   "name": "python3"
  },
  "language_info": {
   "codemirror_mode": {
    "name": "ipython",
    "version": 3
   },
   "file_extension": ".py",
   "mimetype": "text/x-python",
   "name": "python",
   "nbconvert_exporter": "python",
   "pygments_lexer": "ipython3",
   "version": "3.6.8"
  }
 },
 "nbformat": 4,
 "nbformat_minor": 2
}
