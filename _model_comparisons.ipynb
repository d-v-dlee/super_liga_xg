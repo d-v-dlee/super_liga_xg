{
 "cells": [
  {
   "cell_type": "code",
   "execution_count": 1,
   "metadata": {},
   "outputs": [],
   "source": [
    "from combined_player import player_minutes_value\n",
    "from html_scraper import db\n",
    "from mongo_to_db import create_master_df"
   ]
  },
  {
   "cell_type": "code",
   "execution_count": 2,
   "metadata": {},
   "outputs": [],
   "source": [
    "import pprint\n",
    "import json\n",
    "import pandas as pd\n",
    "import numpy as np\n",
    "import matplotlib.pyplot as plt"
   ]
  },
  {
   "cell_type": "code",
   "execution_count": 3,
   "metadata": {},
   "outputs": [],
   "source": [
    "pd.set_option('display.max_columns', 50)"
   ]
  },
  {
   "cell_type": "markdown",
   "metadata": {},
   "source": [
    "# Dataframe of Players"
   ]
  },
  {
   "cell_type": "code",
   "execution_count": 4,
   "metadata": {},
   "outputs": [],
   "source": [
    "games = db.games.find()\n",
    "players = db.players.find()"
   ]
  },
  {
   "cell_type": "code",
   "execution_count": 5,
   "metadata": {},
   "outputs": [],
   "source": [
    "final_df = player_minutes_value(games, players)"
   ]
  },
  {
   "cell_type": "code",
   "execution_count": 6,
   "metadata": {},
   "outputs": [
    {
     "data": {
      "text/html": [
       "<div>\n",
       "<style scoped>\n",
       "    .dataframe tbody tr th:only-of-type {\n",
       "        vertical-align: middle;\n",
       "    }\n",
       "\n",
       "    .dataframe tbody tr th {\n",
       "        vertical-align: top;\n",
       "    }\n",
       "\n",
       "    .dataframe thead th {\n",
       "        text-align: right;\n",
       "    }\n",
       "</style>\n",
       "<table border=\"1\" class=\"dataframe\">\n",
       "  <thead>\n",
       "    <tr style=\"text-align: right;\">\n",
       "      <th></th>\n",
       "      <th>player_id</th>\n",
       "      <th>player_name</th>\n",
       "      <th>club</th>\n",
       "      <th>birthday</th>\n",
       "      <th>age</th>\n",
       "      <th>foot</th>\n",
       "      <th>squad_num</th>\n",
       "      <th>height</th>\n",
       "      <th>total_minutes_played</th>\n",
       "      <th>transfer_value(sterlings)</th>\n",
       "      <th>transfer_value(USD)</th>\n",
       "    </tr>\n",
       "  </thead>\n",
       "  <tbody>\n",
       "    <tr>\n",
       "      <th>0</th>\n",
       "      <td>19132.0</td>\n",
       "      <td>Alexander Domínguez</td>\n",
       "      <td>Squad Club Atlético Vélez Sarsfield</td>\n",
       "      <td>Jun 5, 1987 (31)</td>\n",
       "      <td>31</td>\n",
       "      <td>right</td>\n",
       "      <td>22.0</td>\n",
       "      <td>1,95 m</td>\n",
       "      <td>1080.000000</td>\n",
       "      <td>£1.58m</td>\n",
       "      <td>2.01</td>\n",
       "    </tr>\n",
       "    <tr>\n",
       "      <th>1</th>\n",
       "      <td>27987.0</td>\n",
       "      <td>Lucas Hoyos</td>\n",
       "      <td>Squad Club Atlético Vélez Sarsfield</td>\n",
       "      <td>Apr 29, 1989 (29)</td>\n",
       "      <td>29</td>\n",
       "      <td>right</td>\n",
       "      <td>12.0</td>\n",
       "      <td>1,83 m</td>\n",
       "      <td>90.000000</td>\n",
       "      <td>£135k</td>\n",
       "      <td>0.17</td>\n",
       "    </tr>\n",
       "    <tr>\n",
       "      <th>2</th>\n",
       "      <td>30896.0</td>\n",
       "      <td>Gastón Díaz</td>\n",
       "      <td>Squad Club Atlético Vélez Sarsfield</td>\n",
       "      <td>Mar 13, 1988 (30)</td>\n",
       "      <td>30</td>\n",
       "      <td>right</td>\n",
       "      <td>24.0</td>\n",
       "      <td>1,75 m</td>\n",
       "      <td>896.483333</td>\n",
       "      <td>£450k</td>\n",
       "      <td>0.57</td>\n",
       "    </tr>\n",
       "    <tr>\n",
       "      <th>3</th>\n",
       "      <td>94225.0</td>\n",
       "      <td>Joaquín Laso</td>\n",
       "      <td>Squad Club Atlético Vélez Sarsfield</td>\n",
       "      <td>Jul 4, 1990 (28)</td>\n",
       "      <td>28</td>\n",
       "      <td>right</td>\n",
       "      <td>6.0</td>\n",
       "      <td>1,85 m</td>\n",
       "      <td>990.000000</td>\n",
       "      <td>£270k</td>\n",
       "      <td>0.34</td>\n",
       "    </tr>\n",
       "    <tr>\n",
       "      <th>4</th>\n",
       "      <td>99779.0</td>\n",
       "      <td>Luis Abram</td>\n",
       "      <td>Squad Club Atlético Vélez Sarsfield</td>\n",
       "      <td>Feb 27, 1996 (22)</td>\n",
       "      <td>22</td>\n",
       "      <td>left</td>\n",
       "      <td>29.0</td>\n",
       "      <td>1,80 m</td>\n",
       "      <td>1080.000000</td>\n",
       "      <td>£405k</td>\n",
       "      <td>0.51</td>\n",
       "    </tr>\n",
       "  </tbody>\n",
       "</table>\n",
       "</div>"
      ],
      "text/plain": [
       "   player_id          player_name                                 club  \\\n",
       "0    19132.0  Alexander Domínguez  Squad Club Atlético Vélez Sarsfield   \n",
       "1    27987.0          Lucas Hoyos  Squad Club Atlético Vélez Sarsfield   \n",
       "2    30896.0          Gastón Díaz  Squad Club Atlético Vélez Sarsfield   \n",
       "3    94225.0         Joaquín Laso  Squad Club Atlético Vélez Sarsfield   \n",
       "4    99779.0           Luis Abram  Squad Club Atlético Vélez Sarsfield   \n",
       "\n",
       "            birthday  age   foot  squad_num  height  total_minutes_played  \\\n",
       "0   Jun 5, 1987 (31)   31  right       22.0  1,95 m           1080.000000   \n",
       "1  Apr 29, 1989 (29)   29  right       12.0  1,83 m             90.000000   \n",
       "2  Mar 13, 1988 (30)   30  right       24.0  1,75 m            896.483333   \n",
       "3   Jul 4, 1990 (28)   28  right        6.0  1,85 m            990.000000   \n",
       "4  Feb 27, 1996 (22)   22   left       29.0  1,80 m           1080.000000   \n",
       "\n",
       "  transfer_value(sterlings)  transfer_value(USD)  \n",
       "0                    £1.58m                 2.01  \n",
       "1                     £135k                 0.17  \n",
       "2                     £450k                 0.57  \n",
       "3                     £270k                 0.34  \n",
       "4                     £405k                 0.51  "
      ]
     },
     "execution_count": 6,
     "metadata": {},
     "output_type": "execute_result"
    }
   ],
   "source": [
    "final_df.head()"
   ]
  },
  {
   "cell_type": "markdown",
   "metadata": {},
   "source": [
    "# Shot Data Dataframe"
   ]
  },
  {
   "cell_type": "code",
   "execution_count": 7,
   "metadata": {},
   "outputs": [
    {
     "name": "stderr",
     "output_type": "stream",
     "text": [
      "/Users/david/galvanize/super_liga_xg/mongo_to_db.py:69: FutureWarning: Sorting because non-concatenation axis is not aligned. A future version\n",
      "of pandas will change to not sort by default.\n",
      "\n",
      "To accept the future behavior, pass 'sort=False'.\n",
      "\n",
      "To retain the current behavior and silence the warning, pass 'sort=True'.\n",
      "\n",
      "  final_df = pd.concat([attach_to_df, df], axis=0, ignore_index=True)\n",
      "/Users/david/galvanize/super_liga_xg/dataframe_cleaner.py:133: SettingWithCopyWarning: \n",
      "A value is trying to be set on a copy of a slice from a DataFrame.\n",
      "Try using .loc[row_indexer,col_indexer] = value instead\n",
      "\n",
      "See the caveats in the documentation: http://pandas.pydata.org/pandas-docs/stable/indexing.html#indexing-view-versus-copy\n",
      "  input_df['is_goal'] = input_df.loc[:, 'shot_type'].isin([9, 11, 12, 13]).astype(int)\n"
     ]
    }
   ],
   "source": [
    "games = db.games.find()\n",
    "shots_df = create_master_df(games)"
   ]
  },
  {
   "cell_type": "code",
   "execution_count": 8,
   "metadata": {},
   "outputs": [
    {
     "data": {
      "text/html": [
       "<div>\n",
       "<style scoped>\n",
       "    .dataframe tbody tr th:only-of-type {\n",
       "        vertical-align: middle;\n",
       "    }\n",
       "\n",
       "    .dataframe tbody tr th {\n",
       "        vertical-align: top;\n",
       "    }\n",
       "\n",
       "    .dataframe thead th {\n",
       "        text-align: right;\n",
       "    }\n",
       "</style>\n",
       "<table border=\"1\" class=\"dataframe\">\n",
       "  <thead>\n",
       "    <tr style=\"text-align: right;\">\n",
       "      <th></th>\n",
       "      <th>game_id</th>\n",
       "      <th>player_id</th>\n",
       "      <th>shot_coord_x1</th>\n",
       "      <th>shot_coord_x2</th>\n",
       "      <th>shot_coord_y1</th>\n",
       "      <th>shot_coord_y2</th>\n",
       "      <th>shot_coord_z1</th>\n",
       "      <th>shot_coord_z2</th>\n",
       "      <th>shot_id</th>\n",
       "      <th>shot_type</th>\n",
       "      <th>team_id</th>\n",
       "      <th>time_of_event(min)</th>\n",
       "      <th>passed_from_id</th>\n",
       "      <th>pass_coord_x1</th>\n",
       "      <th>pass_coord_x2</th>\n",
       "      <th>pass_coord_y1</th>\n",
       "      <th>pass_coord_y2</th>\n",
       "      <th>pass_coord_z1</th>\n",
       "      <th>pass_coord_z2</th>\n",
       "      <th>corner_kick</th>\n",
       "      <th>shot_distance</th>\n",
       "      <th>shot_angle</th>\n",
       "      <th>assisted_shot</th>\n",
       "      <th>is_penalty_attempt</th>\n",
       "      <th>is_goal</th>\n",
       "    </tr>\n",
       "  </thead>\n",
       "  <tbody>\n",
       "    <tr>\n",
       "      <th>0</th>\n",
       "      <td>448548</td>\n",
       "      <td>99779.0</td>\n",
       "      <td>6.67</td>\n",
       "      <td>0.00</td>\n",
       "      <td>1.51</td>\n",
       "      <td>-1.21</td>\n",
       "      <td>-1</td>\n",
       "      <td>0.83</td>\n",
       "      <td>22336297</td>\n",
       "      <td>11</td>\n",
       "      <td>20</td>\n",
       "      <td>1.033333</td>\n",
       "      <td>177285.0</td>\n",
       "      <td>0.89</td>\n",
       "      <td>12.44</td>\n",
       "      <td>29.36</td>\n",
       "      <td>-4.84</td>\n",
       "      <td>-1.0</td>\n",
       "      <td>-1.0</td>\n",
       "      <td>1.0</td>\n",
       "      <td>6.838786</td>\n",
       "      <td>12.755990</td>\n",
       "      <td>1</td>\n",
       "      <td>0</td>\n",
       "      <td>1.0</td>\n",
       "    </tr>\n",
       "    <tr>\n",
       "      <th>1</th>\n",
       "      <td>448548</td>\n",
       "      <td>60730.0</td>\n",
       "      <td>21.33</td>\n",
       "      <td>12.00</td>\n",
       "      <td>4.24</td>\n",
       "      <td>-0.91</td>\n",
       "      <td>-1</td>\n",
       "      <td>0.73</td>\n",
       "      <td>22336386</td>\n",
       "      <td>35</td>\n",
       "      <td>20</td>\n",
       "      <td>9.683333</td>\n",
       "      <td>NaN</td>\n",
       "      <td>NaN</td>\n",
       "      <td>NaN</td>\n",
       "      <td>NaN</td>\n",
       "      <td>NaN</td>\n",
       "      <td>NaN</td>\n",
       "      <td>NaN</td>\n",
       "      <td>0.0</td>\n",
       "      <td>21.747333</td>\n",
       "      <td>11.242763</td>\n",
       "      <td>0</td>\n",
       "      <td>0</td>\n",
       "      <td>0.0</td>\n",
       "    </tr>\n",
       "    <tr>\n",
       "      <th>2</th>\n",
       "      <td>448548</td>\n",
       "      <td>177285.0</td>\n",
       "      <td>12.00</td>\n",
       "      <td>1.78</td>\n",
       "      <td>0.00</td>\n",
       "      <td>-3.03</td>\n",
       "      <td>-1</td>\n",
       "      <td>0.21</td>\n",
       "      <td>22336583</td>\n",
       "      <td>13</td>\n",
       "      <td>20</td>\n",
       "      <td>26.833333</td>\n",
       "      <td>NaN</td>\n",
       "      <td>NaN</td>\n",
       "      <td>NaN</td>\n",
       "      <td>NaN</td>\n",
       "      <td>NaN</td>\n",
       "      <td>NaN</td>\n",
       "      <td>NaN</td>\n",
       "      <td>0.0</td>\n",
       "      <td>12.000000</td>\n",
       "      <td>0.000000</td>\n",
       "      <td>0</td>\n",
       "      <td>1</td>\n",
       "      <td>1.0</td>\n",
       "    </tr>\n",
       "    <tr>\n",
       "      <th>3</th>\n",
       "      <td>448548</td>\n",
       "      <td>185745.0</td>\n",
       "      <td>8.44</td>\n",
       "      <td>0.89</td>\n",
       "      <td>14.53</td>\n",
       "      <td>-6.66</td>\n",
       "      <td>-1</td>\n",
       "      <td>-1.00</td>\n",
       "      <td>22336723</td>\n",
       "      <td>33</td>\n",
       "      <td>20</td>\n",
       "      <td>38.883333</td>\n",
       "      <td>177285.0</td>\n",
       "      <td>22.67</td>\n",
       "      <td>6.22</td>\n",
       "      <td>3.93</td>\n",
       "      <td>19.67</td>\n",
       "      <td>-1.0</td>\n",
       "      <td>-1.0</td>\n",
       "      <td>0.0</td>\n",
       "      <td>16.803407</td>\n",
       "      <td>59.849102</td>\n",
       "      <td>1</td>\n",
       "      <td>0</td>\n",
       "      <td>0.0</td>\n",
       "    </tr>\n",
       "    <tr>\n",
       "      <th>4</th>\n",
       "      <td>448548</td>\n",
       "      <td>77892.0</td>\n",
       "      <td>22.22</td>\n",
       "      <td>0.44</td>\n",
       "      <td>13.92</td>\n",
       "      <td>-8.48</td>\n",
       "      <td>-1</td>\n",
       "      <td>-1.00</td>\n",
       "      <td>22336739</td>\n",
       "      <td>33</td>\n",
       "      <td>13</td>\n",
       "      <td>40.083333</td>\n",
       "      <td>NaN</td>\n",
       "      <td>NaN</td>\n",
       "      <td>NaN</td>\n",
       "      <td>NaN</td>\n",
       "      <td>NaN</td>\n",
       "      <td>NaN</td>\n",
       "      <td>NaN</td>\n",
       "      <td>0.0</td>\n",
       "      <td>26.220122</td>\n",
       "      <td>32.065607</td>\n",
       "      <td>0</td>\n",
       "      <td>0</td>\n",
       "      <td>0.0</td>\n",
       "    </tr>\n",
       "  </tbody>\n",
       "</table>\n",
       "</div>"
      ],
      "text/plain": [
       "  game_id  player_id  shot_coord_x1  shot_coord_x2  shot_coord_y1  \\\n",
       "0  448548    99779.0           6.67           0.00           1.51   \n",
       "1  448548    60730.0          21.33          12.00           4.24   \n",
       "2  448548   177285.0          12.00           1.78           0.00   \n",
       "3  448548   185745.0           8.44           0.89          14.53   \n",
       "4  448548    77892.0          22.22           0.44          13.92   \n",
       "\n",
       "   shot_coord_y2 shot_coord_z1  shot_coord_z2   shot_id shot_type team_id  \\\n",
       "0          -1.21            -1           0.83  22336297        11      20   \n",
       "1          -0.91            -1           0.73  22336386        35      20   \n",
       "2          -3.03            -1           0.21  22336583        13      20   \n",
       "3          -6.66            -1          -1.00  22336723        33      20   \n",
       "4          -8.48            -1          -1.00  22336739        33      13   \n",
       "\n",
       "   time_of_event(min)  passed_from_id  pass_coord_x1  pass_coord_x2  \\\n",
       "0            1.033333        177285.0           0.89          12.44   \n",
       "1            9.683333             NaN            NaN            NaN   \n",
       "2           26.833333             NaN            NaN            NaN   \n",
       "3           38.883333        177285.0          22.67           6.22   \n",
       "4           40.083333             NaN            NaN            NaN   \n",
       "\n",
       "   pass_coord_y1  pass_coord_y2  pass_coord_z1  pass_coord_z2  corner_kick  \\\n",
       "0          29.36          -4.84           -1.0           -1.0          1.0   \n",
       "1            NaN            NaN            NaN            NaN          0.0   \n",
       "2            NaN            NaN            NaN            NaN          0.0   \n",
       "3           3.93          19.67           -1.0           -1.0          0.0   \n",
       "4            NaN            NaN            NaN            NaN          0.0   \n",
       "\n",
       "   shot_distance  shot_angle assisted_shot is_penalty_attempt  is_goal  \n",
       "0       6.838786   12.755990             1                  0      1.0  \n",
       "1      21.747333   11.242763             0                  0      0.0  \n",
       "2      12.000000    0.000000             0                  1      1.0  \n",
       "3      16.803407   59.849102             1                  0      0.0  \n",
       "4      26.220122   32.065607             0                  0      0.0  "
      ]
     },
     "execution_count": 8,
     "metadata": {},
     "output_type": "execute_result"
    }
   ],
   "source": [
    "shots_df.head()"
   ]
  },
  {
   "cell_type": "markdown",
   "metadata": {},
   "source": [
    "# Model Training"
   ]
  },
  {
   "cell_type": "code",
   "execution_count": 9,
   "metadata": {},
   "outputs": [],
   "source": [
    "from model_prep import create_training_df, create_test_df, create_xG_df, create_summed_xG_df, create_test_min_df, merged_dataframes"
   ]
  },
  {
   "cell_type": "code",
   "execution_count": 303,
   "metadata": {},
   "outputs": [],
   "source": [
    "train_data, train_y, indices, hold_test = create_training_df(shots_df)\n",
    "test_data, test_y, indices1, holdout, test = create_test_df(shots_df, hold_test)"
   ]
  },
  {
   "cell_type": "code",
   "execution_count": 304,
   "metadata": {},
   "outputs": [
    {
     "name": "stdout",
     "output_type": "stream",
     "text": [
      "60\n",
      "1099\n"
     ]
    },
    {
     "data": {
      "text/plain": [
       "777"
      ]
     },
     "execution_count": 304,
     "metadata": {},
     "output_type": "execute_result"
    }
   ],
   "source": [
    "print(len(holdout))\n",
    "#holdout is game_id where as the other two are shot events\n",
    "print(len(train_data))\n",
    "len(test_data)"
   ]
  },
  {
   "cell_type": "markdown",
   "metadata": {},
   "source": [
    "holdout is 54 games to train on again\n",
    "\n",
    "training data is 1240 shots - rougly 60 games...\n",
    "\n",
    "test data is 677 shots - roughly 34 games..."
   ]
  },
  {
   "cell_type": "code",
   "execution_count": 305,
   "metadata": {},
   "outputs": [
    {
     "data": {
      "text/plain": [
       "62.0"
      ]
     },
     "execution_count": 305,
     "metadata": {},
     "output_type": "execute_result"
    }
   ],
   "source": [
    "1240 / 20"
   ]
  },
  {
   "cell_type": "markdown",
   "metadata": {},
   "source": [
    "# Running XGBoost, RF, Gradient Boosting, Ensemble"
   ]
  },
  {
   "cell_type": "code",
   "execution_count": 306,
   "metadata": {},
   "outputs": [],
   "source": [
    "from sklearn.metrics import log_loss\n",
    "from sklearn.ensemble import  RandomForestClassifier, GradientBoostingClassifier\n",
    "from xgboost import XGBClassifier"
   ]
  },
  {
   "cell_type": "code",
   "execution_count": 307,
   "metadata": {},
   "outputs": [],
   "source": [
    "columns_to_predict_on = ['shot_distance', 'shot_angle', 'assisted_shot', 'is_penalty_attempt']"
   ]
  },
  {
   "cell_type": "code",
   "execution_count": 308,
   "metadata": {},
   "outputs": [
    {
     "name": "stderr",
     "output_type": "stream",
     "text": [
      "[Parallel(n_jobs=1)]: Using backend SequentialBackend with 1 concurrent workers.\n"
     ]
    },
    {
     "name": "stdout",
     "output_type": "stream",
     "text": [
      "Ensemble Log Loss 0.32259131196059976\n",
      "Gradient Boost Log Loss 0.3087515586205469\n",
      "Random Forest Log Loss 0.3013186718892077\n",
      "XGBoost Log Loss 0.3052942265338112\n"
     ]
    },
    {
     "name": "stderr",
     "output_type": "stream",
     "text": [
      "[Parallel(n_jobs=1)]: Done 300 out of 300 | elapsed:    0.3s finished\n",
      "[Parallel(n_jobs=1)]: Using backend SequentialBackend with 1 concurrent workers.\n",
      "[Parallel(n_jobs=1)]: Done 300 out of 300 | elapsed:    0.0s finished\n"
     ]
    }
   ],
   "source": [
    "xgboost_model = XGBClassifier(learning_rate = 0.01, max_depth = 3, n_estimators = 300, random_state=8)\n",
    "gradient_boost_model = GradientBoostingClassifier(learning_rate=0.01, max_depth=4, max_features='log2', min_samples_leaf=4, n_estimators=280, subsample=0.25, random_state=8)\n",
    "random_forest_model = RandomForestClassifier(n_estimators=300, max_depth=3, verbose=1, random_state=8)\n",
    "\n",
    "xgboost_model.fit(train_data[columns_to_predict_on], train_y)\n",
    "gradient_boost_model.fit(train_data[columns_to_predict_on], train_y)\n",
    "random_forest_model.fit(train_data[columns_to_predict_on], train_y)\n",
    "\n",
    "p_random_forest = random_forest_model.predict_proba(test_data[columns_to_predict_on])\n",
    "p_gradient_boost =  gradient_boost_model.predict_proba(test_data[columns_to_predict_on])\n",
    "p_xgboost = xgboost_model.predict_proba(test_data[columns_to_predict_on])\n",
    "\n",
    "#need to concat these two arrays somehow...\n",
    "ensemble_p_0 = (p_random_forest[:,0] + p_gradient_boost[:,0] + p_xgboost[:,0])/3\n",
    "ensemble_p_1 = (p_random_forest[:,1] + p_gradient_boost[:,1] + p_xgboost[:,1])/3\n",
    "# ensemble_p = np.concatenate(ensemble_p_0, ensemble_p_1, axis=0)\n",
    "\n",
    "random_forest_ll = log_loss(test_y, p_random_forest)\n",
    "gradient_boost_ll = log_loss(test_y, p_gradient_boost)\n",
    "xgboost_ll = log_loss(test_y, p_xgboost)\n",
    "# ensemble_ll = log_loss(test_y, ensemble_p)\n",
    "                                     \n",
    "\n",
    "print(\"Ensemble Log Loss \" + str(ensemble_ll))\n",
    "print(\"Gradient Boost Log Loss \" + str(gradient_boost_ll))\n",
    "print(\"Random Forest Log Loss \" + str(random_forest_ll))\n",
    "print(\"XGBoost Log Loss \" + str(xgboost_ll))"
   ]
  },
  {
   "cell_type": "markdown",
   "metadata": {},
   "source": [
    "# predicting on holdoutset with turned parameters"
   ]
  },
  {
   "cell_type": "code",
   "execution_count": 309,
   "metadata": {},
   "outputs": [],
   "source": [
    "from model_prep import use_holdout_df"
   ]
  },
  {
   "cell_type": "code",
   "execution_count": 310,
   "metadata": {},
   "outputs": [],
   "source": [
    "test_data, test_y, indiecs1 = use_holdout_df(shots_df, holdout)"
   ]
  },
  {
   "cell_type": "code",
   "execution_count": 311,
   "metadata": {},
   "outputs": [
    {
     "name": "stdout",
     "output_type": "stream",
     "text": [
      "Gradient Boost Log Loss 0.2961314317026644\n",
      "Random Forest Log Loss 0.29354163510244663\n",
      "XGBoost Log Loss 0.2954665596792828\n"
     ]
    },
    {
     "name": "stderr",
     "output_type": "stream",
     "text": [
      "[Parallel(n_jobs=1)]: Using backend SequentialBackend with 1 concurrent workers.\n",
      "[Parallel(n_jobs=1)]: Done 300 out of 300 | elapsed:    0.1s finished\n"
     ]
    }
   ],
   "source": [
    "p_random_forest = random_forest_model.predict_proba(test_data[columns_to_predict_on])\n",
    "p_gradient_boost =  gradient_boost_model.predict_proba(test_data[columns_to_predict_on])\n",
    "p_xgboost = xgboost_model.predict_proba(test_data[columns_to_predict_on])\n",
    "\n",
    "random_forest_ll = log_loss(test_y, p_random_forest)\n",
    "gradient_boost_ll = log_loss(test_y, p_gradient_boost)\n",
    "xgboost_ll = log_loss(test_y, p_xgboost)\n",
    "\n",
    "print(\"Gradient Boost Log Loss \" + str(gradient_boost_ll))\n",
    "print(\"Random Forest Log Loss \" + str(random_forest_ll))\n",
    "print(\"XGBoost Log Loss \" + str(xgboost_ll))"
   ]
  },
  {
   "cell_type": "markdown",
   "metadata": {},
   "source": [
    "# pickle models"
   ]
  },
  {
   "cell_type": "code",
   "execution_count": 312,
   "metadata": {},
   "outputs": [],
   "source": [
    "import pickle"
   ]
  },
  {
   "cell_type": "code",
   "execution_count": 316,
   "metadata": {},
   "outputs": [],
   "source": [
    "rf_pkl_filename = 'rfc.pkl'\n",
    "rf_pkl = open(rf_pkl_filename, 'wb')\n",
    "pickle.dump(random_forest_model, rf_pkl)\n",
    "rf_pkl.close()\n",
    "\n",
    "gb_pkl_filename = 'gb.pkl'\n",
    "gb_pkl = open(gb_pkl_filename, 'wb')\n",
    "pickle.dump(gradient_boost_model, gb_pkl)\n",
    "gb_pkl.close()\n",
    "\n",
    "xgb_pkl_filename = 'xgb.pkl'\n",
    "xgb_pkl = open(xgb_pkl_filename, 'wb')\n",
    "pickle.dump(xgboost_model, xgb_pkl)\n",
    "xgb_pkl.close()\n",
    "\n",
    "\n",
    "\n"
   ]
  },
  {
   "cell_type": "markdown",
   "metadata": {},
   "source": [
    "# xG and minutes for various models"
   ]
  },
  {
   "cell_type": "code",
   "execution_count": 272,
   "metadata": {},
   "outputs": [],
   "source": [
    "rf_xg = create_xG_df(test_data, test_y, p_random_forest)\n",
    "rf_contributions = create_summed_xG_df(rf_xg)\n",
    "\n",
    "gb_xg = create_xG_df(test_data, test_y, p_gradient_boost)\n",
    "gb_contributions = create_summed_xG_df(gb_xg)\n",
    "\n",
    "xgb_xg = create_xG_df(test_data, test_y, p_xgboost)\n",
    "xgb_contributions = create_summed_xG_df(xgb_xg)\n",
    "\n",
    "# ensem_xg = create_xG_df(test_data, test_y, ensemble_p)\n",
    "# ensem_contributions = create_summed_xG_df(ensem_xg)"
   ]
  },
  {
   "cell_type": "code",
   "execution_count": 273,
   "metadata": {},
   "outputs": [
    {
     "data": {
      "text/html": [
       "<div>\n",
       "<style scoped>\n",
       "    .dataframe tbody tr th:only-of-type {\n",
       "        vertical-align: middle;\n",
       "    }\n",
       "\n",
       "    .dataframe tbody tr th {\n",
       "        vertical-align: top;\n",
       "    }\n",
       "\n",
       "    .dataframe thead th {\n",
       "        text-align: right;\n",
       "    }\n",
       "</style>\n",
       "<table border=\"1\" class=\"dataframe\">\n",
       "  <thead>\n",
       "    <tr style=\"text-align: right;\">\n",
       "      <th></th>\n",
       "      <th>player_id</th>\n",
       "      <th>total_xG</th>\n",
       "      <th>total_xA</th>\n",
       "      <th>total_xG+xA</th>\n",
       "      <th>goals</th>\n",
       "    </tr>\n",
       "  </thead>\n",
       "  <tbody>\n",
       "    <tr>\n",
       "      <th>0</th>\n",
       "      <td>16081.0</td>\n",
       "      <td>2.57</td>\n",
       "      <td>1.00</td>\n",
       "      <td>3.57</td>\n",
       "      <td>4.0</td>\n",
       "    </tr>\n",
       "    <tr>\n",
       "      <th>1</th>\n",
       "      <td>3148.0</td>\n",
       "      <td>1.83</td>\n",
       "      <td>1.43</td>\n",
       "      <td>3.26</td>\n",
       "      <td>1.0</td>\n",
       "    </tr>\n",
       "    <tr>\n",
       "      <th>2</th>\n",
       "      <td>488.0</td>\n",
       "      <td>1.73</td>\n",
       "      <td>0.26</td>\n",
       "      <td>1.99</td>\n",
       "      <td>4.0</td>\n",
       "    </tr>\n",
       "    <tr>\n",
       "      <th>3</th>\n",
       "      <td>15113.0</td>\n",
       "      <td>1.66</td>\n",
       "      <td>0.31</td>\n",
       "      <td>1.97</td>\n",
       "      <td>1.0</td>\n",
       "    </tr>\n",
       "    <tr>\n",
       "      <th>4</th>\n",
       "      <td>30266.0</td>\n",
       "      <td>1.54</td>\n",
       "      <td>0.42</td>\n",
       "      <td>1.96</td>\n",
       "      <td>3.0</td>\n",
       "    </tr>\n",
       "    <tr>\n",
       "      <th>5</th>\n",
       "      <td>98292.0</td>\n",
       "      <td>1.53</td>\n",
       "      <td>0.33</td>\n",
       "      <td>1.86</td>\n",
       "      <td>2.0</td>\n",
       "    </tr>\n",
       "    <tr>\n",
       "      <th>6</th>\n",
       "      <td>47913.0</td>\n",
       "      <td>1.41</td>\n",
       "      <td>0.06</td>\n",
       "      <td>1.47</td>\n",
       "      <td>2.0</td>\n",
       "    </tr>\n",
       "    <tr>\n",
       "      <th>7</th>\n",
       "      <td>24256.0</td>\n",
       "      <td>1.39</td>\n",
       "      <td>1.00</td>\n",
       "      <td>2.39</td>\n",
       "      <td>2.0</td>\n",
       "    </tr>\n",
       "    <tr>\n",
       "      <th>8</th>\n",
       "      <td>17266.0</td>\n",
       "      <td>1.39</td>\n",
       "      <td>0.31</td>\n",
       "      <td>1.70</td>\n",
       "      <td>2.0</td>\n",
       "    </tr>\n",
       "    <tr>\n",
       "      <th>9</th>\n",
       "      <td>618.0</td>\n",
       "      <td>1.33</td>\n",
       "      <td>0.12</td>\n",
       "      <td>1.45</td>\n",
       "      <td>1.0</td>\n",
       "    </tr>\n",
       "    <tr>\n",
       "      <th>10</th>\n",
       "      <td>135386.0</td>\n",
       "      <td>1.32</td>\n",
       "      <td>0.06</td>\n",
       "      <td>1.38</td>\n",
       "      <td>1.0</td>\n",
       "    </tr>\n",
       "    <tr>\n",
       "      <th>11</th>\n",
       "      <td>36681.0</td>\n",
       "      <td>1.18</td>\n",
       "      <td>0.00</td>\n",
       "      <td>1.18</td>\n",
       "      <td>0.0</td>\n",
       "    </tr>\n",
       "    <tr>\n",
       "      <th>12</th>\n",
       "      <td>39414.0</td>\n",
       "      <td>1.10</td>\n",
       "      <td>0.33</td>\n",
       "      <td>1.43</td>\n",
       "      <td>1.0</td>\n",
       "    </tr>\n",
       "    <tr>\n",
       "      <th>13</th>\n",
       "      <td>58422.0</td>\n",
       "      <td>1.06</td>\n",
       "      <td>0.00</td>\n",
       "      <td>1.06</td>\n",
       "      <td>1.0</td>\n",
       "    </tr>\n",
       "    <tr>\n",
       "      <th>14</th>\n",
       "      <td>209887.0</td>\n",
       "      <td>1.04</td>\n",
       "      <td>0.06</td>\n",
       "      <td>1.10</td>\n",
       "      <td>0.0</td>\n",
       "    </tr>\n",
       "    <tr>\n",
       "      <th>15</th>\n",
       "      <td>167990.0</td>\n",
       "      <td>1.03</td>\n",
       "      <td>0.48</td>\n",
       "      <td>1.51</td>\n",
       "      <td>1.0</td>\n",
       "    </tr>\n",
       "    <tr>\n",
       "      <th>16</th>\n",
       "      <td>17217.0</td>\n",
       "      <td>1.02</td>\n",
       "      <td>0.37</td>\n",
       "      <td>1.39</td>\n",
       "      <td>2.0</td>\n",
       "    </tr>\n",
       "    <tr>\n",
       "      <th>17</th>\n",
       "      <td>177285.0</td>\n",
       "      <td>1.01</td>\n",
       "      <td>0.10</td>\n",
       "      <td>1.11</td>\n",
       "      <td>1.0</td>\n",
       "    </tr>\n",
       "    <tr>\n",
       "      <th>18</th>\n",
       "      <td>193188.0</td>\n",
       "      <td>0.99</td>\n",
       "      <td>0.32</td>\n",
       "      <td>1.31</td>\n",
       "      <td>1.0</td>\n",
       "    </tr>\n",
       "    <tr>\n",
       "      <th>19</th>\n",
       "      <td>185745.0</td>\n",
       "      <td>0.96</td>\n",
       "      <td>0.66</td>\n",
       "      <td>1.62</td>\n",
       "      <td>1.0</td>\n",
       "    </tr>\n",
       "  </tbody>\n",
       "</table>\n",
       "</div>"
      ],
      "text/plain": [
       "    player_id  total_xG  total_xA  total_xG+xA  goals\n",
       "0     16081.0      2.57      1.00         3.57    4.0\n",
       "1      3148.0      1.83      1.43         3.26    1.0\n",
       "2       488.0      1.73      0.26         1.99    4.0\n",
       "3     15113.0      1.66      0.31         1.97    1.0\n",
       "4     30266.0      1.54      0.42         1.96    3.0\n",
       "5     98292.0      1.53      0.33         1.86    2.0\n",
       "6     47913.0      1.41      0.06         1.47    2.0\n",
       "7     24256.0      1.39      1.00         2.39    2.0\n",
       "8     17266.0      1.39      0.31         1.70    2.0\n",
       "9       618.0      1.33      0.12         1.45    1.0\n",
       "10   135386.0      1.32      0.06         1.38    1.0\n",
       "11    36681.0      1.18      0.00         1.18    0.0\n",
       "12    39414.0      1.10      0.33         1.43    1.0\n",
       "13    58422.0      1.06      0.00         1.06    1.0\n",
       "14   209887.0      1.04      0.06         1.10    0.0\n",
       "15   167990.0      1.03      0.48         1.51    1.0\n",
       "16    17217.0      1.02      0.37         1.39    2.0\n",
       "17   177285.0      1.01      0.10         1.11    1.0\n",
       "18   193188.0      0.99      0.32         1.31    1.0\n",
       "19   185745.0      0.96      0.66         1.62    1.0"
      ]
     },
     "execution_count": 273,
     "metadata": {},
     "output_type": "execute_result"
    }
   ],
   "source": [
    "rf_contributions.head(20)"
   ]
  },
  {
   "cell_type": "code",
   "execution_count": 274,
   "metadata": {},
   "outputs": [
    {
     "data": {
      "text/html": [
       "<div>\n",
       "<style scoped>\n",
       "    .dataframe tbody tr th:only-of-type {\n",
       "        vertical-align: middle;\n",
       "    }\n",
       "\n",
       "    .dataframe tbody tr th {\n",
       "        vertical-align: top;\n",
       "    }\n",
       "\n",
       "    .dataframe thead th {\n",
       "        text-align: right;\n",
       "    }\n",
       "</style>\n",
       "<table border=\"1\" class=\"dataframe\">\n",
       "  <thead>\n",
       "    <tr style=\"text-align: right;\">\n",
       "      <th></th>\n",
       "      <th>player_id</th>\n",
       "      <th>total_xG</th>\n",
       "      <th>total_xA</th>\n",
       "      <th>total_xG+xA</th>\n",
       "      <th>goals</th>\n",
       "    </tr>\n",
       "  </thead>\n",
       "  <tbody>\n",
       "    <tr>\n",
       "      <th>0</th>\n",
       "      <td>16081.0</td>\n",
       "      <td>2.48</td>\n",
       "      <td>0.97</td>\n",
       "      <td>3.45</td>\n",
       "      <td>4.0</td>\n",
       "    </tr>\n",
       "    <tr>\n",
       "      <th>1</th>\n",
       "      <td>488.0</td>\n",
       "      <td>1.73</td>\n",
       "      <td>0.21</td>\n",
       "      <td>1.94</td>\n",
       "      <td>4.0</td>\n",
       "    </tr>\n",
       "    <tr>\n",
       "      <th>2</th>\n",
       "      <td>3148.0</td>\n",
       "      <td>1.66</td>\n",
       "      <td>1.26</td>\n",
       "      <td>2.92</td>\n",
       "      <td>1.0</td>\n",
       "    </tr>\n",
       "    <tr>\n",
       "      <th>3</th>\n",
       "      <td>24256.0</td>\n",
       "      <td>1.62</td>\n",
       "      <td>1.10</td>\n",
       "      <td>2.72</td>\n",
       "      <td>2.0</td>\n",
       "    </tr>\n",
       "    <tr>\n",
       "      <th>4</th>\n",
       "      <td>15113.0</td>\n",
       "      <td>1.61</td>\n",
       "      <td>0.33</td>\n",
       "      <td>1.94</td>\n",
       "      <td>1.0</td>\n",
       "    </tr>\n",
       "    <tr>\n",
       "      <th>5</th>\n",
       "      <td>30266.0</td>\n",
       "      <td>1.40</td>\n",
       "      <td>0.46</td>\n",
       "      <td>1.86</td>\n",
       "      <td>3.0</td>\n",
       "    </tr>\n",
       "    <tr>\n",
       "      <th>6</th>\n",
       "      <td>209887.0</td>\n",
       "      <td>1.35</td>\n",
       "      <td>0.05</td>\n",
       "      <td>1.40</td>\n",
       "      <td>0.0</td>\n",
       "    </tr>\n",
       "    <tr>\n",
       "      <th>7</th>\n",
       "      <td>98292.0</td>\n",
       "      <td>1.34</td>\n",
       "      <td>0.30</td>\n",
       "      <td>1.64</td>\n",
       "      <td>2.0</td>\n",
       "    </tr>\n",
       "    <tr>\n",
       "      <th>8</th>\n",
       "      <td>36681.0</td>\n",
       "      <td>1.29</td>\n",
       "      <td>0.00</td>\n",
       "      <td>1.29</td>\n",
       "      <td>0.0</td>\n",
       "    </tr>\n",
       "    <tr>\n",
       "      <th>9</th>\n",
       "      <td>17217.0</td>\n",
       "      <td>1.24</td>\n",
       "      <td>0.41</td>\n",
       "      <td>1.65</td>\n",
       "      <td>2.0</td>\n",
       "    </tr>\n",
       "    <tr>\n",
       "      <th>10</th>\n",
       "      <td>47913.0</td>\n",
       "      <td>1.20</td>\n",
       "      <td>0.04</td>\n",
       "      <td>1.24</td>\n",
       "      <td>2.0</td>\n",
       "    </tr>\n",
       "    <tr>\n",
       "      <th>11</th>\n",
       "      <td>135386.0</td>\n",
       "      <td>1.19</td>\n",
       "      <td>0.04</td>\n",
       "      <td>1.23</td>\n",
       "      <td>1.0</td>\n",
       "    </tr>\n",
       "    <tr>\n",
       "      <th>12</th>\n",
       "      <td>17266.0</td>\n",
       "      <td>1.15</td>\n",
       "      <td>0.25</td>\n",
       "      <td>1.40</td>\n",
       "      <td>2.0</td>\n",
       "    </tr>\n",
       "    <tr>\n",
       "      <th>13</th>\n",
       "      <td>618.0</td>\n",
       "      <td>1.14</td>\n",
       "      <td>0.08</td>\n",
       "      <td>1.22</td>\n",
       "      <td>1.0</td>\n",
       "    </tr>\n",
       "    <tr>\n",
       "      <th>14</th>\n",
       "      <td>39414.0</td>\n",
       "      <td>1.09</td>\n",
       "      <td>0.33</td>\n",
       "      <td>1.42</td>\n",
       "      <td>1.0</td>\n",
       "    </tr>\n",
       "    <tr>\n",
       "      <th>15</th>\n",
       "      <td>8611.0</td>\n",
       "      <td>1.05</td>\n",
       "      <td>0.53</td>\n",
       "      <td>1.58</td>\n",
       "      <td>2.0</td>\n",
       "    </tr>\n",
       "    <tr>\n",
       "      <th>16</th>\n",
       "      <td>167990.0</td>\n",
       "      <td>1.04</td>\n",
       "      <td>0.43</td>\n",
       "      <td>1.47</td>\n",
       "      <td>1.0</td>\n",
       "    </tr>\n",
       "    <tr>\n",
       "      <th>17</th>\n",
       "      <td>17090.0</td>\n",
       "      <td>1.02</td>\n",
       "      <td>0.27</td>\n",
       "      <td>1.29</td>\n",
       "      <td>1.0</td>\n",
       "    </tr>\n",
       "    <tr>\n",
       "      <th>18</th>\n",
       "      <td>193188.0</td>\n",
       "      <td>1.01</td>\n",
       "      <td>0.33</td>\n",
       "      <td>1.34</td>\n",
       "      <td>1.0</td>\n",
       "    </tr>\n",
       "    <tr>\n",
       "      <th>19</th>\n",
       "      <td>185745.0</td>\n",
       "      <td>0.99</td>\n",
       "      <td>0.70</td>\n",
       "      <td>1.69</td>\n",
       "      <td>1.0</td>\n",
       "    </tr>\n",
       "  </tbody>\n",
       "</table>\n",
       "</div>"
      ],
      "text/plain": [
       "    player_id  total_xG  total_xA  total_xG+xA  goals\n",
       "0     16081.0      2.48      0.97         3.45    4.0\n",
       "1       488.0      1.73      0.21         1.94    4.0\n",
       "2      3148.0      1.66      1.26         2.92    1.0\n",
       "3     24256.0      1.62      1.10         2.72    2.0\n",
       "4     15113.0      1.61      0.33         1.94    1.0\n",
       "5     30266.0      1.40      0.46         1.86    3.0\n",
       "6    209887.0      1.35      0.05         1.40    0.0\n",
       "7     98292.0      1.34      0.30         1.64    2.0\n",
       "8     36681.0      1.29      0.00         1.29    0.0\n",
       "9     17217.0      1.24      0.41         1.65    2.0\n",
       "10    47913.0      1.20      0.04         1.24    2.0\n",
       "11   135386.0      1.19      0.04         1.23    1.0\n",
       "12    17266.0      1.15      0.25         1.40    2.0\n",
       "13      618.0      1.14      0.08         1.22    1.0\n",
       "14    39414.0      1.09      0.33         1.42    1.0\n",
       "15     8611.0      1.05      0.53         1.58    2.0\n",
       "16   167990.0      1.04      0.43         1.47    1.0\n",
       "17    17090.0      1.02      0.27         1.29    1.0\n",
       "18   193188.0      1.01      0.33         1.34    1.0\n",
       "19   185745.0      0.99      0.70         1.69    1.0"
      ]
     },
     "execution_count": 274,
     "metadata": {},
     "output_type": "execute_result"
    }
   ],
   "source": [
    "gb_contributions.head(20)"
   ]
  },
  {
   "cell_type": "code",
   "execution_count": 275,
   "metadata": {},
   "outputs": [
    {
     "data": {
      "text/html": [
       "<div>\n",
       "<style scoped>\n",
       "    .dataframe tbody tr th:only-of-type {\n",
       "        vertical-align: middle;\n",
       "    }\n",
       "\n",
       "    .dataframe tbody tr th {\n",
       "        vertical-align: top;\n",
       "    }\n",
       "\n",
       "    .dataframe thead th {\n",
       "        text-align: right;\n",
       "    }\n",
       "</style>\n",
       "<table border=\"1\" class=\"dataframe\">\n",
       "  <thead>\n",
       "    <tr style=\"text-align: right;\">\n",
       "      <th></th>\n",
       "      <th>player_id</th>\n",
       "      <th>total_xG</th>\n",
       "      <th>total_xA</th>\n",
       "      <th>total_xG+xA</th>\n",
       "      <th>goals</th>\n",
       "    </tr>\n",
       "  </thead>\n",
       "  <tbody>\n",
       "    <tr>\n",
       "      <th>0</th>\n",
       "      <td>16081.0</td>\n",
       "      <td>3.04</td>\n",
       "      <td>1.34</td>\n",
       "      <td>4.38</td>\n",
       "      <td>4.0</td>\n",
       "    </tr>\n",
       "    <tr>\n",
       "      <th>1</th>\n",
       "      <td>3148.0</td>\n",
       "      <td>1.99</td>\n",
       "      <td>1.47</td>\n",
       "      <td>3.46</td>\n",
       "      <td>1.0</td>\n",
       "    </tr>\n",
       "    <tr>\n",
       "      <th>2</th>\n",
       "      <td>15113.0</td>\n",
       "      <td>1.87</td>\n",
       "      <td>0.42</td>\n",
       "      <td>2.29</td>\n",
       "      <td>1.0</td>\n",
       "    </tr>\n",
       "    <tr>\n",
       "      <th>3</th>\n",
       "      <td>488.0</td>\n",
       "      <td>1.80</td>\n",
       "      <td>0.21</td>\n",
       "      <td>2.01</td>\n",
       "      <td>4.0</td>\n",
       "    </tr>\n",
       "    <tr>\n",
       "      <th>4</th>\n",
       "      <td>30266.0</td>\n",
       "      <td>1.68</td>\n",
       "      <td>0.52</td>\n",
       "      <td>2.20</td>\n",
       "      <td>3.0</td>\n",
       "    </tr>\n",
       "    <tr>\n",
       "      <th>5</th>\n",
       "      <td>24256.0</td>\n",
       "      <td>1.64</td>\n",
       "      <td>1.17</td>\n",
       "      <td>2.81</td>\n",
       "      <td>2.0</td>\n",
       "    </tr>\n",
       "    <tr>\n",
       "      <th>6</th>\n",
       "      <td>98292.0</td>\n",
       "      <td>1.63</td>\n",
       "      <td>0.41</td>\n",
       "      <td>2.04</td>\n",
       "      <td>2.0</td>\n",
       "    </tr>\n",
       "    <tr>\n",
       "      <th>7</th>\n",
       "      <td>17217.0</td>\n",
       "      <td>1.56</td>\n",
       "      <td>0.64</td>\n",
       "      <td>2.20</td>\n",
       "      <td>2.0</td>\n",
       "    </tr>\n",
       "    <tr>\n",
       "      <th>8</th>\n",
       "      <td>17266.0</td>\n",
       "      <td>1.51</td>\n",
       "      <td>0.41</td>\n",
       "      <td>1.92</td>\n",
       "      <td>2.0</td>\n",
       "    </tr>\n",
       "    <tr>\n",
       "      <th>9</th>\n",
       "      <td>47913.0</td>\n",
       "      <td>1.49</td>\n",
       "      <td>0.07</td>\n",
       "      <td>1.56</td>\n",
       "      <td>2.0</td>\n",
       "    </tr>\n",
       "    <tr>\n",
       "      <th>10</th>\n",
       "      <td>36681.0</td>\n",
       "      <td>1.48</td>\n",
       "      <td>0.00</td>\n",
       "      <td>1.48</td>\n",
       "      <td>0.0</td>\n",
       "    </tr>\n",
       "    <tr>\n",
       "      <th>11</th>\n",
       "      <td>39414.0</td>\n",
       "      <td>1.42</td>\n",
       "      <td>0.43</td>\n",
       "      <td>1.85</td>\n",
       "      <td>1.0</td>\n",
       "    </tr>\n",
       "    <tr>\n",
       "      <th>12</th>\n",
       "      <td>135386.0</td>\n",
       "      <td>1.42</td>\n",
       "      <td>0.06</td>\n",
       "      <td>1.48</td>\n",
       "      <td>1.0</td>\n",
       "    </tr>\n",
       "    <tr>\n",
       "      <th>13</th>\n",
       "      <td>618.0</td>\n",
       "      <td>1.30</td>\n",
       "      <td>0.14</td>\n",
       "      <td>1.44</td>\n",
       "      <td>1.0</td>\n",
       "    </tr>\n",
       "    <tr>\n",
       "      <th>14</th>\n",
       "      <td>209887.0</td>\n",
       "      <td>1.23</td>\n",
       "      <td>0.07</td>\n",
       "      <td>1.30</td>\n",
       "      <td>0.0</td>\n",
       "    </tr>\n",
       "    <tr>\n",
       "      <th>15</th>\n",
       "      <td>185745.0</td>\n",
       "      <td>1.22</td>\n",
       "      <td>0.83</td>\n",
       "      <td>2.05</td>\n",
       "      <td>1.0</td>\n",
       "    </tr>\n",
       "    <tr>\n",
       "      <th>16</th>\n",
       "      <td>167990.0</td>\n",
       "      <td>1.22</td>\n",
       "      <td>0.60</td>\n",
       "      <td>1.82</td>\n",
       "      <td>1.0</td>\n",
       "    </tr>\n",
       "    <tr>\n",
       "      <th>17</th>\n",
       "      <td>193188.0</td>\n",
       "      <td>1.21</td>\n",
       "      <td>0.37</td>\n",
       "      <td>1.58</td>\n",
       "      <td>1.0</td>\n",
       "    </tr>\n",
       "    <tr>\n",
       "      <th>18</th>\n",
       "      <td>17090.0</td>\n",
       "      <td>1.14</td>\n",
       "      <td>0.50</td>\n",
       "      <td>1.64</td>\n",
       "      <td>1.0</td>\n",
       "    </tr>\n",
       "    <tr>\n",
       "      <th>19</th>\n",
       "      <td>121341.0</td>\n",
       "      <td>1.10</td>\n",
       "      <td>0.40</td>\n",
       "      <td>1.50</td>\n",
       "      <td>0.0</td>\n",
       "    </tr>\n",
       "  </tbody>\n",
       "</table>\n",
       "</div>"
      ],
      "text/plain": [
       "    player_id  total_xG  total_xA  total_xG+xA  goals\n",
       "0     16081.0      3.04      1.34         4.38    4.0\n",
       "1      3148.0      1.99      1.47         3.46    1.0\n",
       "2     15113.0      1.87      0.42         2.29    1.0\n",
       "3       488.0      1.80      0.21         2.01    4.0\n",
       "4     30266.0      1.68      0.52         2.20    3.0\n",
       "5     24256.0      1.64      1.17         2.81    2.0\n",
       "6     98292.0      1.63      0.41         2.04    2.0\n",
       "7     17217.0      1.56      0.64         2.20    2.0\n",
       "8     17266.0      1.51      0.41         1.92    2.0\n",
       "9     47913.0      1.49      0.07         1.56    2.0\n",
       "10    36681.0      1.48      0.00         1.48    0.0\n",
       "11    39414.0      1.42      0.43         1.85    1.0\n",
       "12   135386.0      1.42      0.06         1.48    1.0\n",
       "13      618.0      1.30      0.14         1.44    1.0\n",
       "14   209887.0      1.23      0.07         1.30    0.0\n",
       "15   185745.0      1.22      0.83         2.05    1.0\n",
       "16   167990.0      1.22      0.60         1.82    1.0\n",
       "17   193188.0      1.21      0.37         1.58    1.0\n",
       "18    17090.0      1.14      0.50         1.64    1.0\n",
       "19   121341.0      1.10      0.40         1.50    0.0"
      ]
     },
     "execution_count": 275,
     "metadata": {},
     "output_type": "execute_result"
    }
   ],
   "source": [
    "xgb_contributions.head(20)"
   ]
  },
  {
   "cell_type": "markdown",
   "metadata": {},
   "source": [
    "# looking at probability by area"
   ]
  },
  {
   "cell_type": "code",
   "execution_count": 276,
   "metadata": {},
   "outputs": [],
   "source": [
    "from create_shot_coordinates import shot_probability_player, coord_table"
   ]
  },
  {
   "cell_type": "code",
   "execution_count": 277,
   "metadata": {},
   "outputs": [],
   "source": [
    "six, eighteen, eighteen_plus, left_box, right_box = shot_probability_player()"
   ]
  },
  {
   "cell_type": "markdown",
   "metadata": {},
   "source": [
    "### average probability of shot in the six yard box"
   ]
  },
  {
   "cell_type": "code",
   "execution_count": 278,
   "metadata": {},
   "outputs": [
    {
     "name": "stdout",
     "output_type": "stream",
     "text": [
      "0.23464200402821322\n",
      "0.2652304979414651\n",
      "0.25252105250503076\n"
     ]
    },
    {
     "name": "stderr",
     "output_type": "stream",
     "text": [
      "[Parallel(n_jobs=1)]: Using backend SequentialBackend with 1 concurrent workers.\n",
      "[Parallel(n_jobs=1)]: Done 300 out of 300 | elapsed:    0.0s finished\n"
     ]
    }
   ],
   "source": [
    "p_random_forest6 = random_forest_model.predict_proba(six)\n",
    "p_gradient_boost6 =  gradient_boost_model.predict_proba(six)\n",
    "p_xgboost6 = xgboost_model.predict_proba(six)\n",
    "\n",
    "p_6_rf = p_random_forest6.sum(axis=0)[1] / len(p_random_forest6)\n",
    "p_6_gb = p_gradient_boost6.sum(axis=0)[1] / len(p_gradient_boost6)\n",
    "p_6_xgb = p_xgboost6.sum(axis=0)[1] / len(p_xgboost6)\n",
    "\n",
    "print(p_6_rf)\n",
    "print(p_6_gb)\n",
    "print(p_6_xgb)"
   ]
  },
  {
   "cell_type": "code",
   "execution_count": 279,
   "metadata": {},
   "outputs": [],
   "source": [
    "six_yard_shot = coord_table(-10, 10, 2, 2, 6, 2)"
   ]
  },
  {
   "cell_type": "code",
   "execution_count": 280,
   "metadata": {},
   "outputs": [
    {
     "data": {
      "image/png": "[encoded data removed]",
      "text/plain": [
       "<Figure size 432x288 with 1 Axes>"
      ]
     },
     "metadata": {},
     "output_type": "display_data"
    }
   ],
   "source": [
    "fig, ax = plt.subplots()\n",
    "ax.scatter(six_yard_shot['shot_coord_x1'], six_yard_shot['shot_coord_y1'])\n",
    "# ax.scatter(shot_distance_df['pass_coord_x1'], shot_distance_df['pass_coord_y1'], color='red')\n",
    "# ax.scatter(transposed_df['pass_coord_x2'], transposed_df['pass_coord_y2'], color='yellow')\n",
    "ax.set_title('xG of shots six yard box (rf:0.33, gb: 0.43, xgb: 0.39)')\n",
    "ax.set_xlim([88.88, 0])\n",
    "ax.set_ylim([-30.76, 30.76])\n",
    "ax.axvline(6)\n",
    "ax.axvline(18)\n",
    "ax.axhline(10, xmax=6)\n",
    "ax.axhline(-10, xmax=6)\n",
    "ax.axhline(22, xmax=18)\n",
    "ax.axhline(-22, xmax=18)\n",
    "ax.set_facecolor('xkcd:lightgreen')"
   ]
  },
  {
   "cell_type": "markdown",
   "metadata": {},
   "source": [
    "### average probability of shot in the eighteen yard box"
   ]
  },
  {
   "cell_type": "code",
   "execution_count": 281,
   "metadata": {},
   "outputs": [
    {
     "name": "stdout",
     "output_type": "stream",
     "text": [
      "0.1067934988882113\n",
      "0.11162370710815266\n",
      "0.1383587374831691\n"
     ]
    },
    {
     "name": "stderr",
     "output_type": "stream",
     "text": [
      "[Parallel(n_jobs=1)]: Using backend SequentialBackend with 1 concurrent workers.\n",
      "[Parallel(n_jobs=1)]: Done 300 out of 300 | elapsed:    0.0s finished\n"
     ]
    }
   ],
   "source": [
    "p_random_forest18 = random_forest_model.predict_proba(eighteen)\n",
    "p_gradient_boost18 =  gradient_boost_model.predict_proba(eighteen)\n",
    "p_xgboost18 = xgboost_model.predict_proba(eighteen)\n",
    "\n",
    "p_18_rf = p_random_forest18.sum(axis=0)[1] / len(p_random_forest18)\n",
    "p_18_gb = p_gradient_boost18.sum(axis=0)[1] / len(p_gradient_boost18)\n",
    "p_18_xgb = p_xgboost18.sum(axis=0)[1] / len(p_xgboost18)\n",
    "\n",
    "print(p_18_rf)\n",
    "print(p_18_gb)\n",
    "print(p_18_xgb)"
   ]
  },
  {
   "cell_type": "code",
   "execution_count": 282,
   "metadata": {},
   "outputs": [],
   "source": [
    "eighteen_yard_shot = coord_table(-10, 10, 2, 8, 18, 2)"
   ]
  },
  {
   "cell_type": "code",
   "execution_count": 283,
   "metadata": {},
   "outputs": [
    {
     "data": {
      "image/png": "[encoded data removed]",
      "text/plain": [
       "<Figure size 432x288 with 1 Axes>"
      ]
     },
     "metadata": {},
     "output_type": "display_data"
    }
   ],
   "source": [
    "fig, ax = plt.subplots()\n",
    "ax.scatter(eighteen_yard_shot['shot_coord_x1'], eighteen_yard_shot['shot_coord_y1'], color='red')\n",
    "# ax.scatter(shot_distance_df['pass_coord_x1'], shot_distance_df['pass_coord_y1'], color='red')\n",
    "# ax.scatter(transposed_df['pass_coord_x2'], transposed_df['pass_coord_y2'], color='yellow')\n",
    "ax.set_title('xG of shots in 18-yard box (rf:0.12, gb: 0.13, xgb: 0.14)')\n",
    "ax.set_xlim([88.88, 0])\n",
    "ax.set_ylim([-30.76, 30.76])\n",
    "ax.axvline(6)\n",
    "ax.axvline(18)\n",
    "ax.axhline(10, xmax=6)\n",
    "ax.axhline(-10, xmax=6)\n",
    "ax.axhline(22, xmax=18)\n",
    "ax.axhline(-22, xmax=18)\n",
    "ax.set_facecolor('xkcd:lightgreen')"
   ]
  },
  {
   "cell_type": "markdown",
   "metadata": {},
   "source": [
    "### average probability of shot beyond eighteen yard box"
   ]
  },
  {
   "cell_type": "code",
   "execution_count": 284,
   "metadata": {},
   "outputs": [
    {
     "name": "stdout",
     "output_type": "stream",
     "text": [
      "0.05548285326475946\n",
      "0.043589436036406484\n",
      "0.05567752451136492\n"
     ]
    },
    {
     "name": "stderr",
     "output_type": "stream",
     "text": [
      "[Parallel(n_jobs=1)]: Using backend SequentialBackend with 1 concurrent workers.\n",
      "[Parallel(n_jobs=1)]: Done 300 out of 300 | elapsed:    0.0s finished\n"
     ]
    }
   ],
   "source": [
    "p_random_forest18p = random_forest_model.predict_proba(eighteen_plus)\n",
    "p_gradient_boost18p =  gradient_boost_model.predict_proba(eighteen_plus)\n",
    "p_xgboost18p = xgboost_model.predict_proba(eighteen_plus)\n",
    "\n",
    "p_18p_rf = p_random_forest18p.sum(axis=0)[1] / len(p_random_forest18p)\n",
    "p_18p_gb = p_gradient_boost18p.sum(axis=0)[1] / len(p_gradient_boost18p)\n",
    "p_18p_xgb = p_xgboost18p.sum(axis=0)[1] / len(p_xgboost18p)\n",
    "\n",
    "print(p_18p_rf)\n",
    "print(p_18p_gb)\n",
    "print(p_18p_xgb)"
   ]
  },
  {
   "cell_type": "code",
   "execution_count": 285,
   "metadata": {},
   "outputs": [],
   "source": [
    "beyond_eighteen_yard_shot = coord_table(-22, 22, 2, 20, 30, 2)"
   ]
  },
  {
   "cell_type": "code",
   "execution_count": 286,
   "metadata": {},
   "outputs": [
    {
     "data": {
      "image/png": "[encoded data removed]",
      "text/plain": [
       "<Figure size 432x288 with 1 Axes>"
      ]
     },
     "metadata": {},
     "output_type": "display_data"
    }
   ],
   "source": [
    "fig, ax = plt.subplots()\n",
    "ax.scatter(beyond_eighteen_yard_shot['shot_coord_x1'], beyond_eighteen_yard_shot['shot_coord_y1'], color='yellow')\n",
    "# ax.scatter(shot_distance_df['pass_coord_x1'], shot_distance_df['pass_coord_y1'], color='red')\n",
    "# ax.scatter(transposed_df['pass_coord_x2'], transposed_df['pass_coord_y2'], color='yellow')\n",
    "ax.set_title('xG of shots beyond 18-yard box (rf:0.06, gb: 0.05, xgb: 0.04)')\n",
    "ax.set_xlim([88.88, 0])\n",
    "ax.set_ylim([-30.76, 30.76])\n",
    "ax.axvline(6)\n",
    "ax.axvline(18)\n",
    "ax.axhline(10, xmax=6)\n",
    "ax.axhline(-10, xmax=6)\n",
    "ax.axhline(22, xmax=18)\n",
    "ax.axhline(-22, xmax=18)\n",
    "ax.set_facecolor('xkcd:lightgreen')"
   ]
  },
  {
   "cell_type": "markdown",
   "metadata": {},
   "source": [
    "### average probability of shot left of six"
   ]
  },
  {
   "cell_type": "code",
   "execution_count": 287,
   "metadata": {},
   "outputs": [
    {
     "name": "stdout",
     "output_type": "stream",
     "text": [
      "0.060648215717905796\n",
      "0.05554442688304999\n",
      "0.08049916558795506\n"
     ]
    },
    {
     "name": "stderr",
     "output_type": "stream",
     "text": [
      "[Parallel(n_jobs=1)]: Using backend SequentialBackend with 1 concurrent workers.\n",
      "[Parallel(n_jobs=1)]: Done 300 out of 300 | elapsed:    0.0s finished\n"
     ]
    }
   ],
   "source": [
    "p_random_forest6l = random_forest_model.predict_proba(left_box)\n",
    "p_gradient_boost6l =  gradient_boost_model.predict_proba(left_box)\n",
    "p_xgboost6l = xgboost_model.predict_proba(left_box)\n",
    "\n",
    "p_6l_rf = p_random_forest6l.sum(axis=0)[1] / len(p_random_forest6l)\n",
    "p_6l_gb = p_gradient_boost6l.sum(axis=0)[1] / len(p_gradient_boost6l)\n",
    "p_6l_xgb = p_xgboost6l.sum(axis=0)[1] / len(p_xgboost6l)\n",
    "\n",
    "print(p_6l_rf)\n",
    "print(p_6l_gb)\n",
    "print(p_6l_xgb)"
   ]
  },
  {
   "cell_type": "code",
   "execution_count": 288,
   "metadata": {},
   "outputs": [],
   "source": [
    "left_six_yard_shot = coord_table(12, 22, 2, 3, 18, 3)"
   ]
  },
  {
   "cell_type": "code",
   "execution_count": 289,
   "metadata": {},
   "outputs": [
    {
     "data": {
      "image/png": "[encoded data removed]",
      "text/plain": [
       "<Figure size 432x288 with 1 Axes>"
      ]
     },
     "metadata": {},
     "output_type": "display_data"
    }
   ],
   "source": [
    "fig, ax = plt.subplots()\n",
    "ax.scatter(left_six_yard_shot['shot_coord_x1'], left_six_yard_shot['shot_coord_y1'], color='green')\n",
    "ax.set_title('xG of shots beyond left of six yard box (rf:0.07, gb: 0.07, xgb: 0.06)')\n",
    "ax.set_xlim([88.88, 0])\n",
    "ax.set_ylim([-30.76, 30.76])\n",
    "ax.axvline(6)\n",
    "ax.axvline(18)\n",
    "ax.axhline(10, xmax=6)\n",
    "ax.axhline(-10, xmax=6)\n",
    "ax.axhline(22, xmax=18)\n",
    "ax.axhline(-22, xmax=18)\n",
    "ax.set_facecolor('xkcd:lightgreen')"
   ]
  },
  {
   "cell_type": "markdown",
   "metadata": {},
   "source": [
    "### average probability of shot right of six"
   ]
  },
  {
   "cell_type": "code",
   "execution_count": 290,
   "metadata": {},
   "outputs": [
    {
     "name": "stdout",
     "output_type": "stream",
     "text": [
      "0.08234919647698909\n",
      "0.08737162659359253\n",
      "0.08362292581134373\n"
     ]
    },
    {
     "name": "stderr",
     "output_type": "stream",
     "text": [
      "[Parallel(n_jobs=1)]: Using backend SequentialBackend with 1 concurrent workers.\n",
      "[Parallel(n_jobs=1)]: Done 300 out of 300 | elapsed:    0.0s finished\n"
     ]
    }
   ],
   "source": [
    "p_random_forest6r = random_forest_model.predict_proba(right_box)\n",
    "p_gradient_boost6r =  gradient_boost_model.predict_proba(right_box)\n",
    "p_xgboost6r = xgboost_model.predict_proba(right_box)\n",
    "\n",
    "p_6r_rf = p_random_forest6r.sum(axis=0)[1] / len(p_random_forest6r)\n",
    "p_6r_gb = p_gradient_boost6r.sum(axis=0)[1] / len(p_gradient_boost6r)\n",
    "p_6r_xgb = p_xgboost6r.sum(axis=0)[1] / len(p_xgboost6r)\n",
    "\n",
    "print(p_6r_rf)\n",
    "print(p_6r_gb)\n",
    "print(p_6r_xgb)"
   ]
  },
  {
   "cell_type": "code",
   "execution_count": 291,
   "metadata": {},
   "outputs": [],
   "source": [
    "right_six_yard_shot = coord_table(-12, -22, -2, 3, 18, 3)"
   ]
  },
  {
   "cell_type": "code",
   "execution_count": 292,
   "metadata": {},
   "outputs": [
    {
     "data": {
      "image/png": "[encoded data removed]",
      "text/plain": [
       "<Figure size 432x288 with 1 Axes>"
      ]
     },
     "metadata": {},
     "output_type": "display_data"
    }
   ],
   "source": [
    "fig, ax = plt.subplots()\n",
    "ax.scatter(right_six_yard_shot['shot_coord_x1'], right_six_yard_shot['shot_coord_y1'], color='purple')\n",
    "ax.set_title('xG of shots beyond left of six yard box (rf:0.08, gb: 0.08, xgb: 0.07)')\n",
    "ax.set_xlim([88.88, 0])\n",
    "ax.set_ylim([-30.76, 30.76])\n",
    "ax.axvline(6)\n",
    "ax.axvline(18)\n",
    "ax.axhline(10, xmax=6)\n",
    "ax.axhline(-10, xmax=6)\n",
    "ax.axhline(22, xmax=18)\n",
    "ax.axhline(-22, xmax=18)\n",
    "ax.set_facecolor('xkcd:lightgreen')"
   ]
  },
  {
   "cell_type": "code",
   "execution_count": null,
   "metadata": {},
   "outputs": [],
   "source": []
  },
  {
   "cell_type": "code",
   "execution_count": null,
   "metadata": {},
   "outputs": [],
   "source": [
    "# fig, ax = plt.subplots()\n",
    "# ax.scatter(six_yard_shot['shot_coord_x1'], six_yard_shot['shot_coord_y1'])\n",
    "# ax.scatter(eighteen_yard_shot['shot_coord_x1'], eighteen_yard_shot['shot_coord_y1'], color='red')\n",
    "# ax.scatter(beyond_eighteen_yard_shot['shot_coord_x1'], beyond_eighteen_yard_shot['shot_coord_y1'], color='yellow')\n",
    "# ax.scatter(left_six_yard_shot['shot_coord_x1'], left_six_yard_shot['shot_coord_y1'], color='green')\n",
    "# ax.scatter(right_six_yard_shot['shot_coord_x1'], right_six_yard_shot['shot_coord_y1'], color='purple')\n",
    "# # ax.scatter(shot_distance_df['pass_coord_x1'], shot_distance_df['pass_coord_y1'], color='red')\n",
    "# # ax.scatter(transposed_df['pass_coord_x2'], transposed_df['pass_coord_y2'], color='yellow')\n",
    "# ax.set_title('xG of Shots in Box for Tomás Pochettino x: blue:0.79, red: 0.80, yellow: 0.79, green: 0.80, purple: 0.80')\n",
    "# ax.set_xlim([88.88, 0])\n",
    "# ax.set_ylim([-30.76, 30.76])\n",
    "# ax.axvline(6)\n",
    "# ax.axvline(18)\n",
    "# ax.axhline(10, xmax=6)\n",
    "# ax.axhline(-10, xmax=6)\n",
    "# ax.axhline(22, xmax=18)\n",
    "# ax.axhline(-22, xmax=18)\n",
    "# ax.set_facecolor('xkcd:lightgreen')"
   ]
  },
  {
   "cell_type": "markdown",
   "metadata": {},
   "source": [
    "# Parameter tuning"
   ]
  },
  {
   "cell_type": "code",
   "execution_count": 141,
   "metadata": {},
   "outputs": [],
   "source": [
    "from model_prep import stage_score_plot"
   ]
  },
  {
   "cell_type": "code",
   "execution_count": 232,
   "metadata": {},
   "outputs": [],
   "source": [
    "train_data, train_y, indices, hold_test = create_training_df(shots_df)\n",
    "test_data, test_y, indices1, holdout, test = create_test_df(shots_df, hold_test)\n",
    "columns_to_predict_on = ['shot_distance', 'shot_angle', 'assisted_shot', 'is_penalty_attempt']"
   ]
  },
  {
   "cell_type": "code",
   "execution_count": 242,
   "metadata": {},
   "outputs": [
    {
     "name": "stdout",
     "output_type": "stream",
     "text": [
      "GB depth 1 log loss 0.2710384886798697\n",
      "GB depth 2 log loss 0.2719155931617161\n",
      "GB depth 3 log loss 0.2738609773730559\n",
      "GB depth 4 log loss 0.27501841465885396\n",
      "GB depth 5 log loss 0.2774668087333602\n",
      "GB depth 6 log loss 0.2805344888384963\n"
     ]
    }
   ],
   "source": [
    "gbm1 = GradientBoostingClassifier(learning_rate=0.01, max_depth=1, max_features='log2', min_samples_leaf=4, n_estimators=300, subsample=0.25, random_state=8)\n",
    "gbm2 = GradientBoostingClassifier(learning_rate=0.01, max_depth=2, max_features='log2', min_samples_leaf=4, n_estimators=300, subsample=0.25, random_state=8)\n",
    "gbm3 = GradientBoostingClassifier(learning_rate=0.01, max_depth=3, max_features='log2', min_samples_leaf=4, n_estimators=300, subsample=0.25, random_state=8)\n",
    "gbm4 = GradientBoostingClassifier(learning_rate=0.01, max_depth=4, max_features='log2', min_samples_leaf=4, n_estimators=300, subsample=0.25, random_state=8)\n",
    "gbm5 = GradientBoostingClassifier(learning_rate=0.01, max_depth=5, max_features='log2', min_samples_leaf=4, n_estimators=300, subsample=0.25, random_state=8)\n",
    "gbm6 = GradientBoostingClassifier(learning_rate=0.01, max_depth=6, max_features='log2', min_samples_leaf=4, n_estimators=300, subsample=0.25, random_state=8)\n",
    "\n",
    "gbm1.fit(train_data[columns_to_predict_on], train_y)\n",
    "gbm2.fit(train_data[columns_to_predict_on], train_y)\n",
    "gbm3.fit(train_data[columns_to_predict_on], train_y)\n",
    "gbm4.fit(train_data[columns_to_predict_on], train_y)\n",
    "gbm5.fit(train_data[columns_to_predict_on], train_y)\n",
    "gbm6.fit(train_data[columns_to_predict_on], train_y)\n",
    "\n",
    "pgb1 =  gbm1.predict_proba(test_data[columns_to_predict_on])\n",
    "pgb2 =  gbm2.predict_proba(test_data[columns_to_predict_on])\n",
    "pgb3 =  gbm3.predict_proba(test_data[columns_to_predict_on])\n",
    "pgb4 =  gbm4.predict_proba(test_data[columns_to_predict_on])\n",
    "pgb5 =  gbm5.predict_proba(test_data[columns_to_predict_on])\n",
    "pgb6 =  gbm6.predict_proba(test_data[columns_to_predict_on])\n",
    "\n",
    "\n",
    "gb1_ll = log_loss(test_y, pgb1)\n",
    "gb2_ll = log_loss(test_y, pgb2)\n",
    "gb3_ll = log_loss(test_y, pgb3)\n",
    "gb4_ll = log_loss(test_y, pgb4)\n",
    "gb5_ll = log_loss(test_y, pgb5)\n",
    "gb6_ll = log_loss(test_y, pgb6)\n",
    "\n",
    "print(\"GB depth 1 log loss \" + str(gb1_ll))\n",
    "print(\"GB depth 2 log loss \" + str(gb2_ll))\n",
    "print(\"GB depth 3 log loss \" + str(gb3_ll))\n",
    "print(\"GB depth 4 log loss \" + str(gb4_ll))\n",
    "print(\"GB depth 5 log loss \" + str(gb5_ll))\n",
    "print(\"GB depth 6 log loss \" + str(gb6_ll))"
   ]
  },
  {
   "cell_type": "markdown",
   "metadata": {},
   "source": [
    "### best gb is depth of 3, 188 trees"
   ]
  },
  {
   "cell_type": "code",
   "execution_count": 243,
   "metadata": {},
   "outputs": [
    {
     "name": "stdout",
     "output_type": "stream",
     "text": [
      "lowest test error(log loss): 0.27096120354482794\n",
      "num_trees at lowest test error: 298\n"
     ]
    },
    {
     "data": {
      "image/png": "[encoded data removed]",
      "text/plain": [
       "<Figure size 864x576 with 1 Axes>"
      ]
     },
     "metadata": {},
     "output_type": "display_data"
    }
   ],
   "source": [
    "stage_score_plot(gbm1, train_data[columns_to_predict_on], train_y, test_data[columns_to_predict_on], test_y)"
   ]
  },
  {
   "cell_type": "code",
   "execution_count": 244,
   "metadata": {},
   "outputs": [
    {
     "name": "stdout",
     "output_type": "stream",
     "text": [
      "lowest test error(log loss): 0.27171840858728824\n",
      "num_trees at lowest test error: 297\n"
     ]
    },
    {
     "data": {
      "image/png": "[encoded data removed]",
      "text/plain": [
       "<Figure size 864x576 with 1 Axes>"
      ]
     },
     "metadata": {},
     "output_type": "display_data"
    }
   ],
   "source": [
    "stage_score_plot(gbm2, train_data[columns_to_predict_on], train_y, test_data[columns_to_predict_on], test_y)"
   ]
  },
  {
   "cell_type": "code",
   "execution_count": 245,
   "metadata": {},
   "outputs": [
    {
     "name": "stdout",
     "output_type": "stream",
     "text": [
      "lowest test error(log loss): 0.27274536657331333\n",
      "num_trees at lowest test error: 146\n"
     ]
    },
    {
     "data": {
      "image/png": "[encoded data removed]",
      "text/plain": [
       "<Figure size 864x576 with 1 Axes>"
      ]
     },
     "metadata": {},
     "output_type": "display_data"
    }
   ],
   "source": [
    "stage_score_plot(gbm3, train_data[columns_to_predict_on], train_y, test_data[columns_to_predict_on], test_y)"
   ]
  },
  {
   "cell_type": "code",
   "execution_count": 246,
   "metadata": {},
   "outputs": [
    {
     "name": "stdout",
     "output_type": "stream",
     "text": [
      "lowest test error(log loss): 0.27271117652816523\n",
      "num_trees at lowest test error: 139\n"
     ]
    },
    {
     "data": {
      "image/png": "[encoded data removed]",
      "text/plain": [
       "<Figure size 864x576 with 1 Axes>"
      ]
     },
     "metadata": {},
     "output_type": "display_data"
    }
   ],
   "source": [
    "stage_score_plot(gbm4, train_data[columns_to_predict_on], train_y, test_data[columns_to_predict_on], test_y)"
   ]
  },
  {
   "cell_type": "code",
   "execution_count": 247,
   "metadata": {},
   "outputs": [
    {
     "name": "stdout",
     "output_type": "stream",
     "text": [
      "lowest test error(log loss): 0.27274525931856525\n",
      "num_trees at lowest test error: 139\n"
     ]
    },
    {
     "data": {
      "image/png": "[encoded data removed]",
      "text/plain": [
       "<Figure size 864x576 with 1 Axes>"
      ]
     },
     "metadata": {},
     "output_type": "display_data"
    }
   ],
   "source": [
    "stage_score_plot(gbm5, train_data[columns_to_predict_on], train_y, test_data[columns_to_predict_on], test_y)"
   ]
  },
  {
   "cell_type": "code",
   "execution_count": 248,
   "metadata": {},
   "outputs": [
    {
     "name": "stdout",
     "output_type": "stream",
     "text": [
      "lowest test error(log loss): 0.2739072538485309\n",
      "num_trees at lowest test error: 139\n"
     ]
    },
    {
     "data": {
      "image/png": "[encoded data removed]",
      "text/plain": [
       "<Figure size 864x576 with 1 Axes>"
      ]
     },
     "metadata": {},
     "output_type": "display_data"
    }
   ],
   "source": [
    "stage_score_plot(gbm6, train_data[columns_to_predict_on], train_y, test_data[columns_to_predict_on], test_y)"
   ]
  },
  {
   "cell_type": "markdown",
   "metadata": {},
   "source": [
    "### tuning xgboost"
   ]
  },
  {
   "cell_type": "code",
   "execution_count": 260,
   "metadata": {},
   "outputs": [],
   "source": [
    "train_data, train_y, indices, hold_test = create_training_df(shots_df)\n",
    "test_data, test_y, indices1, holdout, test = create_test_df(shots_df, hold_test)\n",
    "columns_to_predict_on = ['shot_distance', 'shot_angle', 'assisted_shot', 'is_penalty_attempt']"
   ]
  },
  {
   "cell_type": "code",
   "execution_count": 261,
   "metadata": {},
   "outputs": [
    {
     "name": "stdout",
     "output_type": "stream",
     "text": [
      "GB depth 1 log loss 0.3326660981285386\n",
      "GB depth 2 log loss 0.32455047439434564\n",
      "GB depth 3 log loss 0.32742997480672786\n",
      "GB depth 4 log loss 0.3300564275326906\n",
      "GB depth 5 log loss 0.33388707239646465\n"
     ]
    }
   ],
   "source": [
    "xgb1 = XGBClassifier(learning_rate=0.01, n_estimators=200, random_state=8)\n",
    "xgb2 = XGBClassifier(learning_rate=0.01, n_estimators=300, random_state=8)\n",
    "xgb3 = XGBClassifier(learning_rate=0.01, n_estimators=400, random_state=8)\n",
    "xgb4 = XGBClassifier(learning_rate=0.01, n_estimators=500, random_state=8)\n",
    "xgb5 = XGBClassifier(learning_rate=0.01, n_estimators=600, random_state=8)\n",
    "\n",
    "xgb1.fit(train_data[columns_to_predict_on], train_y)\n",
    "xgb2.fit(train_data[columns_to_predict_on], train_y)\n",
    "xgb3.fit(train_data[columns_to_predict_on], train_y)\n",
    "xgb4.fit(train_data[columns_to_predict_on], train_y)\n",
    "xgb5.fit(train_data[columns_to_predict_on], train_y)\n",
    "\n",
    "\n",
    "xgb_p1 =  xgb1.predict_proba(test_data[columns_to_predict_on])\n",
    "xgb_p2 =  xgb2.predict_proba(test_data[columns_to_predict_on])\n",
    "xgb_p3 =  xgb3.predict_proba(test_data[columns_to_predict_on])\n",
    "xgb_p4 =  xgb4.predict_proba(test_data[columns_to_predict_on])\n",
    "xgb_p5 =  xgb5.predict_proba(test_data[columns_to_predict_on])\n",
    "\n",
    "\n",
    "\n",
    "xgb1_ll = log_loss(test_y, xgb_p1)\n",
    "xgb2_ll = log_loss(test_y, xgb_p2)\n",
    "xgb3_ll = log_loss(test_y, xgb_p3)\n",
    "xgb4_ll = log_loss(test_y, xgb_p4)\n",
    "xgb5_ll = log_loss(test_y, xgb_p5)\n",
    "\n",
    "\n",
    "print(\"GB depth 1 log loss \" + str(xgb1_ll))\n",
    "print(\"GB depth 2 log loss \" + str(xgb2_ll))\n",
    "print(\"GB depth 3 log loss \" + str(xgb3_ll))\n",
    "print(\"GB depth 4 log loss \" + str(xgb4_ll))\n",
    "print(\"GB depth 5 log loss \" + str(xgb5_ll))"
   ]
  },
  {
   "cell_type": "code",
   "execution_count": 262,
   "metadata": {},
   "outputs": [
    {
     "ename": "AttributeError",
     "evalue": "'XGBClassifier' object has no attribute 'staged_predict_proba'",
     "output_type": "error",
     "traceback": [
      "\u001b[0;31m---------------------------------------------------------------------------\u001b[0m",
      "\u001b[0;31mAttributeError\u001b[0m                            Traceback (most recent call last)",
      "\u001b[0;32m<ipython-input-262-e57141a2f499>\u001b[0m in \u001b[0;36m<module>\u001b[0;34m()\u001b[0m\n\u001b[0;32m----> 1\u001b[0;31m \u001b[0mstage_score_plot\u001b[0m\u001b[0;34m(\u001b[0m\u001b[0mxgb1\u001b[0m\u001b[0;34m,\u001b[0m \u001b[0mtrain_data\u001b[0m\u001b[0;34m[\u001b[0m\u001b[0mcolumns_to_predict_on\u001b[0m\u001b[0;34m]\u001b[0m\u001b[0;34m,\u001b[0m \u001b[0mtrain_y\u001b[0m\u001b[0;34m,\u001b[0m \u001b[0mtest_data\u001b[0m\u001b[0;34m[\u001b[0m\u001b[0mcolumns_to_predict_on\u001b[0m\u001b[0;34m]\u001b[0m\u001b[0;34m,\u001b[0m \u001b[0mtest_y\u001b[0m\u001b[0;34m)\u001b[0m\u001b[0;34m\u001b[0m\u001b[0m\n\u001b[0m",
      "\u001b[0;32m~/galvanize/super_liga_xg/model_prep.py\u001b[0m in \u001b[0;36mstage_score_plot\u001b[0;34m(estimator, X_train, y_train, X_test, y_test)\u001b[0m\n\u001b[1;32m    188\u001b[0m \u001b[0;34m\u001b[0m\u001b[0m\n\u001b[1;32m    189\u001b[0m     \u001b[0;31m# iterate through all stages for test and train and record log loss lists\u001b[0m\u001b[0;34m\u001b[0m\u001b[0;34m\u001b[0m\u001b[0m\n\u001b[0;32m--> 190\u001b[0;31m     \u001b[0;32mfor\u001b[0m \u001b[0my1\u001b[0m\u001b[0;34m,\u001b[0m \u001b[0my2\u001b[0m \u001b[0;32min\u001b[0m \u001b[0mzip\u001b[0m\u001b[0;34m(\u001b[0m\u001b[0mestimator\u001b[0m\u001b[0;34m.\u001b[0m\u001b[0mstaged_predict_proba\u001b[0m\u001b[0;34m(\u001b[0m\u001b[0mX_train\u001b[0m\u001b[0;34m)\u001b[0m\u001b[0;34m,\u001b[0m \u001b[0mestimator\u001b[0m\u001b[0;34m.\u001b[0m\u001b[0mstaged_predict_proba\u001b[0m\u001b[0;34m(\u001b[0m\u001b[0mX_test\u001b[0m\u001b[0;34m)\u001b[0m\u001b[0;34m)\u001b[0m\u001b[0;34m:\u001b[0m\u001b[0;34m\u001b[0m\u001b[0m\n\u001b[0m\u001b[1;32m    191\u001b[0m         \u001b[0mtrain_logloss\u001b[0m \u001b[0;34m=\u001b[0m \u001b[0mlog_loss\u001b[0m\u001b[0;34m(\u001b[0m\u001b[0my_train\u001b[0m\u001b[0;34m,\u001b[0m \u001b[0my1\u001b[0m\u001b[0;34m)\u001b[0m\u001b[0;34m\u001b[0m\u001b[0m\n\u001b[1;32m    192\u001b[0m         \u001b[0mtrain_logloss_at_stages\u001b[0m\u001b[0;34m.\u001b[0m\u001b[0mappend\u001b[0m\u001b[0;34m(\u001b[0m\u001b[0mtrain_logloss\u001b[0m\u001b[0;34m)\u001b[0m\u001b[0;34m\u001b[0m\u001b[0m\n",
      "\u001b[0;31mAttributeError\u001b[0m: 'XGBClassifier' object has no attribute 'staged_predict_proba'"
     ]
    }
   ],
   "source": [
    "stage_score_plot(xgb1, train_data[columns_to_predict_on], train_y, test_data[columns_to_predict_on], test_y)"
   ]
  },
  {
   "cell_type": "code",
   "execution_count": null,
   "metadata": {},
   "outputs": [],
   "source": []
  },
  {
   "cell_type": "code",
   "execution_count": null,
   "metadata": {},
   "outputs": [],
   "source": []
  },
  {
   "cell_type": "code",
   "execution_count": null,
   "metadata": {},
   "outputs": [],
   "source": []
  }
 ],
 "metadata": {
  "kernelspec": {
   "display_name": "Python 3",
   "language": "python",
   "name": "python3"
  },
  "language_info": {
   "codemirror_mode": {
    "name": "ipython",
    "version": 3
   },
   "file_extension": ".py",
   "mimetype": "text/x-python",
   "name": "python",
   "nbconvert_exporter": "python",
   "pygments_lexer": "ipython3",
   "version": "3.6.6"
  }
 },
 "nbformat": 4,
 "nbformat_minor": 2
}
